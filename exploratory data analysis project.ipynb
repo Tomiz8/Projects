{
 "cells": [
  {
   "cell_type": "markdown",
   "metadata": {},
   "source": [
    "# Exploratory Data Analysis Project -  What Sells A Car?\n",
    "\n",
    "\n",
    "The purpose of this project is to determine which factors influence the price of a vehicle, based on data collected from ads that were published over the last few years. "
   ]
  },
  {
   "cell_type": "markdown",
   "metadata": {},
   "source": [
    "## Initialization"
   ]
  },
  {
   "cell_type": "markdown",
   "metadata": {},
   "source": [
    "Loading libraries:"
   ]
  },
  {
   "cell_type": "code",
   "execution_count": 8,
   "metadata": {},
   "outputs": [],
   "source": [
    "import pandas as pd\n",
    "import matplotlib.pyplot as plt\n",
    "import datetime\n",
    "import seaborn as sns\n",
    "import numpy as np\n",
    "from IPython.core.interactiveshell import InteractiveShell\n",
    "InteractiveShell.ast_node_interactivity = \"all\""
   ]
  },
  {
   "cell_type": "markdown",
   "metadata": {},
   "source": [
    "### Load data"
   ]
  },
  {
   "cell_type": "markdown",
   "metadata": {},
   "source": [
    "Loading data file:"
   ]
  },
  {
   "cell_type": "code",
   "execution_count": 9,
   "metadata": {},
   "outputs": [],
   "source": [
    "path = '/Data Analysis/Projects/'\n",
    "data = pd.read_csv(path+'vehicles_us.csv')"
   ]
  },
  {
   "cell_type": "markdown",
   "metadata": {},
   "source": [
    "### Explore initial data"
   ]
  },
  {
   "cell_type": "markdown",
   "metadata": {},
   "source": [
    "The dataset contains the following fields:\n",
    "- `price`\n",
    "- `model_year`\n",
    "- `model`\n",
    "- `condition`\n",
    "- `cylinders`\n",
    "- `fuel` — gas, diesel, etc.\n",
    "- `odometer` — the vehicle's mileage when the ad was published\n",
    "- `transmission`\n",
    "- `paint_color`\n",
    "- `is_4wd` — whether the vehicle has 4-wheel drive (Boolean type)\n",
    "- `date_posted` — the date the ad was published\n",
    "- `days_listed` — from publication to removal"
   ]
  },
  {
   "cell_type": "markdown",
   "metadata": {},
   "source": [
    "General information about the DataFrame:"
   ]
  },
  {
   "cell_type": "code",
   "execution_count": 10,
   "metadata": {},
   "outputs": [
    {
     "name": "stdout",
     "output_type": "stream",
     "text": [
      "<class 'pandas.core.frame.DataFrame'>\n",
      "RangeIndex: 51525 entries, 0 to 51524\n",
      "Data columns (total 13 columns):\n",
      " #   Column        Non-Null Count  Dtype  \n",
      "---  ------        --------------  -----  \n",
      " 0   price         51525 non-null  int64  \n",
      " 1   model_year    47906 non-null  float64\n",
      " 2   model         51525 non-null  object \n",
      " 3   condition     51525 non-null  object \n",
      " 4   cylinders     46265 non-null  float64\n",
      " 5   fuel          51525 non-null  object \n",
      " 6   odometer      43633 non-null  float64\n",
      " 7   transmission  51525 non-null  object \n",
      " 8   type          51525 non-null  object \n",
      " 9   paint_color   42258 non-null  object \n",
      " 10  is_4wd        25572 non-null  float64\n",
      " 11  date_posted   51525 non-null  object \n",
      " 12  days_listed   51525 non-null  int64  \n",
      "dtypes: float64(4), int64(2), object(7)\n",
      "memory usage: 5.1+ MB\n"
     ]
    }
   ],
   "source": [
    "data.info()"
   ]
  },
  {
   "cell_type": "markdown",
   "metadata": {},
   "source": [
    "Sample of data:"
   ]
  },
  {
   "cell_type": "code",
   "execution_count": 11,
   "metadata": {},
   "outputs": [
    {
     "data": {
      "text/html": [
       "<div>\n",
       "<style scoped>\n",
       "    .dataframe tbody tr th:only-of-type {\n",
       "        vertical-align: middle;\n",
       "    }\n",
       "\n",
       "    .dataframe tbody tr th {\n",
       "        vertical-align: top;\n",
       "    }\n",
       "\n",
       "    .dataframe thead th {\n",
       "        text-align: right;\n",
       "    }\n",
       "</style>\n",
       "<table border=\"1\" class=\"dataframe\">\n",
       "  <thead>\n",
       "    <tr style=\"text-align: right;\">\n",
       "      <th></th>\n",
       "      <th>price</th>\n",
       "      <th>model_year</th>\n",
       "      <th>model</th>\n",
       "      <th>condition</th>\n",
       "      <th>cylinders</th>\n",
       "      <th>fuel</th>\n",
       "      <th>odometer</th>\n",
       "      <th>transmission</th>\n",
       "      <th>type</th>\n",
       "      <th>paint_color</th>\n",
       "      <th>is_4wd</th>\n",
       "      <th>date_posted</th>\n",
       "      <th>days_listed</th>\n",
       "    </tr>\n",
       "  </thead>\n",
       "  <tbody>\n",
       "    <tr>\n",
       "      <th>0</th>\n",
       "      <td>9400</td>\n",
       "      <td>2011.0</td>\n",
       "      <td>bmw x5</td>\n",
       "      <td>good</td>\n",
       "      <td>6.0</td>\n",
       "      <td>gas</td>\n",
       "      <td>145000.0</td>\n",
       "      <td>automatic</td>\n",
       "      <td>SUV</td>\n",
       "      <td>NaN</td>\n",
       "      <td>1.0</td>\n",
       "      <td>2018-06-23</td>\n",
       "      <td>19</td>\n",
       "    </tr>\n",
       "    <tr>\n",
       "      <th>1</th>\n",
       "      <td>25500</td>\n",
       "      <td>NaN</td>\n",
       "      <td>ford f-150</td>\n",
       "      <td>good</td>\n",
       "      <td>6.0</td>\n",
       "      <td>gas</td>\n",
       "      <td>88705.0</td>\n",
       "      <td>automatic</td>\n",
       "      <td>pickup</td>\n",
       "      <td>white</td>\n",
       "      <td>1.0</td>\n",
       "      <td>2018-10-19</td>\n",
       "      <td>50</td>\n",
       "    </tr>\n",
       "    <tr>\n",
       "      <th>2</th>\n",
       "      <td>5500</td>\n",
       "      <td>2013.0</td>\n",
       "      <td>hyundai sonata</td>\n",
       "      <td>like new</td>\n",
       "      <td>4.0</td>\n",
       "      <td>gas</td>\n",
       "      <td>110000.0</td>\n",
       "      <td>automatic</td>\n",
       "      <td>sedan</td>\n",
       "      <td>red</td>\n",
       "      <td>NaN</td>\n",
       "      <td>2019-02-07</td>\n",
       "      <td>79</td>\n",
       "    </tr>\n",
       "    <tr>\n",
       "      <th>3</th>\n",
       "      <td>1500</td>\n",
       "      <td>2003.0</td>\n",
       "      <td>ford f-150</td>\n",
       "      <td>fair</td>\n",
       "      <td>8.0</td>\n",
       "      <td>gas</td>\n",
       "      <td>NaN</td>\n",
       "      <td>automatic</td>\n",
       "      <td>pickup</td>\n",
       "      <td>NaN</td>\n",
       "      <td>NaN</td>\n",
       "      <td>2019-03-22</td>\n",
       "      <td>9</td>\n",
       "    </tr>\n",
       "    <tr>\n",
       "      <th>4</th>\n",
       "      <td>14900</td>\n",
       "      <td>2017.0</td>\n",
       "      <td>chrysler 200</td>\n",
       "      <td>excellent</td>\n",
       "      <td>4.0</td>\n",
       "      <td>gas</td>\n",
       "      <td>80903.0</td>\n",
       "      <td>automatic</td>\n",
       "      <td>sedan</td>\n",
       "      <td>black</td>\n",
       "      <td>NaN</td>\n",
       "      <td>2019-04-02</td>\n",
       "      <td>28</td>\n",
       "    </tr>\n",
       "  </tbody>\n",
       "</table>\n",
       "</div>"
      ],
      "text/plain": [
       "   price  model_year           model  condition  cylinders fuel  odometer  \\\n",
       "0   9400      2011.0          bmw x5       good        6.0  gas  145000.0   \n",
       "1  25500         NaN      ford f-150       good        6.0  gas   88705.0   \n",
       "2   5500      2013.0  hyundai sonata   like new        4.0  gas  110000.0   \n",
       "3   1500      2003.0      ford f-150       fair        8.0  gas       NaN   \n",
       "4  14900      2017.0    chrysler 200  excellent        4.0  gas   80903.0   \n",
       "\n",
       "  transmission    type paint_color  is_4wd date_posted  days_listed  \n",
       "0    automatic     SUV         NaN     1.0  2018-06-23           19  \n",
       "1    automatic  pickup       white     1.0  2018-10-19           50  \n",
       "2    automatic   sedan         red     NaN  2019-02-07           79  \n",
       "3    automatic  pickup         NaN     NaN  2019-03-22            9  \n",
       "4    automatic   sedan       black     NaN  2019-04-02           28  "
      ]
     },
     "execution_count": 11,
     "metadata": {},
     "output_type": "execute_result"
    }
   ],
   "source": [
    "data.head()"
   ]
  },
  {
   "cell_type": "markdown",
   "metadata": {},
   "source": [
    "From looking at the general information and the data sample, we can notice (besides the number of rows and columns) of some issues: Several (5) columns with missing values, in one of them ('is_4wd') about 50% of the values. Some columns' data type might be converted. All the missing values columns, and the inappropriate data type columns, may need further investigation.\n",
    "\n",
    "As for missing values, the largest amount is in the 'is_4wd' column - about 50% of the values are missing. However, a brief look at the sample data indicates that probably all those missing values are '0', namely 'False' in this context. <br> Regarding the other columns I would assume that the missing values are due to incomplete ads that were published by the users. \n",
    "\n",
    "In regard to data types, there are numercial columns (Most of) of float data type that could be presented as int type, since there are no possible fractional parts in their values (although the influence of this issue on the analysis is not likely).\n",
    "The 'date_posted' column should be changed from string (object) to datetime (timestamp) data type, so we'll be able to retrieve components and make calculations with these values later. "
   ]
  },
  {
   "cell_type": "markdown",
   "metadata": {},
   "source": [
    "### Conclusions and further steps\n",
    "\n",
    "First overview of the initial data exposes issues such as missing values and inappropriate data types, as mentioned above. The missing value of quantitative column such as 'model_year', 'cylinders' and 'odometer' will be replaced by median values after grouping by other columns. The 'is_4wd' missinig values will be replaced with '0', supported by a probable and reasonable explanation. <br> Inappropriate data types should be changed, focusing for now on the 'date_posted' column.\n",
    "\n",
    "The next steps are addressing missing values and converting data types where necessary, and looking for duplicates.<br> Starting with duplicates:"
   ]
  },
  {
   "cell_type": "code",
   "execution_count": 12,
   "metadata": {},
   "outputs": [
    {
     "data": {
      "text/plain": [
       "0"
      ]
     },
     "execution_count": 12,
     "metadata": {},
     "output_type": "execute_result"
    }
   ],
   "source": [
    "data.duplicated().sum()"
   ]
  },
  {
   "cell_type": "markdown",
   "metadata": {},
   "source": [
    "Calculating missing values percentage for each column:"
   ]
  },
  {
   "cell_type": "code",
   "execution_count": 13,
   "metadata": {},
   "outputs": [
    {
     "name": "stdout",
     "output_type": "stream",
     "text": [
      "0.07023774866569626\n",
      "0.10208636584182436\n",
      "0.15316836487142163\n",
      "0.17985443959243086\n"
     ]
    }
   ],
   "source": [
    "missing_col = ['model_year', 'cylinders', 'odometer', 'paint_color']\n",
    "for col in missing_col:\n",
    "    print (data[col].isna().sum() / len(data[col]))"
   ]
  },
  {
   "cell_type": "markdown",
   "metadata": {},
   "source": [
    "## Treat missing values (if any)"
   ]
  },
  {
   "cell_type": "markdown",
   "metadata": {},
   "source": [
    "It seems like there's no pattern for the missing values that we should look for, since there's no compatibility between amounts of missing values in the different columns. <br> As said before, the descisions are filling in missing values in numeric column with median of subgroups of other columns. <br> \n",
    "So we start with the most obvious case - filling in the NaN values of 'is_4wd' column with '0', after I make sure that all the existing values are '1'."
   ]
  },
  {
   "cell_type": "code",
   "execution_count": 14,
   "metadata": {},
   "outputs": [
    {
     "data": {
      "text/plain": [
       "array([ 1., nan])"
      ]
     },
     "execution_count": 14,
     "metadata": {},
     "output_type": "execute_result"
    }
   ],
   "source": [
    "data['is_4wd'].unique()"
   ]
  },
  {
   "cell_type": "markdown",
   "metadata": {},
   "source": [
    "Filling in missing values with '0', and checking again:"
   ]
  },
  {
   "cell_type": "code",
   "execution_count": 15,
   "metadata": {},
   "outputs": [
    {
     "data": {
      "text/plain": [
       "array([1., 0.])"
      ]
     },
     "execution_count": 15,
     "metadata": {},
     "output_type": "execute_result"
    }
   ],
   "source": [
    "data['is_4wd'] = data['is_4wd'].fillna(0)\n",
    "data['is_4wd'].unique()"
   ]
  },
  {
   "cell_type": "markdown",
   "metadata": {},
   "source": [
    "The other columns NaN's will be filled in using representative median values, calculated seperately for each subgroup in each parameter. For model year and cylinders missing values we'll use model column data, since there's a higher chance for an accurate estimation of details as manufacturing year and engine's cylinders, based on specific model. For milage, the best predictor is the age of the vehicle which is determined by model year. For this purpose we'll create a new column of model year groups, using a function that classify the model year data.<br> Starting with knowledge of the distribution:"
   ]
  },
  {
   "cell_type": "code",
   "execution_count": 16,
   "metadata": {},
   "outputs": [
    {
     "data": {
      "text/plain": [
       "count    47906.000000\n",
       "mean      2009.750470\n",
       "std          6.282065\n",
       "min       1908.000000\n",
       "25%       2006.000000\n",
       "50%       2011.000000\n",
       "75%       2014.000000\n",
       "max       2019.000000\n",
       "Name: model_year, dtype: float64"
      ]
     },
     "execution_count": 16,
     "metadata": {},
     "output_type": "execute_result"
    }
   ],
   "source": [
    "data['model_year'].describe()"
   ]
  },
  {
   "cell_type": "code",
   "execution_count": 17,
   "metadata": {},
   "outputs": [],
   "source": [
    "def year_group(year):\n",
    "    \"\"\"\n",
    "    This functions classifies cars to year groups by model year\n",
    "    \"\"\"\n",
    "    if year < 1995:\n",
    "        return '1995-'\n",
    "    if 2005 > year >= 1995:\n",
    "        return '1995-2004'\n",
    "    if 2010 > year >= 2005:\n",
    "        return '2005-2009'\n",
    "    if 2015 > year >= 2010:\n",
    "        return '2010-2014'\n",
    "    return '2015+'\n",
    "\n",
    "data['model_year_group'] = data['model_year'].apply(year_group)"
   ]
  },
  {
   "cell_type": "markdown",
   "metadata": {},
   "source": [
    "Checking if the column was added correctly:"
   ]
  },
  {
   "cell_type": "code",
   "execution_count": 18,
   "metadata": {},
   "outputs": [
    {
     "data": {
      "text/html": [
       "<div>\n",
       "<style scoped>\n",
       "    .dataframe tbody tr th:only-of-type {\n",
       "        vertical-align: middle;\n",
       "    }\n",
       "\n",
       "    .dataframe tbody tr th {\n",
       "        vertical-align: top;\n",
       "    }\n",
       "\n",
       "    .dataframe thead th {\n",
       "        text-align: right;\n",
       "    }\n",
       "</style>\n",
       "<table border=\"1\" class=\"dataframe\">\n",
       "  <thead>\n",
       "    <tr style=\"text-align: right;\">\n",
       "      <th></th>\n",
       "      <th>price</th>\n",
       "      <th>model_year</th>\n",
       "      <th>model</th>\n",
       "      <th>condition</th>\n",
       "      <th>cylinders</th>\n",
       "      <th>fuel</th>\n",
       "      <th>odometer</th>\n",
       "      <th>transmission</th>\n",
       "      <th>type</th>\n",
       "      <th>paint_color</th>\n",
       "      <th>is_4wd</th>\n",
       "      <th>date_posted</th>\n",
       "      <th>days_listed</th>\n",
       "      <th>model_year_group</th>\n",
       "    </tr>\n",
       "  </thead>\n",
       "  <tbody>\n",
       "    <tr>\n",
       "      <th>0</th>\n",
       "      <td>9400</td>\n",
       "      <td>2011.0</td>\n",
       "      <td>bmw x5</td>\n",
       "      <td>good</td>\n",
       "      <td>6.0</td>\n",
       "      <td>gas</td>\n",
       "      <td>145000.0</td>\n",
       "      <td>automatic</td>\n",
       "      <td>SUV</td>\n",
       "      <td>NaN</td>\n",
       "      <td>1.0</td>\n",
       "      <td>2018-06-23</td>\n",
       "      <td>19</td>\n",
       "      <td>2010-2014</td>\n",
       "    </tr>\n",
       "    <tr>\n",
       "      <th>1</th>\n",
       "      <td>25500</td>\n",
       "      <td>NaN</td>\n",
       "      <td>ford f-150</td>\n",
       "      <td>good</td>\n",
       "      <td>6.0</td>\n",
       "      <td>gas</td>\n",
       "      <td>88705.0</td>\n",
       "      <td>automatic</td>\n",
       "      <td>pickup</td>\n",
       "      <td>white</td>\n",
       "      <td>1.0</td>\n",
       "      <td>2018-10-19</td>\n",
       "      <td>50</td>\n",
       "      <td>2015+</td>\n",
       "    </tr>\n",
       "    <tr>\n",
       "      <th>2</th>\n",
       "      <td>5500</td>\n",
       "      <td>2013.0</td>\n",
       "      <td>hyundai sonata</td>\n",
       "      <td>like new</td>\n",
       "      <td>4.0</td>\n",
       "      <td>gas</td>\n",
       "      <td>110000.0</td>\n",
       "      <td>automatic</td>\n",
       "      <td>sedan</td>\n",
       "      <td>red</td>\n",
       "      <td>0.0</td>\n",
       "      <td>2019-02-07</td>\n",
       "      <td>79</td>\n",
       "      <td>2010-2014</td>\n",
       "    </tr>\n",
       "    <tr>\n",
       "      <th>3</th>\n",
       "      <td>1500</td>\n",
       "      <td>2003.0</td>\n",
       "      <td>ford f-150</td>\n",
       "      <td>fair</td>\n",
       "      <td>8.0</td>\n",
       "      <td>gas</td>\n",
       "      <td>NaN</td>\n",
       "      <td>automatic</td>\n",
       "      <td>pickup</td>\n",
       "      <td>NaN</td>\n",
       "      <td>0.0</td>\n",
       "      <td>2019-03-22</td>\n",
       "      <td>9</td>\n",
       "      <td>1995-2004</td>\n",
       "    </tr>\n",
       "    <tr>\n",
       "      <th>4</th>\n",
       "      <td>14900</td>\n",
       "      <td>2017.0</td>\n",
       "      <td>chrysler 200</td>\n",
       "      <td>excellent</td>\n",
       "      <td>4.0</td>\n",
       "      <td>gas</td>\n",
       "      <td>80903.0</td>\n",
       "      <td>automatic</td>\n",
       "      <td>sedan</td>\n",
       "      <td>black</td>\n",
       "      <td>0.0</td>\n",
       "      <td>2019-04-02</td>\n",
       "      <td>28</td>\n",
       "      <td>2015+</td>\n",
       "    </tr>\n",
       "  </tbody>\n",
       "</table>\n",
       "</div>"
      ],
      "text/plain": [
       "   price  model_year           model  condition  cylinders fuel  odometer  \\\n",
       "0   9400      2011.0          bmw x5       good        6.0  gas  145000.0   \n",
       "1  25500         NaN      ford f-150       good        6.0  gas   88705.0   \n",
       "2   5500      2013.0  hyundai sonata   like new        4.0  gas  110000.0   \n",
       "3   1500      2003.0      ford f-150       fair        8.0  gas       NaN   \n",
       "4  14900      2017.0    chrysler 200  excellent        4.0  gas   80903.0   \n",
       "\n",
       "  transmission    type paint_color  is_4wd date_posted  days_listed  \\\n",
       "0    automatic     SUV         NaN     1.0  2018-06-23           19   \n",
       "1    automatic  pickup       white     1.0  2018-10-19           50   \n",
       "2    automatic   sedan         red     0.0  2019-02-07           79   \n",
       "3    automatic  pickup         NaN     0.0  2019-03-22            9   \n",
       "4    automatic   sedan       black     0.0  2019-04-02           28   \n",
       "\n",
       "  model_year_group  \n",
       "0        2010-2014  \n",
       "1            2015+  \n",
       "2        2010-2014  \n",
       "3        1995-2004  \n",
       "4            2015+  "
      ]
     },
     "execution_count": 18,
     "metadata": {},
     "output_type": "execute_result"
    }
   ],
   "source": [
    "data.head()"
   ]
  },
  {
   "cell_type": "markdown",
   "metadata": {},
   "source": [
    "Now creating a function to fill in missing values by grouping other columns:"
   ]
  },
  {
   "cell_type": "code",
   "execution_count": 19,
   "metadata": {},
   "outputs": [
    {
     "data": {
      "text/html": [
       "<div>\n",
       "<style scoped>\n",
       "    .dataframe tbody tr th:only-of-type {\n",
       "        vertical-align: middle;\n",
       "    }\n",
       "\n",
       "    .dataframe tbody tr th {\n",
       "        vertical-align: top;\n",
       "    }\n",
       "\n",
       "    .dataframe thead th {\n",
       "        text-align: right;\n",
       "    }\n",
       "</style>\n",
       "<table border=\"1\" class=\"dataframe\">\n",
       "  <thead>\n",
       "    <tr style=\"text-align: right;\">\n",
       "      <th></th>\n",
       "      <th>price</th>\n",
       "      <th>model_year</th>\n",
       "      <th>model</th>\n",
       "      <th>condition</th>\n",
       "      <th>cylinders</th>\n",
       "      <th>fuel</th>\n",
       "      <th>odometer</th>\n",
       "      <th>transmission</th>\n",
       "      <th>type</th>\n",
       "      <th>paint_color</th>\n",
       "      <th>is_4wd</th>\n",
       "      <th>date_posted</th>\n",
       "      <th>days_listed</th>\n",
       "      <th>model_year_group</th>\n",
       "    </tr>\n",
       "  </thead>\n",
       "  <tbody>\n",
       "    <tr>\n",
       "      <th>0</th>\n",
       "      <td>9400</td>\n",
       "      <td>2011.0</td>\n",
       "      <td>bmw x5</td>\n",
       "      <td>good</td>\n",
       "      <td>6.0</td>\n",
       "      <td>gas</td>\n",
       "      <td>145000.0</td>\n",
       "      <td>automatic</td>\n",
       "      <td>SUV</td>\n",
       "      <td>NaN</td>\n",
       "      <td>1.0</td>\n",
       "      <td>2018-06-23</td>\n",
       "      <td>19</td>\n",
       "      <td>2010-2014</td>\n",
       "    </tr>\n",
       "    <tr>\n",
       "      <th>1</th>\n",
       "      <td>25500</td>\n",
       "      <td>2011.0</td>\n",
       "      <td>ford f-150</td>\n",
       "      <td>good</td>\n",
       "      <td>6.0</td>\n",
       "      <td>gas</td>\n",
       "      <td>88705.0</td>\n",
       "      <td>automatic</td>\n",
       "      <td>pickup</td>\n",
       "      <td>white</td>\n",
       "      <td>1.0</td>\n",
       "      <td>2018-10-19</td>\n",
       "      <td>50</td>\n",
       "      <td>2015+</td>\n",
       "    </tr>\n",
       "    <tr>\n",
       "      <th>2</th>\n",
       "      <td>5500</td>\n",
       "      <td>2013.0</td>\n",
       "      <td>hyundai sonata</td>\n",
       "      <td>like new</td>\n",
       "      <td>4.0</td>\n",
       "      <td>gas</td>\n",
       "      <td>110000.0</td>\n",
       "      <td>automatic</td>\n",
       "      <td>sedan</td>\n",
       "      <td>red</td>\n",
       "      <td>0.0</td>\n",
       "      <td>2019-02-07</td>\n",
       "      <td>79</td>\n",
       "      <td>2010-2014</td>\n",
       "    </tr>\n",
       "    <tr>\n",
       "      <th>3</th>\n",
       "      <td>1500</td>\n",
       "      <td>2003.0</td>\n",
       "      <td>ford f-150</td>\n",
       "      <td>fair</td>\n",
       "      <td>8.0</td>\n",
       "      <td>gas</td>\n",
       "      <td>166015.5</td>\n",
       "      <td>automatic</td>\n",
       "      <td>pickup</td>\n",
       "      <td>NaN</td>\n",
       "      <td>0.0</td>\n",
       "      <td>2019-03-22</td>\n",
       "      <td>9</td>\n",
       "      <td>1995-2004</td>\n",
       "    </tr>\n",
       "    <tr>\n",
       "      <th>4</th>\n",
       "      <td>14900</td>\n",
       "      <td>2017.0</td>\n",
       "      <td>chrysler 200</td>\n",
       "      <td>excellent</td>\n",
       "      <td>4.0</td>\n",
       "      <td>gas</td>\n",
       "      <td>80903.0</td>\n",
       "      <td>automatic</td>\n",
       "      <td>sedan</td>\n",
       "      <td>black</td>\n",
       "      <td>0.0</td>\n",
       "      <td>2019-04-02</td>\n",
       "      <td>28</td>\n",
       "      <td>2015+</td>\n",
       "    </tr>\n",
       "  </tbody>\n",
       "</table>\n",
       "</div>"
      ],
      "text/plain": [
       "   price  model_year           model  condition  cylinders fuel  odometer  \\\n",
       "0   9400      2011.0          bmw x5       good        6.0  gas  145000.0   \n",
       "1  25500      2011.0      ford f-150       good        6.0  gas   88705.0   \n",
       "2   5500      2013.0  hyundai sonata   like new        4.0  gas  110000.0   \n",
       "3   1500      2003.0      ford f-150       fair        8.0  gas  166015.5   \n",
       "4  14900      2017.0    chrysler 200  excellent        4.0  gas   80903.0   \n",
       "\n",
       "  transmission    type paint_color  is_4wd date_posted  days_listed  \\\n",
       "0    automatic     SUV         NaN     1.0  2018-06-23           19   \n",
       "1    automatic  pickup       white     1.0  2018-10-19           50   \n",
       "2    automatic   sedan         red     0.0  2019-02-07           79   \n",
       "3    automatic  pickup         NaN     0.0  2019-03-22            9   \n",
       "4    automatic   sedan       black     0.0  2019-04-02           28   \n",
       "\n",
       "  model_year_group  \n",
       "0        2010-2014  \n",
       "1            2015+  \n",
       "2        2010-2014  \n",
       "3        1995-2004  \n",
       "4            2015+  "
      ]
     },
     "execution_count": 19,
     "metadata": {},
     "output_type": "execute_result"
    },
    {
     "name": "stdout",
     "output_type": "stream",
     "text": [
      "<class 'pandas.core.frame.DataFrame'>\n",
      "RangeIndex: 51525 entries, 0 to 51524\n",
      "Data columns (total 14 columns):\n",
      " #   Column            Non-Null Count  Dtype  \n",
      "---  ------            --------------  -----  \n",
      " 0   price             51525 non-null  int64  \n",
      " 1   model_year        51525 non-null  float64\n",
      " 2   model             51525 non-null  object \n",
      " 3   condition         51525 non-null  object \n",
      " 4   cylinders         51525 non-null  float64\n",
      " 5   fuel              51525 non-null  object \n",
      " 6   odometer          51525 non-null  float64\n",
      " 7   transmission      51525 non-null  object \n",
      " 8   type              51525 non-null  object \n",
      " 9   paint_color       42258 non-null  object \n",
      " 10  is_4wd            51525 non-null  float64\n",
      " 11  date_posted       51525 non-null  object \n",
      " 12  days_listed       51525 non-null  int64  \n",
      " 13  model_year_group  51525 non-null  object \n",
      "dtypes: float64(4), int64(2), object(8)\n",
      "memory usage: 5.5+ MB\n"
     ]
    }
   ],
   "source": [
    "def fill_na(col1,col2,measure):\n",
    "    \"\"\"\n",
    "    This function takes as arguments 2 columns - one with missing values and one that used\n",
    "    to create groups - and one statistical measure to fill in the missing values\n",
    "    \"\"\"\n",
    "    data[col1] = data[col1].fillna(data.groupby(col2)[col1].transform(measure))\n",
    "\n",
    "fill_na('model_year','model','median')\n",
    "fill_na('cylinders','model','median')\n",
    "fill_na('odometer','model_year_group','median')\n",
    "data.head()\n",
    "data.info()"
   ]
  },
  {
   "cell_type": "markdown",
   "metadata": {},
   "source": [
    "## Fix data types"
   ]
  },
  {
   "cell_type": "markdown",
   "metadata": {},
   "source": [
    "Fixing the data types of 'date_posted':\n",
    "<br>(Date format used: YYYY-mm-dd)"
   ]
  },
  {
   "cell_type": "code",
   "execution_count": 20,
   "metadata": {},
   "outputs": [
    {
     "name": "stdout",
     "output_type": "stream",
     "text": [
      "<class 'pandas.core.frame.DataFrame'>\n",
      "RangeIndex: 51525 entries, 0 to 51524\n",
      "Data columns (total 14 columns):\n",
      " #   Column            Non-Null Count  Dtype         \n",
      "---  ------            --------------  -----         \n",
      " 0   price             51525 non-null  int64         \n",
      " 1   model_year        51525 non-null  float64       \n",
      " 2   model             51525 non-null  object        \n",
      " 3   condition         51525 non-null  object        \n",
      " 4   cylinders         51525 non-null  float64       \n",
      " 5   fuel              51525 non-null  object        \n",
      " 6   odometer          51525 non-null  float64       \n",
      " 7   transmission      51525 non-null  object        \n",
      " 8   type              51525 non-null  object        \n",
      " 9   paint_color       42258 non-null  object        \n",
      " 10  is_4wd            51525 non-null  float64       \n",
      " 11  date_posted       51525 non-null  datetime64[ns]\n",
      " 12  days_listed       51525 non-null  int64         \n",
      " 13  model_year_group  51525 non-null  object        \n",
      "dtypes: datetime64[ns](1), float64(4), int64(2), object(7)\n",
      "memory usage: 5.5+ MB\n"
     ]
    }
   ],
   "source": [
    "data['date_posted'] = pd.to_datetime(data['date_posted'], format='%Y-%m-%d')\n",
    "data.info()"
   ]
  },
  {
   "cell_type": "markdown",
   "metadata": {},
   "source": [
    "## Enrich data"
   ]
  },
  {
   "cell_type": "markdown",
   "metadata": {},
   "source": [
    "Adding datetime values in seperate columns to ease future calculations:"
   ]
  },
  {
   "cell_type": "code",
   "execution_count": 21,
   "metadata": {},
   "outputs": [],
   "source": [
    "data['posted_day'] = pd.DatetimeIndex(data['date_posted']).day\n",
    "data['posted_month'] = pd.DatetimeIndex(data['date_posted']).month\n",
    "data['posted_year'] = pd.DatetimeIndex(data['date_posted']).year"
   ]
  },
  {
   "cell_type": "markdown",
   "metadata": {},
   "source": [
    "Adding vehicle age column:"
   ]
  },
  {
   "cell_type": "code",
   "execution_count": 22,
   "metadata": {},
   "outputs": [],
   "source": [
    "data['vehicle_age'] = data['posted_year'] - data['model_year'] + 1"
   ]
  },
  {
   "cell_type": "markdown",
   "metadata": {},
   "source": [
    "Replacing strings with numeric values in the 'condition' column to ease data manipulation:"
   ]
  },
  {
   "cell_type": "code",
   "execution_count": 23,
   "metadata": {},
   "outputs": [],
   "source": [
    "condition_dict = {\n",
    "    'salvage':0,\n",
    "    'fair':1,\n",
    "    'good':2,\n",
    "    'excellent':3,\n",
    "    'like new':4,\n",
    "    'new':5\n",
    "}\n",
    "data['condition'] = data['condition'].replace(condition_dict)"
   ]
  },
  {
   "cell_type": "markdown",
   "metadata": {},
   "source": [
    "Adding vehicle average mileage per year column:"
   ]
  },
  {
   "cell_type": "code",
   "execution_count": 24,
   "metadata": {},
   "outputs": [],
   "source": [
    "data['mileage_avg'] = data['odometer'] / data['vehicle_age']"
   ]
  },
  {
   "cell_type": "markdown",
   "metadata": {},
   "source": [
    "## Check clean data"
   ]
  },
  {
   "cell_type": "markdown",
   "metadata": {},
   "source": [
    "General information of the preprocessed data:"
   ]
  },
  {
   "cell_type": "code",
   "execution_count": 25,
   "metadata": {},
   "outputs": [
    {
     "name": "stdout",
     "output_type": "stream",
     "text": [
      "<class 'pandas.core.frame.DataFrame'>\n",
      "RangeIndex: 51525 entries, 0 to 51524\n",
      "Data columns (total 19 columns):\n",
      " #   Column            Non-Null Count  Dtype         \n",
      "---  ------            --------------  -----         \n",
      " 0   price             51525 non-null  int64         \n",
      " 1   model_year        51525 non-null  float64       \n",
      " 2   model             51525 non-null  object        \n",
      " 3   condition         51525 non-null  int64         \n",
      " 4   cylinders         51525 non-null  float64       \n",
      " 5   fuel              51525 non-null  object        \n",
      " 6   odometer          51525 non-null  float64       \n",
      " 7   transmission      51525 non-null  object        \n",
      " 8   type              51525 non-null  object        \n",
      " 9   paint_color       42258 non-null  object        \n",
      " 10  is_4wd            51525 non-null  float64       \n",
      " 11  date_posted       51525 non-null  datetime64[ns]\n",
      " 12  days_listed       51525 non-null  int64         \n",
      " 13  model_year_group  51525 non-null  object        \n",
      " 14  posted_day        51525 non-null  int64         \n",
      " 15  posted_month      51525 non-null  int64         \n",
      " 16  posted_year       51525 non-null  int64         \n",
      " 17  vehicle_age       51525 non-null  float64       \n",
      " 18  mileage_avg       51525 non-null  float64       \n",
      "dtypes: datetime64[ns](1), float64(6), int64(6), object(6)\n",
      "memory usage: 7.5+ MB\n"
     ]
    }
   ],
   "source": [
    "data.info()"
   ]
  },
  {
   "cell_type": "code",
   "execution_count": 26,
   "metadata": {},
   "outputs": [
    {
     "data": {
      "text/html": [
       "<div>\n",
       "<style scoped>\n",
       "    .dataframe tbody tr th:only-of-type {\n",
       "        vertical-align: middle;\n",
       "    }\n",
       "\n",
       "    .dataframe tbody tr th {\n",
       "        vertical-align: top;\n",
       "    }\n",
       "\n",
       "    .dataframe thead th {\n",
       "        text-align: right;\n",
       "    }\n",
       "</style>\n",
       "<table border=\"1\" class=\"dataframe\">\n",
       "  <thead>\n",
       "    <tr style=\"text-align: right;\">\n",
       "      <th></th>\n",
       "      <th>price</th>\n",
       "      <th>model_year</th>\n",
       "      <th>model</th>\n",
       "      <th>condition</th>\n",
       "      <th>cylinders</th>\n",
       "      <th>fuel</th>\n",
       "      <th>odometer</th>\n",
       "      <th>transmission</th>\n",
       "      <th>type</th>\n",
       "      <th>paint_color</th>\n",
       "      <th>is_4wd</th>\n",
       "      <th>date_posted</th>\n",
       "      <th>days_listed</th>\n",
       "      <th>model_year_group</th>\n",
       "      <th>posted_day</th>\n",
       "      <th>posted_month</th>\n",
       "      <th>posted_year</th>\n",
       "      <th>vehicle_age</th>\n",
       "      <th>mileage_avg</th>\n",
       "    </tr>\n",
       "  </thead>\n",
       "  <tbody>\n",
       "    <tr>\n",
       "      <th>0</th>\n",
       "      <td>9400</td>\n",
       "      <td>2011.0</td>\n",
       "      <td>bmw x5</td>\n",
       "      <td>2</td>\n",
       "      <td>6.0</td>\n",
       "      <td>gas</td>\n",
       "      <td>145000.0</td>\n",
       "      <td>automatic</td>\n",
       "      <td>SUV</td>\n",
       "      <td>NaN</td>\n",
       "      <td>1.0</td>\n",
       "      <td>2018-06-23</td>\n",
       "      <td>19</td>\n",
       "      <td>2010-2014</td>\n",
       "      <td>23</td>\n",
       "      <td>6</td>\n",
       "      <td>2018</td>\n",
       "      <td>8.0</td>\n",
       "      <td>18125.000000</td>\n",
       "    </tr>\n",
       "    <tr>\n",
       "      <th>1</th>\n",
       "      <td>25500</td>\n",
       "      <td>2011.0</td>\n",
       "      <td>ford f-150</td>\n",
       "      <td>2</td>\n",
       "      <td>6.0</td>\n",
       "      <td>gas</td>\n",
       "      <td>88705.0</td>\n",
       "      <td>automatic</td>\n",
       "      <td>pickup</td>\n",
       "      <td>white</td>\n",
       "      <td>1.0</td>\n",
       "      <td>2018-10-19</td>\n",
       "      <td>50</td>\n",
       "      <td>2015+</td>\n",
       "      <td>19</td>\n",
       "      <td>10</td>\n",
       "      <td>2018</td>\n",
       "      <td>8.0</td>\n",
       "      <td>11088.125000</td>\n",
       "    </tr>\n",
       "    <tr>\n",
       "      <th>2</th>\n",
       "      <td>5500</td>\n",
       "      <td>2013.0</td>\n",
       "      <td>hyundai sonata</td>\n",
       "      <td>4</td>\n",
       "      <td>4.0</td>\n",
       "      <td>gas</td>\n",
       "      <td>110000.0</td>\n",
       "      <td>automatic</td>\n",
       "      <td>sedan</td>\n",
       "      <td>red</td>\n",
       "      <td>0.0</td>\n",
       "      <td>2019-02-07</td>\n",
       "      <td>79</td>\n",
       "      <td>2010-2014</td>\n",
       "      <td>7</td>\n",
       "      <td>2</td>\n",
       "      <td>2019</td>\n",
       "      <td>7.0</td>\n",
       "      <td>15714.285714</td>\n",
       "    </tr>\n",
       "    <tr>\n",
       "      <th>3</th>\n",
       "      <td>1500</td>\n",
       "      <td>2003.0</td>\n",
       "      <td>ford f-150</td>\n",
       "      <td>1</td>\n",
       "      <td>8.0</td>\n",
       "      <td>gas</td>\n",
       "      <td>166015.5</td>\n",
       "      <td>automatic</td>\n",
       "      <td>pickup</td>\n",
       "      <td>NaN</td>\n",
       "      <td>0.0</td>\n",
       "      <td>2019-03-22</td>\n",
       "      <td>9</td>\n",
       "      <td>1995-2004</td>\n",
       "      <td>22</td>\n",
       "      <td>3</td>\n",
       "      <td>2019</td>\n",
       "      <td>17.0</td>\n",
       "      <td>9765.617647</td>\n",
       "    </tr>\n",
       "    <tr>\n",
       "      <th>4</th>\n",
       "      <td>14900</td>\n",
       "      <td>2017.0</td>\n",
       "      <td>chrysler 200</td>\n",
       "      <td>3</td>\n",
       "      <td>4.0</td>\n",
       "      <td>gas</td>\n",
       "      <td>80903.0</td>\n",
       "      <td>automatic</td>\n",
       "      <td>sedan</td>\n",
       "      <td>black</td>\n",
       "      <td>0.0</td>\n",
       "      <td>2019-04-02</td>\n",
       "      <td>28</td>\n",
       "      <td>2015+</td>\n",
       "      <td>2</td>\n",
       "      <td>4</td>\n",
       "      <td>2019</td>\n",
       "      <td>3.0</td>\n",
       "      <td>26967.666667</td>\n",
       "    </tr>\n",
       "  </tbody>\n",
       "</table>\n",
       "</div>"
      ],
      "text/plain": [
       "   price  model_year           model  condition  cylinders fuel  odometer  \\\n",
       "0   9400      2011.0          bmw x5          2        6.0  gas  145000.0   \n",
       "1  25500      2011.0      ford f-150          2        6.0  gas   88705.0   \n",
       "2   5500      2013.0  hyundai sonata          4        4.0  gas  110000.0   \n",
       "3   1500      2003.0      ford f-150          1        8.0  gas  166015.5   \n",
       "4  14900      2017.0    chrysler 200          3        4.0  gas   80903.0   \n",
       "\n",
       "  transmission    type paint_color  is_4wd date_posted  days_listed  \\\n",
       "0    automatic     SUV         NaN     1.0  2018-06-23           19   \n",
       "1    automatic  pickup       white     1.0  2018-10-19           50   \n",
       "2    automatic   sedan         red     0.0  2019-02-07           79   \n",
       "3    automatic  pickup         NaN     0.0  2019-03-22            9   \n",
       "4    automatic   sedan       black     0.0  2019-04-02           28   \n",
       "\n",
       "  model_year_group  posted_day  posted_month  posted_year  vehicle_age  \\\n",
       "0        2010-2014          23             6         2018          8.0   \n",
       "1            2015+          19            10         2018          8.0   \n",
       "2        2010-2014           7             2         2019          7.0   \n",
       "3        1995-2004          22             3         2019         17.0   \n",
       "4            2015+           2             4         2019          3.0   \n",
       "\n",
       "    mileage_avg  \n",
       "0  18125.000000  \n",
       "1  11088.125000  \n",
       "2  15714.285714  \n",
       "3   9765.617647  \n",
       "4  26967.666667  "
      ]
     },
     "execution_count": 26,
     "metadata": {},
     "output_type": "execute_result"
    }
   ],
   "source": [
    "data.head()"
   ]
  },
  {
   "cell_type": "markdown",
   "metadata": {},
   "source": [
    "## Study core parameters\n",
    "\n",
    "The parameters are\n",
    "- Price\n",
    "- The vehicle's age when the ad was placed\n",
    "- Mileage\n",
    "- Number of cylinders\n",
    "- Condition"
   ]
  },
  {
   "cell_type": "markdown",
   "metadata": {},
   "source": [
    "To study the core parameters, histograms will be plotted to show distribution for each of these variables. <br>\n",
    "For this purpose I will use a function:"
   ]
  },
  {
   "cell_type": "code",
   "execution_count": 27,
   "metadata": {},
   "outputs": [],
   "source": [
    "def column_hist(DataFrame,column,bins_value=50):\n",
    "    \"\"\"\n",
    "    This function takes a DataFrame, column and bins number (default value is set to 50) \n",
    "    as arguments and returns a histogram \n",
    "    \"\"\"\n",
    "    DataFrame.plot(y=column, kind='hist', bins=bins_value)\n",
    "    plt.show()\n",
    "    "
   ]
  },
  {
   "cell_type": "markdown",
   "metadata": {},
   "source": [
    "Price histogram:"
   ]
  },
  {
   "cell_type": "code",
   "execution_count": 28,
   "metadata": {},
   "outputs": [
    {
     "data": {
      "image/png": "[encoded data removed]",
      "text/plain": [
       "<Figure size 432x288 with 1 Axes>"
      ]
     },
     "metadata": {
      "needs_background": "light"
     },
     "output_type": "display_data"
    }
   ],
   "source": [
    "column_hist(data,'price')"
   ]
  },
  {
   "cell_type": "markdown",
   "metadata": {},
   "source": [
    "Vehicle age histogram:"
   ]
  },
  {
   "cell_type": "code",
   "execution_count": 29,
   "metadata": {},
   "outputs": [
    {
     "data": {
      "image/png": "[encoded data removed]",
      "text/plain": [
       "<Figure size 432x288 with 1 Axes>"
      ]
     },
     "metadata": {
      "needs_background": "light"
     },
     "output_type": "display_data"
    }
   ],
   "source": [
    "column_hist(data,'vehicle_age')"
   ]
  },
  {
   "cell_type": "markdown",
   "metadata": {},
   "source": [
    "Mileage histogram:"
   ]
  },
  {
   "cell_type": "code",
   "execution_count": 30,
   "metadata": {},
   "outputs": [
    {
     "data": {
      "image/png": "[encoded data removed]",
      "text/plain": [
       "<Figure size 432x288 with 1 Axes>"
      ]
     },
     "metadata": {
      "needs_background": "light"
     },
     "output_type": "display_data"
    }
   ],
   "source": [
    "column_hist(data,'odometer')"
   ]
  },
  {
   "cell_type": "markdown",
   "metadata": {},
   "source": [
    "Cylinders number histogram:"
   ]
  },
  {
   "cell_type": "code",
   "execution_count": 31,
   "metadata": {},
   "outputs": [
    {
     "data": {
      "image/png": "[encoded data removed]",
      "text/plain": [
       "<Figure size 432x288 with 1 Axes>"
      ]
     },
     "metadata": {
      "needs_background": "light"
     },
     "output_type": "display_data"
    }
   ],
   "source": [
    "column_hist(data,'cylinders')"
   ]
  },
  {
   "cell_type": "markdown",
   "metadata": {},
   "source": [
    "Condition histogram:"
   ]
  },
  {
   "cell_type": "code",
   "execution_count": 32,
   "metadata": {},
   "outputs": [
    {
     "data": {
      "image/png": "[encoded data removed]",
      "text/plain": [
       "<Figure size 432x288 with 1 Axes>"
      ]
     },
     "metadata": {
      "needs_background": "light"
     },
     "output_type": "display_data"
    }
   ],
   "source": [
    "column_hist(data,'condition')"
   ]
  },
  {
   "cell_type": "markdown",
   "metadata": {},
   "source": [
    "As we can see in the plots above, the price, age and mileage graphs contain outliers that affect dramatically their form and readability. We can notice of a right-skewed distribution, most of the values are concentrated in the low values, and an invisible long tail. "
   ]
  },
  {
   "cell_type": "markdown",
   "metadata": {},
   "source": [
    "## Study and treat outliers\n",
    "\n",
    "From the histograms above, it's clear that the columns of price, age and mileage contain outliers.The two other columns - 'cylinders' and 'condition' - have no outliers.<br> For 'price', 'odometer' and 'vehicle_age' columns, upper limit for outliers will be determined either by 1.5 times IQR above Q3, or by the 98th percentile, using this function:"
   ]
  },
  {
   "cell_type": "code",
   "execution_count": 33,
   "metadata": {},
   "outputs": [],
   "source": [
    "def outliers_limits(column):\n",
    "    \"\"\"\n",
    "    This function takes a column from the car's data as an argument, and determines\n",
    "    the upper limit of outliers by calculating 1.5 times IQR above Q3 and 98th percentile\n",
    "    \"\"\"\n",
    "    Q1 = data[column].quantile(0.25)\n",
    "    Q3 = data[column].quantile(0.75)\n",
    "    IQR = Q3 - Q1\n",
    "    upper_limit = Q3 + 1.5*IQR\n",
    "    print(data[column].describe())\n",
    "    print('----------------------')\n",
    "    print(f'Upper limit of outliers: {upper_limit}') \n",
    "    print(f'98th percentile: {np.percentile(data[column], 98)}')\n"
   ]
  },
  {
   "cell_type": "code",
   "execution_count": 34,
   "metadata": {},
   "outputs": [
    {
     "name": "stdout",
     "output_type": "stream",
     "text": [
      "count     51525.000000\n",
      "mean      12132.464920\n",
      "std       10040.803015\n",
      "min           1.000000\n",
      "25%        5000.000000\n",
      "50%        9000.000000\n",
      "75%       16839.000000\n",
      "max      375000.000000\n",
      "Name: price, dtype: float64\n",
      "----------------------\n",
      "Upper limit of outliers: 34597.5\n",
      "98th percentile: 37995.0\n"
     ]
    }
   ],
   "source": [
    "outliers_limits('price')"
   ]
  },
  {
   "cell_type": "markdown",
   "metadata": {},
   "source": [
    "The upper limit determined by the IQR method is a bit lower than the value of 98th percentile. The histogram indicates higher values of price than calculated in IQR before reaching outliers, so we'll use the 98th percentile as the upper limit."
   ]
  },
  {
   "cell_type": "code",
   "execution_count": 35,
   "metadata": {},
   "outputs": [
    {
     "name": "stdout",
     "output_type": "stream",
     "text": [
      "count    51525.000000\n",
      "mean         9.513508\n",
      "std          6.112895\n",
      "min          1.000000\n",
      "25%          5.000000\n",
      "50%          8.500000\n",
      "75%         13.000000\n",
      "max        111.000000\n",
      "Name: vehicle_age, dtype: float64\n",
      "----------------------\n",
      "Upper limit of outliers: 25.0\n",
      "98th percentile: 24.0\n"
     ]
    }
   ],
   "source": [
    "outliers_limits('vehicle_age')"
   ]
  },
  {
   "cell_type": "markdown",
   "metadata": {},
   "source": [
    "In age column, 98th percentile is similar to the upper limit determined by IQR method. The greater value will be used as a limit - 25."
   ]
  },
  {
   "cell_type": "code",
   "execution_count": 36,
   "metadata": {
    "scrolled": true
   },
   "outputs": [
    {
     "name": "stdout",
     "output_type": "stream",
     "text": [
      "count     51525.000000\n",
      "mean     114818.255197\n",
      "std       61765.671701\n",
      "min           0.000000\n",
      "25%       68607.000000\n",
      "50%      109372.000000\n",
      "75%      151122.000000\n",
      "max      990000.000000\n",
      "Name: odometer, dtype: float64\n",
      "----------------------\n",
      "Upper limit of outliers: 274894.5\n",
      "98th percentile: 250825.0\n"
     ]
    }
   ],
   "source": [
    "outliers_limits('odometer')"
   ]
  },
  {
   "cell_type": "markdown",
   "metadata": {},
   "source": [
    "In this case we'll use the lower value between the 2 values above as an upper limit, namely the 98th percentile. "
   ]
  },
  {
   "cell_type": "markdown",
   "metadata": {},
   "source": [
    "Storing data wothout outliers in a new DataFrame:"
   ]
  },
  {
   "cell_type": "code",
   "execution_count": 37,
   "metadata": {},
   "outputs": [
    {
     "data": {
      "text/html": [
       "<div>\n",
       "<style scoped>\n",
       "    .dataframe tbody tr th:only-of-type {\n",
       "        vertical-align: middle;\n",
       "    }\n",
       "\n",
       "    .dataframe tbody tr th {\n",
       "        vertical-align: top;\n",
       "    }\n",
       "\n",
       "    .dataframe thead th {\n",
       "        text-align: right;\n",
       "    }\n",
       "</style>\n",
       "<table border=\"1\" class=\"dataframe\">\n",
       "  <thead>\n",
       "    <tr style=\"text-align: right;\">\n",
       "      <th></th>\n",
       "      <th>price</th>\n",
       "      <th>model_year</th>\n",
       "      <th>condition</th>\n",
       "      <th>cylinders</th>\n",
       "      <th>odometer</th>\n",
       "      <th>is_4wd</th>\n",
       "      <th>days_listed</th>\n",
       "      <th>posted_day</th>\n",
       "      <th>posted_month</th>\n",
       "      <th>posted_year</th>\n",
       "      <th>vehicle_age</th>\n",
       "      <th>mileage_avg</th>\n",
       "    </tr>\n",
       "  </thead>\n",
       "  <tbody>\n",
       "    <tr>\n",
       "      <th>count</th>\n",
       "      <td>48795.000000</td>\n",
       "      <td>48795.000000</td>\n",
       "      <td>48795.000000</td>\n",
       "      <td>48795.000000</td>\n",
       "      <td>48795.000000</td>\n",
       "      <td>48795.000000</td>\n",
       "      <td>48795.000000</td>\n",
       "      <td>48795.000000</td>\n",
       "      <td>48795.000000</td>\n",
       "      <td>48795.000000</td>\n",
       "      <td>48795.000000</td>\n",
       "      <td>48795.000000</td>\n",
       "    </tr>\n",
       "    <tr>\n",
       "      <th>mean</th>\n",
       "      <td>11560.131038</td>\n",
       "      <td>2010.167579</td>\n",
       "      <td>2.642238</td>\n",
       "      <td>6.065826</td>\n",
       "      <td>112497.904171</td>\n",
       "      <td>0.489312</td>\n",
       "      <td>39.533846</td>\n",
       "      <td>15.455067</td>\n",
       "      <td>6.630946</td>\n",
       "      <td>2018.306855</td>\n",
       "      <td>9.139277</td>\n",
       "      <td>14645.898108</td>\n",
       "    </tr>\n",
       "    <tr>\n",
       "      <th>std</th>\n",
       "      <td>8254.002885</td>\n",
       "      <td>5.043516</td>\n",
       "      <td>0.699011</td>\n",
       "      <td>1.655722</td>\n",
       "      <td>54482.381010</td>\n",
       "      <td>0.499891</td>\n",
       "      <td>28.193604</td>\n",
       "      <td>8.739010</td>\n",
       "      <td>3.473219</td>\n",
       "      <td>0.461194</td>\n",
       "      <td>5.057137</td>\n",
       "      <td>8571.423190</td>\n",
       "    </tr>\n",
       "    <tr>\n",
       "      <th>min</th>\n",
       "      <td>1.000000</td>\n",
       "      <td>1994.000000</td>\n",
       "      <td>0.000000</td>\n",
       "      <td>3.000000</td>\n",
       "      <td>0.000000</td>\n",
       "      <td>0.000000</td>\n",
       "      <td>0.000000</td>\n",
       "      <td>1.000000</td>\n",
       "      <td>1.000000</td>\n",
       "      <td>2018.000000</td>\n",
       "      <td>1.000000</td>\n",
       "      <td>0.000000</td>\n",
       "    </tr>\n",
       "    <tr>\n",
       "      <th>25%</th>\n",
       "      <td>5000.000000</td>\n",
       "      <td>2007.000000</td>\n",
       "      <td>2.000000</td>\n",
       "      <td>4.000000</td>\n",
       "      <td>70200.000000</td>\n",
       "      <td>0.000000</td>\n",
       "      <td>19.000000</td>\n",
       "      <td>8.000000</td>\n",
       "      <td>3.000000</td>\n",
       "      <td>2018.000000</td>\n",
       "      <td>5.000000</td>\n",
       "      <td>9765.617647</td>\n",
       "    </tr>\n",
       "    <tr>\n",
       "      <th>50%</th>\n",
       "      <td>9000.000000</td>\n",
       "      <td>2011.000000</td>\n",
       "      <td>3.000000</td>\n",
       "      <td>6.000000</td>\n",
       "      <td>109473.000000</td>\n",
       "      <td>0.000000</td>\n",
       "      <td>33.000000</td>\n",
       "      <td>15.000000</td>\n",
       "      <td>7.000000</td>\n",
       "      <td>2018.000000</td>\n",
       "      <td>8.000000</td>\n",
       "      <td>13045.000000</td>\n",
       "    </tr>\n",
       "    <tr>\n",
       "      <th>75%</th>\n",
       "      <td>16000.000000</td>\n",
       "      <td>2014.000000</td>\n",
       "      <td>3.000000</td>\n",
       "      <td>8.000000</td>\n",
       "      <td>149294.000000</td>\n",
       "      <td>1.000000</td>\n",
       "      <td>53.000000</td>\n",
       "      <td>23.000000</td>\n",
       "      <td>10.000000</td>\n",
       "      <td>2019.000000</td>\n",
       "      <td>12.000000</td>\n",
       "      <td>17750.000000</td>\n",
       "    </tr>\n",
       "    <tr>\n",
       "      <th>max</th>\n",
       "      <td>37995.000000</td>\n",
       "      <td>2019.000000</td>\n",
       "      <td>5.000000</td>\n",
       "      <td>12.000000</td>\n",
       "      <td>250825.000000</td>\n",
       "      <td>1.000000</td>\n",
       "      <td>271.000000</td>\n",
       "      <td>31.000000</td>\n",
       "      <td>12.000000</td>\n",
       "      <td>2019.000000</td>\n",
       "      <td>25.000000</td>\n",
       "      <td>195700.000000</td>\n",
       "    </tr>\n",
       "  </tbody>\n",
       "</table>\n",
       "</div>"
      ],
      "text/plain": [
       "              price    model_year     condition     cylinders       odometer  \\\n",
       "count  48795.000000  48795.000000  48795.000000  48795.000000   48795.000000   \n",
       "mean   11560.131038   2010.167579      2.642238      6.065826  112497.904171   \n",
       "std     8254.002885      5.043516      0.699011      1.655722   54482.381010   \n",
       "min        1.000000   1994.000000      0.000000      3.000000       0.000000   \n",
       "25%     5000.000000   2007.000000      2.000000      4.000000   70200.000000   \n",
       "50%     9000.000000   2011.000000      3.000000      6.000000  109473.000000   \n",
       "75%    16000.000000   2014.000000      3.000000      8.000000  149294.000000   \n",
       "max    37995.000000   2019.000000      5.000000     12.000000  250825.000000   \n",
       "\n",
       "             is_4wd   days_listed    posted_day  posted_month   posted_year  \\\n",
       "count  48795.000000  48795.000000  48795.000000  48795.000000  48795.000000   \n",
       "mean       0.489312     39.533846     15.455067      6.630946   2018.306855   \n",
       "std        0.499891     28.193604      8.739010      3.473219      0.461194   \n",
       "min        0.000000      0.000000      1.000000      1.000000   2018.000000   \n",
       "25%        0.000000     19.000000      8.000000      3.000000   2018.000000   \n",
       "50%        0.000000     33.000000     15.000000      7.000000   2018.000000   \n",
       "75%        1.000000     53.000000     23.000000     10.000000   2019.000000   \n",
       "max        1.000000    271.000000     31.000000     12.000000   2019.000000   \n",
       "\n",
       "        vehicle_age    mileage_avg  \n",
       "count  48795.000000   48795.000000  \n",
       "mean       9.139277   14645.898108  \n",
       "std        5.057137    8571.423190  \n",
       "min        1.000000       0.000000  \n",
       "25%        5.000000    9765.617647  \n",
       "50%        8.000000   13045.000000  \n",
       "75%       12.000000   17750.000000  \n",
       "max       25.000000  195700.000000  "
      ]
     },
     "execution_count": 37,
     "metadata": {},
     "output_type": "execute_result"
    }
   ],
   "source": [
    "new_data = data.query('price <= 37995 and vehicle_age <= 25 and odometer <= 250825 ')\n",
    "new_data.describe()"
   ]
  },
  {
   "cell_type": "code",
   "execution_count": 38,
   "metadata": {},
   "outputs": [
    {
     "name": "stdout",
     "output_type": "stream",
     "text": [
      "<class 'pandas.core.frame.DataFrame'>\n",
      "Int64Index: 48795 entries, 0 to 51524\n",
      "Data columns (total 19 columns):\n",
      " #   Column            Non-Null Count  Dtype         \n",
      "---  ------            --------------  -----         \n",
      " 0   price             48795 non-null  int64         \n",
      " 1   model_year        48795 non-null  float64       \n",
      " 2   model             48795 non-null  object        \n",
      " 3   condition         48795 non-null  int64         \n",
      " 4   cylinders         48795 non-null  float64       \n",
      " 5   fuel              48795 non-null  object        \n",
      " 6   odometer          48795 non-null  float64       \n",
      " 7   transmission      48795 non-null  object        \n",
      " 8   type              48795 non-null  object        \n",
      " 9   paint_color       39996 non-null  object        \n",
      " 10  is_4wd            48795 non-null  float64       \n",
      " 11  date_posted       48795 non-null  datetime64[ns]\n",
      " 12  days_listed       48795 non-null  int64         \n",
      " 13  model_year_group  48795 non-null  object        \n",
      " 14  posted_day        48795 non-null  int64         \n",
      " 15  posted_month      48795 non-null  int64         \n",
      " 16  posted_year       48795 non-null  int64         \n",
      " 17  vehicle_age       48795 non-null  float64       \n",
      " 18  mileage_avg       48795 non-null  float64       \n",
      "dtypes: datetime64[ns](1), float64(6), int64(6), object(6)\n",
      "memory usage: 7.4+ MB\n"
     ]
    }
   ],
   "source": [
    "new_data.info()"
   ]
  },
  {
   "cell_type": "code",
   "execution_count": 39,
   "metadata": {},
   "outputs": [
    {
     "data": {
      "text/plain": [
       "0.9470160116448326"
      ]
     },
     "execution_count": 39,
     "metadata": {},
     "output_type": "execute_result"
    }
   ],
   "source": [
    "len(new_data) / len(data)"
   ]
  },
  {
   "cell_type": "markdown",
   "metadata": {},
   "source": [
    "After filtering we lost about 5% of the original data.  "
   ]
  },
  {
   "cell_type": "markdown",
   "metadata": {},
   "source": [
    "## Study core parameters without outliers"
   ]
  },
  {
   "cell_type": "markdown",
   "metadata": {},
   "source": [
    "Plots of the core parameters of the filtered data (without outliers):"
   ]
  },
  {
   "cell_type": "code",
   "execution_count": 40,
   "metadata": {
    "scrolled": false
   },
   "outputs": [
    {
     "data": {
      "image/png": "[encoded data removed]",
      "text/plain": [
       "<Figure size 432x288 with 1 Axes>"
      ]
     },
     "metadata": {
      "needs_background": "light"
     },
     "output_type": "display_data"
    }
   ],
   "source": [
    "column_hist(new_data,'price',20)"
   ]
  },
  {
   "cell_type": "code",
   "execution_count": 41,
   "metadata": {
    "scrolled": true
   },
   "outputs": [
    {
     "data": {
      "image/png": "[encoded data removed]",
      "text/plain": [
       "<Figure size 432x288 with 1 Axes>"
      ]
     },
     "metadata": {
      "needs_background": "light"
     },
     "output_type": "display_data"
    }
   ],
   "source": [
    "column_hist(new_data,'vehicle_age',25)"
   ]
  },
  {
   "cell_type": "code",
   "execution_count": 42,
   "metadata": {},
   "outputs": [
    {
     "data": {
      "image/png": "[encoded data removed]",
      "text/plain": [
       "<Figure size 432x288 with 1 Axes>"
      ]
     },
     "metadata": {
      "needs_background": "light"
     },
     "output_type": "display_data"
    }
   ],
   "source": [
    "column_hist(new_data,'odometer',25)"
   ]
  },
  {
   "cell_type": "code",
   "execution_count": 43,
   "metadata": {},
   "outputs": [
    {
     "data": {
      "image/png": "[encoded data removed]",
      "text/plain": [
       "<Figure size 432x288 with 1 Axes>"
      ]
     },
     "metadata": {
      "needs_background": "light"
     },
     "output_type": "display_data"
    }
   ],
   "source": [
    "column_hist(new_data,'cylinders')"
   ]
  },
  {
   "cell_type": "code",
   "execution_count": 44,
   "metadata": {},
   "outputs": [
    {
     "data": {
      "image/png": "[encoded data removed]",
      "text/plain": [
       "<Figure size 432x288 with 1 Axes>"
      ]
     },
     "metadata": {
      "needs_background": "light"
     },
     "output_type": "display_data"
    }
   ],
   "source": [
    "column_hist(new_data,'condition')"
   ]
  },
  {
   "cell_type": "markdown",
   "metadata": {},
   "source": [
    "Comparison between the histograms: <br> Making the new plots using the filtered data, shows that price and age plots kept the same distribution - right skewed, while milage is closer to normal with a peak around 100K miles. Maybe if we would have determined lower limits for outliers as well, the histograms form could get slight changes. The readability of the graphs increased. In cylinders histogram, removal of outliers caused a change in the mode value - from 8 to 6. "
   ]
  },
  {
   "cell_type": "markdown",
   "metadata": {},
   "source": [
    "## Ads lifetime"
   ]
  },
  {
   "cell_type": "markdown",
   "metadata": {},
   "source": [
    "To study how many days advertisements were displayed, we'll use 'days_listed' histogram:"
   ]
  },
  {
   "cell_type": "code",
   "execution_count": 45,
   "metadata": {},
   "outputs": [
    {
     "data": {
      "text/plain": [
       "count    48795.000000\n",
       "mean        39.533846\n",
       "std         28.193604\n",
       "min          0.000000\n",
       "25%         19.000000\n",
       "50%         33.000000\n",
       "75%         53.000000\n",
       "max        271.000000\n",
       "Name: days_listed, dtype: float64"
      ]
     },
     "execution_count": 45,
     "metadata": {},
     "output_type": "execute_result"
    },
    {
     "name": "stdout",
     "output_type": "stream",
     "text": [
      "days listed mean: 39.53384568090993\n",
      "days listed median: 33.0\n"
     ]
    }
   ],
   "source": [
    "new_data['days_listed'].describe()\n",
    "print('days listed mean:', new_data['days_listed'].mean())\n",
    "print('days listed median:', new_data['days_listed'].median())"
   ]
  },
  {
   "cell_type": "code",
   "execution_count": 46,
   "metadata": {
    "scrolled": true
   },
   "outputs": [
    {
     "data": {
      "image/png": "[encoded data removed]",
      "text/plain": [
       "<Figure size 432x288 with 1 Axes>"
      ]
     },
     "metadata": {
      "needs_background": "light"
     },
     "output_type": "display_data"
    }
   ],
   "source": [
    "column_hist(new_data,'days_listed',30)"
   ]
  },
  {
   "cell_type": "markdown",
   "metadata": {},
   "source": [
    "The above cells show present basic statistics and distributrion (plot) of days listed. Looking at the graph, and at the mean and median values implies that a typical lifetime of an ad is about a month (33 days to be precise). In the right-skewed distribution we would use median as a typical value rather than mean.<br> To define the time of ads listing as short or abnormally long, and try to look for a pattern for each, we'll filter the data by percentiles:"
   ]
  },
  {
   "cell_type": "code",
   "execution_count": 47,
   "metadata": {},
   "outputs": [
    {
     "data": {
      "text/plain": [
       "115.0"
      ]
     },
     "execution_count": 47,
     "metadata": {},
     "output_type": "execute_result"
    },
    {
     "data": {
      "text/plain": [
       "4.0"
      ]
     },
     "execution_count": 47,
     "metadata": {},
     "output_type": "execute_result"
    }
   ],
   "source": [
    "np.percentile(new_data['days_listed'], 98)\n",
    "np.percentile(new_data['days_listed'], 2)"
   ]
  },
  {
   "cell_type": "code",
   "execution_count": 48,
   "metadata": {},
   "outputs": [
    {
     "data": {
      "text/html": [
       "<div>\n",
       "<style scoped>\n",
       "    .dataframe tbody tr th:only-of-type {\n",
       "        vertical-align: middle;\n",
       "    }\n",
       "\n",
       "    .dataframe tbody tr th {\n",
       "        vertical-align: top;\n",
       "    }\n",
       "\n",
       "    .dataframe thead th {\n",
       "        text-align: right;\n",
       "    }\n",
       "</style>\n",
       "<table border=\"1\" class=\"dataframe\">\n",
       "  <thead>\n",
       "    <tr style=\"text-align: right;\">\n",
       "      <th></th>\n",
       "      <th>price</th>\n",
       "      <th>model_year</th>\n",
       "      <th>condition</th>\n",
       "      <th>cylinders</th>\n",
       "      <th>odometer</th>\n",
       "      <th>is_4wd</th>\n",
       "      <th>days_listed</th>\n",
       "      <th>posted_day</th>\n",
       "      <th>posted_month</th>\n",
       "      <th>posted_year</th>\n",
       "      <th>vehicle_age</th>\n",
       "      <th>mileage_avg</th>\n",
       "    </tr>\n",
       "  </thead>\n",
       "  <tbody>\n",
       "    <tr>\n",
       "      <th>count</th>\n",
       "      <td>1229.000000</td>\n",
       "      <td>1229.000000</td>\n",
       "      <td>1229.000000</td>\n",
       "      <td>1229.000000</td>\n",
       "      <td>1229.000000</td>\n",
       "      <td>1229.000000</td>\n",
       "      <td>1229.000000</td>\n",
       "      <td>1229.000000</td>\n",
       "      <td>1229.000000</td>\n",
       "      <td>1229.000000</td>\n",
       "      <td>1229.000000</td>\n",
       "      <td>1229.000000</td>\n",
       "    </tr>\n",
       "    <tr>\n",
       "      <th>mean</th>\n",
       "      <td>11664.431245</td>\n",
       "      <td>2010.117575</td>\n",
       "      <td>2.670464</td>\n",
       "      <td>6.083808</td>\n",
       "      <td>112565.567941</td>\n",
       "      <td>0.501221</td>\n",
       "      <td>2.739626</td>\n",
       "      <td>15.694874</td>\n",
       "      <td>6.757526</td>\n",
       "      <td>2018.295362</td>\n",
       "      <td>9.177787</td>\n",
       "      <td>14570.869086</td>\n",
       "    </tr>\n",
       "    <tr>\n",
       "      <th>std</th>\n",
       "      <td>8137.048863</td>\n",
       "      <td>5.142059</td>\n",
       "      <td>0.702217</td>\n",
       "      <td>1.676715</td>\n",
       "      <td>54401.767634</td>\n",
       "      <td>0.500202</td>\n",
       "      <td>1.167795</td>\n",
       "      <td>8.712032</td>\n",
       "      <td>3.513555</td>\n",
       "      <td>0.456391</td>\n",
       "      <td>5.138743</td>\n",
       "      <td>8554.184198</td>\n",
       "    </tr>\n",
       "    <tr>\n",
       "      <th>min</th>\n",
       "      <td>1.000000</td>\n",
       "      <td>1994.000000</td>\n",
       "      <td>0.000000</td>\n",
       "      <td>4.000000</td>\n",
       "      <td>0.000000</td>\n",
       "      <td>0.000000</td>\n",
       "      <td>0.000000</td>\n",
       "      <td>1.000000</td>\n",
       "      <td>1.000000</td>\n",
       "      <td>2018.000000</td>\n",
       "      <td>1.000000</td>\n",
       "      <td>0.000000</td>\n",
       "    </tr>\n",
       "    <tr>\n",
       "      <th>25%</th>\n",
       "      <td>5000.000000</td>\n",
       "      <td>2007.000000</td>\n",
       "      <td>2.000000</td>\n",
       "      <td>4.000000</td>\n",
       "      <td>70000.000000</td>\n",
       "      <td>0.000000</td>\n",
       "      <td>2.000000</td>\n",
       "      <td>8.000000</td>\n",
       "      <td>4.000000</td>\n",
       "      <td>2018.000000</td>\n",
       "      <td>5.000000</td>\n",
       "      <td>9812.500000</td>\n",
       "    </tr>\n",
       "    <tr>\n",
       "      <th>50%</th>\n",
       "      <td>9500.000000</td>\n",
       "      <td>2011.000000</td>\n",
       "      <td>3.000000</td>\n",
       "      <td>6.000000</td>\n",
       "      <td>112000.000000</td>\n",
       "      <td>1.000000</td>\n",
       "      <td>3.000000</td>\n",
       "      <td>16.000000</td>\n",
       "      <td>7.000000</td>\n",
       "      <td>2018.000000</td>\n",
       "      <td>8.000000</td>\n",
       "      <td>13045.000000</td>\n",
       "    </tr>\n",
       "    <tr>\n",
       "      <th>75%</th>\n",
       "      <td>15995.000000</td>\n",
       "      <td>2014.000000</td>\n",
       "      <td>3.000000</td>\n",
       "      <td>8.000000</td>\n",
       "      <td>150000.000000</td>\n",
       "      <td>1.000000</td>\n",
       "      <td>4.000000</td>\n",
       "      <td>23.000000</td>\n",
       "      <td>10.000000</td>\n",
       "      <td>2019.000000</td>\n",
       "      <td>12.000000</td>\n",
       "      <td>17479.700000</td>\n",
       "    </tr>\n",
       "    <tr>\n",
       "      <th>max</th>\n",
       "      <td>37995.000000</td>\n",
       "      <td>2019.000000</td>\n",
       "      <td>5.000000</td>\n",
       "      <td>10.000000</td>\n",
       "      <td>250500.000000</td>\n",
       "      <td>1.000000</td>\n",
       "      <td>4.000000</td>\n",
       "      <td>31.000000</td>\n",
       "      <td>12.000000</td>\n",
       "      <td>2019.000000</td>\n",
       "      <td>25.000000</td>\n",
       "      <td>94112.000000</td>\n",
       "    </tr>\n",
       "  </tbody>\n",
       "</table>\n",
       "</div>"
      ],
      "text/plain": [
       "              price   model_year    condition    cylinders       odometer  \\\n",
       "count   1229.000000  1229.000000  1229.000000  1229.000000    1229.000000   \n",
       "mean   11664.431245  2010.117575     2.670464     6.083808  112565.567941   \n",
       "std     8137.048863     5.142059     0.702217     1.676715   54401.767634   \n",
       "min        1.000000  1994.000000     0.000000     4.000000       0.000000   \n",
       "25%     5000.000000  2007.000000     2.000000     4.000000   70000.000000   \n",
       "50%     9500.000000  2011.000000     3.000000     6.000000  112000.000000   \n",
       "75%    15995.000000  2014.000000     3.000000     8.000000  150000.000000   \n",
       "max    37995.000000  2019.000000     5.000000    10.000000  250500.000000   \n",
       "\n",
       "            is_4wd  days_listed   posted_day  posted_month  posted_year  \\\n",
       "count  1229.000000  1229.000000  1229.000000   1229.000000  1229.000000   \n",
       "mean      0.501221     2.739626    15.694874      6.757526  2018.295362   \n",
       "std       0.500202     1.167795     8.712032      3.513555     0.456391   \n",
       "min       0.000000     0.000000     1.000000      1.000000  2018.000000   \n",
       "25%       0.000000     2.000000     8.000000      4.000000  2018.000000   \n",
       "50%       1.000000     3.000000    16.000000      7.000000  2018.000000   \n",
       "75%       1.000000     4.000000    23.000000     10.000000  2019.000000   \n",
       "max       1.000000     4.000000    31.000000     12.000000  2019.000000   \n",
       "\n",
       "       vehicle_age   mileage_avg  \n",
       "count  1229.000000   1229.000000  \n",
       "mean      9.177787  14570.869086  \n",
       "std       5.138743   8554.184198  \n",
       "min       1.000000      0.000000  \n",
       "25%       5.000000   9812.500000  \n",
       "50%       8.000000  13045.000000  \n",
       "75%      12.000000  17479.700000  \n",
       "max      25.000000  94112.000000  "
      ]
     },
     "execution_count": 48,
     "metadata": {},
     "output_type": "execute_result"
    },
    {
     "data": {
      "text/html": [
       "<div>\n",
       "<style scoped>\n",
       "    .dataframe tbody tr th:only-of-type {\n",
       "        vertical-align: middle;\n",
       "    }\n",
       "\n",
       "    .dataframe tbody tr th {\n",
       "        vertical-align: top;\n",
       "    }\n",
       "\n",
       "    .dataframe thead th {\n",
       "        text-align: right;\n",
       "    }\n",
       "</style>\n",
       "<table border=\"1\" class=\"dataframe\">\n",
       "  <thead>\n",
       "    <tr style=\"text-align: right;\">\n",
       "      <th></th>\n",
       "      <th>price</th>\n",
       "      <th>model_year</th>\n",
       "      <th>condition</th>\n",
       "      <th>cylinders</th>\n",
       "      <th>odometer</th>\n",
       "      <th>is_4wd</th>\n",
       "      <th>days_listed</th>\n",
       "      <th>posted_day</th>\n",
       "      <th>posted_month</th>\n",
       "      <th>posted_year</th>\n",
       "      <th>vehicle_age</th>\n",
       "      <th>mileage_avg</th>\n",
       "    </tr>\n",
       "  </thead>\n",
       "  <tbody>\n",
       "    <tr>\n",
       "      <th>count</th>\n",
       "      <td>987.000000</td>\n",
       "      <td>987.000000</td>\n",
       "      <td>987.000000</td>\n",
       "      <td>987.000000</td>\n",
       "      <td>987.000000</td>\n",
       "      <td>987.000000</td>\n",
       "      <td>987.000000</td>\n",
       "      <td>987.000000</td>\n",
       "      <td>987.000000</td>\n",
       "      <td>987.000000</td>\n",
       "      <td>987.000000</td>\n",
       "      <td>987.000000</td>\n",
       "    </tr>\n",
       "    <tr>\n",
       "      <th>mean</th>\n",
       "      <td>11287.411348</td>\n",
       "      <td>2009.909828</td>\n",
       "      <td>2.625127</td>\n",
       "      <td>6.118541</td>\n",
       "      <td>115742.542047</td>\n",
       "      <td>0.488349</td>\n",
       "      <td>139.201621</td>\n",
       "      <td>15.581560</td>\n",
       "      <td>6.412361</td>\n",
       "      <td>2018.347518</td>\n",
       "      <td>9.437690</td>\n",
       "      <td>14440.953317</td>\n",
       "    </tr>\n",
       "    <tr>\n",
       "      <th>std</th>\n",
       "      <td>8099.066551</td>\n",
       "      <td>5.074393</td>\n",
       "      <td>0.679530</td>\n",
       "      <td>1.656364</td>\n",
       "      <td>54221.411548</td>\n",
       "      <td>0.500118</td>\n",
       "      <td>24.684806</td>\n",
       "      <td>8.783062</td>\n",
       "      <td>3.552157</td>\n",
       "      <td>0.476423</td>\n",
       "      <td>5.068188</td>\n",
       "      <td>8037.585434</td>\n",
       "    </tr>\n",
       "    <tr>\n",
       "      <th>min</th>\n",
       "      <td>1.000000</td>\n",
       "      <td>1994.000000</td>\n",
       "      <td>0.000000</td>\n",
       "      <td>3.000000</td>\n",
       "      <td>0.000000</td>\n",
       "      <td>0.000000</td>\n",
       "      <td>115.000000</td>\n",
       "      <td>1.000000</td>\n",
       "      <td>1.000000</td>\n",
       "      <td>2018.000000</td>\n",
       "      <td>1.000000</td>\n",
       "      <td>0.000000</td>\n",
       "    </tr>\n",
       "    <tr>\n",
       "      <th>25%</th>\n",
       "      <td>5200.000000</td>\n",
       "      <td>2007.000000</td>\n",
       "      <td>2.000000</td>\n",
       "      <td>4.000000</td>\n",
       "      <td>73000.000000</td>\n",
       "      <td>0.000000</td>\n",
       "      <td>122.000000</td>\n",
       "      <td>8.000000</td>\n",
       "      <td>3.000000</td>\n",
       "      <td>2018.000000</td>\n",
       "      <td>6.000000</td>\n",
       "      <td>9590.333333</td>\n",
       "    </tr>\n",
       "    <tr>\n",
       "      <th>50%</th>\n",
       "      <td>8995.000000</td>\n",
       "      <td>2011.000000</td>\n",
       "      <td>3.000000</td>\n",
       "      <td>6.000000</td>\n",
       "      <td>116000.000000</td>\n",
       "      <td>0.000000</td>\n",
       "      <td>132.000000</td>\n",
       "      <td>15.000000</td>\n",
       "      <td>6.000000</td>\n",
       "      <td>2018.000000</td>\n",
       "      <td>9.000000</td>\n",
       "      <td>13152.500000</td>\n",
       "    </tr>\n",
       "    <tr>\n",
       "      <th>75%</th>\n",
       "      <td>15125.000000</td>\n",
       "      <td>2014.000000</td>\n",
       "      <td>3.000000</td>\n",
       "      <td>8.000000</td>\n",
       "      <td>153747.500000</td>\n",
       "      <td>1.000000</td>\n",
       "      <td>149.000000</td>\n",
       "      <td>23.000000</td>\n",
       "      <td>10.000000</td>\n",
       "      <td>2019.000000</td>\n",
       "      <td>13.000000</td>\n",
       "      <td>17333.333333</td>\n",
       "    </tr>\n",
       "    <tr>\n",
       "      <th>max</th>\n",
       "      <td>37995.000000</td>\n",
       "      <td>2019.000000</td>\n",
       "      <td>4.000000</td>\n",
       "      <td>10.000000</td>\n",
       "      <td>248500.000000</td>\n",
       "      <td>1.000000</td>\n",
       "      <td>271.000000</td>\n",
       "      <td>31.000000</td>\n",
       "      <td>12.000000</td>\n",
       "      <td>2019.000000</td>\n",
       "      <td>25.000000</td>\n",
       "      <td>58890.000000</td>\n",
       "    </tr>\n",
       "  </tbody>\n",
       "</table>\n",
       "</div>"
      ],
      "text/plain": [
       "              price   model_year   condition   cylinders       odometer  \\\n",
       "count    987.000000   987.000000  987.000000  987.000000     987.000000   \n",
       "mean   11287.411348  2009.909828    2.625127    6.118541  115742.542047   \n",
       "std     8099.066551     5.074393    0.679530    1.656364   54221.411548   \n",
       "min        1.000000  1994.000000    0.000000    3.000000       0.000000   \n",
       "25%     5200.000000  2007.000000    2.000000    4.000000   73000.000000   \n",
       "50%     8995.000000  2011.000000    3.000000    6.000000  116000.000000   \n",
       "75%    15125.000000  2014.000000    3.000000    8.000000  153747.500000   \n",
       "max    37995.000000  2019.000000    4.000000   10.000000  248500.000000   \n",
       "\n",
       "           is_4wd  days_listed  posted_day  posted_month  posted_year  \\\n",
       "count  987.000000   987.000000  987.000000    987.000000   987.000000   \n",
       "mean     0.488349   139.201621   15.581560      6.412361  2018.347518   \n",
       "std      0.500118    24.684806    8.783062      3.552157     0.476423   \n",
       "min      0.000000   115.000000    1.000000      1.000000  2018.000000   \n",
       "25%      0.000000   122.000000    8.000000      3.000000  2018.000000   \n",
       "50%      0.000000   132.000000   15.000000      6.000000  2018.000000   \n",
       "75%      1.000000   149.000000   23.000000     10.000000  2019.000000   \n",
       "max      1.000000   271.000000   31.000000     12.000000  2019.000000   \n",
       "\n",
       "       vehicle_age   mileage_avg  \n",
       "count   987.000000    987.000000  \n",
       "mean      9.437690  14440.953317  \n",
       "std       5.068188   8037.585434  \n",
       "min       1.000000      0.000000  \n",
       "25%       6.000000   9590.333333  \n",
       "50%       9.000000  13152.500000  \n",
       "75%      13.000000  17333.333333  \n",
       "max      25.000000  58890.000000  "
      ]
     },
     "execution_count": 48,
     "metadata": {},
     "output_type": "execute_result"
    }
   ],
   "source": [
    "days_listed_short = new_data.query('days_listed <=4')\n",
    "days_listed_short.describe()\n",
    "days_listed_long = new_data.query('days_listed >= 115')\n",
    "days_listed_long.describe()"
   ]
  },
  {
   "cell_type": "markdown",
   "metadata": {},
   "source": [
    "Surprisingly, ads that were removed after only 4 days and ads that have been listed almost 4 months, share similar statistics regarding the other factors. "
   ]
  },
  {
   "cell_type": "markdown",
   "metadata": {},
   "source": [
    "## Average price per each type of vehicle"
   ]
  },
  {
   "cell_type": "markdown",
   "metadata": {},
   "source": [
    "To analyze the number of ads and average price for each type of vehicle, we'll plot a histogram that shows the number of ads for each type:"
   ]
  },
  {
   "cell_type": "code",
   "execution_count": 49,
   "metadata": {},
   "outputs": [
    {
     "data": {
      "text/plain": [
       "<AxesSubplot:>"
      ]
     },
     "execution_count": 49,
     "metadata": {},
     "output_type": "execute_result"
    },
    {
     "data": {
      "image/png": "[encoded data removed]",
      "text/plain": [
       "<Figure size 432x288 with 1 Axes>"
      ]
     },
     "metadata": {
      "needs_background": "light"
     },
     "output_type": "display_data"
    }
   ],
   "source": [
    "new_data['type'].value_counts().plot(kind='bar')\n",
    "plt.show()"
   ]
  },
  {
   "cell_type": "markdown",
   "metadata": {},
   "source": [
    "The next pivot table shows the average price and nubmer of ads ('count' column) for each vehicle type:"
   ]
  },
  {
   "cell_type": "code",
   "execution_count": 50,
   "metadata": {},
   "outputs": [
    {
     "data": {
      "text/html": [
       "<div>\n",
       "<style scoped>\n",
       "    .dataframe tbody tr th:only-of-type {\n",
       "        vertical-align: middle;\n",
       "    }\n",
       "\n",
       "    .dataframe tbody tr th {\n",
       "        vertical-align: top;\n",
       "    }\n",
       "\n",
       "    .dataframe thead tr th {\n",
       "        text-align: left;\n",
       "    }\n",
       "\n",
       "    .dataframe thead tr:last-of-type th {\n",
       "        text-align: right;\n",
       "    }\n",
       "</style>\n",
       "<table border=\"1\" class=\"dataframe\">\n",
       "  <thead>\n",
       "    <tr>\n",
       "      <th></th>\n",
       "      <th>mean</th>\n",
       "      <th>count</th>\n",
       "    </tr>\n",
       "    <tr>\n",
       "      <th></th>\n",
       "      <th>price</th>\n",
       "      <th>price</th>\n",
       "    </tr>\n",
       "    <tr>\n",
       "      <th>type</th>\n",
       "      <th></th>\n",
       "      <th></th>\n",
       "    </tr>\n",
       "  </thead>\n",
       "  <tbody>\n",
       "    <tr>\n",
       "      <th>SUV</th>\n",
       "      <td>10707.108874</td>\n",
       "      <td>11968</td>\n",
       "    </tr>\n",
       "    <tr>\n",
       "      <th>bus</th>\n",
       "      <td>17445.913043</td>\n",
       "      <td>23</td>\n",
       "    </tr>\n",
       "    <tr>\n",
       "      <th>convertible</th>\n",
       "      <td>12819.307910</td>\n",
       "      <td>354</td>\n",
       "    </tr>\n",
       "    <tr>\n",
       "      <th>coupe</th>\n",
       "      <td>13655.056235</td>\n",
       "      <td>2045</td>\n",
       "    </tr>\n",
       "    <tr>\n",
       "      <th>hatchback</th>\n",
       "      <td>6842.486083</td>\n",
       "      <td>1006</td>\n",
       "    </tr>\n",
       "    <tr>\n",
       "      <th>mini-van</th>\n",
       "      <td>8072.185802</td>\n",
       "      <td>1141</td>\n",
       "    </tr>\n",
       "    <tr>\n",
       "      <th>offroad</th>\n",
       "      <td>14633.155914</td>\n",
       "      <td>186</td>\n",
       "    </tr>\n",
       "    <tr>\n",
       "      <th>other</th>\n",
       "      <td>10711.179916</td>\n",
       "      <td>239</td>\n",
       "    </tr>\n",
       "    <tr>\n",
       "      <th>pickup</th>\n",
       "      <td>15629.370070</td>\n",
       "      <td>6415</td>\n",
       "    </tr>\n",
       "    <tr>\n",
       "      <th>sedan</th>\n",
       "      <td>6990.466032</td>\n",
       "      <td>11982</td>\n",
       "    </tr>\n",
       "    <tr>\n",
       "      <th>truck</th>\n",
       "      <td>15684.446044</td>\n",
       "      <td>11324</td>\n",
       "    </tr>\n",
       "    <tr>\n",
       "      <th>van</th>\n",
       "      <td>10621.391586</td>\n",
       "      <td>618</td>\n",
       "    </tr>\n",
       "    <tr>\n",
       "      <th>wagon</th>\n",
       "      <td>9034.491299</td>\n",
       "      <td>1494</td>\n",
       "    </tr>\n",
       "  </tbody>\n",
       "</table>\n",
       "</div>"
      ],
      "text/plain": [
       "                     mean  count\n",
       "                    price  price\n",
       "type                            \n",
       "SUV          10707.108874  11968\n",
       "bus          17445.913043     23\n",
       "convertible  12819.307910    354\n",
       "coupe        13655.056235   2045\n",
       "hatchback     6842.486083   1006\n",
       "mini-van      8072.185802   1141\n",
       "offroad      14633.155914    186\n",
       "other        10711.179916    239\n",
       "pickup       15629.370070   6415\n",
       "sedan         6990.466032  11982\n",
       "truck        15684.446044  11324\n",
       "van          10621.391586    618\n",
       "wagon         9034.491299   1494"
      ]
     },
     "execution_count": 50,
     "metadata": {},
     "output_type": "execute_result"
    }
   ],
   "source": [
    "new_data.pivot_table(\n",
    "    index='type', values='price', aggfunc=['mean', 'count'])"
   ]
  },
  {
   "cell_type": "markdown",
   "metadata": {},
   "source": [
    "As we can see in the plot and pivot table above, the two vehicle types with the greatest number of ads are 'sedan' and 'SUV'."
   ]
  },
  {
   "cell_type": "markdown",
   "metadata": {},
   "source": [
    "## Price factors"
   ]
  },
  {
   "cell_type": "markdown",
   "metadata": {},
   "source": [
    "Lets start with splitting the data to the 2 most popular types:"
   ]
  },
  {
   "cell_type": "code",
   "execution_count": 51,
   "metadata": {},
   "outputs": [],
   "source": [
    "suv_data = new_data.query('type == \"SUV\"')\n",
    "sedan_data = new_data.query('type == \"sedan\"')"
   ]
  },
  {
   "cell_type": "markdown",
   "metadata": {},
   "source": [
    "Plotting box-and-whisker charts for categorical variables - transmission and color.\n",
    "<br>\n",
    "Checking if each variable's category has at least 50 ads, and then plotting the graphs by this function:"
   ]
  },
  {
   "cell_type": "code",
   "execution_count": 52,
   "metadata": {},
   "outputs": [],
   "source": [
    "def box_cat(category,DataFrame):\n",
    "    print(DataFrame[category].value_counts())\n",
    "    sns.boxplot(x=category, y='price', data=DataFrame, showfliers=False)\n",
    "    plt.show()"
   ]
  },
  {
   "cell_type": "code",
   "execution_count": 53,
   "metadata": {},
   "outputs": [
    {
     "name": "stdout",
     "output_type": "stream",
     "text": [
      "automatic    11349\n",
      "manual         461\n",
      "other          158\n",
      "Name: transmission, dtype: int64\n"
     ]
    },
    {
     "data": {
      "image/png": "[encoded data removed]",
      "text/plain": [
       "<Figure size 432x288 with 1 Axes>"
      ]
     },
     "metadata": {
      "needs_background": "light"
     },
     "output_type": "display_data"
    }
   ],
   "source": [
    "box_cat('transmission', suv_data)"
   ]
  },
  {
   "cell_type": "code",
   "execution_count": 54,
   "metadata": {},
   "outputs": [
    {
     "name": "stdout",
     "output_type": "stream",
     "text": [
      "black     2109\n",
      "white     1890\n",
      "silver    1529\n",
      "grey      1156\n",
      "blue      1013\n",
      "red        879\n",
      "green      413\n",
      "brown      353\n",
      "custom     299\n",
      "orange      82\n",
      "yellow      47\n",
      "purple      37\n",
      "Name: paint_color, dtype: int64\n"
     ]
    },
    {
     "data": {
      "image/png": "[encoded data removed]",
      "text/plain": [
       "<Figure size 432x288 with 1 Axes>"
      ]
     },
     "metadata": {
      "needs_background": "light"
     },
     "output_type": "display_data"
    }
   ],
   "source": [
    "box_cat('paint_color', suv_data)\n",
    "sns.set(rc={'figure.figsize':(12,5)})"
   ]
  },
  {
   "cell_type": "markdown",
   "metadata": {},
   "source": [
    "As noted in the above distribution, there are 2 color categories - yellow and purple - with less than 50 ads, thus are not valid for analysis. Black is the most popular color for SUV cars."
   ]
  },
  {
   "cell_type": "markdown",
   "metadata": {},
   "source": [
    "Now the categorical variables distributions and boxplots for truck type:"
   ]
  },
  {
   "cell_type": "code",
   "execution_count": 55,
   "metadata": {},
   "outputs": [
    {
     "name": "stdout",
     "output_type": "stream",
     "text": [
      "automatic    11276\n",
      "manual         574\n",
      "other          132\n",
      "Name: transmission, dtype: int64\n"
     ]
    },
    {
     "data": {
      "image/png": "[encoded data removed]",
      "text/plain": [
       "<Figure size 864x360 with 1 Axes>"
      ]
     },
     "metadata": {},
     "output_type": "display_data"
    }
   ],
   "source": [
    "box_cat('transmission', sedan_data)"
   ]
  },
  {
   "cell_type": "markdown",
   "metadata": {},
   "source": [
    "Most of the sedan cars have an automatic transmission."
   ]
  },
  {
   "cell_type": "code",
   "execution_count": 56,
   "metadata": {},
   "outputs": [
    {
     "name": "stdout",
     "output_type": "stream",
     "text": [
      "silver    2027\n",
      "black     1756\n",
      "grey      1608\n",
      "white     1486\n",
      "blue      1217\n",
      "red        934\n",
      "custom     296\n",
      "brown      252\n",
      "green      197\n",
      "purple      23\n",
      "yellow      21\n",
      "orange       9\n",
      "Name: paint_color, dtype: int64\n"
     ]
    },
    {
     "data": {
      "image/png": "[encoded data removed]",
      "text/plain": [
       "<Figure size 864x360 with 1 Axes>"
      ]
     },
     "metadata": {},
     "output_type": "display_data"
    }
   ],
   "source": [
    "box_cat('paint_color', sedan_data)\n",
    "sns.set(rc={'figure.figsize':(12,5)})"
   ]
  },
  {
   "cell_type": "markdown",
   "metadata": {},
   "source": [
    "Like in SUV colors, here again we can notice of 3 colors below 50 ads threshold - purple, yellow and orange. Silver is the most popular color for sedan cars."
   ]
  },
  {
   "cell_type": "markdown",
   "metadata": {},
   "source": [
    "As for the numerical categories, I will use correlation plot for visualization of price-category relationship, and correlation matrix to find correlation values.\n",
    "First a pivot table will be created for the relevant categories, then plot."
   ]
  },
  {
   "cell_type": "code",
   "execution_count": 57,
   "metadata": {},
   "outputs": [
    {
     "data": {
      "text/html": [
       "<div>\n",
       "<style scoped>\n",
       "    .dataframe tbody tr th:only-of-type {\n",
       "        vertical-align: middle;\n",
       "    }\n",
       "\n",
       "    .dataframe tbody tr th {\n",
       "        vertical-align: top;\n",
       "    }\n",
       "\n",
       "    .dataframe thead th {\n",
       "        text-align: right;\n",
       "    }\n",
       "</style>\n",
       "<table border=\"1\" class=\"dataframe\">\n",
       "  <thead>\n",
       "    <tr style=\"text-align: right;\">\n",
       "      <th></th>\n",
       "      <th>price</th>\n",
       "      <th>vehicle_age</th>\n",
       "      <th>odometer</th>\n",
       "      <th>condition</th>\n",
       "    </tr>\n",
       "  </thead>\n",
       "  <tbody>\n",
       "    <tr>\n",
       "      <th>price</th>\n",
       "      <td>1.000000</td>\n",
       "      <td>-0.576294</td>\n",
       "      <td>-0.523394</td>\n",
       "      <td>0.262771</td>\n",
       "    </tr>\n",
       "    <tr>\n",
       "      <th>vehicle_age</th>\n",
       "      <td>-0.576294</td>\n",
       "      <td>1.000000</td>\n",
       "      <td>0.618898</td>\n",
       "      <td>-0.309732</td>\n",
       "    </tr>\n",
       "    <tr>\n",
       "      <th>odometer</th>\n",
       "      <td>-0.523394</td>\n",
       "      <td>0.618898</td>\n",
       "      <td>1.000000</td>\n",
       "      <td>-0.312717</td>\n",
       "    </tr>\n",
       "    <tr>\n",
       "      <th>condition</th>\n",
       "      <td>0.262771</td>\n",
       "      <td>-0.309732</td>\n",
       "      <td>-0.312717</td>\n",
       "      <td>1.000000</td>\n",
       "    </tr>\n",
       "  </tbody>\n",
       "</table>\n",
       "</div>"
      ],
      "text/plain": [
       "                price  vehicle_age  odometer  condition\n",
       "price        1.000000    -0.576294 -0.523394   0.262771\n",
       "vehicle_age -0.576294     1.000000  0.618898  -0.309732\n",
       "odometer    -0.523394     0.618898  1.000000  -0.312717\n",
       "condition    0.262771    -0.309732 -0.312717   1.000000"
      ]
     },
     "execution_count": 57,
     "metadata": {},
     "output_type": "execute_result"
    },
    {
     "data": {
      "text/plain": [
       "array([[<AxesSubplot:xlabel='price', ylabel='price'>,\n",
       "        <AxesSubplot:xlabel='vehicle_age', ylabel='price'>,\n",
       "        <AxesSubplot:xlabel='odometer', ylabel='price'>,\n",
       "        <AxesSubplot:xlabel='condition', ylabel='price'>],\n",
       "       [<AxesSubplot:xlabel='price', ylabel='vehicle_age'>,\n",
       "        <AxesSubplot:xlabel='vehicle_age', ylabel='vehicle_age'>,\n",
       "        <AxesSubplot:xlabel='odometer', ylabel='vehicle_age'>,\n",
       "        <AxesSubplot:xlabel='condition', ylabel='vehicle_age'>],\n",
       "       [<AxesSubplot:xlabel='price', ylabel='odometer'>,\n",
       "        <AxesSubplot:xlabel='vehicle_age', ylabel='odometer'>,\n",
       "        <AxesSubplot:xlabel='odometer', ylabel='odometer'>,\n",
       "        <AxesSubplot:xlabel='condition', ylabel='odometer'>],\n",
       "       [<AxesSubplot:xlabel='price', ylabel='condition'>,\n",
       "        <AxesSubplot:xlabel='vehicle_age', ylabel='condition'>,\n",
       "        <AxesSubplot:xlabel='odometer', ylabel='condition'>,\n",
       "        <AxesSubplot:xlabel='condition', ylabel='condition'>]],\n",
       "      dtype=object)"
      ]
     },
     "execution_count": 57,
     "metadata": {},
     "output_type": "execute_result"
    },
    {
     "data": {
      "image/png": "[encoded data removed]",
      "text/plain": [
       "<Figure size 648x648 with 16 Axes>"
      ]
     },
     "metadata": {},
     "output_type": "display_data"
    }
   ],
   "source": [
    "num_data_suv = suv_data[['price', 'vehicle_age', 'odometer', 'condition']]\n",
    "num_data_suv.corr()\n",
    "pd.plotting.scatter_matrix(num_data_suv, figsize=(9,9), alpha=0.05)\n",
    "plt.show()"
   ]
  },
  {
   "cell_type": "markdown",
   "metadata": {},
   "source": [
    "Analyzing the SUV data reveals that the strongest correlation exists between price and vehicle age or mileage, with pearson coefficient of -0.58 and -0.52 respectively. That is, a negative coefficient - an increase in age and mileage is correlated with a decrese in price.\n",
    "\n",
    "Now the same analysis for sedan data:"
   ]
  },
  {
   "cell_type": "code",
   "execution_count": 58,
   "metadata": {},
   "outputs": [
    {
     "data": {
      "text/html": [
       "<div>\n",
       "<style scoped>\n",
       "    .dataframe tbody tr th:only-of-type {\n",
       "        vertical-align: middle;\n",
       "    }\n",
       "\n",
       "    .dataframe tbody tr th {\n",
       "        vertical-align: top;\n",
       "    }\n",
       "\n",
       "    .dataframe thead th {\n",
       "        text-align: right;\n",
       "    }\n",
       "</style>\n",
       "<table border=\"1\" class=\"dataframe\">\n",
       "  <thead>\n",
       "    <tr style=\"text-align: right;\">\n",
       "      <th></th>\n",
       "      <th>price</th>\n",
       "      <th>vehicle_age</th>\n",
       "      <th>odometer</th>\n",
       "      <th>condition</th>\n",
       "    </tr>\n",
       "  </thead>\n",
       "  <tbody>\n",
       "    <tr>\n",
       "      <th>price</th>\n",
       "      <td>1.000000</td>\n",
       "      <td>-0.613376</td>\n",
       "      <td>-0.550621</td>\n",
       "      <td>0.290547</td>\n",
       "    </tr>\n",
       "    <tr>\n",
       "      <th>vehicle_age</th>\n",
       "      <td>-0.613376</td>\n",
       "      <td>1.000000</td>\n",
       "      <td>0.606832</td>\n",
       "      <td>-0.291364</td>\n",
       "    </tr>\n",
       "    <tr>\n",
       "      <th>odometer</th>\n",
       "      <td>-0.550621</td>\n",
       "      <td>0.606832</td>\n",
       "      <td>1.000000</td>\n",
       "      <td>-0.312435</td>\n",
       "    </tr>\n",
       "    <tr>\n",
       "      <th>condition</th>\n",
       "      <td>0.290547</td>\n",
       "      <td>-0.291364</td>\n",
       "      <td>-0.312435</td>\n",
       "      <td>1.000000</td>\n",
       "    </tr>\n",
       "  </tbody>\n",
       "</table>\n",
       "</div>"
      ],
      "text/plain": [
       "                price  vehicle_age  odometer  condition\n",
       "price        1.000000    -0.613376 -0.550621   0.290547\n",
       "vehicle_age -0.613376     1.000000  0.606832  -0.291364\n",
       "odometer    -0.550621     0.606832  1.000000  -0.312435\n",
       "condition    0.290547    -0.291364 -0.312435   1.000000"
      ]
     },
     "execution_count": 58,
     "metadata": {},
     "output_type": "execute_result"
    },
    {
     "data": {
      "text/plain": [
       "array([[<AxesSubplot:xlabel='price', ylabel='price'>,\n",
       "        <AxesSubplot:xlabel='vehicle_age', ylabel='price'>,\n",
       "        <AxesSubplot:xlabel='odometer', ylabel='price'>,\n",
       "        <AxesSubplot:xlabel='condition', ylabel='price'>],\n",
       "       [<AxesSubplot:xlabel='price', ylabel='vehicle_age'>,\n",
       "        <AxesSubplot:xlabel='vehicle_age', ylabel='vehicle_age'>,\n",
       "        <AxesSubplot:xlabel='odometer', ylabel='vehicle_age'>,\n",
       "        <AxesSubplot:xlabel='condition', ylabel='vehicle_age'>],\n",
       "       [<AxesSubplot:xlabel='price', ylabel='odometer'>,\n",
       "        <AxesSubplot:xlabel='vehicle_age', ylabel='odometer'>,\n",
       "        <AxesSubplot:xlabel='odometer', ylabel='odometer'>,\n",
       "        <AxesSubplot:xlabel='condition', ylabel='odometer'>],\n",
       "       [<AxesSubplot:xlabel='price', ylabel='condition'>,\n",
       "        <AxesSubplot:xlabel='vehicle_age', ylabel='condition'>,\n",
       "        <AxesSubplot:xlabel='odometer', ylabel='condition'>,\n",
       "        <AxesSubplot:xlabel='condition', ylabel='condition'>]],\n",
       "      dtype=object)"
      ]
     },
     "execution_count": 58,
     "metadata": {},
     "output_type": "execute_result"
    },
    {
     "data": {
      "image/png": "[encoded data removed]",
      "text/plain": [
       "<Figure size 648x648 with 16 Axes>"
      ]
     },
     "metadata": {},
     "output_type": "display_data"
    }
   ],
   "source": [
    "num_data_sedan = sedan_data[['price', 'vehicle_age', 'odometer', 'condition']]\n",
    "num_data_sedan.corr()\n",
    "pd.plotting.scatter_matrix(num_data_sedan, figsize=(9,9), alpha=0.05)\n",
    "plt.show()"
   ]
  },
  {
   "cell_type": "markdown",
   "metadata": {},
   "source": [
    "Same conclusion for the sedan type - the strongest correlation of -0.61 is between price and age, while price-mileage shows value of -0.55. "
   ]
  },
  {
   "cell_type": "markdown",
   "metadata": {},
   "source": [
    "## General conclusion\n",
    "\n",
    "The first step was data preprocessing, as there were several issues to address. Those included missing values, inappropriate data types, and adding columns to ease calculations. With regard to missing values, grouping by other columns was used to provide with median values, while obvious case was treated directly based on reliable reasoning. <br> No duplicates were found.\n",
    "<br>\n",
    "Outliers upper limit was determined either by the IQR method or by 98th percentile. Various reasons might account for these outliers. Numeric characteristic of a car - such as mileage, age and price - can present a wide range of values. A large dataset of vehicles will probably include very expensive (or cheap) cars, and is likely to stretch over wide range of model years, alongside various owners' profiles that influence factors as milage. Of course we can't ignore and disprove human typing errors as well.\n",
    "<br>\n",
    "After storing the relevant data in a new dataset, the histograms, correlation matrices and correlation plots led to the following conclusion:\n",
    "<br>\n",
    "The factors that influence the price of a vehicle more than others are the vehicle's age and mileage, mostly the age. These two factors had the highest correlation (negative) with the price, as shown in the correlation matrix and clearly visualized in the scatter matrix. "
   ]
  },
  {
   "cell_type": "code",
   "execution_count": null,
   "metadata": {},
   "outputs": [],
   "source": []
  }
 ],
 "metadata": {
  "ExecuteTimeLog": [
   {
    "duration": 828,
    "start_time": "2021-11-16T09:21:11.304Z"
   },
   {
    "duration": 893,
    "start_time": "2021-11-16T09:21:17.728Z"
   },
   {
    "duration": 1150,
    "start_time": "2021-11-16T09:21:29.568Z"
   },
   {
    "duration": 3,
    "start_time": "2021-11-16T09:24:14.495Z"
   },
   {
    "duration": 120,
    "start_time": "2021-11-16T09:24:46.630Z"
   },
   {
    "duration": 3,
    "start_time": "2021-11-16T09:28:27.882Z"
   },
   {
    "duration": 4,
    "start_time": "2021-11-16T09:29:54.281Z"
   },
   {
    "duration": 3,
    "start_time": "2021-11-16T09:30:45.936Z"
   },
   {
    "duration": 4,
    "start_time": "2021-11-16T09:31:06.300Z"
   },
   {
    "duration": 113,
    "start_time": "2021-11-16T09:31:37.208Z"
   },
   {
    "duration": 143,
    "start_time": "2021-11-16T09:31:48.656Z"
   },
   {
    "duration": 98,
    "start_time": "2021-11-16T09:31:55.678Z"
   },
   {
    "duration": 3,
    "start_time": "2021-11-16T09:32:08.535Z"
   },
   {
    "duration": 111,
    "start_time": "2021-11-16T09:32:10.120Z"
   },
   {
    "duration": 3,
    "start_time": "2021-11-16T09:32:15.732Z"
   },
   {
    "duration": 4,
    "start_time": "2021-11-16T09:32:29.423Z"
   },
   {
    "duration": 3,
    "start_time": "2021-11-16T10:03:03.074Z"
   },
   {
    "duration": 3,
    "start_time": "2021-11-16T10:10:01.288Z"
   },
   {
    "duration": 3,
    "start_time": "2021-11-16T10:10:46.923Z"
   },
   {
    "duration": 121,
    "start_time": "2021-11-16T10:37:46.494Z"
   },
   {
    "duration": 125,
    "start_time": "2021-11-16T10:38:20.632Z"
   },
   {
    "duration": 112,
    "start_time": "2021-11-16T10:46:53.001Z"
   },
   {
    "duration": 110,
    "start_time": "2021-11-16T10:48:25.775Z"
   },
   {
    "duration": 3,
    "start_time": "2021-11-16T10:50:18.720Z"
   },
   {
    "duration": 4,
    "start_time": "2021-11-16T10:50:37.649Z"
   },
   {
    "duration": 2,
    "start_time": "2021-11-16T10:50:51.884Z"
   },
   {
    "duration": 3,
    "start_time": "2021-11-16T10:51:56.237Z"
   },
   {
    "duration": 101,
    "start_time": "2021-11-16T10:53:13.791Z"
   },
   {
    "duration": 3,
    "start_time": "2021-11-16T10:55:59.186Z"
   },
   {
    "duration": 3,
    "start_time": "2021-11-16T10:56:10.751Z"
   },
   {
    "duration": 3,
    "start_time": "2021-11-16T10:56:49.038Z"
   },
   {
    "duration": 3,
    "start_time": "2021-11-16T10:56:49.174Z"
   },
   {
    "duration": 4,
    "start_time": "2021-11-16T10:56:49.414Z"
   },
   {
    "duration": 3,
    "start_time": "2021-11-16T10:56:49.680Z"
   },
   {
    "duration": 3,
    "start_time": "2021-11-16T10:56:50.370Z"
   },
   {
    "duration": 114,
    "start_time": "2021-11-16T10:59:34.518Z"
   },
   {
    "duration": 3,
    "start_time": "2021-11-16T11:01:41.201Z"
   },
   {
    "duration": 116,
    "start_time": "2021-11-16T11:01:48.754Z"
   },
   {
    "duration": 3,
    "start_time": "2021-11-16T11:02:16.685Z"
   },
   {
    "duration": 3,
    "start_time": "2021-11-16T11:02:19.479Z"
   },
   {
    "duration": 3,
    "start_time": "2021-11-16T11:02:47.067Z"
   },
   {
    "duration": 3,
    "start_time": "2021-11-16T11:02:49.353Z"
   },
   {
    "duration": 3,
    "start_time": "2021-11-16T11:03:07.835Z"
   },
   {
    "duration": 3,
    "start_time": "2021-11-16T11:03:07.953Z"
   },
   {
    "duration": 112,
    "start_time": "2021-11-16T11:07:52.072Z"
   },
   {
    "duration": 187,
    "start_time": "2021-11-16T11:09:23.468Z"
   },
   {
    "duration": 4,
    "start_time": "2021-11-16T11:10:01.455Z"
   },
   {
    "duration": 3,
    "start_time": "2021-11-16T11:10:05.069Z"
   },
   {
    "duration": 4,
    "start_time": "2021-11-16T11:10:13.376Z"
   },
   {
    "duration": 3,
    "start_time": "2021-11-16T11:10:14.434Z"
   },
   {
    "duration": 3,
    "start_time": "2021-11-16T11:10:22.853Z"
   },
   {
    "duration": 4,
    "start_time": "2021-11-16T11:27:29.279Z"
   },
   {
    "duration": 4,
    "start_time": "2021-11-16T11:29:08.919Z"
   },
   {
    "duration": 118,
    "start_time": "2021-11-16T11:29:46.703Z"
   },
   {
    "duration": 437,
    "start_time": "2021-11-16T11:36:02.181Z"
   },
   {
    "duration": 157,
    "start_time": "2021-11-16T11:36:14.388Z"
   },
   {
    "duration": 207,
    "start_time": "2021-11-16T11:47:15.898Z"
   },
   {
    "duration": 3,
    "start_time": "2021-11-16T11:53:52.092Z"
   },
   {
    "duration": 3,
    "start_time": "2021-11-16T11:53:52.236Z"
   },
   {
    "duration": 3,
    "start_time": "2021-11-16T11:59:12.005Z"
   },
   {
    "duration": 112,
    "start_time": "2021-11-16T12:00:33.446Z"
   },
   {
    "duration": 3,
    "start_time": "2021-11-16T12:02:14.453Z"
   },
   {
    "duration": 3,
    "start_time": "2021-11-16T12:02:39.512Z"
   },
   {
    "duration": 106,
    "start_time": "2021-11-16T12:03:03.460Z"
   },
   {
    "duration": 46,
    "start_time": "2022-08-05T10:33:58.312Z"
   },
   {
    "duration": 757,
    "start_time": "2022-08-05T10:34:18.538Z"
   },
   {
    "duration": 791,
    "start_time": "2022-08-05T10:34:21.115Z"
   },
   {
    "duration": 25,
    "start_time": "2022-08-05T10:34:26.276Z"
   },
   {
    "duration": 17,
    "start_time": "2022-08-05T10:35:10.473Z"
   },
   {
    "duration": 14,
    "start_time": "2022-08-05T10:35:27.852Z"
   },
   {
    "duration": 773,
    "start_time": "2022-08-06T08:35:08.856Z"
   },
   {
    "duration": 165,
    "start_time": "2022-08-06T08:35:09.631Z"
   },
   {
    "duration": 32,
    "start_time": "2022-08-06T08:35:09.798Z"
   },
   {
    "duration": 20,
    "start_time": "2022-08-06T08:35:09.833Z"
   },
   {
    "duration": 3,
    "start_time": "2022-08-06T08:35:09.854Z"
   },
   {
    "duration": 6,
    "start_time": "2022-08-06T08:35:09.859Z"
   },
   {
    "duration": 6,
    "start_time": "2022-08-06T08:35:09.866Z"
   },
   {
    "duration": 6,
    "start_time": "2022-08-06T08:35:09.874Z"
   },
   {
    "duration": 7,
    "start_time": "2022-08-06T08:35:09.882Z"
   },
   {
    "duration": 5,
    "start_time": "2022-08-06T08:35:09.891Z"
   },
   {
    "duration": 6,
    "start_time": "2022-08-06T08:35:09.898Z"
   },
   {
    "duration": 6,
    "start_time": "2022-08-06T08:35:09.905Z"
   },
   {
    "duration": 5,
    "start_time": "2022-08-06T08:35:09.913Z"
   },
   {
    "duration": 10,
    "start_time": "2022-08-06T08:35:09.939Z"
   },
   {
    "duration": 8,
    "start_time": "2022-08-06T08:35:09.951Z"
   },
   {
    "duration": 7,
    "start_time": "2022-08-06T08:35:09.960Z"
   },
   {
    "duration": 6,
    "start_time": "2022-08-06T08:35:09.969Z"
   },
   {
    "duration": 6,
    "start_time": "2022-08-06T08:35:09.976Z"
   },
   {
    "duration": 17,
    "start_time": "2022-08-06T08:35:09.983Z"
   },
   {
    "duration": 5,
    "start_time": "2022-08-06T08:40:46.214Z"
   },
   {
    "duration": 4,
    "start_time": "2022-08-06T08:42:28.123Z"
   },
   {
    "duration": 5,
    "start_time": "2022-08-06T08:42:39.724Z"
   },
   {
    "duration": 45,
    "start_time": "2022-08-06T08:48:17.182Z"
   },
   {
    "duration": 51,
    "start_time": "2022-08-06T08:48:30.031Z"
   },
   {
    "duration": 69,
    "start_time": "2022-08-06T08:49:07.551Z"
   },
   {
    "duration": 34,
    "start_time": "2022-08-06T08:52:40.632Z"
   },
   {
    "duration": 21,
    "start_time": "2022-08-06T08:53:36.992Z"
   },
   {
    "duration": 6,
    "start_time": "2022-08-06T08:56:32.563Z"
   },
   {
    "duration": 34,
    "start_time": "2022-08-06T08:56:53.741Z"
   },
   {
    "duration": 12,
    "start_time": "2022-08-06T08:57:37.890Z"
   },
   {
    "duration": 17,
    "start_time": "2022-08-06T09:23:27.516Z"
   },
   {
    "duration": 85,
    "start_time": "2022-08-06T09:28:17.232Z"
   },
   {
    "duration": 29,
    "start_time": "2022-08-06T09:28:49.077Z"
   },
   {
    "duration": 33,
    "start_time": "2022-08-06T09:29:01.265Z"
   },
   {
    "duration": 754,
    "start_time": "2022-08-06T13:49:49.920Z"
   },
   {
    "duration": 390,
    "start_time": "2022-08-06T13:49:50.675Z"
   },
   {
    "duration": 21,
    "start_time": "2022-08-06T13:49:51.066Z"
   },
   {
    "duration": 15,
    "start_time": "2022-08-06T13:49:51.089Z"
   },
   {
    "duration": 4,
    "start_time": "2022-08-06T13:49:51.106Z"
   },
   {
    "duration": 6,
    "start_time": "2022-08-06T13:49:51.111Z"
   },
   {
    "duration": 5,
    "start_time": "2022-08-06T13:49:51.119Z"
   },
   {
    "duration": 38,
    "start_time": "2022-08-06T13:49:51.125Z"
   },
   {
    "duration": 2,
    "start_time": "2022-08-06T13:49:51.165Z"
   },
   {
    "duration": 9,
    "start_time": "2022-08-06T13:49:51.168Z"
   },
   {
    "duration": 4,
    "start_time": "2022-08-06T13:49:51.179Z"
   },
   {
    "duration": 8,
    "start_time": "2022-08-06T13:49:51.185Z"
   },
   {
    "duration": 7,
    "start_time": "2022-08-06T13:49:51.194Z"
   },
   {
    "duration": 8,
    "start_time": "2022-08-06T13:49:51.203Z"
   },
   {
    "duration": 4,
    "start_time": "2022-08-06T13:49:51.213Z"
   },
   {
    "duration": 5,
    "start_time": "2022-08-06T13:49:51.219Z"
   },
   {
    "duration": 4,
    "start_time": "2022-08-06T13:49:51.225Z"
   },
   {
    "duration": 8,
    "start_time": "2022-08-06T13:49:51.230Z"
   },
   {
    "duration": 7,
    "start_time": "2022-08-06T13:49:51.239Z"
   },
   {
    "duration": 5,
    "start_time": "2022-08-06T13:49:51.247Z"
   },
   {
    "duration": 3,
    "start_time": "2022-08-06T13:49:51.255Z"
   },
   {
    "duration": 12,
    "start_time": "2022-08-06T13:49:51.259Z"
   },
   {
    "duration": 4,
    "start_time": "2022-08-06T13:49:51.273Z"
   },
   {
    "duration": 7,
    "start_time": "2022-08-06T13:50:25.297Z"
   },
   {
    "duration": 82,
    "start_time": "2022-08-06T13:51:14.084Z"
   },
   {
    "duration": 10,
    "start_time": "2022-08-06T13:51:17.925Z"
   },
   {
    "duration": 68,
    "start_time": "2022-08-06T13:53:53.882Z"
   },
   {
    "duration": 16,
    "start_time": "2022-08-06T13:54:01.013Z"
   },
   {
    "duration": 12,
    "start_time": "2022-08-06T13:54:47.693Z"
   },
   {
    "duration": 9,
    "start_time": "2022-08-06T13:55:02.943Z"
   },
   {
    "duration": 17,
    "start_time": "2022-08-06T13:55:21.796Z"
   },
   {
    "duration": 8,
    "start_time": "2022-08-06T13:56:17.855Z"
   },
   {
    "duration": 12,
    "start_time": "2022-08-06T13:57:58.280Z"
   },
   {
    "duration": 26,
    "start_time": "2022-08-06T13:58:26.886Z"
   },
   {
    "duration": 14,
    "start_time": "2022-08-06T13:58:43.901Z"
   },
   {
    "duration": 42,
    "start_time": "2022-08-06T14:00:15.553Z"
   },
   {
    "duration": 10,
    "start_time": "2022-08-06T14:02:26.872Z"
   },
   {
    "duration": 15,
    "start_time": "2022-08-06T14:03:06.177Z"
   },
   {
    "duration": 8,
    "start_time": "2022-08-06T14:03:14.776Z"
   },
   {
    "duration": 8,
    "start_time": "2022-08-06T14:03:55.508Z"
   },
   {
    "duration": 1474,
    "start_time": "2022-08-06T14:06:49.596Z"
   },
   {
    "duration": 7,
    "start_time": "2022-08-06T14:06:54.885Z"
   },
   {
    "duration": 7,
    "start_time": "2022-08-06T14:07:34.142Z"
   },
   {
    "duration": 28,
    "start_time": "2022-08-06T14:07:43.445Z"
   },
   {
    "duration": 4,
    "start_time": "2022-08-06T14:08:01.509Z"
   },
   {
    "duration": 139,
    "start_time": "2022-08-06T14:08:10.486Z"
   },
   {
    "duration": 49,
    "start_time": "2022-08-06T14:10:30.045Z"
   },
   {
    "duration": 41,
    "start_time": "2022-08-06T14:11:09.212Z"
   },
   {
    "duration": 52,
    "start_time": "2022-08-06T14:11:47.166Z"
   },
   {
    "duration": 21,
    "start_time": "2022-08-06T14:12:09.636Z"
   },
   {
    "duration": 48,
    "start_time": "2022-08-06T14:12:26.148Z"
   },
   {
    "duration": 1952,
    "start_time": "2022-08-06T14:13:26.412Z"
   },
   {
    "duration": 25,
    "start_time": "2022-08-06T14:14:31.640Z"
   },
   {
    "duration": 24,
    "start_time": "2022-08-06T14:15:03.095Z"
   },
   {
    "duration": 33,
    "start_time": "2022-08-06T14:16:40.710Z"
   },
   {
    "duration": 3,
    "start_time": "2022-08-06T14:17:15.135Z"
   },
   {
    "duration": 352,
    "start_time": "2022-08-06T14:17:15.139Z"
   },
   {
    "duration": 20,
    "start_time": "2022-08-06T14:17:15.493Z"
   },
   {
    "duration": 13,
    "start_time": "2022-08-06T14:17:15.514Z"
   },
   {
    "duration": 4,
    "start_time": "2022-08-06T14:17:15.530Z"
   },
   {
    "duration": 5,
    "start_time": "2022-08-06T14:17:15.535Z"
   },
   {
    "duration": 15,
    "start_time": "2022-08-06T14:17:15.541Z"
   },
   {
    "duration": 31,
    "start_time": "2022-08-06T14:17:15.558Z"
   },
   {
    "duration": 2,
    "start_time": "2022-08-06T14:17:15.591Z"
   },
   {
    "duration": 5,
    "start_time": "2022-08-06T14:17:15.595Z"
   },
   {
    "duration": 4,
    "start_time": "2022-08-06T14:17:15.603Z"
   },
   {
    "duration": 5,
    "start_time": "2022-08-06T14:17:15.608Z"
   },
   {
    "duration": 7,
    "start_time": "2022-08-06T14:17:15.614Z"
   },
   {
    "duration": 5,
    "start_time": "2022-08-06T14:17:15.622Z"
   },
   {
    "duration": 5,
    "start_time": "2022-08-06T14:17:15.628Z"
   },
   {
    "duration": 1,
    "start_time": "2022-08-06T14:17:15.655Z"
   },
   {
    "duration": 10,
    "start_time": "2022-08-06T14:17:15.658Z"
   },
   {
    "duration": 6,
    "start_time": "2022-08-06T14:17:15.669Z"
   },
   {
    "duration": 5,
    "start_time": "2022-08-06T14:17:15.677Z"
   },
   {
    "duration": 9,
    "start_time": "2022-08-06T14:17:15.684Z"
   },
   {
    "duration": 5,
    "start_time": "2022-08-06T14:17:15.694Z"
   },
   {
    "duration": 5,
    "start_time": "2022-08-06T14:17:15.700Z"
   },
   {
    "duration": 6,
    "start_time": "2022-08-06T14:17:15.706Z"
   },
   {
    "duration": 47,
    "start_time": "2022-08-06T14:17:47.402Z"
   },
   {
    "duration": 40,
    "start_time": "2022-08-06T14:17:59.057Z"
   },
   {
    "duration": 18,
    "start_time": "2022-08-06T14:18:10.929Z"
   },
   {
    "duration": 33,
    "start_time": "2022-08-06T14:19:37.715Z"
   },
   {
    "duration": 55,
    "start_time": "2022-08-06T14:19:47.977Z"
   },
   {
    "duration": 31,
    "start_time": "2022-08-06T14:20:01.678Z"
   },
   {
    "duration": 18,
    "start_time": "2022-08-06T14:21:15.819Z"
   },
   {
    "duration": 36,
    "start_time": "2022-08-06T14:21:26.063Z"
   },
   {
    "duration": 36,
    "start_time": "2022-08-06T14:22:58.599Z"
   },
   {
    "duration": 39,
    "start_time": "2022-08-06T14:25:38.026Z"
   },
   {
    "duration": 37,
    "start_time": "2022-08-06T14:25:51.402Z"
   },
   {
    "duration": 50,
    "start_time": "2022-08-06T14:26:47.149Z"
   },
   {
    "duration": 33,
    "start_time": "2022-08-06T14:27:15.701Z"
   },
   {
    "duration": 3,
    "start_time": "2022-08-06T14:27:41.446Z"
   },
   {
    "duration": 9,
    "start_time": "2022-08-06T14:28:32.249Z"
   },
   {
    "duration": 11,
    "start_time": "2022-08-06T14:29:01.624Z"
   },
   {
    "duration": 7,
    "start_time": "2022-08-06T14:29:15.278Z"
   },
   {
    "duration": 40,
    "start_time": "2022-08-06T14:29:56.076Z"
   },
   {
    "duration": 25,
    "start_time": "2022-08-06T14:30:04.402Z"
   },
   {
    "duration": 7,
    "start_time": "2022-08-06T14:34:41.954Z"
   },
   {
    "duration": 33,
    "start_time": "2022-08-06T14:34:49.921Z"
   },
   {
    "duration": 32,
    "start_time": "2022-08-06T14:35:42.360Z"
   },
   {
    "duration": 18,
    "start_time": "2022-08-06T14:45:33.563Z"
   },
   {
    "duration": 14,
    "start_time": "2022-08-06T14:45:53.239Z"
   },
   {
    "duration": 3,
    "start_time": "2022-08-06T14:47:07.752Z"
   },
   {
    "duration": 11,
    "start_time": "2022-08-06T14:49:22.128Z"
   },
   {
    "duration": 4,
    "start_time": "2022-08-06T14:51:31.215Z"
   },
   {
    "duration": 15,
    "start_time": "2022-08-06T14:51:40.397Z"
   },
   {
    "duration": 4,
    "start_time": "2022-08-06T14:52:34.807Z"
   },
   {
    "duration": 4,
    "start_time": "2022-08-06T14:53:39.999Z"
   },
   {
    "duration": 15,
    "start_time": "2022-08-06T14:53:53.573Z"
   },
   {
    "duration": 10,
    "start_time": "2022-08-06T15:02:02.978Z"
   },
   {
    "duration": 3,
    "start_time": "2022-08-06T15:04:47.167Z"
   },
   {
    "duration": 4,
    "start_time": "2022-08-06T15:05:07.240Z"
   },
   {
    "duration": 107,
    "start_time": "2022-08-06T15:06:09.860Z"
   },
   {
    "duration": 6,
    "start_time": "2022-08-06T15:06:23.485Z"
   },
   {
    "duration": 3,
    "start_time": "2022-08-06T15:06:56.044Z"
   },
   {
    "duration": 116,
    "start_time": "2022-08-06T15:07:10.334Z"
   },
   {
    "duration": 103,
    "start_time": "2022-08-06T15:07:21.613Z"
   },
   {
    "duration": 102,
    "start_time": "2022-08-06T15:07:35.050Z"
   },
   {
    "duration": 5,
    "start_time": "2022-08-06T15:07:40.373Z"
   },
   {
    "duration": 48,
    "start_time": "2022-08-06T18:13:14.076Z"
   },
   {
    "duration": 878,
    "start_time": "2022-08-06T18:13:26.848Z"
   },
   {
    "duration": 399,
    "start_time": "2022-08-06T18:13:27.728Z"
   },
   {
    "duration": 24,
    "start_time": "2022-08-06T18:13:28.129Z"
   },
   {
    "duration": 18,
    "start_time": "2022-08-06T18:13:28.156Z"
   },
   {
    "duration": 35,
    "start_time": "2022-08-06T18:13:28.177Z"
   },
   {
    "duration": 58,
    "start_time": "2022-08-06T18:13:28.214Z"
   },
   {
    "duration": 6,
    "start_time": "2022-08-06T18:13:28.274Z"
   },
   {
    "duration": 22,
    "start_time": "2022-08-06T18:13:28.282Z"
   },
   {
    "duration": 9,
    "start_time": "2022-08-06T18:13:28.306Z"
   },
   {
    "duration": 6,
    "start_time": "2022-08-06T18:13:28.318Z"
   },
   {
    "duration": 59,
    "start_time": "2022-08-06T18:13:28.327Z"
   },
   {
    "duration": 23,
    "start_time": "2022-08-06T18:13:28.389Z"
   },
   {
    "duration": 6,
    "start_time": "2022-08-06T18:13:28.414Z"
   },
   {
    "duration": 4,
    "start_time": "2022-08-06T18:13:28.423Z"
   },
   {
    "duration": 12,
    "start_time": "2022-08-06T18:13:28.429Z"
   },
   {
    "duration": 27,
    "start_time": "2022-08-06T18:13:28.443Z"
   },
   {
    "duration": 13,
    "start_time": "2022-08-06T18:13:28.473Z"
   },
   {
    "duration": 6,
    "start_time": "2022-08-06T18:13:28.488Z"
   },
   {
    "duration": 6,
    "start_time": "2022-08-06T18:13:28.496Z"
   },
   {
    "duration": 5,
    "start_time": "2022-08-06T18:13:28.504Z"
   },
   {
    "duration": 4,
    "start_time": "2022-08-06T18:13:28.510Z"
   },
   {
    "duration": 4,
    "start_time": "2022-08-06T18:13:28.516Z"
   },
   {
    "duration": 7,
    "start_time": "2022-08-06T18:13:28.521Z"
   },
   {
    "duration": 6,
    "start_time": "2022-08-06T18:13:28.530Z"
   },
   {
    "duration": 4,
    "start_time": "2022-08-06T18:13:28.538Z"
   },
   {
    "duration": 4,
    "start_time": "2022-08-06T18:13:28.544Z"
   },
   {
    "duration": 45,
    "start_time": "2022-08-06T18:17:25.079Z"
   },
   {
    "duration": 15,
    "start_time": "2022-08-06T18:18:07.106Z"
   },
   {
    "duration": 9,
    "start_time": "2022-08-06T18:18:25.358Z"
   },
   {
    "duration": 20,
    "start_time": "2022-08-06T18:52:15.737Z"
   },
   {
    "duration": 9,
    "start_time": "2022-08-06T18:59:54.820Z"
   },
   {
    "duration": 4,
    "start_time": "2022-08-06T19:00:34.736Z"
   },
   {
    "duration": 18,
    "start_time": "2022-08-06T19:00:42.450Z"
   },
   {
    "duration": 38,
    "start_time": "2022-08-06T19:01:00.049Z"
   },
   {
    "duration": 763,
    "start_time": "2022-08-07T18:29:17.809Z"
   },
   {
    "duration": 152,
    "start_time": "2022-08-07T18:29:18.574Z"
   },
   {
    "duration": 22,
    "start_time": "2022-08-07T18:29:18.728Z"
   },
   {
    "duration": 17,
    "start_time": "2022-08-07T18:29:18.752Z"
   },
   {
    "duration": 30,
    "start_time": "2022-08-07T18:29:18.771Z"
   },
   {
    "duration": 32,
    "start_time": "2022-08-07T18:29:18.803Z"
   },
   {
    "duration": 39,
    "start_time": "2022-08-07T18:29:18.837Z"
   },
   {
    "duration": 4,
    "start_time": "2022-08-07T18:29:18.878Z"
   },
   {
    "duration": 4,
    "start_time": "2022-08-07T18:29:18.883Z"
   },
   {
    "duration": 4,
    "start_time": "2022-08-07T18:29:18.910Z"
   },
   {
    "duration": 5,
    "start_time": "2022-08-07T18:29:18.916Z"
   },
   {
    "duration": 37,
    "start_time": "2022-08-07T18:29:18.922Z"
   },
   {
    "duration": 13,
    "start_time": "2022-08-07T18:29:18.960Z"
   },
   {
    "duration": 5,
    "start_time": "2022-08-07T18:29:18.974Z"
   },
   {
    "duration": 5,
    "start_time": "2022-08-07T18:29:18.980Z"
   },
   {
    "duration": 27,
    "start_time": "2022-08-07T18:29:18.987Z"
   },
   {
    "duration": 18,
    "start_time": "2022-08-07T18:29:19.015Z"
   },
   {
    "duration": 7,
    "start_time": "2022-08-07T18:29:19.035Z"
   },
   {
    "duration": 22,
    "start_time": "2022-08-07T18:29:19.044Z"
   },
   {
    "duration": 14,
    "start_time": "2022-08-07T18:29:19.067Z"
   },
   {
    "duration": 1,
    "start_time": "2022-08-07T18:29:19.083Z"
   },
   {
    "duration": 25,
    "start_time": "2022-08-07T18:29:19.086Z"
   },
   {
    "duration": 5,
    "start_time": "2022-08-07T18:29:19.113Z"
   },
   {
    "duration": 12,
    "start_time": "2022-08-07T18:29:19.119Z"
   },
   {
    "duration": 4,
    "start_time": "2022-08-07T18:29:19.133Z"
   },
   {
    "duration": 4,
    "start_time": "2022-08-07T18:29:19.138Z"
   },
   {
    "duration": 5,
    "start_time": "2022-08-07T18:29:19.144Z"
   },
   {
    "duration": 3,
    "start_time": "2022-08-07T18:29:19.151Z"
   },
   {
    "duration": 6,
    "start_time": "2022-08-07T18:29:19.155Z"
   },
   {
    "duration": 167,
    "start_time": "2022-08-07T18:48:54.648Z"
   },
   {
    "duration": 187,
    "start_time": "2022-08-07T18:49:11.783Z"
   },
   {
    "duration": 5,
    "start_time": "2022-08-07T18:50:20.438Z"
   },
   {
    "duration": 7,
    "start_time": "2022-08-07T18:50:37.624Z"
   },
   {
    "duration": 13,
    "start_time": "2022-08-07T18:51:12.193Z"
   },
   {
    "duration": 178,
    "start_time": "2022-08-07T18:51:37.962Z"
   },
   {
    "duration": 200,
    "start_time": "2022-08-07T18:51:51.151Z"
   },
   {
    "duration": 768,
    "start_time": "2022-08-07T18:59:50.029Z"
   },
   {
    "duration": 219,
    "start_time": "2022-08-07T19:01:03.424Z"
   },
   {
    "duration": 220,
    "start_time": "2022-08-07T19:01:25.911Z"
   },
   {
    "duration": 778,
    "start_time": "2022-08-07T19:04:14.472Z"
   },
   {
    "duration": 3,
    "start_time": "2022-08-07T19:04:38.664Z"
   },
   {
    "duration": 368,
    "start_time": "2022-08-07T19:09:44.285Z"
   },
   {
    "duration": 589,
    "start_time": "2022-08-07T19:10:09.858Z"
   },
   {
    "duration": 232,
    "start_time": "2022-08-07T19:10:48.081Z"
   },
   {
    "duration": 935,
    "start_time": "2022-08-07T19:12:54.506Z"
   },
   {
    "duration": 807,
    "start_time": "2022-08-07T19:13:05.133Z"
   },
   {
    "duration": 4,
    "start_time": "2022-08-07T19:20:31.137Z"
   },
   {
    "duration": 201,
    "start_time": "2022-08-07T19:20:57.495Z"
   },
   {
    "duration": 190,
    "start_time": "2022-08-07T19:23:09.503Z"
   },
   {
    "duration": 186,
    "start_time": "2022-08-07T19:23:13.979Z"
   },
   {
    "duration": 199,
    "start_time": "2022-08-07T19:23:17.269Z"
   },
   {
    "duration": 30,
    "start_time": "2022-08-07T19:23:19.969Z"
   },
   {
    "duration": 14,
    "start_time": "2022-08-07T19:24:57.972Z"
   },
   {
    "duration": 180,
    "start_time": "2022-08-07T19:25:11.276Z"
   },
   {
    "duration": 3,
    "start_time": "2022-08-07T19:26:58.172Z"
   },
   {
    "duration": 264,
    "start_time": "2022-08-07T19:27:01.902Z"
   },
   {
    "duration": 167,
    "start_time": "2022-08-07T19:27:02.168Z"
   },
   {
    "duration": 174,
    "start_time": "2022-08-07T19:27:02.337Z"
   },
   {
    "duration": 233,
    "start_time": "2022-08-07T19:27:02.513Z"
   },
   {
    "duration": 205,
    "start_time": "2022-08-07T19:27:02.748Z"
   },
   {
    "duration": 3,
    "start_time": "2022-08-07T19:27:02.954Z"
   },
   {
    "duration": 4,
    "start_time": "2022-08-07T19:27:02.958Z"
   },
   {
    "duration": 6,
    "start_time": "2022-08-07T19:27:02.963Z"
   },
   {
    "duration": 4,
    "start_time": "2022-08-07T19:27:21.766Z"
   },
   {
    "duration": 2,
    "start_time": "2022-08-07T19:27:28.467Z"
   },
   {
    "duration": 195,
    "start_time": "2022-08-07T19:27:28.473Z"
   },
   {
    "duration": 184,
    "start_time": "2022-08-07T19:27:28.670Z"
   },
   {
    "duration": 182,
    "start_time": "2022-08-07T19:27:28.855Z"
   },
   {
    "duration": 196,
    "start_time": "2022-08-07T19:27:29.039Z"
   },
   {
    "duration": 180,
    "start_time": "2022-08-07T19:27:29.236Z"
   },
   {
    "duration": 2,
    "start_time": "2022-08-07T19:27:29.418Z"
   },
   {
    "duration": 7,
    "start_time": "2022-08-07T19:27:29.422Z"
   },
   {
    "duration": 17,
    "start_time": "2022-08-07T19:27:29.431Z"
   },
   {
    "duration": 3,
    "start_time": "2022-08-07T19:30:23.002Z"
   },
   {
    "duration": 274,
    "start_time": "2022-08-07T19:30:40.486Z"
   },
   {
    "duration": 188,
    "start_time": "2022-08-07T19:31:06.473Z"
   },
   {
    "duration": 184,
    "start_time": "2022-08-07T19:31:28.868Z"
   },
   {
    "duration": 211,
    "start_time": "2022-08-07T19:32:46.680Z"
   },
   {
    "duration": 7,
    "start_time": "2022-08-07T19:33:04.571Z"
   },
   {
    "duration": 172,
    "start_time": "2022-08-07T19:33:15.543Z"
   },
   {
    "duration": 189,
    "start_time": "2022-08-07T19:33:37.153Z"
   },
   {
    "duration": 189,
    "start_time": "2022-08-07T19:33:50.324Z"
   },
   {
    "duration": 244,
    "start_time": "2022-08-07T19:34:05.725Z"
   },
   {
    "duration": 4,
    "start_time": "2022-08-07T19:36:50.448Z"
   },
   {
    "duration": 3,
    "start_time": "2022-08-07T19:36:56.117Z"
   },
   {
    "duration": 213,
    "start_time": "2022-08-07T19:36:56.122Z"
   },
   {
    "duration": 193,
    "start_time": "2022-08-07T19:36:56.337Z"
   },
   {
    "duration": 187,
    "start_time": "2022-08-07T19:36:56.531Z"
   },
   {
    "duration": 191,
    "start_time": "2022-08-07T19:36:56.720Z"
   },
   {
    "duration": 181,
    "start_time": "2022-08-07T19:36:56.912Z"
   },
   {
    "duration": 2,
    "start_time": "2022-08-07T19:36:57.095Z"
   },
   {
    "duration": 6,
    "start_time": "2022-08-07T19:36:57.099Z"
   },
   {
    "duration": 4,
    "start_time": "2022-08-07T19:36:57.111Z"
   },
   {
    "duration": 9,
    "start_time": "2022-08-07T19:43:23.615Z"
   },
   {
    "duration": 24,
    "start_time": "2022-08-07T19:44:29.079Z"
   },
   {
    "duration": 12,
    "start_time": "2022-08-07T19:44:54.854Z"
   },
   {
    "duration": 10,
    "start_time": "2022-08-07T19:45:25.443Z"
   },
   {
    "duration": 13,
    "start_time": "2022-08-07T19:45:43.477Z"
   },
   {
    "duration": 11,
    "start_time": "2022-08-07T19:46:04.069Z"
   },
   {
    "duration": 6,
    "start_time": "2022-08-07T19:46:11.554Z"
   },
   {
    "duration": 7,
    "start_time": "2022-08-07T19:46:19.652Z"
   },
   {
    "duration": 6,
    "start_time": "2022-08-07T19:46:36.168Z"
   },
   {
    "duration": 5,
    "start_time": "2022-08-07T19:46:47.306Z"
   },
   {
    "duration": 6,
    "start_time": "2022-08-07T19:47:08.225Z"
   },
   {
    "duration": 8,
    "start_time": "2022-08-07T19:47:14.440Z"
   },
   {
    "duration": 6,
    "start_time": "2022-08-07T19:47:23.364Z"
   },
   {
    "duration": 7,
    "start_time": "2022-08-07T19:47:52.288Z"
   },
   {
    "duration": 5,
    "start_time": "2022-08-07T19:48:04.151Z"
   },
   {
    "duration": 6,
    "start_time": "2022-08-07T19:48:08.599Z"
   },
   {
    "duration": 6,
    "start_time": "2022-08-07T19:48:17.273Z"
   },
   {
    "duration": 7,
    "start_time": "2022-08-07T19:48:22.643Z"
   },
   {
    "duration": 5,
    "start_time": "2022-08-07T19:48:30.063Z"
   },
   {
    "duration": 5,
    "start_time": "2022-08-07T19:48:35.725Z"
   },
   {
    "duration": 3,
    "start_time": "2022-08-07T19:57:53.438Z"
   },
   {
    "duration": 3,
    "start_time": "2022-08-07T20:04:20.881Z"
   },
   {
    "duration": 6,
    "start_time": "2022-08-07T20:04:36.602Z"
   },
   {
    "duration": 8,
    "start_time": "2022-08-07T20:10:06.355Z"
   },
   {
    "duration": 3,
    "start_time": "2022-08-07T20:22:12.545Z"
   },
   {
    "duration": 956,
    "start_time": "2022-08-08T08:46:08.725Z"
   },
   {
    "duration": 1183,
    "start_time": "2022-08-08T08:46:09.684Z"
   },
   {
    "duration": 34,
    "start_time": "2022-08-08T08:46:10.869Z"
   },
   {
    "duration": 32,
    "start_time": "2022-08-08T08:46:10.906Z"
   },
   {
    "duration": 75,
    "start_time": "2022-08-08T08:46:10.941Z"
   },
   {
    "duration": 44,
    "start_time": "2022-08-08T08:46:11.018Z"
   },
   {
    "duration": 71,
    "start_time": "2022-08-08T08:46:11.064Z"
   },
   {
    "duration": 6,
    "start_time": "2022-08-08T08:46:11.137Z"
   },
   {
    "duration": 12,
    "start_time": "2022-08-08T08:46:11.145Z"
   },
   {
    "duration": 11,
    "start_time": "2022-08-08T08:46:11.161Z"
   },
   {
    "duration": 24,
    "start_time": "2022-08-08T08:46:11.174Z"
   },
   {
    "duration": 63,
    "start_time": "2022-08-08T08:46:11.200Z"
   },
   {
    "duration": 28,
    "start_time": "2022-08-08T08:46:11.265Z"
   },
   {
    "duration": 7,
    "start_time": "2022-08-08T08:46:11.296Z"
   },
   {
    "duration": 15,
    "start_time": "2022-08-08T08:46:11.306Z"
   },
   {
    "duration": 13,
    "start_time": "2022-08-08T08:46:11.323Z"
   },
   {
    "duration": 21,
    "start_time": "2022-08-08T08:46:11.337Z"
   },
   {
    "duration": 33,
    "start_time": "2022-08-08T08:46:11.360Z"
   },
   {
    "duration": 29,
    "start_time": "2022-08-08T08:46:11.396Z"
   },
   {
    "duration": 45,
    "start_time": "2022-08-08T08:46:11.428Z"
   },
   {
    "duration": 36,
    "start_time": "2022-08-08T08:46:11.475Z"
   },
   {
    "duration": 10,
    "start_time": "2022-08-08T08:46:11.513Z"
   },
   {
    "duration": 340,
    "start_time": "2022-08-08T08:46:11.525Z"
   },
   {
    "duration": 370,
    "start_time": "2022-08-08T08:46:11.867Z"
   },
   {
    "duration": 404,
    "start_time": "2022-08-08T08:46:12.241Z"
   },
   {
    "duration": 277,
    "start_time": "2022-08-08T08:46:12.647Z"
   },
   {
    "duration": 267,
    "start_time": "2022-08-08T08:46:12.926Z"
   },
   {
    "duration": 5,
    "start_time": "2022-08-08T08:46:13.198Z"
   },
   {
    "duration": 43,
    "start_time": "2022-08-08T08:46:13.205Z"
   },
   {
    "duration": 36,
    "start_time": "2022-08-08T08:46:13.250Z"
   },
   {
    "duration": 142,
    "start_time": "2022-08-08T08:55:52.090Z"
   },
   {
    "duration": 11,
    "start_time": "2022-08-08T08:56:20.030Z"
   },
   {
    "duration": 14,
    "start_time": "2022-08-08T08:58:01.207Z"
   },
   {
    "duration": 15,
    "start_time": "2022-08-08T08:58:33.902Z"
   },
   {
    "duration": 9,
    "start_time": "2022-08-08T09:22:36.223Z"
   },
   {
    "duration": 14,
    "start_time": "2022-08-08T09:22:45.083Z"
   },
   {
    "duration": 11,
    "start_time": "2022-08-08T09:23:09.689Z"
   },
   {
    "duration": 9,
    "start_time": "2022-08-08T09:23:15.827Z"
   },
   {
    "duration": 14,
    "start_time": "2022-08-08T09:23:32.434Z"
   },
   {
    "duration": 8,
    "start_time": "2022-08-08T09:24:26.357Z"
   },
   {
    "duration": 12,
    "start_time": "2022-08-08T09:24:28.470Z"
   },
   {
    "duration": 1541,
    "start_time": "2022-08-08T09:28:57.768Z"
   },
   {
    "duration": 9,
    "start_time": "2022-08-08T09:29:12.641Z"
   },
   {
    "duration": 18,
    "start_time": "2022-08-08T09:29:36.646Z"
   },
   {
    "duration": 9,
    "start_time": "2022-08-08T09:29:48.618Z"
   },
   {
    "duration": 7,
    "start_time": "2022-08-08T09:30:11.170Z"
   },
   {
    "duration": 8,
    "start_time": "2022-08-08T09:30:31.169Z"
   },
   {
    "duration": 15,
    "start_time": "2022-08-08T09:39:51.919Z"
   },
   {
    "duration": 12,
    "start_time": "2022-08-08T09:52:02.436Z"
   },
   {
    "duration": 27,
    "start_time": "2022-08-08T10:05:59.277Z"
   },
   {
    "duration": 4,
    "start_time": "2022-08-08T10:12:14.134Z"
   },
   {
    "duration": 283,
    "start_time": "2022-08-08T10:12:17.375Z"
   },
   {
    "duration": 271,
    "start_time": "2022-08-08T10:12:23.668Z"
   },
   {
    "duration": 277,
    "start_time": "2022-08-08T10:12:30.068Z"
   },
   {
    "duration": 266,
    "start_time": "2022-08-08T10:12:35.488Z"
   },
   {
    "duration": 273,
    "start_time": "2022-08-08T10:12:40.477Z"
   },
   {
    "duration": 11,
    "start_time": "2022-08-08T10:15:03.230Z"
   },
   {
    "duration": 14,
    "start_time": "2022-08-08T10:15:08.691Z"
   },
   {
    "duration": 303,
    "start_time": "2022-08-08T10:15:51.156Z"
   },
   {
    "duration": 245,
    "start_time": "2022-08-08T10:16:42.073Z"
   },
   {
    "duration": 76,
    "start_time": "2022-08-08T10:17:49.026Z"
   },
   {
    "duration": 306,
    "start_time": "2022-08-08T10:19:01.444Z"
   },
   {
    "duration": 21,
    "start_time": "2022-08-08T10:19:52.426Z"
   },
   {
    "duration": 5,
    "start_time": "2022-08-08T10:20:47.169Z"
   },
   {
    "duration": 232,
    "start_time": "2022-08-08T10:30:13.721Z"
   },
   {
    "duration": 204,
    "start_time": "2022-08-08T10:30:22.657Z"
   },
   {
    "duration": 227,
    "start_time": "2022-08-08T10:30:44.157Z"
   },
   {
    "duration": 283,
    "start_time": "2022-08-08T10:32:54.914Z"
   },
   {
    "duration": 12,
    "start_time": "2022-08-08T10:33:33.792Z"
   },
   {
    "duration": 274,
    "start_time": "2022-08-08T10:33:37.731Z"
   },
   {
    "duration": 248,
    "start_time": "2022-08-08T10:34:13.149Z"
   },
   {
    "duration": 247,
    "start_time": "2022-08-08T10:35:09.621Z"
   },
   {
    "duration": 282,
    "start_time": "2022-08-08T10:35:25.353Z"
   },
   {
    "duration": 7,
    "start_time": "2022-08-08T10:36:16.889Z"
   },
   {
    "duration": 305,
    "start_time": "2022-08-08T10:36:19.522Z"
   },
   {
    "duration": 254,
    "start_time": "2022-08-08T10:36:25.762Z"
   },
   {
    "duration": 228,
    "start_time": "2022-08-08T10:36:30.748Z"
   },
   {
    "duration": 313,
    "start_time": "2022-08-08T10:36:35.531Z"
   },
   {
    "duration": 299,
    "start_time": "2022-08-08T10:36:40.383Z"
   },
   {
    "duration": 277,
    "start_time": "2022-08-08T10:36:52.327Z"
   },
   {
    "duration": 220,
    "start_time": "2022-08-08T10:36:57.213Z"
   },
   {
    "duration": 210,
    "start_time": "2022-08-08T10:37:03.626Z"
   },
   {
    "duration": 18,
    "start_time": "2022-08-08T11:08:55.382Z"
   },
   {
    "duration": 50,
    "start_time": "2022-08-08T11:12:26.188Z"
   },
   {
    "duration": 35,
    "start_time": "2022-08-08T11:12:46.826Z"
   },
   {
    "duration": 46,
    "start_time": "2022-08-08T11:13:50.233Z"
   },
   {
    "duration": 49,
    "start_time": "2022-08-08T11:13:59.114Z"
   },
   {
    "duration": 1445,
    "start_time": "2022-08-08T11:15:57.906Z"
   },
   {
    "duration": 217,
    "start_time": "2022-08-08T11:16:04.383Z"
   },
   {
    "duration": 8,
    "start_time": "2022-08-08T11:18:03.349Z"
   },
   {
    "duration": 37,
    "start_time": "2022-08-08T11:18:13.673Z"
   },
   {
    "duration": 44,
    "start_time": "2022-08-08T11:50:04.934Z"
   },
   {
    "duration": 65,
    "start_time": "2022-08-08T11:53:37.921Z"
   },
   {
    "duration": 18,
    "start_time": "2022-08-08T11:53:55.122Z"
   },
   {
    "duration": 59,
    "start_time": "2022-08-08T11:54:06.555Z"
   },
   {
    "duration": 46,
    "start_time": "2022-08-08T11:54:48.017Z"
   },
   {
    "duration": 50,
    "start_time": "2022-08-08T11:57:55.881Z"
   },
   {
    "duration": 53,
    "start_time": "2022-08-08T11:58:08.851Z"
   },
   {
    "duration": 43,
    "start_time": "2022-08-08T12:02:48.719Z"
   },
   {
    "duration": 776,
    "start_time": "2022-08-08T19:03:50.400Z"
   },
   {
    "duration": 166,
    "start_time": "2022-08-08T19:03:51.178Z"
   },
   {
    "duration": 24,
    "start_time": "2022-08-08T19:03:51.346Z"
   },
   {
    "duration": 25,
    "start_time": "2022-08-08T19:03:51.372Z"
   },
   {
    "duration": 51,
    "start_time": "2022-08-08T19:03:51.398Z"
   },
   {
    "duration": 38,
    "start_time": "2022-08-08T19:03:51.451Z"
   },
   {
    "duration": 54,
    "start_time": "2022-08-08T19:03:51.491Z"
   },
   {
    "duration": 7,
    "start_time": "2022-08-08T19:03:51.547Z"
   },
   {
    "duration": 14,
    "start_time": "2022-08-08T19:03:51.556Z"
   },
   {
    "duration": 22,
    "start_time": "2022-08-08T19:03:51.573Z"
   },
   {
    "duration": 13,
    "start_time": "2022-08-08T19:03:51.597Z"
   },
   {
    "duration": 53,
    "start_time": "2022-08-08T19:03:51.611Z"
   },
   {
    "duration": 18,
    "start_time": "2022-08-08T19:03:51.667Z"
   },
   {
    "duration": 5,
    "start_time": "2022-08-08T19:03:51.687Z"
   },
   {
    "duration": 14,
    "start_time": "2022-08-08T19:03:51.693Z"
   },
   {
    "duration": 23,
    "start_time": "2022-08-08T19:03:51.708Z"
   },
   {
    "duration": 25,
    "start_time": "2022-08-08T19:03:51.733Z"
   },
   {
    "duration": 24,
    "start_time": "2022-08-08T19:03:51.760Z"
   },
   {
    "duration": 15,
    "start_time": "2022-08-08T19:03:51.787Z"
   },
   {
    "duration": 56,
    "start_time": "2022-08-08T19:03:51.804Z"
   },
   {
    "duration": 29,
    "start_time": "2022-08-08T19:03:51.863Z"
   },
   {
    "duration": 28,
    "start_time": "2022-08-08T19:03:51.894Z"
   },
   {
    "duration": 212,
    "start_time": "2022-08-08T19:03:51.923Z"
   },
   {
    "duration": 173,
    "start_time": "2022-08-08T19:03:52.136Z"
   },
   {
    "duration": 163,
    "start_time": "2022-08-08T19:03:52.311Z"
   },
   {
    "duration": 178,
    "start_time": "2022-08-08T19:03:52.476Z"
   },
   {
    "duration": 252,
    "start_time": "2022-08-08T19:03:52.655Z"
   },
   {
    "duration": 4,
    "start_time": "2022-08-08T19:03:52.910Z"
   },
   {
    "duration": 19,
    "start_time": "2022-08-08T19:03:52.915Z"
   },
   {
    "duration": 23,
    "start_time": "2022-08-08T19:03:52.935Z"
   },
   {
    "duration": 20,
    "start_time": "2022-08-08T19:03:52.959Z"
   },
   {
    "duration": 26,
    "start_time": "2022-08-08T19:03:52.981Z"
   },
   {
    "duration": 32,
    "start_time": "2022-08-08T19:03:53.008Z"
   },
   {
    "duration": 19,
    "start_time": "2022-08-08T19:03:53.041Z"
   },
   {
    "duration": 18,
    "start_time": "2022-08-08T19:03:53.061Z"
   },
   {
    "duration": 95,
    "start_time": "2022-08-08T19:03:53.080Z"
   },
   {
    "duration": 16,
    "start_time": "2022-08-08T19:03:53.176Z"
   },
   {
    "duration": 9,
    "start_time": "2022-08-08T19:03:53.193Z"
   },
   {
    "duration": 171,
    "start_time": "2022-08-08T19:03:53.203Z"
   },
   {
    "duration": 167,
    "start_time": "2022-08-08T19:03:53.376Z"
   },
   {
    "duration": 167,
    "start_time": "2022-08-08T19:03:53.544Z"
   },
   {
    "duration": 9,
    "start_time": "2022-08-08T19:03:53.712Z"
   },
   {
    "duration": 209,
    "start_time": "2022-08-08T19:03:53.723Z"
   },
   {
    "duration": 43,
    "start_time": "2022-08-08T19:03:53.934Z"
   },
   {
    "duration": 51,
    "start_time": "2022-08-08T19:03:53.979Z"
   },
   {
    "duration": 9,
    "start_time": "2022-08-08T19:07:11.635Z"
   },
   {
    "duration": 161,
    "start_time": "2022-08-08T19:07:19.071Z"
   },
   {
    "duration": 47,
    "start_time": "2022-08-08T19:07:29.951Z"
   },
   {
    "duration": 39,
    "start_time": "2022-08-08T19:07:37.231Z"
   },
   {
    "duration": 37,
    "start_time": "2022-08-08T19:08:07.531Z"
   },
   {
    "duration": 143,
    "start_time": "2022-08-08T19:20:04.412Z"
   },
   {
    "duration": 194,
    "start_time": "2022-08-08T19:20:46.365Z"
   },
   {
    "duration": 625,
    "start_time": "2022-08-08T19:28:57.737Z"
   },
   {
    "duration": 165,
    "start_time": "2022-08-08T19:28:58.364Z"
   },
   {
    "duration": 23,
    "start_time": "2022-08-08T19:28:58.530Z"
   },
   {
    "duration": 19,
    "start_time": "2022-08-08T19:28:58.555Z"
   },
   {
    "duration": 40,
    "start_time": "2022-08-08T19:28:58.576Z"
   },
   {
    "duration": 32,
    "start_time": "2022-08-08T19:28:58.619Z"
   },
   {
    "duration": 62,
    "start_time": "2022-08-08T19:28:58.653Z"
   },
   {
    "duration": 5,
    "start_time": "2022-08-08T19:28:58.717Z"
   },
   {
    "duration": 5,
    "start_time": "2022-08-08T19:28:58.723Z"
   },
   {
    "duration": 6,
    "start_time": "2022-08-08T19:28:58.731Z"
   },
   {
    "duration": 5,
    "start_time": "2022-08-08T19:28:58.738Z"
   },
   {
    "duration": 55,
    "start_time": "2022-08-08T19:28:58.745Z"
   },
   {
    "duration": 24,
    "start_time": "2022-08-08T19:28:58.805Z"
   },
   {
    "duration": 19,
    "start_time": "2022-08-08T19:28:58.831Z"
   },
   {
    "duration": 5,
    "start_time": "2022-08-08T19:28:58.851Z"
   },
   {
    "duration": 10,
    "start_time": "2022-08-08T19:28:58.857Z"
   },
   {
    "duration": 31,
    "start_time": "2022-08-08T19:28:58.869Z"
   },
   {
    "duration": 20,
    "start_time": "2022-08-08T19:28:58.902Z"
   },
   {
    "duration": 13,
    "start_time": "2022-08-08T19:28:58.924Z"
   },
   {
    "duration": 26,
    "start_time": "2022-08-08T19:28:58.939Z"
   },
   {
    "duration": 17,
    "start_time": "2022-08-08T19:28:58.967Z"
   },
   {
    "duration": 5,
    "start_time": "2022-08-08T19:28:58.999Z"
   },
   {
    "duration": 238,
    "start_time": "2022-08-08T19:28:59.006Z"
   },
   {
    "duration": 207,
    "start_time": "2022-08-08T19:28:59.246Z"
   },
   {
    "duration": 191,
    "start_time": "2022-08-08T19:28:59.454Z"
   },
   {
    "duration": 192,
    "start_time": "2022-08-08T19:28:59.647Z"
   },
   {
    "duration": 258,
    "start_time": "2022-08-08T19:28:59.840Z"
   },
   {
    "duration": 5,
    "start_time": "2022-08-08T19:29:00.108Z"
   },
   {
    "duration": 17,
    "start_time": "2022-08-08T19:29:00.116Z"
   },
   {
    "duration": 10,
    "start_time": "2022-08-08T19:29:00.135Z"
   },
   {
    "duration": 13,
    "start_time": "2022-08-08T19:29:00.147Z"
   },
   {
    "duration": 7,
    "start_time": "2022-08-08T19:29:00.161Z"
   },
   {
    "duration": 10,
    "start_time": "2022-08-08T19:29:00.170Z"
   },
   {
    "duration": 14,
    "start_time": "2022-08-08T19:29:00.200Z"
   },
   {
    "duration": 28,
    "start_time": "2022-08-08T19:29:00.216Z"
   },
   {
    "duration": 73,
    "start_time": "2022-08-08T19:29:00.245Z"
   },
   {
    "duration": 16,
    "start_time": "2022-08-08T19:29:00.320Z"
   },
   {
    "duration": 4,
    "start_time": "2022-08-08T19:29:00.338Z"
   },
   {
    "duration": 212,
    "start_time": "2022-08-08T19:29:00.344Z"
   },
   {
    "duration": 186,
    "start_time": "2022-08-08T19:29:00.557Z"
   },
   {
    "duration": 198,
    "start_time": "2022-08-08T19:29:00.745Z"
   },
   {
    "duration": 9,
    "start_time": "2022-08-08T19:29:00.945Z"
   },
   {
    "duration": 236,
    "start_time": "2022-08-08T19:29:00.955Z"
   },
   {
    "duration": 57,
    "start_time": "2022-08-08T19:29:01.192Z"
   },
   {
    "duration": 56,
    "start_time": "2022-08-08T19:29:01.251Z"
   },
   {
    "duration": 44,
    "start_time": "2022-08-08T20:05:38.879Z"
   },
   {
    "duration": 618,
    "start_time": "2022-08-08T20:05:48.635Z"
   },
   {
    "duration": 171,
    "start_time": "2022-08-08T20:05:49.255Z"
   },
   {
    "duration": 22,
    "start_time": "2022-08-08T20:05:49.427Z"
   },
   {
    "duration": 19,
    "start_time": "2022-08-08T20:05:49.451Z"
   },
   {
    "duration": 35,
    "start_time": "2022-08-08T20:05:49.472Z"
   },
   {
    "duration": 31,
    "start_time": "2022-08-08T20:05:49.509Z"
   },
   {
    "duration": 101,
    "start_time": "2022-08-08T20:05:49.542Z"
   },
   {
    "duration": 5,
    "start_time": "2022-08-08T20:05:49.644Z"
   },
   {
    "duration": 7,
    "start_time": "2022-08-08T20:05:49.650Z"
   },
   {
    "duration": 8,
    "start_time": "2022-08-08T20:05:49.659Z"
   },
   {
    "duration": 7,
    "start_time": "2022-08-08T20:05:49.668Z"
   },
   {
    "duration": 52,
    "start_time": "2022-08-08T20:05:49.676Z"
   },
   {
    "duration": 25,
    "start_time": "2022-08-08T20:05:49.730Z"
   },
   {
    "duration": 5,
    "start_time": "2022-08-08T20:05:49.757Z"
   },
   {
    "duration": 4,
    "start_time": "2022-08-08T20:05:49.764Z"
   },
   {
    "duration": 12,
    "start_time": "2022-08-08T20:05:49.769Z"
   },
   {
    "duration": 30,
    "start_time": "2022-08-08T20:05:49.783Z"
   },
   {
    "duration": 7,
    "start_time": "2022-08-08T20:05:49.815Z"
   },
   {
    "duration": 15,
    "start_time": "2022-08-08T20:05:49.823Z"
   },
   {
    "duration": 22,
    "start_time": "2022-08-08T20:05:49.840Z"
   },
   {
    "duration": 14,
    "start_time": "2022-08-08T20:05:49.864Z"
   },
   {
    "duration": 23,
    "start_time": "2022-08-08T20:05:49.880Z"
   },
   {
    "duration": 217,
    "start_time": "2022-08-08T20:05:49.905Z"
   },
   {
    "duration": 173,
    "start_time": "2022-08-08T20:05:50.123Z"
   },
   {
    "duration": 164,
    "start_time": "2022-08-08T20:05:50.297Z"
   },
   {
    "duration": 189,
    "start_time": "2022-08-08T20:05:50.463Z"
   },
   {
    "duration": 225,
    "start_time": "2022-08-08T20:05:50.654Z"
   },
   {
    "duration": 4,
    "start_time": "2022-08-08T20:05:50.884Z"
   },
   {
    "duration": 14,
    "start_time": "2022-08-08T20:05:50.890Z"
   },
   {
    "duration": 10,
    "start_time": "2022-08-08T20:05:50.906Z"
   },
   {
    "duration": 17,
    "start_time": "2022-08-08T20:05:50.918Z"
   },
   {
    "duration": 9,
    "start_time": "2022-08-08T20:05:50.937Z"
   },
   {
    "duration": 11,
    "start_time": "2022-08-08T20:05:50.948Z"
   },
   {
    "duration": 43,
    "start_time": "2022-08-08T20:05:50.961Z"
   },
   {
    "duration": 12,
    "start_time": "2022-08-08T20:05:51.008Z"
   },
   {
    "duration": 93,
    "start_time": "2022-08-08T20:05:51.022Z"
   },
   {
    "duration": 16,
    "start_time": "2022-08-08T20:05:51.117Z"
   },
   {
    "duration": 3,
    "start_time": "2022-08-08T20:05:51.135Z"
   },
   {
    "duration": 182,
    "start_time": "2022-08-08T20:05:51.140Z"
   },
   {
    "duration": 204,
    "start_time": "2022-08-08T20:05:51.324Z"
   },
   {
    "duration": 184,
    "start_time": "2022-08-08T20:05:51.531Z"
   },
   {
    "duration": 8,
    "start_time": "2022-08-08T20:05:51.716Z"
   },
   {
    "duration": 190,
    "start_time": "2022-08-08T20:05:51.726Z"
   },
   {
    "duration": 39,
    "start_time": "2022-08-08T20:05:51.917Z"
   },
   {
    "duration": 57,
    "start_time": "2022-08-08T20:05:51.957Z"
   },
   {
    "duration": 8,
    "start_time": "2022-08-08T20:05:52.015Z"
   },
   {
    "duration": 8,
    "start_time": "2022-08-08T20:06:00.620Z"
   },
   {
    "duration": 18,
    "start_time": "2022-08-08T20:11:06.678Z"
   },
   {
    "duration": 18,
    "start_time": "2022-08-08T20:11:35.626Z"
   },
   {
    "duration": 46,
    "start_time": "2022-08-08T20:12:37.999Z"
   },
   {
    "duration": 16,
    "start_time": "2022-08-08T20:12:55.735Z"
   },
   {
    "duration": 15,
    "start_time": "2022-08-08T20:13:16.641Z"
   },
   {
    "duration": 52,
    "start_time": "2022-08-08T20:13:53.901Z"
   },
   {
    "duration": 25,
    "start_time": "2022-08-08T20:17:22.321Z"
   },
   {
    "duration": 185,
    "start_time": "2022-08-08T20:21:32.462Z"
   },
   {
    "duration": 134,
    "start_time": "2022-08-08T20:24:30.151Z"
   },
   {
    "duration": 23,
    "start_time": "2022-08-08T20:28:43.754Z"
   },
   {
    "duration": 29,
    "start_time": "2022-08-08T20:29:10.508Z"
   },
   {
    "duration": 24,
    "start_time": "2022-08-08T20:29:23.491Z"
   },
   {
    "duration": 8,
    "start_time": "2022-08-08T20:32:26.357Z"
   },
   {
    "duration": 22,
    "start_time": "2022-08-08T20:32:39.726Z"
   },
   {
    "duration": 22,
    "start_time": "2022-08-08T20:34:26.251Z"
   },
   {
    "duration": 27,
    "start_time": "2022-08-08T20:34:44.382Z"
   },
   {
    "duration": 140,
    "start_time": "2022-08-08T20:35:11.814Z"
   },
   {
    "duration": 24,
    "start_time": "2022-08-08T20:35:29.433Z"
   },
   {
    "duration": 28,
    "start_time": "2022-08-08T20:35:42.062Z"
   },
   {
    "duration": 27,
    "start_time": "2022-08-08T20:36:22.907Z"
   },
   {
    "duration": 22,
    "start_time": "2022-08-08T20:37:42.664Z"
   },
   {
    "duration": 22,
    "start_time": "2022-08-08T20:37:55.669Z"
   },
   {
    "duration": 22,
    "start_time": "2022-08-08T20:38:22.181Z"
   },
   {
    "duration": 836,
    "start_time": "2022-08-09T18:17:24.582Z"
   },
   {
    "duration": 184,
    "start_time": "2022-08-09T18:17:25.420Z"
   },
   {
    "duration": 25,
    "start_time": "2022-08-09T18:17:25.605Z"
   },
   {
    "duration": 21,
    "start_time": "2022-08-09T18:17:25.633Z"
   },
   {
    "duration": 48,
    "start_time": "2022-08-09T18:17:25.656Z"
   },
   {
    "duration": 33,
    "start_time": "2022-08-09T18:17:25.706Z"
   },
   {
    "duration": 66,
    "start_time": "2022-08-09T18:17:25.741Z"
   },
   {
    "duration": 5,
    "start_time": "2022-08-09T18:17:25.809Z"
   },
   {
    "duration": 9,
    "start_time": "2022-08-09T18:17:25.816Z"
   },
   {
    "duration": 6,
    "start_time": "2022-08-09T18:17:25.828Z"
   },
   {
    "duration": 7,
    "start_time": "2022-08-09T18:17:25.836Z"
   },
   {
    "duration": 61,
    "start_time": "2022-08-09T18:17:25.844Z"
   },
   {
    "duration": 21,
    "start_time": "2022-08-09T18:17:25.907Z"
   },
   {
    "duration": 8,
    "start_time": "2022-08-09T18:17:25.930Z"
   },
   {
    "duration": 9,
    "start_time": "2022-08-09T18:17:25.939Z"
   },
   {
    "duration": 11,
    "start_time": "2022-08-09T18:17:25.950Z"
   },
   {
    "duration": 43,
    "start_time": "2022-08-09T18:17:25.963Z"
   },
   {
    "duration": 9,
    "start_time": "2022-08-09T18:17:26.008Z"
   },
   {
    "duration": 12,
    "start_time": "2022-08-09T18:17:26.019Z"
   },
   {
    "duration": 26,
    "start_time": "2022-08-09T18:17:26.032Z"
   },
   {
    "duration": 43,
    "start_time": "2022-08-09T18:17:26.059Z"
   },
   {
    "duration": 3,
    "start_time": "2022-08-09T18:17:26.104Z"
   },
   {
    "duration": 223,
    "start_time": "2022-08-09T18:17:26.109Z"
   },
   {
    "duration": 211,
    "start_time": "2022-08-09T18:17:26.334Z"
   },
   {
    "duration": 204,
    "start_time": "2022-08-09T18:17:26.547Z"
   },
   {
    "duration": 229,
    "start_time": "2022-08-09T18:17:26.754Z"
   },
   {
    "duration": 253,
    "start_time": "2022-08-09T18:17:26.985Z"
   },
   {
    "duration": 3,
    "start_time": "2022-08-09T18:17:27.241Z"
   },
   {
    "duration": 10,
    "start_time": "2022-08-09T18:17:27.246Z"
   },
   {
    "duration": 9,
    "start_time": "2022-08-09T18:17:27.257Z"
   },
   {
    "duration": 13,
    "start_time": "2022-08-09T18:17:27.268Z"
   },
   {
    "duration": 9,
    "start_time": "2022-08-09T18:17:27.303Z"
   },
   {
    "duration": 11,
    "start_time": "2022-08-09T18:17:27.314Z"
   },
   {
    "duration": 8,
    "start_time": "2022-08-09T18:17:27.328Z"
   },
   {
    "duration": 12,
    "start_time": "2022-08-09T18:17:27.338Z"
   },
   {
    "duration": 112,
    "start_time": "2022-08-09T18:17:27.351Z"
   },
   {
    "duration": 20,
    "start_time": "2022-08-09T18:17:27.465Z"
   },
   {
    "duration": 16,
    "start_time": "2022-08-09T18:17:27.487Z"
   },
   {
    "duration": 220,
    "start_time": "2022-08-09T18:17:27.506Z"
   },
   {
    "duration": 192,
    "start_time": "2022-08-09T18:17:27.727Z"
   },
   {
    "duration": 199,
    "start_time": "2022-08-09T18:17:27.921Z"
   },
   {
    "duration": 9,
    "start_time": "2022-08-09T18:17:28.122Z"
   },
   {
    "duration": 202,
    "start_time": "2022-08-09T18:17:28.133Z"
   },
   {
    "duration": 45,
    "start_time": "2022-08-09T18:17:28.337Z"
   },
   {
    "duration": 66,
    "start_time": "2022-08-09T18:17:28.384Z"
   },
   {
    "duration": 175,
    "start_time": "2022-08-09T18:17:28.452Z"
   },
   {
    "duration": 31,
    "start_time": "2022-08-09T18:17:28.628Z"
   },
   {
    "duration": 97,
    "start_time": "2022-08-09T18:29:14.243Z"
   },
   {
    "duration": 26,
    "start_time": "2022-08-09T18:29:45.113Z"
   },
   {
    "duration": 26,
    "start_time": "2022-08-09T18:30:20.915Z"
   },
   {
    "duration": 25,
    "start_time": "2022-08-09T18:34:34.437Z"
   },
   {
    "duration": 3,
    "start_time": "2022-08-09T18:34:55.128Z"
   },
   {
    "duration": 107,
    "start_time": "2022-08-09T18:34:55.135Z"
   },
   {
    "duration": 22,
    "start_time": "2022-08-09T18:34:55.244Z"
   },
   {
    "duration": 40,
    "start_time": "2022-08-09T18:34:55.268Z"
   },
   {
    "duration": 45,
    "start_time": "2022-08-09T18:34:55.310Z"
   },
   {
    "duration": 33,
    "start_time": "2022-08-09T18:34:55.358Z"
   },
   {
    "duration": 43,
    "start_time": "2022-08-09T18:34:55.403Z"
   },
   {
    "duration": 6,
    "start_time": "2022-08-09T18:34:55.448Z"
   },
   {
    "duration": 4,
    "start_time": "2022-08-09T18:34:55.456Z"
   },
   {
    "duration": 6,
    "start_time": "2022-08-09T18:34:55.461Z"
   },
   {
    "duration": 4,
    "start_time": "2022-08-09T18:34:55.502Z"
   },
   {
    "duration": 32,
    "start_time": "2022-08-09T18:34:55.508Z"
   },
   {
    "duration": 21,
    "start_time": "2022-08-09T18:34:55.542Z"
   },
   {
    "duration": 4,
    "start_time": "2022-08-09T18:34:55.565Z"
   },
   {
    "duration": 32,
    "start_time": "2022-08-09T18:34:55.571Z"
   },
   {
    "duration": 12,
    "start_time": "2022-08-09T18:34:55.605Z"
   },
   {
    "duration": 17,
    "start_time": "2022-08-09T18:34:55.619Z"
   },
   {
    "duration": 9,
    "start_time": "2022-08-09T18:34:55.638Z"
   },
   {
    "duration": 10,
    "start_time": "2022-08-09T18:34:55.649Z"
   },
   {
    "duration": 43,
    "start_time": "2022-08-09T18:34:55.661Z"
   },
   {
    "duration": 18,
    "start_time": "2022-08-09T18:34:55.705Z"
   },
   {
    "duration": 5,
    "start_time": "2022-08-09T18:34:55.725Z"
   },
   {
    "duration": 228,
    "start_time": "2022-08-09T18:34:55.732Z"
   },
   {
    "duration": 202,
    "start_time": "2022-08-09T18:34:55.962Z"
   },
   {
    "duration": 199,
    "start_time": "2022-08-09T18:34:56.165Z"
   },
   {
    "duration": 210,
    "start_time": "2022-08-09T18:34:56.366Z"
   },
   {
    "duration": 329,
    "start_time": "2022-08-09T18:34:56.577Z"
   },
   {
    "duration": 3,
    "start_time": "2022-08-09T18:34:56.908Z"
   },
   {
    "duration": 22,
    "start_time": "2022-08-09T18:34:56.915Z"
   },
   {
    "duration": 13,
    "start_time": "2022-08-09T18:34:56.939Z"
   },
   {
    "duration": 16,
    "start_time": "2022-08-09T18:34:56.954Z"
   },
   {
    "duration": 8,
    "start_time": "2022-08-09T18:34:56.971Z"
   },
   {
    "duration": 31,
    "start_time": "2022-08-09T18:34:56.981Z"
   },
   {
    "duration": 9,
    "start_time": "2022-08-09T18:34:57.014Z"
   },
   {
    "duration": 27,
    "start_time": "2022-08-09T18:34:57.025Z"
   },
   {
    "duration": 85,
    "start_time": "2022-08-09T18:34:57.055Z"
   },
   {
    "duration": 23,
    "start_time": "2022-08-09T18:34:57.142Z"
   },
   {
    "duration": 5,
    "start_time": "2022-08-09T18:34:57.167Z"
   },
   {
    "duration": 246,
    "start_time": "2022-08-09T18:34:57.174Z"
   },
   {
    "duration": 203,
    "start_time": "2022-08-09T18:34:57.422Z"
   },
   {
    "duration": 194,
    "start_time": "2022-08-09T18:34:57.627Z"
   },
   {
    "duration": 9,
    "start_time": "2022-08-09T18:34:57.823Z"
   },
   {
    "duration": 213,
    "start_time": "2022-08-09T18:34:57.834Z"
   },
   {
    "duration": 61,
    "start_time": "2022-08-09T18:34:58.049Z"
   },
   {
    "duration": 45,
    "start_time": "2022-08-09T18:34:58.112Z"
   },
   {
    "duration": 190,
    "start_time": "2022-08-09T18:34:58.159Z"
   },
   {
    "duration": 26,
    "start_time": "2022-08-09T18:34:58.351Z"
   },
   {
    "duration": 26,
    "start_time": "2022-08-09T18:35:28.458Z"
   },
   {
    "duration": 17,
    "start_time": "2022-08-09T18:36:30.568Z"
   },
   {
    "duration": 8,
    "start_time": "2022-08-09T18:36:53.073Z"
   },
   {
    "duration": 7,
    "start_time": "2022-08-09T18:51:50.897Z"
   },
   {
    "duration": 13,
    "start_time": "2022-08-09T18:52:14.905Z"
   },
   {
    "duration": 7,
    "start_time": "2022-08-09T18:56:02.046Z"
   },
   {
    "duration": 6,
    "start_time": "2022-08-09T18:56:19.692Z"
   },
   {
    "duration": 112,
    "start_time": "2022-08-09T18:58:11.318Z"
   },
   {
    "duration": 107,
    "start_time": "2022-08-09T18:58:30.565Z"
   },
   {
    "duration": 114,
    "start_time": "2022-08-09T18:59:19.470Z"
   },
   {
    "duration": 108,
    "start_time": "2022-08-09T19:00:12.642Z"
   },
   {
    "duration": 428,
    "start_time": "2022-08-09T19:05:38.865Z"
   },
   {
    "duration": 10,
    "start_time": "2022-08-09T19:05:50.224Z"
   },
   {
    "duration": 299,
    "start_time": "2022-08-09T19:05:57.850Z"
   },
   {
    "duration": 3,
    "start_time": "2022-08-09T19:10:23.519Z"
   },
   {
    "duration": 10,
    "start_time": "2022-08-09T19:23:13.273Z"
   },
   {
    "duration": 254,
    "start_time": "2022-08-09T19:23:31.737Z"
   },
   {
    "duration": 119,
    "start_time": "2022-08-09T19:24:43.946Z"
   },
   {
    "duration": 129,
    "start_time": "2022-08-09T19:24:53.289Z"
   },
   {
    "duration": 109,
    "start_time": "2022-08-09T19:25:10.865Z"
   },
   {
    "duration": 138,
    "start_time": "2022-08-09T19:25:22.673Z"
   },
   {
    "duration": 123,
    "start_time": "2022-08-09T19:25:36.370Z"
   },
   {
    "duration": 114,
    "start_time": "2022-08-09T19:27:26.638Z"
   },
   {
    "duration": 203,
    "start_time": "2022-08-09T19:27:41.389Z"
   },
   {
    "duration": 108,
    "start_time": "2022-08-09T19:31:35.966Z"
   },
   {
    "duration": 16,
    "start_time": "2022-08-09T19:33:13.587Z"
   },
   {
    "duration": 258,
    "start_time": "2022-08-09T19:33:44.037Z"
   },
   {
    "duration": 119,
    "start_time": "2022-08-09T19:34:04.950Z"
   },
   {
    "duration": 23,
    "start_time": "2022-08-09T19:35:06.368Z"
   },
   {
    "duration": 321,
    "start_time": "2022-08-09T19:41:23.421Z"
   },
   {
    "duration": 324,
    "start_time": "2022-08-09T19:42:09.918Z"
   },
   {
    "duration": 1517,
    "start_time": "2022-08-09T19:50:03.089Z"
   },
   {
    "duration": 12,
    "start_time": "2022-08-09T19:50:47.332Z"
   },
   {
    "duration": 8,
    "start_time": "2022-08-09T19:50:51.635Z"
   },
   {
    "duration": 804,
    "start_time": "2022-08-09T19:51:07.777Z"
   },
   {
    "duration": 12,
    "start_time": "2022-08-09T19:51:24.025Z"
   },
   {
    "duration": 330,
    "start_time": "2022-08-09T19:51:40.100Z"
   },
   {
    "duration": 22,
    "start_time": "2022-08-09T19:52:51.364Z"
   },
   {
    "duration": 10,
    "start_time": "2022-08-09T19:57:02.999Z"
   },
   {
    "duration": 8,
    "start_time": "2022-08-09T19:57:28.054Z"
   },
   {
    "duration": 19,
    "start_time": "2022-08-09T19:57:55.619Z"
   },
   {
    "duration": 13,
    "start_time": "2022-08-09T20:01:19.948Z"
   },
   {
    "duration": 5,
    "start_time": "2022-08-09T20:02:00.911Z"
   },
   {
    "duration": 1728,
    "start_time": "2022-08-09T20:02:26.273Z"
   },
   {
    "duration": 1457,
    "start_time": "2022-08-09T20:02:34.613Z"
   },
   {
    "duration": 5,
    "start_time": "2022-08-09T20:03:06.073Z"
   },
   {
    "duration": 869,
    "start_time": "2022-08-09T20:05:20.138Z"
   },
   {
    "duration": 972,
    "start_time": "2022-08-09T20:06:01.641Z"
   },
   {
    "duration": 792,
    "start_time": "2022-08-10T18:24:16.614Z"
   },
   {
    "duration": 177,
    "start_time": "2022-08-10T18:24:17.408Z"
   },
   {
    "duration": 28,
    "start_time": "2022-08-10T18:24:17.587Z"
   },
   {
    "duration": 26,
    "start_time": "2022-08-10T18:24:17.617Z"
   },
   {
    "duration": 49,
    "start_time": "2022-08-10T18:24:17.645Z"
   },
   {
    "duration": 30,
    "start_time": "2022-08-10T18:24:17.696Z"
   },
   {
    "duration": 39,
    "start_time": "2022-08-10T18:24:17.728Z"
   },
   {
    "duration": 18,
    "start_time": "2022-08-10T18:24:17.769Z"
   },
   {
    "duration": 3,
    "start_time": "2022-08-10T18:24:17.789Z"
   },
   {
    "duration": 14,
    "start_time": "2022-08-10T18:24:17.794Z"
   },
   {
    "duration": 19,
    "start_time": "2022-08-10T18:24:17.809Z"
   },
   {
    "duration": 57,
    "start_time": "2022-08-10T18:24:17.829Z"
   },
   {
    "duration": 27,
    "start_time": "2022-08-10T18:24:17.889Z"
   },
   {
    "duration": 7,
    "start_time": "2022-08-10T18:24:17.918Z"
   },
   {
    "duration": 6,
    "start_time": "2022-08-10T18:24:17.927Z"
   },
   {
    "duration": 12,
    "start_time": "2022-08-10T18:24:17.935Z"
   },
   {
    "duration": 46,
    "start_time": "2022-08-10T18:24:17.949Z"
   },
   {
    "duration": 13,
    "start_time": "2022-08-10T18:24:17.998Z"
   },
   {
    "duration": 18,
    "start_time": "2022-08-10T18:24:18.012Z"
   },
   {
    "duration": 27,
    "start_time": "2022-08-10T18:24:18.032Z"
   },
   {
    "duration": 36,
    "start_time": "2022-08-10T18:24:18.060Z"
   },
   {
    "duration": 6,
    "start_time": "2022-08-10T18:24:18.098Z"
   },
   {
    "duration": 222,
    "start_time": "2022-08-10T18:24:18.105Z"
   },
   {
    "duration": 188,
    "start_time": "2022-08-10T18:24:18.328Z"
   },
   {
    "duration": 178,
    "start_time": "2022-08-10T18:24:18.518Z"
   },
   {
    "duration": 181,
    "start_time": "2022-08-10T18:24:18.698Z"
   },
   {
    "duration": 239,
    "start_time": "2022-08-10T18:24:18.886Z"
   },
   {
    "duration": 3,
    "start_time": "2022-08-10T18:24:19.129Z"
   },
   {
    "duration": 11,
    "start_time": "2022-08-10T18:24:19.133Z"
   },
   {
    "duration": 9,
    "start_time": "2022-08-10T18:24:19.145Z"
   },
   {
    "duration": 35,
    "start_time": "2022-08-10T18:24:19.155Z"
   },
   {
    "duration": 7,
    "start_time": "2022-08-10T18:24:19.192Z"
   },
   {
    "duration": 9,
    "start_time": "2022-08-10T18:24:19.201Z"
   },
   {
    "duration": 8,
    "start_time": "2022-08-10T18:24:19.212Z"
   },
   {
    "duration": 11,
    "start_time": "2022-08-10T18:24:19.221Z"
   },
   {
    "duration": 102,
    "start_time": "2022-08-10T18:24:19.234Z"
   },
   {
    "duration": 18,
    "start_time": "2022-08-10T18:24:19.338Z"
   },
   {
    "duration": 5,
    "start_time": "2022-08-10T18:24:19.358Z"
   },
   {
    "duration": 199,
    "start_time": "2022-08-10T18:24:19.364Z"
   },
   {
    "duration": 176,
    "start_time": "2022-08-10T18:24:19.564Z"
   },
   {
    "duration": 165,
    "start_time": "2022-08-10T18:24:19.742Z"
   },
   {
    "duration": 8,
    "start_time": "2022-08-10T18:24:19.909Z"
   },
   {
    "duration": 185,
    "start_time": "2022-08-10T18:24:19.918Z"
   },
   {
    "duration": 41,
    "start_time": "2022-08-10T18:24:20.105Z"
   },
   {
    "duration": 51,
    "start_time": "2022-08-10T18:24:20.147Z"
   },
   {
    "duration": 147,
    "start_time": "2022-08-10T18:24:20.200Z"
   },
   {
    "duration": 24,
    "start_time": "2022-08-10T18:24:20.348Z"
   },
   {
    "duration": 24,
    "start_time": "2022-08-10T18:24:20.374Z"
   },
   {
    "duration": 2,
    "start_time": "2022-08-10T18:24:20.400Z"
   },
   {
    "duration": 4,
    "start_time": "2022-08-10T18:24:20.404Z"
   },
   {
    "duration": 24,
    "start_time": "2022-08-10T18:24:20.410Z"
   },
   {
    "duration": 4,
    "start_time": "2022-08-10T18:31:35.346Z"
   },
   {
    "duration": 143,
    "start_time": "2022-08-10T18:31:50.388Z"
   },
   {
    "duration": 543,
    "start_time": "2022-08-10T18:32:57.265Z"
   },
   {
    "duration": 3,
    "start_time": "2022-08-10T18:34:05.526Z"
   },
   {
    "duration": 781,
    "start_time": "2022-08-10T18:34:08.886Z"
   },
   {
    "duration": 3,
    "start_time": "2022-08-10T18:34:26.231Z"
   },
   {
    "duration": 3,
    "start_time": "2022-08-10T18:34:39.739Z"
   },
   {
    "duration": 136,
    "start_time": "2022-08-10T18:37:17.439Z"
   },
   {
    "duration": 3,
    "start_time": "2022-08-10T18:45:10.695Z"
   },
   {
    "duration": 123,
    "start_time": "2022-08-10T18:47:24.691Z"
   },
   {
    "duration": 137,
    "start_time": "2022-08-10T18:52:07.215Z"
   },
   {
    "duration": 271,
    "start_time": "2022-08-10T18:52:59.660Z"
   },
   {
    "duration": 3,
    "start_time": "2022-08-10T18:56:44.582Z"
   },
   {
    "duration": 121,
    "start_time": "2022-08-10T18:56:48.020Z"
   },
   {
    "duration": 226,
    "start_time": "2022-08-10T18:57:20.342Z"
   },
   {
    "duration": 51,
    "start_time": "2022-08-10T19:21:18.267Z"
   },
   {
    "duration": 53,
    "start_time": "2022-08-10T19:21:57.519Z"
   },
   {
    "duration": 3,
    "start_time": "2022-08-10T19:22:04.905Z"
   },
   {
    "duration": 85,
    "start_time": "2022-08-10T19:22:17.260Z"
   },
   {
    "duration": 4,
    "start_time": "2022-08-10T19:22:36.027Z"
   },
   {
    "duration": 254,
    "start_time": "2022-08-10T19:22:46.229Z"
   },
   {
    "duration": 246,
    "start_time": "2022-08-10T19:23:07.485Z"
   },
   {
    "duration": 111,
    "start_time": "2022-08-10T19:23:31.231Z"
   },
   {
    "duration": 217,
    "start_time": "2022-08-10T19:23:53.431Z"
   },
   {
    "duration": 220,
    "start_time": "2022-08-10T19:24:01.380Z"
   },
   {
    "duration": 11,
    "start_time": "2022-08-10T19:45:29.963Z"
   },
   {
    "duration": 703,
    "start_time": "2022-08-10T19:46:53.715Z"
   },
   {
    "duration": 775,
    "start_time": "2022-08-10T19:48:40.683Z"
   },
   {
    "duration": 905,
    "start_time": "2022-08-10T19:54:03.591Z"
   },
   {
    "duration": 1107,
    "start_time": "2022-08-10T19:57:34.990Z"
   },
   {
    "duration": 1246,
    "start_time": "2022-08-10T20:02:33.567Z"
   },
   {
    "duration": 1124,
    "start_time": "2022-08-10T20:03:46.964Z"
   },
   {
    "duration": 1429,
    "start_time": "2022-08-10T20:04:05.419Z"
   },
   {
    "duration": 1408,
    "start_time": "2022-08-11T18:12:17.532Z"
   },
   {
    "duration": 441,
    "start_time": "2022-08-11T18:12:18.942Z"
   },
   {
    "duration": 29,
    "start_time": "2022-08-11T18:12:19.385Z"
   },
   {
    "duration": 25,
    "start_time": "2022-08-11T18:12:19.417Z"
   },
   {
    "duration": 56,
    "start_time": "2022-08-11T18:12:19.444Z"
   },
   {
    "duration": 35,
    "start_time": "2022-08-11T18:12:19.502Z"
   },
   {
    "duration": 65,
    "start_time": "2022-08-11T18:12:19.539Z"
   },
   {
    "duration": 6,
    "start_time": "2022-08-11T18:12:19.606Z"
   },
   {
    "duration": 7,
    "start_time": "2022-08-11T18:12:19.614Z"
   },
   {
    "duration": 8,
    "start_time": "2022-08-11T18:12:19.624Z"
   },
   {
    "duration": 6,
    "start_time": "2022-08-11T18:12:19.634Z"
   },
   {
    "duration": 71,
    "start_time": "2022-08-11T18:12:19.643Z"
   },
   {
    "duration": 22,
    "start_time": "2022-08-11T18:12:19.716Z"
   },
   {
    "duration": 6,
    "start_time": "2022-08-11T18:12:19.740Z"
   },
   {
    "duration": 6,
    "start_time": "2022-08-11T18:12:19.748Z"
   },
   {
    "duration": 19,
    "start_time": "2022-08-11T18:12:19.756Z"
   },
   {
    "duration": 32,
    "start_time": "2022-08-11T18:12:19.777Z"
   },
   {
    "duration": 10,
    "start_time": "2022-08-11T18:12:19.810Z"
   },
   {
    "duration": 16,
    "start_time": "2022-08-11T18:12:19.822Z"
   },
   {
    "duration": 31,
    "start_time": "2022-08-11T18:12:19.840Z"
   },
   {
    "duration": 19,
    "start_time": "2022-08-11T18:12:19.891Z"
   },
   {
    "duration": 11,
    "start_time": "2022-08-11T18:12:19.912Z"
   },
   {
    "duration": 253,
    "start_time": "2022-08-11T18:12:19.925Z"
   },
   {
    "duration": 212,
    "start_time": "2022-08-11T18:12:20.180Z"
   },
   {
    "duration": 198,
    "start_time": "2022-08-11T18:12:20.394Z"
   },
   {
    "duration": 204,
    "start_time": "2022-08-11T18:12:20.594Z"
   },
   {
    "duration": 216,
    "start_time": "2022-08-11T18:12:20.800Z"
   },
   {
    "duration": 3,
    "start_time": "2022-08-11T18:12:21.020Z"
   },
   {
    "duration": 12,
    "start_time": "2022-08-11T18:12:21.025Z"
   },
   {
    "duration": 17,
    "start_time": "2022-08-11T18:12:21.039Z"
   },
   {
    "duration": 37,
    "start_time": "2022-08-11T18:12:21.058Z"
   },
   {
    "duration": 9,
    "start_time": "2022-08-11T18:12:21.097Z"
   },
   {
    "duration": 16,
    "start_time": "2022-08-11T18:12:21.108Z"
   },
   {
    "duration": 8,
    "start_time": "2022-08-11T18:12:21.126Z"
   },
   {
    "duration": 15,
    "start_time": "2022-08-11T18:12:21.136Z"
   },
   {
    "duration": 94,
    "start_time": "2022-08-11T18:12:21.153Z"
   },
   {
    "duration": 22,
    "start_time": "2022-08-11T18:12:21.249Z"
   },
   {
    "duration": 19,
    "start_time": "2022-08-11T18:12:21.274Z"
   },
   {
    "duration": 219,
    "start_time": "2022-08-11T18:12:21.296Z"
   },
   {
    "duration": 202,
    "start_time": "2022-08-11T18:12:21.517Z"
   },
   {
    "duration": 249,
    "start_time": "2022-08-11T18:12:21.721Z"
   },
   {
    "duration": 29,
    "start_time": "2022-08-11T18:12:21.972Z"
   },
   {
    "duration": 312,
    "start_time": "2022-08-11T18:12:22.003Z"
   },
   {
    "duration": 46,
    "start_time": "2022-08-11T18:12:22.317Z"
   },
   {
    "duration": 58,
    "start_time": "2022-08-11T18:12:22.365Z"
   },
   {
    "duration": 169,
    "start_time": "2022-08-11T18:12:22.425Z"
   },
   {
    "duration": 27,
    "start_time": "2022-08-11T18:12:22.595Z"
   },
   {
    "duration": 13,
    "start_time": "2022-08-11T18:12:22.623Z"
   },
   {
    "duration": 4,
    "start_time": "2022-08-11T18:12:22.637Z"
   },
   {
    "duration": 166,
    "start_time": "2022-08-11T18:12:22.642Z"
   },
   {
    "duration": 268,
    "start_time": "2022-08-11T18:12:22.810Z"
   },
   {
    "duration": 147,
    "start_time": "2022-08-11T18:12:23.080Z"
   },
   {
    "duration": 266,
    "start_time": "2022-08-11T18:12:23.229Z"
   },
   {
    "duration": 1393,
    "start_time": "2022-08-11T18:12:23.498Z"
   },
   {
    "duration": 111,
    "start_time": "2022-08-11T18:13:33.733Z"
   },
   {
    "duration": 1264,
    "start_time": "2022-08-11T18:13:43.824Z"
   },
   {
    "duration": 1403,
    "start_time": "2022-08-11T18:14:05.191Z"
   },
   {
    "duration": 1329,
    "start_time": "2022-08-11T18:14:18.976Z"
   },
   {
    "duration": 1438,
    "start_time": "2022-08-11T18:14:46.280Z"
   },
   {
    "duration": 1298,
    "start_time": "2022-08-11T18:15:02.360Z"
   },
   {
    "duration": 1454,
    "start_time": "2022-08-11T18:16:36.522Z"
   },
   {
    "duration": 1298,
    "start_time": "2022-08-11T18:16:47.880Z"
   },
   {
    "duration": 5,
    "start_time": "2022-08-11T18:48:51.973Z"
   },
   {
    "duration": 11,
    "start_time": "2022-08-11T18:49:40.326Z"
   },
   {
    "duration": 5,
    "start_time": "2022-08-11T18:50:07.414Z"
   },
   {
    "duration": 6,
    "start_time": "2022-08-11T18:50:19.045Z"
   },
   {
    "duration": 5,
    "start_time": "2022-08-11T18:50:28.768Z"
   },
   {
    "duration": 7,
    "start_time": "2022-08-11T18:55:07.685Z"
   },
   {
    "duration": 7,
    "start_time": "2022-08-11T18:56:54.029Z"
   },
   {
    "duration": 11,
    "start_time": "2022-08-11T18:57:01.866Z"
   },
   {
    "duration": 81,
    "start_time": "2022-08-11T19:02:50.232Z"
   },
   {
    "duration": 8,
    "start_time": "2022-08-11T19:03:07.992Z"
   },
   {
    "duration": 13,
    "start_time": "2022-08-11T19:03:11.963Z"
   },
   {
    "duration": 4,
    "start_time": "2022-08-11T19:03:24.704Z"
   },
   {
    "duration": 14,
    "start_time": "2022-08-11T19:03:27.142Z"
   },
   {
    "duration": 14,
    "start_time": "2022-08-11T19:04:48.873Z"
   },
   {
    "duration": 15,
    "start_time": "2022-08-11T19:05:13.545Z"
   },
   {
    "duration": 4,
    "start_time": "2022-08-11T19:06:39.746Z"
   },
   {
    "duration": 12,
    "start_time": "2022-08-11T19:06:42.110Z"
   },
   {
    "duration": 124,
    "start_time": "2022-08-11T19:10:43.304Z"
   },
   {
    "duration": 4,
    "start_time": "2022-08-11T19:11:39.850Z"
   },
   {
    "duration": 15,
    "start_time": "2022-08-11T19:11:43.305Z"
   },
   {
    "duration": 21,
    "start_time": "2022-08-11T19:12:19.188Z"
   },
   {
    "duration": 16,
    "start_time": "2022-08-11T19:12:44.680Z"
   },
   {
    "duration": 4,
    "start_time": "2022-08-11T19:12:56.307Z"
   },
   {
    "duration": 14,
    "start_time": "2022-08-11T19:13:00.955Z"
   },
   {
    "duration": 17,
    "start_time": "2022-08-11T19:13:05.882Z"
   },
   {
    "duration": 18,
    "start_time": "2022-08-11T19:13:20.438Z"
   },
   {
    "duration": 5,
    "start_time": "2022-08-11T19:13:54.844Z"
   },
   {
    "duration": 14,
    "start_time": "2022-08-11T19:13:59.037Z"
   },
   {
    "duration": 4,
    "start_time": "2022-08-11T19:19:46.472Z"
   },
   {
    "duration": 4,
    "start_time": "2022-08-11T19:35:18.133Z"
   },
   {
    "duration": 13,
    "start_time": "2022-08-11T19:35:21.204Z"
   },
   {
    "duration": 19,
    "start_time": "2022-08-11T19:35:27.574Z"
   },
   {
    "duration": 19,
    "start_time": "2022-08-11T19:35:34.692Z"
   },
   {
    "duration": 23,
    "start_time": "2022-08-11T19:36:24.780Z"
   },
   {
    "duration": 21,
    "start_time": "2022-08-11T19:36:30.085Z"
   },
   {
    "duration": 18,
    "start_time": "2022-08-11T19:36:38.028Z"
   },
   {
    "duration": 19,
    "start_time": "2022-08-11T19:36:47.268Z"
   },
   {
    "duration": 18,
    "start_time": "2022-08-11T19:36:55.427Z"
   },
   {
    "duration": 18,
    "start_time": "2022-08-11T19:37:08.928Z"
   },
   {
    "duration": 17,
    "start_time": "2022-08-11T19:37:25.255Z"
   },
   {
    "duration": 68,
    "start_time": "2022-08-11T19:47:38.707Z"
   },
   {
    "duration": 21,
    "start_time": "2022-08-11T19:47:46.922Z"
   },
   {
    "duration": 4,
    "start_time": "2022-08-11T19:47:58.864Z"
   },
   {
    "duration": 217,
    "start_time": "2022-08-11T19:48:21.205Z"
   },
   {
    "duration": 220,
    "start_time": "2022-08-11T19:48:31.707Z"
   },
   {
    "duration": 3,
    "start_time": "2022-08-11T19:49:20.508Z"
   },
   {
    "duration": 231,
    "start_time": "2022-08-11T19:49:22.342Z"
   },
   {
    "duration": 4,
    "start_time": "2022-08-11T19:49:27.770Z"
   },
   {
    "duration": 272,
    "start_time": "2022-08-11T19:49:29.374Z"
   },
   {
    "duration": 418,
    "start_time": "2022-08-11T19:49:34.539Z"
   },
   {
    "duration": 255,
    "start_time": "2022-08-11T19:49:38.865Z"
   },
   {
    "duration": 238,
    "start_time": "2022-08-11T19:49:42.275Z"
   },
   {
    "duration": 219,
    "start_time": "2022-08-11T19:49:44.526Z"
   },
   {
    "duration": 3,
    "start_time": "2022-08-11T19:50:18.690Z"
   },
   {
    "duration": 200,
    "start_time": "2022-08-11T19:50:21.129Z"
   },
   {
    "duration": 3,
    "start_time": "2022-08-11T19:50:26.762Z"
   },
   {
    "duration": 250,
    "start_time": "2022-08-11T19:50:28.704Z"
   },
   {
    "duration": 3,
    "start_time": "2022-08-11T19:51:19.326Z"
   },
   {
    "duration": 231,
    "start_time": "2022-08-11T19:51:22.483Z"
   },
   {
    "duration": 6,
    "start_time": "2022-08-11T19:52:09.000Z"
   },
   {
    "duration": 252,
    "start_time": "2022-08-11T19:52:10.387Z"
   },
   {
    "duration": 211,
    "start_time": "2022-08-11T19:52:13.212Z"
   },
   {
    "duration": 5,
    "start_time": "2022-08-11T19:52:20.325Z"
   },
   {
    "duration": 232,
    "start_time": "2022-08-11T19:52:23.174Z"
   },
   {
    "duration": 229,
    "start_time": "2022-08-11T19:52:26.820Z"
   },
   {
    "duration": 4,
    "start_time": "2022-08-11T19:52:42.542Z"
   },
   {
    "duration": 188,
    "start_time": "2022-08-11T19:52:46.375Z"
   },
   {
    "duration": 179,
    "start_time": "2022-08-11T19:52:51.055Z"
   },
   {
    "duration": 4,
    "start_time": "2022-08-11T19:53:00.621Z"
   },
   {
    "duration": 232,
    "start_time": "2022-08-11T19:53:02.807Z"
   },
   {
    "duration": 245,
    "start_time": "2022-08-11T19:53:05.835Z"
   },
   {
    "duration": 3,
    "start_time": "2022-08-11T19:53:12.631Z"
   },
   {
    "duration": 246,
    "start_time": "2022-08-11T19:53:14.769Z"
   },
   {
    "duration": 207,
    "start_time": "2022-08-11T19:53:19.616Z"
   },
   {
    "duration": 5,
    "start_time": "2022-08-11T19:53:39.321Z"
   },
   {
    "duration": 370,
    "start_time": "2022-08-11T19:53:41.830Z"
   },
   {
    "duration": 7,
    "start_time": "2022-08-11T19:53:46.601Z"
   },
   {
    "duration": 259,
    "start_time": "2022-08-11T19:53:48.506Z"
   },
   {
    "duration": 4,
    "start_time": "2022-08-11T19:53:56.486Z"
   },
   {
    "duration": 502,
    "start_time": "2022-08-11T19:53:58.812Z"
   },
   {
    "duration": 235,
    "start_time": "2022-08-11T19:54:01.602Z"
   },
   {
    "duration": 202,
    "start_time": "2022-08-11T19:54:08.910Z"
   },
   {
    "duration": 4,
    "start_time": "2022-08-11T19:54:33.927Z"
   },
   {
    "duration": 225,
    "start_time": "2022-08-11T19:54:35.703Z"
   },
   {
    "duration": 3,
    "start_time": "2022-08-11T19:54:45.917Z"
   },
   {
    "duration": 269,
    "start_time": "2022-08-11T19:54:47.281Z"
   },
   {
    "duration": 292,
    "start_time": "2022-08-11T19:54:50.415Z"
   },
   {
    "duration": 273,
    "start_time": "2022-08-11T19:54:53.258Z"
   },
   {
    "duration": 298,
    "start_time": "2022-08-11T19:54:55.138Z"
   },
   {
    "duration": 233,
    "start_time": "2022-08-11T19:54:57.516Z"
   },
   {
    "duration": 11,
    "start_time": "2022-08-11T19:55:15.431Z"
   },
   {
    "duration": 4,
    "start_time": "2022-08-11T20:00:40.902Z"
   },
   {
    "duration": 253,
    "start_time": "2022-08-11T20:00:47.702Z"
   },
   {
    "duration": 185,
    "start_time": "2022-08-11T20:01:00.178Z"
   },
   {
    "duration": 219,
    "start_time": "2022-08-11T20:01:06.250Z"
   },
   {
    "duration": 274,
    "start_time": "2022-08-11T20:01:11.233Z"
   },
   {
    "duration": 224,
    "start_time": "2022-08-11T20:05:31.887Z"
   },
   {
    "duration": 10,
    "start_time": "2022-08-11T20:05:40.836Z"
   },
   {
    "duration": 170,
    "start_time": "2022-08-11T20:05:53.636Z"
   },
   {
    "duration": 179,
    "start_time": "2022-08-11T20:06:05.615Z"
   },
   {
    "duration": 184,
    "start_time": "2022-08-11T20:06:14.764Z"
   },
   {
    "duration": 170,
    "start_time": "2022-08-11T20:06:19.259Z"
   },
   {
    "duration": 170,
    "start_time": "2022-08-11T20:06:24.022Z"
   },
   {
    "duration": 182,
    "start_time": "2022-08-11T20:06:28.054Z"
   },
   {
    "duration": 447,
    "start_time": "2022-08-11T20:06:46.180Z"
   },
   {
    "duration": 180,
    "start_time": "2022-08-11T20:06:50.500Z"
   },
   {
    "duration": 184,
    "start_time": "2022-08-11T20:06:57.781Z"
   },
   {
    "duration": 293,
    "start_time": "2022-08-11T20:07:21.852Z"
   },
   {
    "duration": 193,
    "start_time": "2022-08-11T20:08:27.902Z"
   },
   {
    "duration": 198,
    "start_time": "2022-08-11T20:08:35.292Z"
   },
   {
    "duration": 203,
    "start_time": "2022-08-11T20:08:39.312Z"
   },
   {
    "duration": 21,
    "start_time": "2022-08-11T20:09:19.306Z"
   },
   {
    "duration": 3,
    "start_time": "2022-08-11T20:09:24.618Z"
   },
   {
    "duration": 154,
    "start_time": "2022-08-11T20:09:27.994Z"
   },
   {
    "duration": 269,
    "start_time": "2022-08-11T20:09:43.017Z"
   },
   {
    "duration": 173,
    "start_time": "2022-08-11T20:09:51.723Z"
   },
   {
    "duration": 262,
    "start_time": "2022-08-11T20:10:00.720Z"
   },
   {
    "duration": 1377,
    "start_time": "2022-08-11T20:10:16.969Z"
   },
   {
    "duration": 1663,
    "start_time": "2022-08-11T20:10:25.641Z"
   },
   {
    "duration": 1157,
    "start_time": "2022-08-12T12:23:11.582Z"
   },
   {
    "duration": 386,
    "start_time": "2022-08-12T12:23:12.741Z"
   },
   {
    "duration": 20,
    "start_time": "2022-08-12T12:23:13.129Z"
   },
   {
    "duration": 17,
    "start_time": "2022-08-12T12:23:13.151Z"
   },
   {
    "duration": 29,
    "start_time": "2022-08-12T12:23:13.170Z"
   },
   {
    "duration": 27,
    "start_time": "2022-08-12T12:23:13.201Z"
   },
   {
    "duration": 54,
    "start_time": "2022-08-12T12:23:13.230Z"
   },
   {
    "duration": 4,
    "start_time": "2022-08-12T12:23:13.285Z"
   },
   {
    "duration": 30,
    "start_time": "2022-08-12T12:23:13.290Z"
   },
   {
    "duration": 20,
    "start_time": "2022-08-12T12:23:13.322Z"
   },
   {
    "duration": 5,
    "start_time": "2022-08-12T12:23:13.344Z"
   },
   {
    "duration": 33,
    "start_time": "2022-08-12T12:23:13.350Z"
   },
   {
    "duration": 19,
    "start_time": "2022-08-12T12:23:13.384Z"
   },
   {
    "duration": 5,
    "start_time": "2022-08-12T12:23:13.404Z"
   },
   {
    "duration": 25,
    "start_time": "2022-08-12T12:23:13.412Z"
   },
   {
    "duration": 13,
    "start_time": "2022-08-12T12:23:13.438Z"
   },
   {
    "duration": 16,
    "start_time": "2022-08-12T12:23:13.453Z"
   },
   {
    "duration": 8,
    "start_time": "2022-08-12T12:23:13.470Z"
   },
   {
    "duration": 11,
    "start_time": "2022-08-12T12:23:13.480Z"
   },
   {
    "duration": 25,
    "start_time": "2022-08-12T12:23:13.492Z"
   },
   {
    "duration": 15,
    "start_time": "2022-08-12T12:23:13.518Z"
   },
   {
    "duration": 23,
    "start_time": "2022-08-12T12:23:13.534Z"
   },
   {
    "duration": 211,
    "start_time": "2022-08-12T12:23:13.558Z"
   },
   {
    "duration": 185,
    "start_time": "2022-08-12T12:23:13.771Z"
   },
   {
    "duration": 183,
    "start_time": "2022-08-12T12:23:13.957Z"
   },
   {
    "duration": 192,
    "start_time": "2022-08-12T12:23:14.142Z"
   },
   {
    "duration": 195,
    "start_time": "2022-08-12T12:23:14.335Z"
   },
   {
    "duration": 3,
    "start_time": "2022-08-12T12:23:14.534Z"
   },
   {
    "duration": 27,
    "start_time": "2022-08-12T12:23:14.539Z"
   },
   {
    "duration": 12,
    "start_time": "2022-08-12T12:23:14.567Z"
   },
   {
    "duration": 15,
    "start_time": "2022-08-12T12:23:14.581Z"
   },
   {
    "duration": 87,
    "start_time": "2022-08-12T12:23:14.597Z"
   },
   {
    "duration": 17,
    "start_time": "2022-08-12T12:23:14.685Z"
   },
   {
    "duration": 4,
    "start_time": "2022-08-12T12:23:14.703Z"
   },
   {
    "duration": 160,
    "start_time": "2022-08-12T12:23:14.709Z"
   },
   {
    "duration": 224,
    "start_time": "2022-08-12T12:23:14.871Z"
   },
   {
    "duration": 150,
    "start_time": "2022-08-12T12:23:15.096Z"
   },
   {
    "duration": 12,
    "start_time": "2022-08-12T12:23:15.247Z"
   },
   {
    "duration": 150,
    "start_time": "2022-08-12T12:23:15.260Z"
   },
   {
    "duration": 45,
    "start_time": "2022-08-12T12:23:15.411Z"
   },
   {
    "duration": 37,
    "start_time": "2022-08-12T12:23:15.457Z"
   },
   {
    "duration": 140,
    "start_time": "2022-08-12T12:23:15.495Z"
   },
   {
    "duration": 31,
    "start_time": "2022-08-12T12:23:15.636Z"
   },
   {
    "duration": 10,
    "start_time": "2022-08-12T12:23:15.669Z"
   },
   {
    "duration": 3,
    "start_time": "2022-08-12T12:23:15.680Z"
   },
   {
    "duration": 121,
    "start_time": "2022-08-12T12:23:15.685Z"
   },
   {
    "duration": 213,
    "start_time": "2022-08-12T12:23:15.808Z"
   },
   {
    "duration": 114,
    "start_time": "2022-08-12T12:23:16.022Z"
   },
   {
    "duration": 212,
    "start_time": "2022-08-12T12:23:16.137Z"
   },
   {
    "duration": 1191,
    "start_time": "2022-08-12T12:23:16.354Z"
   },
   {
    "duration": 1027,
    "start_time": "2022-08-12T12:23:17.549Z"
   },
   {
    "duration": 16,
    "start_time": "2022-08-12T12:48:18.685Z"
   },
   {
    "duration": 15,
    "start_time": "2022-08-12T12:48:59.902Z"
   },
   {
    "duration": 14,
    "start_time": "2022-08-12T12:49:11.387Z"
   },
   {
    "duration": 15,
    "start_time": "2022-08-12T12:49:34.448Z"
   },
   {
    "duration": 30,
    "start_time": "2022-08-12T12:54:03.042Z"
   },
   {
    "duration": 36,
    "start_time": "2022-08-12T12:54:15.531Z"
   },
   {
    "duration": 5,
    "start_time": "2022-08-12T13:37:03.928Z"
   },
   {
    "duration": 93,
    "start_time": "2022-08-12T13:55:03.275Z"
   },
   {
    "duration": 10,
    "start_time": "2022-08-12T13:56:12.657Z"
   },
   {
    "duration": 7,
    "start_time": "2022-08-12T13:57:24.008Z"
   },
   {
    "duration": 6,
    "start_time": "2022-08-12T14:05:49.907Z"
   },
   {
    "duration": 5,
    "start_time": "2022-08-12T14:06:04.735Z"
   },
   {
    "duration": 6,
    "start_time": "2022-08-12T14:06:32.186Z"
   },
   {
    "duration": 15,
    "start_time": "2022-08-12T14:07:48.915Z"
   },
   {
    "duration": 218,
    "start_time": "2022-08-12T14:34:43.437Z"
   },
   {
    "duration": 163,
    "start_time": "2022-08-12T14:34:57.232Z"
   },
   {
    "duration": 185,
    "start_time": "2022-08-12T14:35:39.262Z"
   },
   {
    "duration": 180,
    "start_time": "2022-08-12T14:35:44.471Z"
   },
   {
    "duration": 71,
    "start_time": "2022-08-12T15:23:43.252Z"
   },
   {
    "duration": 11,
    "start_time": "2022-08-12T15:25:06.122Z"
   },
   {
    "duration": 6,
    "start_time": "2022-08-12T15:34:06.239Z"
   },
   {
    "duration": 28,
    "start_time": "2022-08-12T15:40:42.005Z"
   },
   {
    "duration": 46,
    "start_time": "2022-08-12T15:41:06.750Z"
   },
   {
    "duration": 36,
    "start_time": "2022-08-12T15:41:25.283Z"
   },
   {
    "duration": 70,
    "start_time": "2022-08-12T15:42:05.326Z"
   },
   {
    "duration": 26,
    "start_time": "2022-08-12T15:50:16.756Z"
   },
   {
    "duration": 135,
    "start_time": "2022-08-12T15:50:43.060Z"
   },
   {
    "duration": 3,
    "start_time": "2022-08-12T15:51:23.279Z"
   },
   {
    "duration": 92,
    "start_time": "2022-08-12T15:51:23.283Z"
   },
   {
    "duration": 18,
    "start_time": "2022-08-12T15:51:23.377Z"
   },
   {
    "duration": 12,
    "start_time": "2022-08-12T15:51:23.397Z"
   },
   {
    "duration": 58,
    "start_time": "2022-08-12T15:51:23.411Z"
   },
   {
    "duration": 6,
    "start_time": "2022-08-12T15:51:23.471Z"
   },
   {
    "duration": 4,
    "start_time": "2022-08-12T15:51:23.479Z"
   },
   {
    "duration": 5,
    "start_time": "2022-08-12T15:51:23.484Z"
   },
   {
    "duration": 24,
    "start_time": "2022-08-12T15:51:23.490Z"
   },
   {
    "duration": 43,
    "start_time": "2022-08-12T15:51:23.516Z"
   },
   {
    "duration": 3,
    "start_time": "2022-08-12T15:51:23.561Z"
   },
   {
    "duration": 7,
    "start_time": "2022-08-12T15:51:23.565Z"
   },
   {
    "duration": 18,
    "start_time": "2022-08-12T15:51:23.573Z"
   },
   {
    "duration": 11,
    "start_time": "2022-08-12T15:51:23.592Z"
   },
   {
    "duration": 18,
    "start_time": "2022-08-12T15:51:23.605Z"
   },
   {
    "duration": 37,
    "start_time": "2022-08-12T15:51:23.624Z"
   },
   {
    "duration": 6,
    "start_time": "2022-08-12T15:51:23.662Z"
   },
   {
    "duration": 199,
    "start_time": "2022-08-12T15:51:23.670Z"
   },
   {
    "duration": 188,
    "start_time": "2022-08-12T15:51:23.870Z"
   },
   {
    "duration": 180,
    "start_time": "2022-08-12T15:51:24.059Z"
   },
   {
    "duration": 183,
    "start_time": "2022-08-12T15:51:24.240Z"
   },
   {
    "duration": 170,
    "start_time": "2022-08-12T15:51:24.425Z"
   },
   {
    "duration": 3,
    "start_time": "2022-08-12T15:51:24.596Z"
   },
   {
    "duration": 13,
    "start_time": "2022-08-12T15:51:24.601Z"
   },
   {
    "duration": 11,
    "start_time": "2022-08-12T15:51:24.615Z"
   },
   {
    "duration": 30,
    "start_time": "2022-08-12T15:51:24.627Z"
   },
   {
    "duration": 174,
    "start_time": "2022-08-12T15:51:24.658Z"
   },
   {
    "duration": 21,
    "start_time": "2022-08-12T15:51:24.834Z"
   },
   {
    "duration": 3,
    "start_time": "2022-08-12T15:51:24.858Z"
   },
   {
    "duration": 151,
    "start_time": "2022-08-12T15:51:24.863Z"
   },
   {
    "duration": 148,
    "start_time": "2022-08-12T15:51:25.016Z"
   },
   {
    "duration": 147,
    "start_time": "2022-08-12T15:51:25.166Z"
   },
   {
    "duration": 171,
    "start_time": "2022-08-12T15:51:25.314Z"
   },
   {
    "duration": 177,
    "start_time": "2022-08-12T15:51:25.486Z"
   },
   {
    "duration": 10,
    "start_time": "2022-08-12T15:51:25.664Z"
   },
   {
    "duration": 161,
    "start_time": "2022-08-12T15:51:25.675Z"
   },
   {
    "duration": 6,
    "start_time": "2022-08-12T15:51:25.838Z"
   },
   {
    "duration": 76,
    "start_time": "2022-08-12T15:51:25.845Z"
   },
   {
    "duration": 138,
    "start_time": "2022-08-12T15:51:25.922Z"
   },
   {
    "duration": 21,
    "start_time": "2022-08-12T15:51:26.062Z"
   },
   {
    "duration": 9,
    "start_time": "2022-08-12T15:51:26.085Z"
   },
   {
    "duration": 2,
    "start_time": "2022-08-12T15:51:26.096Z"
   },
   {
    "duration": 126,
    "start_time": "2022-08-12T15:51:26.100Z"
   },
   {
    "duration": 215,
    "start_time": "2022-08-12T15:51:26.228Z"
   },
   {
    "duration": 119,
    "start_time": "2022-08-12T15:51:26.444Z"
   },
   {
    "duration": 344,
    "start_time": "2022-08-12T15:51:26.564Z"
   },
   {
    "duration": 1101,
    "start_time": "2022-08-12T15:51:26.910Z"
   },
   {
    "duration": 1135,
    "start_time": "2022-08-12T15:51:28.013Z"
   },
   {
    "duration": 17,
    "start_time": "2022-08-12T15:56:43.545Z"
   },
   {
    "duration": 163,
    "start_time": "2022-08-12T15:58:14.666Z"
   },
   {
    "duration": 11,
    "start_time": "2022-08-12T15:58:43.150Z"
   },
   {
    "duration": 3,
    "start_time": "2022-08-12T15:59:01.811Z"
   },
   {
    "duration": 117,
    "start_time": "2022-08-12T15:59:03.411Z"
   },
   {
    "duration": 222,
    "start_time": "2022-08-12T15:59:05.609Z"
   },
   {
    "duration": 120,
    "start_time": "2022-08-12T15:59:38.719Z"
   },
   {
    "duration": 213,
    "start_time": "2022-08-12T15:59:46.754Z"
   },
   {
    "duration": 1055,
    "start_time": "2022-08-12T16:00:49.066Z"
   },
   {
    "duration": 1050,
    "start_time": "2022-08-12T16:01:22.051Z"
   },
   {
    "duration": 1232,
    "start_time": "2022-08-12T18:19:20.648Z"
   },
   {
    "duration": 174,
    "start_time": "2022-08-12T18:19:21.881Z"
   },
   {
    "duration": 22,
    "start_time": "2022-08-12T18:19:22.056Z"
   },
   {
    "duration": 16,
    "start_time": "2022-08-12T18:19:22.080Z"
   },
   {
    "duration": 38,
    "start_time": "2022-08-12T18:19:22.097Z"
   },
   {
    "duration": 6,
    "start_time": "2022-08-12T18:19:22.136Z"
   },
   {
    "duration": 4,
    "start_time": "2022-08-12T18:19:22.143Z"
   },
   {
    "duration": 7,
    "start_time": "2022-08-12T18:19:22.149Z"
   },
   {
    "duration": 77,
    "start_time": "2022-08-12T18:19:22.157Z"
   },
   {
    "duration": 16,
    "start_time": "2022-08-12T18:19:22.237Z"
   },
   {
    "duration": 4,
    "start_time": "2022-08-12T18:19:22.255Z"
   },
   {
    "duration": 5,
    "start_time": "2022-08-12T18:19:22.260Z"
   },
   {
    "duration": 40,
    "start_time": "2022-08-12T18:19:22.267Z"
   },
   {
    "duration": 17,
    "start_time": "2022-08-12T18:19:22.308Z"
   },
   {
    "duration": 21,
    "start_time": "2022-08-12T18:19:22.326Z"
   },
   {
    "duration": 14,
    "start_time": "2022-08-12T18:19:22.348Z"
   },
   {
    "duration": 5,
    "start_time": "2022-08-12T18:19:22.364Z"
   },
   {
    "duration": 241,
    "start_time": "2022-08-12T18:19:22.370Z"
   },
   {
    "duration": 191,
    "start_time": "2022-08-12T18:19:22.613Z"
   },
   {
    "duration": 193,
    "start_time": "2022-08-12T18:19:22.805Z"
   },
   {
    "duration": 193,
    "start_time": "2022-08-12T18:19:23.000Z"
   },
   {
    "duration": 189,
    "start_time": "2022-08-12T18:19:23.198Z"
   },
   {
    "duration": 9,
    "start_time": "2022-08-12T18:19:23.389Z"
   },
   {
    "duration": 17,
    "start_time": "2022-08-12T18:19:23.400Z"
   },
   {
    "duration": 17,
    "start_time": "2022-08-12T18:19:23.419Z"
   },
   {
    "duration": 15,
    "start_time": "2022-08-12T18:19:23.438Z"
   },
   {
    "duration": 95,
    "start_time": "2022-08-12T18:19:23.454Z"
   },
   {
    "duration": 17,
    "start_time": "2022-08-12T18:19:23.552Z"
   },
   {
    "duration": 4,
    "start_time": "2022-08-12T18:19:23.570Z"
   },
   {
    "duration": 167,
    "start_time": "2022-08-12T18:19:23.576Z"
   },
   {
    "duration": 155,
    "start_time": "2022-08-12T18:19:23.744Z"
   },
   {
    "duration": 220,
    "start_time": "2022-08-12T18:19:23.900Z"
   },
   {
    "duration": 175,
    "start_time": "2022-08-12T18:19:24.122Z"
   },
   {
    "duration": 212,
    "start_time": "2022-08-12T18:19:24.298Z"
   },
   {
    "duration": 13,
    "start_time": "2022-08-12T18:19:24.512Z"
   },
   {
    "duration": 187,
    "start_time": "2022-08-12T18:19:24.527Z"
   },
   {
    "duration": 6,
    "start_time": "2022-08-12T18:19:24.716Z"
   },
   {
    "duration": 111,
    "start_time": "2022-08-12T18:19:24.723Z"
   },
   {
    "duration": 0,
    "start_time": "2022-08-12T18:19:24.837Z"
   },
   {
    "duration": 0,
    "start_time": "2022-08-12T18:19:24.838Z"
   },
   {
    "duration": 0,
    "start_time": "2022-08-12T18:19:24.839Z"
   },
   {
    "duration": 0,
    "start_time": "2022-08-12T18:19:24.841Z"
   },
   {
    "duration": 0,
    "start_time": "2022-08-12T18:19:24.842Z"
   },
   {
    "duration": 0,
    "start_time": "2022-08-12T18:19:24.843Z"
   },
   {
    "duration": 0,
    "start_time": "2022-08-12T18:19:24.845Z"
   },
   {
    "duration": 0,
    "start_time": "2022-08-12T18:19:24.846Z"
   },
   {
    "duration": 0,
    "start_time": "2022-08-12T18:19:24.847Z"
   },
   {
    "duration": 0,
    "start_time": "2022-08-12T18:19:24.849Z"
   },
   {
    "duration": 70,
    "start_time": "2022-08-12T18:20:30.876Z"
   },
   {
    "duration": 72,
    "start_time": "2022-08-12T18:20:40.178Z"
   },
   {
    "duration": 166,
    "start_time": "2022-08-12T18:20:40.252Z"
   },
   {
    "duration": 23,
    "start_time": "2022-08-12T18:20:40.419Z"
   },
   {
    "duration": 11,
    "start_time": "2022-08-12T18:20:40.444Z"
   },
   {
    "duration": 3,
    "start_time": "2022-08-12T18:20:40.457Z"
   },
   {
    "duration": 138,
    "start_time": "2022-08-12T18:20:40.461Z"
   },
   {
    "duration": 245,
    "start_time": "2022-08-12T18:20:40.600Z"
   },
   {
    "duration": 129,
    "start_time": "2022-08-12T18:20:40.846Z"
   },
   {
    "duration": 231,
    "start_time": "2022-08-12T18:20:40.976Z"
   },
   {
    "duration": 1184,
    "start_time": "2022-08-12T18:20:41.209Z"
   },
   {
    "duration": 1165,
    "start_time": "2022-08-12T18:20:42.395Z"
   },
   {
    "duration": 250,
    "start_time": "2022-08-12T18:24:01.610Z"
   },
   {
    "duration": 113,
    "start_time": "2022-08-12T18:24:22.918Z"
   },
   {
    "duration": 113,
    "start_time": "2022-08-12T18:26:41.114Z"
   },
   {
    "duration": 110,
    "start_time": "2022-08-12T18:27:56.378Z"
   },
   {
    "duration": 44,
    "start_time": "2022-08-12T18:28:41.513Z"
   },
   {
    "duration": 248,
    "start_time": "2022-08-12T18:28:48.480Z"
   },
   {
    "duration": 106,
    "start_time": "2022-08-12T18:39:09.047Z"
   },
   {
    "duration": 230,
    "start_time": "2022-08-12T18:40:43.011Z"
   },
   {
    "duration": 283,
    "start_time": "2022-08-12T18:40:55.879Z"
   },
   {
    "duration": 368,
    "start_time": "2022-08-12T18:42:06.389Z"
   },
   {
    "duration": 286,
    "start_time": "2022-08-12T18:42:21.477Z"
   },
   {
    "duration": 303,
    "start_time": "2022-08-12T18:42:34.120Z"
   },
   {
    "duration": 393,
    "start_time": "2022-08-12T18:43:05.329Z"
   },
   {
    "duration": 277,
    "start_time": "2022-08-12T18:43:26.476Z"
   },
   {
    "duration": 306,
    "start_time": "2022-08-12T18:44:02.554Z"
   },
   {
    "duration": 305,
    "start_time": "2022-08-12T18:44:24.022Z"
   },
   {
    "duration": 11,
    "start_time": "2022-08-12T19:08:37.123Z"
   },
   {
    "duration": 6,
    "start_time": "2022-08-12T19:09:02.276Z"
   },
   {
    "duration": 7,
    "start_time": "2022-08-12T19:09:12.872Z"
   },
   {
    "duration": 3,
    "start_time": "2022-08-12T19:10:38.202Z"
   },
   {
    "duration": 15,
    "start_time": "2022-08-12T19:11:29.483Z"
   },
   {
    "duration": 17,
    "start_time": "2022-08-12T19:13:18.750Z"
   },
   {
    "duration": 16,
    "start_time": "2022-08-12T19:13:35.322Z"
   },
   {
    "duration": 2,
    "start_time": "2022-08-12T19:21:02.454Z"
   },
   {
    "duration": 97,
    "start_time": "2022-08-12T19:21:02.461Z"
   },
   {
    "duration": 19,
    "start_time": "2022-08-12T19:21:02.560Z"
   },
   {
    "duration": 37,
    "start_time": "2022-08-12T19:21:02.581Z"
   },
   {
    "duration": 36,
    "start_time": "2022-08-12T19:21:02.620Z"
   },
   {
    "duration": 6,
    "start_time": "2022-08-12T19:21:02.658Z"
   },
   {
    "duration": 4,
    "start_time": "2022-08-12T19:21:02.665Z"
   },
   {
    "duration": 5,
    "start_time": "2022-08-12T19:21:02.670Z"
   },
   {
    "duration": 52,
    "start_time": "2022-08-12T19:21:02.676Z"
   },
   {
    "duration": 14,
    "start_time": "2022-08-12T19:21:02.729Z"
   },
   {
    "duration": 3,
    "start_time": "2022-08-12T19:21:02.746Z"
   },
   {
    "duration": 5,
    "start_time": "2022-08-12T19:21:02.750Z"
   },
   {
    "duration": 21,
    "start_time": "2022-08-12T19:21:02.756Z"
   },
   {
    "duration": 41,
    "start_time": "2022-08-12T19:21:02.778Z"
   },
   {
    "duration": 13,
    "start_time": "2022-08-12T19:21:02.821Z"
   },
   {
    "duration": 4,
    "start_time": "2022-08-12T19:21:02.835Z"
   },
   {
    "duration": 294,
    "start_time": "2022-08-12T19:21:02.840Z"
   },
   {
    "duration": 262,
    "start_time": "2022-08-12T19:21:03.136Z"
   },
   {
    "duration": 374,
    "start_time": "2022-08-12T19:21:03.399Z"
   },
   {
    "duration": 257,
    "start_time": "2022-08-12T19:21:03.775Z"
   },
   {
    "duration": 247,
    "start_time": "2022-08-12T19:21:04.034Z"
   },
   {
    "duration": 3,
    "start_time": "2022-08-12T19:21:04.283Z"
   },
   {
    "duration": 25,
    "start_time": "2022-08-12T19:21:04.287Z"
   },
   {
    "duration": 12,
    "start_time": "2022-08-12T19:21:04.315Z"
   },
   {
    "duration": 11,
    "start_time": "2022-08-12T19:21:04.329Z"
   },
   {
    "duration": 77,
    "start_time": "2022-08-12T19:21:04.341Z"
   },
   {
    "duration": 18,
    "start_time": "2022-08-12T19:21:04.420Z"
   },
   {
    "duration": 4,
    "start_time": "2022-08-12T19:21:04.440Z"
   },
   {
    "duration": 269,
    "start_time": "2022-08-12T19:21:04.448Z"
   },
   {
    "duration": 247,
    "start_time": "2022-08-12T19:21:04.719Z"
   },
   {
    "duration": 225,
    "start_time": "2022-08-12T19:21:04.967Z"
   },
   {
    "duration": 256,
    "start_time": "2022-08-12T19:21:05.194Z"
   },
   {
    "duration": 248,
    "start_time": "2022-08-12T19:21:05.452Z"
   },
   {
    "duration": 17,
    "start_time": "2022-08-12T19:21:05.703Z"
   },
   {
    "duration": 229,
    "start_time": "2022-08-12T19:21:05.721Z"
   },
   {
    "duration": 7,
    "start_time": "2022-08-12T19:21:05.952Z"
   },
   {
    "duration": 86,
    "start_time": "2022-08-12T19:21:05.960Z"
   },
   {
    "duration": 220,
    "start_time": "2022-08-12T19:21:06.047Z"
   },
   {
    "duration": 21,
    "start_time": "2022-08-12T19:21:06.268Z"
   },
   {
    "duration": 11,
    "start_time": "2022-08-12T19:21:06.305Z"
   },
   {
    "duration": 3,
    "start_time": "2022-08-12T19:21:06.317Z"
   },
   {
    "duration": 170,
    "start_time": "2022-08-12T19:21:06.321Z"
   },
   {
    "duration": 398,
    "start_time": "2022-08-12T19:21:06.497Z"
   },
   {
    "duration": 213,
    "start_time": "2022-08-12T19:21:06.898Z"
   },
   {
    "duration": 308,
    "start_time": "2022-08-12T19:21:07.113Z"
   },
   {
    "duration": 1148,
    "start_time": "2022-08-12T19:21:07.422Z"
   },
   {
    "duration": 1181,
    "start_time": "2022-08-12T19:21:08.571Z"
   },
   {
    "duration": 35,
    "start_time": "2022-08-12T19:40:44.792Z"
   },
   {
    "duration": 37,
    "start_time": "2022-08-12T19:41:02.794Z"
   },
   {
    "duration": 3,
    "start_time": "2022-08-12T19:45:57.226Z"
   },
   {
    "duration": 101,
    "start_time": "2022-08-12T19:45:57.233Z"
   },
   {
    "duration": 22,
    "start_time": "2022-08-12T19:45:57.336Z"
   },
   {
    "duration": 11,
    "start_time": "2022-08-12T19:45:57.359Z"
   },
   {
    "duration": 34,
    "start_time": "2022-08-12T19:45:57.412Z"
   },
   {
    "duration": 7,
    "start_time": "2022-08-12T19:45:57.447Z"
   },
   {
    "duration": 8,
    "start_time": "2022-08-12T19:45:57.455Z"
   },
   {
    "duration": 14,
    "start_time": "2022-08-12T19:45:57.464Z"
   },
   {
    "duration": 42,
    "start_time": "2022-08-12T19:45:57.479Z"
   },
   {
    "duration": 15,
    "start_time": "2022-08-12T19:45:57.522Z"
   },
   {
    "duration": 3,
    "start_time": "2022-08-12T19:45:57.539Z"
   },
   {
    "duration": 6,
    "start_time": "2022-08-12T19:45:57.543Z"
   },
   {
    "duration": 23,
    "start_time": "2022-08-12T19:45:57.550Z"
   },
   {
    "duration": 29,
    "start_time": "2022-08-12T19:45:57.574Z"
   },
   {
    "duration": 17,
    "start_time": "2022-08-12T19:45:57.604Z"
   },
   {
    "duration": 8,
    "start_time": "2022-08-12T19:45:57.623Z"
   },
   {
    "duration": 299,
    "start_time": "2022-08-12T19:45:57.633Z"
   },
   {
    "duration": 279,
    "start_time": "2022-08-12T19:45:57.933Z"
   },
   {
    "duration": 269,
    "start_time": "2022-08-12T19:45:58.214Z"
   },
   {
    "duration": 261,
    "start_time": "2022-08-12T19:45:58.484Z"
   },
   {
    "duration": 265,
    "start_time": "2022-08-12T19:45:58.747Z"
   },
   {
    "duration": 3,
    "start_time": "2022-08-12T19:45:59.013Z"
   },
   {
    "duration": 13,
    "start_time": "2022-08-12T19:45:59.018Z"
   },
   {
    "duration": 11,
    "start_time": "2022-08-12T19:45:59.032Z"
   },
   {
    "duration": 11,
    "start_time": "2022-08-12T19:45:59.045Z"
   },
   {
    "duration": 81,
    "start_time": "2022-08-12T19:45:59.057Z"
   },
   {
    "duration": 17,
    "start_time": "2022-08-12T19:45:59.140Z"
   },
   {
    "duration": 4,
    "start_time": "2022-08-12T19:45:59.159Z"
   },
   {
    "duration": 249,
    "start_time": "2022-08-12T19:45:59.166Z"
   },
   {
    "duration": 365,
    "start_time": "2022-08-12T19:45:59.416Z"
   },
   {
    "duration": 237,
    "start_time": "2022-08-12T19:45:59.783Z"
   },
   {
    "duration": 262,
    "start_time": "2022-08-12T19:46:00.021Z"
   },
   {
    "duration": 256,
    "start_time": "2022-08-12T19:46:00.284Z"
   },
   {
    "duration": 10,
    "start_time": "2022-08-12T19:46:00.541Z"
   },
   {
    "duration": 240,
    "start_time": "2022-08-12T19:46:00.552Z"
   },
   {
    "duration": 14,
    "start_time": "2022-08-12T19:46:00.794Z"
   },
   {
    "duration": 105,
    "start_time": "2022-08-12T19:46:00.809Z"
   },
   {
    "duration": 227,
    "start_time": "2022-08-12T19:46:00.915Z"
   },
   {
    "duration": 23,
    "start_time": "2022-08-12T19:46:01.143Z"
   },
   {
    "duration": 10,
    "start_time": "2022-08-12T19:46:01.168Z"
   },
   {
    "duration": 30,
    "start_time": "2022-08-12T19:46:01.179Z"
   },
   {
    "duration": 202,
    "start_time": "2022-08-12T19:46:01.211Z"
   },
   {
    "duration": 315,
    "start_time": "2022-08-12T19:46:01.416Z"
   },
   {
    "duration": 203,
    "start_time": "2022-08-12T19:46:01.732Z"
   },
   {
    "duration": 294,
    "start_time": "2022-08-12T19:46:01.936Z"
   },
   {
    "duration": 1260,
    "start_time": "2022-08-12T19:46:02.231Z"
   },
   {
    "duration": 1199,
    "start_time": "2022-08-12T19:46:03.492Z"
   },
   {
    "duration": 335,
    "start_time": "2022-08-12T19:55:01.393Z"
   },
   {
    "duration": 276,
    "start_time": "2022-08-12T19:55:16.836Z"
   },
   {
    "duration": 3,
    "start_time": "2022-08-12T19:55:26.321Z"
   },
   {
    "duration": 117,
    "start_time": "2022-08-12T19:55:26.326Z"
   },
   {
    "duration": 26,
    "start_time": "2022-08-12T19:55:26.445Z"
   },
   {
    "duration": 34,
    "start_time": "2022-08-12T19:55:26.473Z"
   },
   {
    "duration": 45,
    "start_time": "2022-08-12T19:55:26.509Z"
   },
   {
    "duration": 7,
    "start_time": "2022-08-12T19:55:26.555Z"
   },
   {
    "duration": 5,
    "start_time": "2022-08-12T19:55:26.563Z"
   },
   {
    "duration": 5,
    "start_time": "2022-08-12T19:55:26.569Z"
   },
   {
    "duration": 41,
    "start_time": "2022-08-12T19:55:26.600Z"
   },
   {
    "duration": 15,
    "start_time": "2022-08-12T19:55:26.642Z"
   },
   {
    "duration": 4,
    "start_time": "2022-08-12T19:55:26.658Z"
   },
   {
    "duration": 5,
    "start_time": "2022-08-12T19:55:26.664Z"
   },
   {
    "duration": 45,
    "start_time": "2022-08-12T19:55:26.671Z"
   },
   {
    "duration": 24,
    "start_time": "2022-08-12T19:55:26.721Z"
   },
   {
    "duration": 14,
    "start_time": "2022-08-12T19:55:26.746Z"
   },
   {
    "duration": 7,
    "start_time": "2022-08-12T19:55:26.761Z"
   },
   {
    "duration": 276,
    "start_time": "2022-08-12T19:55:26.770Z"
   },
   {
    "duration": 243,
    "start_time": "2022-08-12T19:55:27.048Z"
   },
   {
    "duration": 262,
    "start_time": "2022-08-12T19:55:27.292Z"
   },
   {
    "duration": 265,
    "start_time": "2022-08-12T19:55:27.556Z"
   },
   {
    "duration": 407,
    "start_time": "2022-08-12T19:55:27.824Z"
   },
   {
    "duration": 4,
    "start_time": "2022-08-12T19:55:28.233Z"
   },
   {
    "duration": 18,
    "start_time": "2022-08-12T19:55:28.238Z"
   },
   {
    "duration": 14,
    "start_time": "2022-08-12T19:55:28.260Z"
   },
   {
    "duration": 49,
    "start_time": "2022-08-12T19:55:28.276Z"
   },
   {
    "duration": 61,
    "start_time": "2022-08-12T19:55:28.327Z"
   },
   {
    "duration": 30,
    "start_time": "2022-08-12T19:55:28.390Z"
   },
   {
    "duration": 5,
    "start_time": "2022-08-12T19:55:28.422Z"
   },
   {
    "duration": 220,
    "start_time": "2022-08-12T19:55:28.428Z"
   },
   {
    "duration": 211,
    "start_time": "2022-08-12T19:55:28.650Z"
   },
   {
    "duration": 225,
    "start_time": "2022-08-12T19:55:28.862Z"
   },
   {
    "duration": 252,
    "start_time": "2022-08-12T19:55:29.089Z"
   },
   {
    "duration": 250,
    "start_time": "2022-08-12T19:55:29.342Z"
   },
   {
    "duration": 31,
    "start_time": "2022-08-12T19:55:29.594Z"
   },
   {
    "duration": 209,
    "start_time": "2022-08-12T19:55:29.627Z"
   },
   {
    "duration": 6,
    "start_time": "2022-08-12T19:55:29.837Z"
   },
   {
    "duration": 85,
    "start_time": "2022-08-12T19:55:29.845Z"
   },
   {
    "duration": 212,
    "start_time": "2022-08-12T19:55:29.931Z"
   },
   {
    "duration": 23,
    "start_time": "2022-08-12T19:55:30.145Z"
   },
   {
    "duration": 11,
    "start_time": "2022-08-12T19:55:30.170Z"
   },
   {
    "duration": 38,
    "start_time": "2022-08-12T19:55:30.183Z"
   },
   {
    "duration": 201,
    "start_time": "2022-08-12T19:55:30.226Z"
   },
   {
    "duration": 296,
    "start_time": "2022-08-12T19:55:30.429Z"
   },
   {
    "duration": 160,
    "start_time": "2022-08-12T19:55:30.727Z"
   },
   {
    "duration": 276,
    "start_time": "2022-08-12T19:55:30.889Z"
   },
   {
    "duration": 1467,
    "start_time": "2022-08-12T19:55:31.166Z"
   },
   {
    "duration": 1232,
    "start_time": "2022-08-12T19:55:32.634Z"
   },
   {
    "duration": 309,
    "start_time": "2022-08-12T19:57:04.235Z"
   },
   {
    "duration": 323,
    "start_time": "2022-08-12T19:57:17.925Z"
   },
   {
    "duration": 307,
    "start_time": "2022-08-12T19:57:26.322Z"
   },
   {
    "duration": 369,
    "start_time": "2022-08-12T19:57:34.967Z"
   },
   {
    "duration": 287,
    "start_time": "2022-08-12T19:57:38.925Z"
   },
   {
    "duration": 302,
    "start_time": "2022-08-12T19:57:48.659Z"
   },
   {
    "duration": 3,
    "start_time": "2022-08-12T19:57:57.330Z"
   },
   {
    "duration": 117,
    "start_time": "2022-08-12T19:57:57.335Z"
   },
   {
    "duration": 22,
    "start_time": "2022-08-12T19:57:57.455Z"
   },
   {
    "duration": 54,
    "start_time": "2022-08-12T19:57:57.479Z"
   },
   {
    "duration": 43,
    "start_time": "2022-08-12T19:57:57.535Z"
   },
   {
    "duration": 7,
    "start_time": "2022-08-12T19:57:57.579Z"
   },
   {
    "duration": 5,
    "start_time": "2022-08-12T19:57:57.587Z"
   },
   {
    "duration": 31,
    "start_time": "2022-08-12T19:57:57.594Z"
   },
   {
    "duration": 32,
    "start_time": "2022-08-12T19:57:57.627Z"
   },
   {
    "duration": 15,
    "start_time": "2022-08-12T19:57:57.661Z"
   },
   {
    "duration": 4,
    "start_time": "2022-08-12T19:57:57.679Z"
   },
   {
    "duration": 5,
    "start_time": "2022-08-12T19:57:57.685Z"
   },
   {
    "duration": 40,
    "start_time": "2022-08-12T19:57:57.692Z"
   },
   {
    "duration": 19,
    "start_time": "2022-08-12T19:57:57.734Z"
   },
   {
    "duration": 14,
    "start_time": "2022-08-12T19:57:57.755Z"
   },
   {
    "duration": 5,
    "start_time": "2022-08-12T19:57:57.771Z"
   },
   {
    "duration": 309,
    "start_time": "2022-08-12T19:57:57.778Z"
   },
   {
    "duration": 277,
    "start_time": "2022-08-12T19:57:58.089Z"
   },
   {
    "duration": 467,
    "start_time": "2022-08-12T19:57:58.368Z"
   },
   {
    "duration": 260,
    "start_time": "2022-08-12T19:57:58.837Z"
   },
   {
    "duration": 275,
    "start_time": "2022-08-12T19:57:59.110Z"
   },
   {
    "duration": 4,
    "start_time": "2022-08-12T19:57:59.388Z"
   },
   {
    "duration": 28,
    "start_time": "2022-08-12T19:57:59.401Z"
   },
   {
    "duration": 15,
    "start_time": "2022-08-12T19:57:59.431Z"
   },
   {
    "duration": 14,
    "start_time": "2022-08-12T19:57:59.448Z"
   },
   {
    "duration": 83,
    "start_time": "2022-08-12T19:57:59.464Z"
   },
   {
    "duration": 19,
    "start_time": "2022-08-12T19:57:59.550Z"
   },
   {
    "duration": 4,
    "start_time": "2022-08-12T19:57:59.571Z"
   },
   {
    "duration": 257,
    "start_time": "2022-08-12T19:57:59.579Z"
   },
   {
    "duration": 229,
    "start_time": "2022-08-12T19:57:59.837Z"
   },
   {
    "duration": 241,
    "start_time": "2022-08-12T19:58:00.067Z"
   },
   {
    "duration": 258,
    "start_time": "2022-08-12T19:58:00.310Z"
   },
   {
    "duration": 270,
    "start_time": "2022-08-12T19:58:00.569Z"
   },
   {
    "duration": 11,
    "start_time": "2022-08-12T19:58:00.841Z"
   },
   {
    "duration": 236,
    "start_time": "2022-08-12T19:58:00.854Z"
   },
   {
    "duration": 35,
    "start_time": "2022-08-12T19:58:01.093Z"
   },
   {
    "duration": 85,
    "start_time": "2022-08-12T19:58:01.131Z"
   },
   {
    "duration": 219,
    "start_time": "2022-08-12T19:58:01.222Z"
   },
   {
    "duration": 25,
    "start_time": "2022-08-12T19:58:01.442Z"
   },
   {
    "duration": 11,
    "start_time": "2022-08-12T19:58:01.468Z"
   },
   {
    "duration": 34,
    "start_time": "2022-08-12T19:58:01.480Z"
   },
   {
    "duration": 209,
    "start_time": "2022-08-12T19:58:01.520Z"
   },
   {
    "duration": 358,
    "start_time": "2022-08-12T19:58:01.732Z"
   },
   {
    "duration": 181,
    "start_time": "2022-08-12T19:58:02.092Z"
   },
   {
    "duration": 299,
    "start_time": "2022-08-12T19:58:02.275Z"
   },
   {
    "duration": 1262,
    "start_time": "2022-08-12T19:58:02.575Z"
   },
   {
    "duration": 1654,
    "start_time": "2022-08-12T19:58:03.838Z"
   },
   {
    "duration": 288,
    "start_time": "2022-08-12T19:59:11.087Z"
   },
   {
    "duration": 260,
    "start_time": "2022-08-12T19:59:14.951Z"
   },
   {
    "duration": 250,
    "start_time": "2022-08-12T19:59:33.190Z"
   },
   {
    "duration": 284,
    "start_time": "2022-08-12T19:59:34.780Z"
   },
   {
    "duration": 3,
    "start_time": "2022-08-12T19:59:42.113Z"
   },
   {
    "duration": 101,
    "start_time": "2022-08-12T19:59:42.119Z"
   },
   {
    "duration": 24,
    "start_time": "2022-08-12T19:59:42.222Z"
   },
   {
    "duration": 13,
    "start_time": "2022-08-12T19:59:42.248Z"
   },
   {
    "duration": 75,
    "start_time": "2022-08-12T19:59:42.263Z"
   },
   {
    "duration": 7,
    "start_time": "2022-08-12T19:59:42.340Z"
   },
   {
    "duration": 10,
    "start_time": "2022-08-12T19:59:42.349Z"
   },
   {
    "duration": 9,
    "start_time": "2022-08-12T19:59:42.361Z"
   },
   {
    "duration": 38,
    "start_time": "2022-08-12T19:59:42.371Z"
   },
   {
    "duration": 16,
    "start_time": "2022-08-12T19:59:42.411Z"
   },
   {
    "duration": 3,
    "start_time": "2022-08-12T19:59:42.430Z"
   },
   {
    "duration": 5,
    "start_time": "2022-08-12T19:59:42.434Z"
   },
   {
    "duration": 24,
    "start_time": "2022-08-12T19:59:42.441Z"
   },
   {
    "duration": 46,
    "start_time": "2022-08-12T19:59:42.467Z"
   },
   {
    "duration": 16,
    "start_time": "2022-08-12T19:59:42.514Z"
   },
   {
    "duration": 5,
    "start_time": "2022-08-12T19:59:42.531Z"
   },
   {
    "duration": 240,
    "start_time": "2022-08-12T19:59:42.537Z"
   },
   {
    "duration": 237,
    "start_time": "2022-08-12T19:59:42.779Z"
   },
   {
    "duration": 228,
    "start_time": "2022-08-12T19:59:43.018Z"
   },
   {
    "duration": 223,
    "start_time": "2022-08-12T19:59:43.247Z"
   },
   {
    "duration": 222,
    "start_time": "2022-08-12T19:59:43.471Z"
   },
   {
    "duration": 15,
    "start_time": "2022-08-12T19:59:43.694Z"
   },
   {
    "duration": 15,
    "start_time": "2022-08-12T19:59:43.710Z"
   },
   {
    "duration": 13,
    "start_time": "2022-08-12T19:59:43.727Z"
   },
   {
    "duration": 12,
    "start_time": "2022-08-12T19:59:43.742Z"
   },
   {
    "duration": 90,
    "start_time": "2022-08-12T19:59:43.756Z"
   },
   {
    "duration": 18,
    "start_time": "2022-08-12T19:59:43.848Z"
   },
   {
    "duration": 4,
    "start_time": "2022-08-12T19:59:43.867Z"
   },
   {
    "duration": 207,
    "start_time": "2022-08-12T19:59:43.874Z"
   },
   {
    "duration": 190,
    "start_time": "2022-08-12T19:59:44.083Z"
   },
   {
    "duration": 211,
    "start_time": "2022-08-12T19:59:44.274Z"
   },
   {
    "duration": 268,
    "start_time": "2022-08-12T19:59:44.486Z"
   },
   {
    "duration": 459,
    "start_time": "2022-08-12T19:59:44.756Z"
   },
   {
    "duration": 11,
    "start_time": "2022-08-12T19:59:45.218Z"
   },
   {
    "duration": 194,
    "start_time": "2022-08-12T19:59:45.231Z"
   },
   {
    "duration": 6,
    "start_time": "2022-08-12T19:59:45.426Z"
   },
   {
    "duration": 82,
    "start_time": "2022-08-12T19:59:45.434Z"
   },
   {
    "duration": 201,
    "start_time": "2022-08-12T19:59:45.518Z"
   },
   {
    "duration": 23,
    "start_time": "2022-08-12T19:59:45.720Z"
   },
   {
    "duration": 10,
    "start_time": "2022-08-12T19:59:45.745Z"
   },
   {
    "duration": 2,
    "start_time": "2022-08-12T19:59:45.757Z"
   },
   {
    "duration": 193,
    "start_time": "2022-08-12T19:59:45.761Z"
   },
   {
    "duration": 270,
    "start_time": "2022-08-12T19:59:45.955Z"
   },
   {
    "duration": 145,
    "start_time": "2022-08-12T19:59:46.227Z"
   },
   {
    "duration": 258,
    "start_time": "2022-08-12T19:59:46.373Z"
   },
   {
    "duration": 1140,
    "start_time": "2022-08-12T19:59:46.632Z"
   },
   {
    "duration": 1216,
    "start_time": "2022-08-12T19:59:47.773Z"
   },
   {
    "duration": 4,
    "start_time": "2022-08-12T20:03:15.926Z"
   },
   {
    "duration": 121,
    "start_time": "2022-08-12T20:03:15.932Z"
   },
   {
    "duration": 23,
    "start_time": "2022-08-12T20:03:16.055Z"
   },
   {
    "duration": 13,
    "start_time": "2022-08-12T20:03:16.079Z"
   },
   {
    "duration": 45,
    "start_time": "2022-08-12T20:03:16.104Z"
   },
   {
    "duration": 6,
    "start_time": "2022-08-12T20:03:16.151Z"
   },
   {
    "duration": 10,
    "start_time": "2022-08-12T20:03:16.159Z"
   },
   {
    "duration": 9,
    "start_time": "2022-08-12T20:03:16.170Z"
   },
   {
    "duration": 46,
    "start_time": "2022-08-12T20:03:16.181Z"
   },
   {
    "duration": 15,
    "start_time": "2022-08-12T20:03:16.228Z"
   },
   {
    "duration": 4,
    "start_time": "2022-08-12T20:03:16.245Z"
   },
   {
    "duration": 9,
    "start_time": "2022-08-12T20:03:16.250Z"
   },
   {
    "duration": 28,
    "start_time": "2022-08-12T20:03:16.261Z"
   },
   {
    "duration": 39,
    "start_time": "2022-08-12T20:03:16.292Z"
   },
   {
    "duration": 21,
    "start_time": "2022-08-12T20:03:16.332Z"
   },
   {
    "duration": 7,
    "start_time": "2022-08-12T20:03:16.355Z"
   },
   {
    "duration": 266,
    "start_time": "2022-08-12T20:03:16.364Z"
   },
   {
    "duration": 261,
    "start_time": "2022-08-12T20:03:16.632Z"
   },
   {
    "duration": 252,
    "start_time": "2022-08-12T20:03:16.895Z"
   },
   {
    "duration": 500,
    "start_time": "2022-08-12T20:03:17.148Z"
   },
   {
    "duration": 236,
    "start_time": "2022-08-12T20:03:17.649Z"
   },
   {
    "duration": 4,
    "start_time": "2022-08-12T20:03:17.886Z"
   },
   {
    "duration": 41,
    "start_time": "2022-08-12T20:03:17.891Z"
   },
   {
    "duration": 13,
    "start_time": "2022-08-12T20:03:17.934Z"
   },
   {
    "duration": 13,
    "start_time": "2022-08-12T20:03:17.948Z"
   },
   {
    "duration": 73,
    "start_time": "2022-08-12T20:03:17.963Z"
   },
   {
    "duration": 17,
    "start_time": "2022-08-12T20:03:18.038Z"
   },
   {
    "duration": 4,
    "start_time": "2022-08-12T20:03:18.056Z"
   },
   {
    "duration": 208,
    "start_time": "2022-08-12T20:03:18.061Z"
   },
   {
    "duration": 197,
    "start_time": "2022-08-12T20:03:18.270Z"
   },
   {
    "duration": 203,
    "start_time": "2022-08-12T20:03:18.469Z"
   },
   {
    "duration": 259,
    "start_time": "2022-08-12T20:03:18.674Z"
   },
   {
    "duration": 235,
    "start_time": "2022-08-12T20:03:18.934Z"
   },
   {
    "duration": 11,
    "start_time": "2022-08-12T20:03:19.171Z"
   },
   {
    "duration": 215,
    "start_time": "2022-08-12T20:03:19.183Z"
   },
   {
    "duration": 19,
    "start_time": "2022-08-12T20:03:19.413Z"
   },
   {
    "duration": 83,
    "start_time": "2022-08-12T20:03:19.434Z"
   },
   {
    "duration": 202,
    "start_time": "2022-08-12T20:03:19.519Z"
   },
   {
    "duration": 24,
    "start_time": "2022-08-12T20:03:19.724Z"
   },
   {
    "duration": 11,
    "start_time": "2022-08-12T20:03:19.749Z"
   },
   {
    "duration": 3,
    "start_time": "2022-08-12T20:03:19.763Z"
   },
   {
    "duration": 180,
    "start_time": "2022-08-12T20:03:19.768Z"
   },
   {
    "duration": 283,
    "start_time": "2022-08-12T20:03:19.949Z"
   },
   {
    "duration": 158,
    "start_time": "2022-08-12T20:03:20.233Z"
   },
   {
    "duration": 278,
    "start_time": "2022-08-12T20:03:20.392Z"
   },
   {
    "duration": 1276,
    "start_time": "2022-08-12T20:03:20.672Z"
   },
   {
    "duration": 1240,
    "start_time": "2022-08-12T20:03:21.950Z"
   },
   {
    "duration": 5,
    "start_time": "2022-08-12T20:04:17.116Z"
   },
   {
    "duration": 117,
    "start_time": "2022-08-12T20:04:17.123Z"
   },
   {
    "duration": 26,
    "start_time": "2022-08-12T20:04:17.242Z"
   },
   {
    "duration": 35,
    "start_time": "2022-08-12T20:04:17.270Z"
   },
   {
    "duration": 48,
    "start_time": "2022-08-12T20:04:17.314Z"
   },
   {
    "duration": 8,
    "start_time": "2022-08-12T20:04:17.364Z"
   },
   {
    "duration": 7,
    "start_time": "2022-08-12T20:04:17.373Z"
   },
   {
    "duration": 8,
    "start_time": "2022-08-12T20:04:17.381Z"
   },
   {
    "duration": 48,
    "start_time": "2022-08-12T20:04:17.390Z"
   },
   {
    "duration": 14,
    "start_time": "2022-08-12T20:04:17.440Z"
   },
   {
    "duration": 3,
    "start_time": "2022-08-12T20:04:17.457Z"
   },
   {
    "duration": 9,
    "start_time": "2022-08-12T20:04:17.461Z"
   },
   {
    "duration": 49,
    "start_time": "2022-08-12T20:04:17.471Z"
   },
   {
    "duration": 22,
    "start_time": "2022-08-12T20:04:17.523Z"
   },
   {
    "duration": 15,
    "start_time": "2022-08-12T20:04:17.547Z"
   },
   {
    "duration": 4,
    "start_time": "2022-08-12T20:04:17.563Z"
   },
   {
    "duration": 578,
    "start_time": "2022-08-12T20:04:17.569Z"
   },
   {
    "duration": 234,
    "start_time": "2022-08-12T20:04:18.148Z"
   },
   {
    "duration": 252,
    "start_time": "2022-08-12T20:04:18.384Z"
   },
   {
    "duration": 234,
    "start_time": "2022-08-12T20:04:18.638Z"
   },
   {
    "duration": 240,
    "start_time": "2022-08-12T20:04:18.874Z"
   },
   {
    "duration": 13,
    "start_time": "2022-08-12T20:04:19.116Z"
   },
   {
    "duration": 18,
    "start_time": "2022-08-12T20:04:19.130Z"
   },
   {
    "duration": 12,
    "start_time": "2022-08-12T20:04:19.149Z"
   },
   {
    "duration": 12,
    "start_time": "2022-08-12T20:04:19.163Z"
   },
   {
    "duration": 69,
    "start_time": "2022-08-12T20:04:19.177Z"
   },
   {
    "duration": 17,
    "start_time": "2022-08-12T20:04:19.248Z"
   },
   {
    "duration": 4,
    "start_time": "2022-08-12T20:04:19.267Z"
   },
   {
    "duration": 234,
    "start_time": "2022-08-12T20:04:19.274Z"
   },
   {
    "duration": 218,
    "start_time": "2022-08-12T20:04:19.509Z"
   },
   {
    "duration": 214,
    "start_time": "2022-08-12T20:04:19.729Z"
   },
   {
    "duration": 246,
    "start_time": "2022-08-12T20:04:19.945Z"
   },
   {
    "duration": 253,
    "start_time": "2022-08-12T20:04:20.193Z"
   },
   {
    "duration": 11,
    "start_time": "2022-08-12T20:04:20.447Z"
   },
   {
    "duration": 252,
    "start_time": "2022-08-12T20:04:20.460Z"
   },
   {
    "duration": 15,
    "start_time": "2022-08-12T20:04:20.713Z"
   },
   {
    "duration": 82,
    "start_time": "2022-08-12T20:04:20.730Z"
   },
   {
    "duration": 195,
    "start_time": "2022-08-12T20:04:20.813Z"
   },
   {
    "duration": 27,
    "start_time": "2022-08-12T20:04:21.011Z"
   },
   {
    "duration": 10,
    "start_time": "2022-08-12T20:04:21.039Z"
   },
   {
    "duration": 3,
    "start_time": "2022-08-12T20:04:21.051Z"
   },
   {
    "duration": 168,
    "start_time": "2022-08-12T20:04:21.055Z"
   },
   {
    "duration": 256,
    "start_time": "2022-08-12T20:04:21.225Z"
   },
   {
    "duration": 160,
    "start_time": "2022-08-12T20:04:21.483Z"
   },
   {
    "duration": 286,
    "start_time": "2022-08-12T20:04:21.645Z"
   },
   {
    "duration": 1225,
    "start_time": "2022-08-12T20:04:21.933Z"
   },
   {
    "duration": 1200,
    "start_time": "2022-08-12T20:04:23.159Z"
   },
   {
    "duration": 43,
    "start_time": "2022-08-13T09:48:11.033Z"
   },
   {
    "duration": 1313,
    "start_time": "2022-08-13T09:48:20.847Z"
   },
   {
    "duration": 179,
    "start_time": "2022-08-13T09:48:22.162Z"
   },
   {
    "duration": 23,
    "start_time": "2022-08-13T09:48:22.343Z"
   },
   {
    "duration": 17,
    "start_time": "2022-08-13T09:48:22.369Z"
   },
   {
    "duration": 53,
    "start_time": "2022-08-13T09:48:22.387Z"
   },
   {
    "duration": 7,
    "start_time": "2022-08-13T09:48:22.442Z"
   },
   {
    "duration": 6,
    "start_time": "2022-08-13T09:48:22.451Z"
   },
   {
    "duration": 9,
    "start_time": "2022-08-13T09:48:22.459Z"
   },
   {
    "duration": 20,
    "start_time": "2022-08-13T09:48:22.469Z"
   },
   {
    "duration": 44,
    "start_time": "2022-08-13T09:48:22.491Z"
   },
   {
    "duration": 18,
    "start_time": "2022-08-13T09:48:22.537Z"
   },
   {
    "duration": 4,
    "start_time": "2022-08-13T09:48:22.557Z"
   },
   {
    "duration": 7,
    "start_time": "2022-08-13T09:48:22.563Z"
   },
   {
    "duration": 50,
    "start_time": "2022-08-13T09:48:22.572Z"
   },
   {
    "duration": 22,
    "start_time": "2022-08-13T09:48:22.623Z"
   },
   {
    "duration": 16,
    "start_time": "2022-08-13T09:48:22.646Z"
   },
   {
    "duration": 6,
    "start_time": "2022-08-13T09:48:22.664Z"
   },
   {
    "duration": 254,
    "start_time": "2022-08-13T09:48:22.672Z"
   },
   {
    "duration": 214,
    "start_time": "2022-08-13T09:48:22.928Z"
   },
   {
    "duration": 230,
    "start_time": "2022-08-13T09:48:23.144Z"
   },
   {
    "duration": 233,
    "start_time": "2022-08-13T09:48:23.376Z"
   },
   {
    "duration": 211,
    "start_time": "2022-08-13T09:48:23.611Z"
   },
   {
    "duration": 4,
    "start_time": "2022-08-13T09:48:23.823Z"
   },
   {
    "duration": 18,
    "start_time": "2022-08-13T09:48:23.828Z"
   },
   {
    "duration": 12,
    "start_time": "2022-08-13T09:48:23.848Z"
   },
   {
    "duration": 16,
    "start_time": "2022-08-13T09:48:23.862Z"
   },
   {
    "duration": 96,
    "start_time": "2022-08-13T09:48:23.880Z"
   },
   {
    "duration": 32,
    "start_time": "2022-08-13T09:48:23.980Z"
   },
   {
    "duration": 9,
    "start_time": "2022-08-13T09:48:24.014Z"
   },
   {
    "duration": 163,
    "start_time": "2022-08-13T09:48:24.025Z"
   },
   {
    "duration": 166,
    "start_time": "2022-08-13T09:48:24.190Z"
   },
   {
    "duration": 241,
    "start_time": "2022-08-13T09:48:24.358Z"
   },
   {
    "duration": 213,
    "start_time": "2022-08-13T09:48:24.601Z"
   },
   {
    "duration": 215,
    "start_time": "2022-08-13T09:48:24.817Z"
   },
   {
    "duration": 11,
    "start_time": "2022-08-13T09:48:25.034Z"
   },
   {
    "duration": 205,
    "start_time": "2022-08-13T09:48:25.047Z"
   },
   {
    "duration": 6,
    "start_time": "2022-08-13T09:48:25.255Z"
   },
   {
    "duration": 87,
    "start_time": "2022-08-13T09:48:25.263Z"
   },
   {
    "duration": 147,
    "start_time": "2022-08-13T09:48:25.351Z"
   },
   {
    "duration": 30,
    "start_time": "2022-08-13T09:48:25.500Z"
   },
   {
    "duration": 11,
    "start_time": "2022-08-13T09:48:25.531Z"
   },
   {
    "duration": 3,
    "start_time": "2022-08-13T09:48:25.543Z"
   },
   {
    "duration": 134,
    "start_time": "2022-08-13T09:48:25.548Z"
   },
   {
    "duration": 244,
    "start_time": "2022-08-13T09:48:25.684Z"
   },
   {
    "duration": 171,
    "start_time": "2022-08-13T09:48:25.930Z"
   },
   {
    "duration": 249,
    "start_time": "2022-08-13T09:48:26.103Z"
   },
   {
    "duration": 1340,
    "start_time": "2022-08-13T09:48:26.354Z"
   },
   {
    "duration": 1133,
    "start_time": "2022-08-13T09:48:27.695Z"
   },
   {
    "duration": 19,
    "start_time": "2022-08-13T09:51:13.926Z"
   },
   {
    "duration": 17,
    "start_time": "2022-08-13T09:52:41.014Z"
   },
   {
    "duration": 37,
    "start_time": "2022-08-13T09:52:53.539Z"
   },
   {
    "duration": 215,
    "start_time": "2022-08-13T09:56:00.827Z"
   },
   {
    "duration": 76,
    "start_time": "2022-08-13T10:18:09.839Z"
   },
   {
    "duration": 46,
    "start_time": "2022-08-13T10:19:39.379Z"
   },
   {
    "duration": 10,
    "start_time": "2022-08-13T10:21:01.932Z"
   },
   {
    "duration": 10,
    "start_time": "2022-08-13T10:23:16.421Z"
   },
   {
    "duration": 8,
    "start_time": "2022-08-13T10:23:31.373Z"
   },
   {
    "duration": 6,
    "start_time": "2022-08-13T10:24:27.756Z"
   },
   {
    "duration": 9,
    "start_time": "2022-08-13T10:24:42.213Z"
   },
   {
    "duration": 9,
    "start_time": "2022-08-13T10:26:07.095Z"
   },
   {
    "duration": 10,
    "start_time": "2022-08-13T10:26:25.239Z"
   },
   {
    "duration": 5,
    "start_time": "2022-08-13T10:26:53.110Z"
   },
   {
    "duration": 16,
    "start_time": "2022-08-13T10:29:12.369Z"
   },
   {
    "duration": 14,
    "start_time": "2022-08-13T10:29:26.564Z"
   },
   {
    "duration": 18,
    "start_time": "2022-08-13T10:29:38.656Z"
   },
   {
    "duration": 82,
    "start_time": "2022-08-13T10:38:59.769Z"
   },
   {
    "duration": 4,
    "start_time": "2022-08-13T10:40:20.711Z"
   },
   {
    "duration": 5,
    "start_time": "2022-08-13T10:46:07.499Z"
   },
   {
    "duration": 158,
    "start_time": "2022-08-13T10:46:07.507Z"
   },
   {
    "duration": 51,
    "start_time": "2022-08-13T10:46:07.667Z"
   },
   {
    "duration": 17,
    "start_time": "2022-08-13T10:46:07.720Z"
   },
   {
    "duration": 55,
    "start_time": "2022-08-13T10:46:07.739Z"
   },
   {
    "duration": 18,
    "start_time": "2022-08-13T10:46:07.796Z"
   },
   {
    "duration": 21,
    "start_time": "2022-08-13T10:46:07.817Z"
   },
   {
    "duration": 19,
    "start_time": "2022-08-13T10:46:07.839Z"
   },
   {
    "duration": 87,
    "start_time": "2022-08-13T10:46:07.861Z"
   },
   {
    "duration": 31,
    "start_time": "2022-08-13T10:46:07.950Z"
   },
   {
    "duration": 35,
    "start_time": "2022-08-13T10:46:07.982Z"
   },
   {
    "duration": 7,
    "start_time": "2022-08-13T10:46:08.019Z"
   },
   {
    "duration": 10,
    "start_time": "2022-08-13T10:46:08.027Z"
   },
   {
    "duration": 35,
    "start_time": "2022-08-13T10:46:08.039Z"
   },
   {
    "duration": 7,
    "start_time": "2022-08-13T10:46:08.076Z"
   },
   {
    "duration": 38,
    "start_time": "2022-08-13T10:46:08.085Z"
   },
   {
    "duration": 17,
    "start_time": "2022-08-13T10:46:08.125Z"
   },
   {
    "duration": 21,
    "start_time": "2022-08-13T10:46:08.143Z"
   },
   {
    "duration": 303,
    "start_time": "2022-08-13T10:46:08.167Z"
   },
   {
    "duration": 282,
    "start_time": "2022-08-13T10:46:08.473Z"
   },
   {
    "duration": 294,
    "start_time": "2022-08-13T10:46:08.757Z"
   },
   {
    "duration": 236,
    "start_time": "2022-08-13T10:46:09.053Z"
   },
   {
    "duration": 260,
    "start_time": "2022-08-13T10:46:09.291Z"
   },
   {
    "duration": 5,
    "start_time": "2022-08-13T10:46:09.556Z"
   },
   {
    "duration": 17,
    "start_time": "2022-08-13T10:46:09.563Z"
   },
   {
    "duration": 38,
    "start_time": "2022-08-13T10:46:09.582Z"
   },
   {
    "duration": 17,
    "start_time": "2022-08-13T10:46:09.623Z"
   },
   {
    "duration": 131,
    "start_time": "2022-08-13T10:46:09.642Z"
   },
   {
    "duration": 46,
    "start_time": "2022-08-13T10:46:09.775Z"
   },
   {
    "duration": 4,
    "start_time": "2022-08-13T10:46:09.823Z"
   },
   {
    "duration": 285,
    "start_time": "2022-08-13T10:46:09.829Z"
   },
   {
    "duration": 346,
    "start_time": "2022-08-13T10:46:10.116Z"
   },
   {
    "duration": 224,
    "start_time": "2022-08-13T10:46:10.464Z"
   },
   {
    "duration": 235,
    "start_time": "2022-08-13T10:46:10.690Z"
   },
   {
    "duration": 380,
    "start_time": "2022-08-13T10:46:10.927Z"
   },
   {
    "duration": 14,
    "start_time": "2022-08-13T10:46:11.309Z"
   },
   {
    "duration": 230,
    "start_time": "2022-08-13T10:46:11.325Z"
   },
   {
    "duration": 8,
    "start_time": "2022-08-13T10:46:11.557Z"
   },
   {
    "duration": 115,
    "start_time": "2022-08-13T10:46:11.567Z"
   },
   {
    "duration": 266,
    "start_time": "2022-08-13T10:46:11.684Z"
   },
   {
    "duration": 32,
    "start_time": "2022-08-13T10:46:11.951Z"
   },
   {
    "duration": 32,
    "start_time": "2022-08-13T10:46:11.985Z"
   },
   {
    "duration": 5,
    "start_time": "2022-08-13T10:46:12.018Z"
   },
   {
    "duration": 178,
    "start_time": "2022-08-13T10:46:12.025Z"
   },
   {
    "duration": 267,
    "start_time": "2022-08-13T10:46:12.209Z"
   },
   {
    "duration": 245,
    "start_time": "2022-08-13T10:46:12.478Z"
   },
   {
    "duration": 327,
    "start_time": "2022-08-13T10:46:12.726Z"
   },
   {
    "duration": 1363,
    "start_time": "2022-08-13T10:46:13.056Z"
   },
   {
    "duration": 1324,
    "start_time": "2022-08-13T10:46:14.422Z"
   },
   {
    "duration": 4,
    "start_time": "2022-08-13T10:48:59.384Z"
   },
   {
    "duration": 22,
    "start_time": "2022-08-13T10:49:01.842Z"
   },
   {
    "duration": 4,
    "start_time": "2022-08-13T10:49:33.390Z"
   },
   {
    "duration": 6,
    "start_time": "2022-08-13T10:49:39.128Z"
   },
   {
    "duration": 4,
    "start_time": "2022-08-13T10:49:41.071Z"
   },
   {
    "duration": 20,
    "start_time": "2022-08-13T10:49:42.712Z"
   },
   {
    "duration": 3,
    "start_time": "2022-08-13T10:53:03.295Z"
   },
   {
    "duration": 104,
    "start_time": "2022-08-13T10:53:03.300Z"
   },
   {
    "duration": 23,
    "start_time": "2022-08-13T10:53:03.406Z"
   },
   {
    "duration": 13,
    "start_time": "2022-08-13T10:53:03.431Z"
   },
   {
    "duration": 42,
    "start_time": "2022-08-13T10:53:03.447Z"
   },
   {
    "duration": 7,
    "start_time": "2022-08-13T10:53:03.509Z"
   },
   {
    "duration": 8,
    "start_time": "2022-08-13T10:53:03.517Z"
   },
   {
    "duration": 7,
    "start_time": "2022-08-13T10:53:03.526Z"
   },
   {
    "duration": 47,
    "start_time": "2022-08-13T10:53:03.534Z"
   },
   {
    "duration": 45,
    "start_time": "2022-08-13T10:53:03.583Z"
   },
   {
    "duration": 17,
    "start_time": "2022-08-13T10:53:03.631Z"
   },
   {
    "duration": 4,
    "start_time": "2022-08-13T10:53:03.650Z"
   },
   {
    "duration": 27,
    "start_time": "2022-08-13T10:53:03.656Z"
   },
   {
    "duration": 8,
    "start_time": "2022-08-13T10:53:03.708Z"
   },
   {
    "duration": 4,
    "start_time": "2022-08-13T10:53:03.718Z"
   },
   {
    "duration": 27,
    "start_time": "2022-08-13T10:53:03.723Z"
   },
   {
    "duration": 15,
    "start_time": "2022-08-13T10:53:03.752Z"
   },
   {
    "duration": 5,
    "start_time": "2022-08-13T10:53:03.769Z"
   },
   {
    "duration": 365,
    "start_time": "2022-08-13T10:53:03.775Z"
   },
   {
    "duration": 247,
    "start_time": "2022-08-13T10:53:04.141Z"
   },
   {
    "duration": 263,
    "start_time": "2022-08-13T10:53:04.390Z"
   },
   {
    "duration": 224,
    "start_time": "2022-08-13T10:53:04.654Z"
   },
   {
    "duration": 220,
    "start_time": "2022-08-13T10:53:04.879Z"
   },
   {
    "duration": 8,
    "start_time": "2022-08-13T10:53:05.101Z"
   },
   {
    "duration": 18,
    "start_time": "2022-08-13T10:53:05.110Z"
   },
   {
    "duration": 11,
    "start_time": "2022-08-13T10:53:05.129Z"
   },
   {
    "duration": 17,
    "start_time": "2022-08-13T10:53:05.142Z"
   },
   {
    "duration": 78,
    "start_time": "2022-08-13T10:53:05.160Z"
   },
   {
    "duration": 19,
    "start_time": "2022-08-13T10:53:05.241Z"
   },
   {
    "duration": 3,
    "start_time": "2022-08-13T10:53:05.262Z"
   },
   {
    "duration": 229,
    "start_time": "2022-08-13T10:53:05.266Z"
   },
   {
    "duration": 212,
    "start_time": "2022-08-13T10:53:05.497Z"
   },
   {
    "duration": 201,
    "start_time": "2022-08-13T10:53:05.710Z"
   },
   {
    "duration": 254,
    "start_time": "2022-08-13T10:53:05.912Z"
   },
   {
    "duration": 226,
    "start_time": "2022-08-13T10:53:06.167Z"
   },
   {
    "duration": 19,
    "start_time": "2022-08-13T10:53:06.395Z"
   },
   {
    "duration": 212,
    "start_time": "2022-08-13T10:53:06.415Z"
   },
   {
    "duration": 7,
    "start_time": "2022-08-13T10:53:06.629Z"
   },
   {
    "duration": 95,
    "start_time": "2022-08-13T10:53:06.638Z"
   },
   {
    "duration": 188,
    "start_time": "2022-08-13T10:53:06.735Z"
   },
   {
    "duration": 24,
    "start_time": "2022-08-13T10:53:06.925Z"
   },
   {
    "duration": 11,
    "start_time": "2022-08-13T10:53:06.951Z"
   },
   {
    "duration": 6,
    "start_time": "2022-08-13T10:53:06.964Z"
   },
   {
    "duration": 161,
    "start_time": "2022-08-13T10:53:06.971Z"
   },
   {
    "duration": 464,
    "start_time": "2022-08-13T10:53:07.134Z"
   },
   {
    "duration": 161,
    "start_time": "2022-08-13T10:53:07.600Z"
   },
   {
    "duration": 246,
    "start_time": "2022-08-13T10:53:07.763Z"
   },
   {
    "duration": 1217,
    "start_time": "2022-08-13T10:53:08.010Z"
   },
   {
    "duration": 1374,
    "start_time": "2022-08-13T10:53:09.229Z"
   },
   {
    "duration": 58,
    "start_time": "2022-08-13T10:57:42.879Z"
   },
   {
    "duration": 13,
    "start_time": "2022-08-13T10:58:04.461Z"
   },
   {
    "duration": 1267,
    "start_time": "2022-08-13T17:25:28.839Z"
   },
   {
    "duration": 167,
    "start_time": "2022-08-13T17:25:30.108Z"
   },
   {
    "duration": 25,
    "start_time": "2022-08-13T17:25:30.277Z"
   },
   {
    "duration": 17,
    "start_time": "2022-08-13T17:25:30.303Z"
   },
   {
    "duration": 39,
    "start_time": "2022-08-13T17:25:30.322Z"
   },
   {
    "duration": 8,
    "start_time": "2022-08-13T17:25:30.362Z"
   },
   {
    "duration": 6,
    "start_time": "2022-08-13T17:25:30.371Z"
   },
   {
    "duration": 24,
    "start_time": "2022-08-13T17:25:30.379Z"
   },
   {
    "duration": 52,
    "start_time": "2022-08-13T17:25:30.405Z"
   },
   {
    "duration": 30,
    "start_time": "2022-08-13T17:25:30.459Z"
   },
   {
    "duration": 17,
    "start_time": "2022-08-13T17:25:30.491Z"
   },
   {
    "duration": 5,
    "start_time": "2022-08-13T17:25:30.510Z"
   },
   {
    "duration": 46,
    "start_time": "2022-08-13T17:25:30.516Z"
   },
   {
    "duration": 15,
    "start_time": "2022-08-13T17:25:30.565Z"
   },
   {
    "duration": 13,
    "start_time": "2022-08-13T17:25:30.581Z"
   },
   {
    "duration": 30,
    "start_time": "2022-08-13T17:25:30.595Z"
   },
   {
    "duration": 17,
    "start_time": "2022-08-13T17:25:30.627Z"
   },
   {
    "duration": 18,
    "start_time": "2022-08-13T17:25:30.645Z"
   },
   {
    "duration": 222,
    "start_time": "2022-08-13T17:25:30.665Z"
   },
   {
    "duration": 201,
    "start_time": "2022-08-13T17:25:30.889Z"
   },
   {
    "duration": 195,
    "start_time": "2022-08-13T17:25:31.092Z"
   },
   {
    "duration": 191,
    "start_time": "2022-08-13T17:25:31.289Z"
   },
   {
    "duration": 180,
    "start_time": "2022-08-13T17:25:31.481Z"
   },
   {
    "duration": 3,
    "start_time": "2022-08-13T17:25:31.663Z"
   },
   {
    "duration": 15,
    "start_time": "2022-08-13T17:25:31.668Z"
   },
   {
    "duration": 10,
    "start_time": "2022-08-13T17:25:31.685Z"
   },
   {
    "duration": 11,
    "start_time": "2022-08-13T17:25:31.697Z"
   },
   {
    "duration": 82,
    "start_time": "2022-08-13T17:25:31.709Z"
   },
   {
    "duration": 18,
    "start_time": "2022-08-13T17:25:31.792Z"
   },
   {
    "duration": 3,
    "start_time": "2022-08-13T17:25:31.812Z"
   },
   {
    "duration": 149,
    "start_time": "2022-08-13T17:25:31.837Z"
   },
   {
    "duration": 223,
    "start_time": "2022-08-13T17:25:31.987Z"
   },
   {
    "duration": 162,
    "start_time": "2022-08-13T17:25:32.212Z"
   },
   {
    "duration": 191,
    "start_time": "2022-08-13T17:25:32.375Z"
   },
   {
    "duration": 174,
    "start_time": "2022-08-13T17:25:32.567Z"
   },
   {
    "duration": 10,
    "start_time": "2022-08-13T17:25:32.743Z"
   },
   {
    "duration": 167,
    "start_time": "2022-08-13T17:25:32.755Z"
   },
   {
    "duration": 15,
    "start_time": "2022-08-13T17:25:32.924Z"
   },
   {
    "duration": 70,
    "start_time": "2022-08-13T17:25:32.940Z"
   },
   {
    "duration": 152,
    "start_time": "2022-08-13T17:25:33.011Z"
   },
   {
    "duration": 24,
    "start_time": "2022-08-13T17:25:33.166Z"
   },
   {
    "duration": 11,
    "start_time": "2022-08-13T17:25:33.191Z"
   },
   {
    "duration": 3,
    "start_time": "2022-08-13T17:25:33.203Z"
   },
   {
    "duration": 137,
    "start_time": "2022-08-13T17:25:33.207Z"
   },
   {
    "duration": 216,
    "start_time": "2022-08-13T17:25:33.346Z"
   },
   {
    "duration": 148,
    "start_time": "2022-08-13T17:25:33.563Z"
   },
   {
    "duration": 314,
    "start_time": "2022-08-13T17:25:33.713Z"
   },
   {
    "duration": 1165,
    "start_time": "2022-08-13T17:25:34.028Z"
   },
   {
    "duration": 1199,
    "start_time": "2022-08-13T17:25:35.195Z"
   },
   {
    "duration": 85,
    "start_time": "2022-08-13T17:40:37.052Z"
   },
   {
    "duration": 479,
    "start_time": "2022-08-13T17:40:41.333Z"
   },
   {
    "duration": 14,
    "start_time": "2022-08-13T17:41:04.835Z"
   },
   {
    "duration": 53,
    "start_time": "2022-08-13T17:45:07.027Z"
   },
   {
    "duration": 50,
    "start_time": "2022-08-13T17:50:17.971Z"
   },
   {
    "duration": 5,
    "start_time": "2022-08-13T17:50:36.824Z"
   },
   {
    "duration": 6,
    "start_time": "2022-08-13T17:50:42.257Z"
   },
   {
    "duration": 20,
    "start_time": "2022-08-13T17:50:44.581Z"
   },
   {
    "duration": 21,
    "start_time": "2022-08-13T17:50:49.663Z"
   },
   {
    "duration": 52,
    "start_time": "2022-08-13T17:50:59.166Z"
   },
   {
    "duration": 37,
    "start_time": "2022-08-13T17:51:19.495Z"
   },
   {
    "duration": 30,
    "start_time": "2022-08-13T17:51:19.534Z"
   },
   {
    "duration": 8,
    "start_time": "2022-08-13T17:51:19.565Z"
   },
   {
    "duration": 315,
    "start_time": "2022-08-13T17:51:19.575Z"
   },
   {
    "duration": 274,
    "start_time": "2022-08-13T17:51:19.892Z"
   },
   {
    "duration": 453,
    "start_time": "2022-08-13T17:51:20.169Z"
   },
   {
    "duration": 269,
    "start_time": "2022-08-13T17:51:20.624Z"
   },
   {
    "duration": 270,
    "start_time": "2022-08-13T17:51:20.895Z"
   },
   {
    "duration": 4,
    "start_time": "2022-08-13T17:51:21.166Z"
   },
   {
    "duration": 19,
    "start_time": "2022-08-13T17:51:21.172Z"
   },
   {
    "duration": 10,
    "start_time": "2022-08-13T17:51:21.193Z"
   },
   {
    "duration": 10,
    "start_time": "2022-08-13T17:51:21.204Z"
   },
   {
    "duration": 82,
    "start_time": "2022-08-13T17:51:21.215Z"
   },
   {
    "duration": 18,
    "start_time": "2022-08-13T17:51:21.300Z"
   },
   {
    "duration": 4,
    "start_time": "2022-08-13T17:51:21.319Z"
   },
   {
    "duration": 244,
    "start_time": "2022-08-13T17:51:21.344Z"
   },
   {
    "duration": 226,
    "start_time": "2022-08-13T17:51:21.589Z"
   },
   {
    "duration": 211,
    "start_time": "2022-08-13T17:51:21.816Z"
   },
   {
    "duration": 357,
    "start_time": "2022-08-13T17:51:22.028Z"
   },
   {
    "duration": 240,
    "start_time": "2022-08-13T17:51:22.387Z"
   },
   {
    "duration": 27,
    "start_time": "2022-08-13T17:51:22.628Z"
   },
   {
    "duration": 224,
    "start_time": "2022-08-13T17:51:22.662Z"
   },
   {
    "duration": 8,
    "start_time": "2022-08-13T17:51:22.888Z"
   },
   {
    "duration": 98,
    "start_time": "2022-08-13T17:51:22.897Z"
   },
   {
    "duration": 212,
    "start_time": "2022-08-13T17:51:22.996Z"
   },
   {
    "duration": 35,
    "start_time": "2022-08-13T17:51:23.209Z"
   },
   {
    "duration": 17,
    "start_time": "2022-08-13T17:51:23.256Z"
   },
   {
    "duration": 4,
    "start_time": "2022-08-13T17:51:23.275Z"
   },
   {
    "duration": 147,
    "start_time": "2022-08-13T17:51:23.281Z"
   },
   {
    "duration": 281,
    "start_time": "2022-08-13T17:51:23.430Z"
   },
   {
    "duration": 161,
    "start_time": "2022-08-13T17:51:23.713Z"
   },
   {
    "duration": 258,
    "start_time": "2022-08-13T17:51:23.876Z"
   },
   {
    "duration": 1469,
    "start_time": "2022-08-13T17:51:24.136Z"
   },
   {
    "duration": 1292,
    "start_time": "2022-08-13T17:51:25.606Z"
   },
   {
    "duration": 10,
    "start_time": "2022-08-13T17:55:47.277Z"
   },
   {
    "duration": 19,
    "start_time": "2022-08-13T18:07:25.066Z"
   },
   {
    "duration": 32,
    "start_time": "2022-08-13T18:07:43.427Z"
   },
   {
    "duration": 51,
    "start_time": "2022-08-13T18:09:00.766Z"
   },
   {
    "duration": 64,
    "start_time": "2022-08-13T18:09:22.463Z"
   },
   {
    "duration": 156,
    "start_time": "2022-08-13T18:09:22.529Z"
   },
   {
    "duration": 17,
    "start_time": "2022-08-13T18:09:22.687Z"
   },
   {
    "duration": 4,
    "start_time": "2022-08-13T18:09:22.705Z"
   },
   {
    "duration": 7,
    "start_time": "2022-08-13T18:09:22.710Z"
   },
   {
    "duration": 8,
    "start_time": "2022-08-13T18:09:22.718Z"
   },
   {
    "duration": 4,
    "start_time": "2022-08-13T18:09:22.740Z"
   },
   {
    "duration": 42,
    "start_time": "2022-08-13T18:09:22.748Z"
   },
   {
    "duration": 36,
    "start_time": "2022-08-13T18:09:22.792Z"
   },
   {
    "duration": 23,
    "start_time": "2022-08-13T18:09:22.831Z"
   },
   {
    "duration": 23,
    "start_time": "2022-08-13T18:09:22.857Z"
   },
   {
    "duration": 268,
    "start_time": "2022-08-13T18:09:22.882Z"
   },
   {
    "duration": 260,
    "start_time": "2022-08-13T18:09:23.161Z"
   },
   {
    "duration": 277,
    "start_time": "2022-08-13T18:09:23.422Z"
   },
   {
    "duration": 273,
    "start_time": "2022-08-13T18:09:23.701Z"
   },
   {
    "duration": 242,
    "start_time": "2022-08-13T18:09:23.975Z"
   },
   {
    "duration": 4,
    "start_time": "2022-08-13T18:09:24.219Z"
   },
   {
    "duration": 40,
    "start_time": "2022-08-13T18:09:24.224Z"
   },
   {
    "duration": 14,
    "start_time": "2022-08-13T18:09:24.269Z"
   },
   {
    "duration": 13,
    "start_time": "2022-08-13T18:09:24.285Z"
   },
   {
    "duration": 82,
    "start_time": "2022-08-13T18:09:24.300Z"
   },
   {
    "duration": 21,
    "start_time": "2022-08-13T18:09:24.384Z"
   },
   {
    "duration": 4,
    "start_time": "2022-08-13T18:09:24.406Z"
   },
   {
    "duration": 265,
    "start_time": "2022-08-13T18:09:24.411Z"
   },
   {
    "duration": 229,
    "start_time": "2022-08-13T18:09:24.678Z"
   },
   {
    "duration": 243,
    "start_time": "2022-08-13T18:09:24.908Z"
   },
   {
    "duration": 259,
    "start_time": "2022-08-13T18:09:25.153Z"
   },
   {
    "duration": 254,
    "start_time": "2022-08-13T18:09:25.414Z"
   },
   {
    "duration": 13,
    "start_time": "2022-08-13T18:09:25.669Z"
   },
   {
    "duration": 234,
    "start_time": "2022-08-13T18:09:25.684Z"
   },
   {
    "duration": 6,
    "start_time": "2022-08-13T18:09:25.920Z"
   },
   {
    "duration": 107,
    "start_time": "2022-08-13T18:09:25.927Z"
   },
   {
    "duration": 239,
    "start_time": "2022-08-13T18:09:26.036Z"
   },
   {
    "duration": 24,
    "start_time": "2022-08-13T18:09:26.277Z"
   },
   {
    "duration": 11,
    "start_time": "2022-08-13T18:09:26.302Z"
   },
   {
    "duration": 3,
    "start_time": "2022-08-13T18:09:26.315Z"
   },
   {
    "duration": 349,
    "start_time": "2022-08-13T18:09:26.319Z"
   },
   {
    "duration": 300,
    "start_time": "2022-08-13T18:09:26.672Z"
   },
   {
    "duration": 154,
    "start_time": "2022-08-13T18:09:26.974Z"
   },
   {
    "duration": 282,
    "start_time": "2022-08-13T18:09:27.129Z"
   },
   {
    "duration": 1334,
    "start_time": "2022-08-13T18:09:27.413Z"
   },
   {
    "duration": 1519,
    "start_time": "2022-08-13T18:09:28.756Z"
   },
   {
    "duration": 68,
    "start_time": "2022-08-13T18:13:40.168Z"
   },
   {
    "duration": 63,
    "start_time": "2022-08-13T18:13:45.815Z"
   },
   {
    "duration": 21,
    "start_time": "2022-08-13T18:13:45.880Z"
   },
   {
    "duration": 4,
    "start_time": "2022-08-13T18:13:45.902Z"
   },
   {
    "duration": 240,
    "start_time": "2022-08-13T18:13:45.908Z"
   },
   {
    "duration": 213,
    "start_time": "2022-08-13T18:13:46.150Z"
   },
   {
    "duration": 200,
    "start_time": "2022-08-13T18:13:46.365Z"
   },
   {
    "duration": 237,
    "start_time": "2022-08-13T18:13:46.567Z"
   },
   {
    "duration": 233,
    "start_time": "2022-08-13T18:13:46.805Z"
   },
   {
    "duration": 11,
    "start_time": "2022-08-13T18:13:47.040Z"
   },
   {
    "duration": 220,
    "start_time": "2022-08-13T18:13:47.053Z"
   },
   {
    "duration": 6,
    "start_time": "2022-08-13T18:13:47.275Z"
   },
   {
    "duration": 87,
    "start_time": "2022-08-13T18:13:47.282Z"
   },
   {
    "duration": 210,
    "start_time": "2022-08-13T18:13:47.371Z"
   },
   {
    "duration": 25,
    "start_time": "2022-08-13T18:13:47.584Z"
   },
   {
    "duration": 27,
    "start_time": "2022-08-13T18:13:47.611Z"
   },
   {
    "duration": 4,
    "start_time": "2022-08-13T18:13:47.640Z"
   },
   {
    "duration": 150,
    "start_time": "2022-08-13T18:13:47.645Z"
   },
   {
    "duration": 263,
    "start_time": "2022-08-13T18:13:47.797Z"
   },
   {
    "duration": 146,
    "start_time": "2022-08-13T18:13:48.061Z"
   },
   {
    "duration": 260,
    "start_time": "2022-08-13T18:13:48.208Z"
   },
   {
    "duration": 1440,
    "start_time": "2022-08-13T18:13:48.470Z"
   },
   {
    "duration": 1172,
    "start_time": "2022-08-13T18:13:49.912Z"
   },
   {
    "duration": 3,
    "start_time": "2022-08-13T18:25:52.348Z"
   },
   {
    "duration": 101,
    "start_time": "2022-08-13T18:25:52.354Z"
   },
   {
    "duration": 23,
    "start_time": "2022-08-13T18:25:52.457Z"
   },
   {
    "duration": 14,
    "start_time": "2022-08-13T18:25:52.481Z"
   },
   {
    "duration": 61,
    "start_time": "2022-08-13T18:25:52.497Z"
   },
   {
    "duration": 8,
    "start_time": "2022-08-13T18:25:52.559Z"
   },
   {
    "duration": 5,
    "start_time": "2022-08-13T18:25:52.569Z"
   },
   {
    "duration": 6,
    "start_time": "2022-08-13T18:25:52.575Z"
   },
   {
    "duration": 9,
    "start_time": "2022-08-13T18:25:52.583Z"
   },
   {
    "duration": 50,
    "start_time": "2022-08-13T18:25:52.594Z"
   },
   {
    "duration": 16,
    "start_time": "2022-08-13T18:25:52.646Z"
   },
   {
    "duration": 49,
    "start_time": "2022-08-13T18:25:52.664Z"
   },
   {
    "duration": 42,
    "start_time": "2022-08-13T18:25:52.714Z"
   },
   {
    "duration": 17,
    "start_time": "2022-08-13T18:25:52.757Z"
   },
   {
    "duration": 4,
    "start_time": "2022-08-13T18:25:52.775Z"
   },
   {
    "duration": 23,
    "start_time": "2022-08-13T18:25:52.780Z"
   },
   {
    "duration": 3,
    "start_time": "2022-08-13T18:25:52.804Z"
   },
   {
    "duration": 47,
    "start_time": "2022-08-13T18:25:52.808Z"
   },
   {
    "duration": 40,
    "start_time": "2022-08-13T18:25:52.856Z"
   },
   {
    "duration": 15,
    "start_time": "2022-08-13T18:25:52.897Z"
   },
   {
    "duration": 3,
    "start_time": "2022-08-13T18:25:52.914Z"
   },
   {
    "duration": 236,
    "start_time": "2022-08-13T18:25:52.939Z"
   },
   {
    "duration": 221,
    "start_time": "2022-08-13T18:25:53.176Z"
   },
   {
    "duration": 380,
    "start_time": "2022-08-13T18:25:53.399Z"
   },
   {
    "duration": 212,
    "start_time": "2022-08-13T18:25:53.780Z"
   },
   {
    "duration": 213,
    "start_time": "2022-08-13T18:25:53.994Z"
   },
   {
    "duration": 4,
    "start_time": "2022-08-13T18:25:54.208Z"
   },
   {
    "duration": 14,
    "start_time": "2022-08-13T18:25:54.213Z"
   },
   {
    "duration": 11,
    "start_time": "2022-08-13T18:25:54.239Z"
   },
   {
    "duration": 13,
    "start_time": "2022-08-13T18:25:54.251Z"
   },
   {
    "duration": 83,
    "start_time": "2022-08-13T18:25:54.265Z"
   },
   {
    "duration": 22,
    "start_time": "2022-08-13T18:25:54.350Z"
   },
   {
    "duration": 3,
    "start_time": "2022-08-13T18:25:54.374Z"
   },
   {
    "duration": 203,
    "start_time": "2022-08-13T18:25:54.378Z"
   },
   {
    "duration": 193,
    "start_time": "2022-08-13T18:25:54.582Z"
   },
   {
    "duration": 181,
    "start_time": "2022-08-13T18:25:54.777Z"
   },
   {
    "duration": 221,
    "start_time": "2022-08-13T18:25:54.959Z"
   },
   {
    "duration": 242,
    "start_time": "2022-08-13T18:25:55.181Z"
   },
   {
    "duration": 18,
    "start_time": "2022-08-13T18:25:55.425Z"
   },
   {
    "duration": 225,
    "start_time": "2022-08-13T18:25:55.444Z"
   },
   {
    "duration": 6,
    "start_time": "2022-08-13T18:25:55.670Z"
   },
   {
    "duration": 92,
    "start_time": "2022-08-13T18:25:55.678Z"
   },
   {
    "duration": 186,
    "start_time": "2022-08-13T18:25:55.772Z"
   },
   {
    "duration": 24,
    "start_time": "2022-08-13T18:25:55.959Z"
   },
   {
    "duration": 12,
    "start_time": "2022-08-13T18:25:55.984Z"
   },
   {
    "duration": 3,
    "start_time": "2022-08-13T18:25:55.997Z"
   },
   {
    "duration": 162,
    "start_time": "2022-08-13T18:25:56.001Z"
   },
   {
    "duration": 254,
    "start_time": "2022-08-13T18:25:56.165Z"
   },
   {
    "duration": 139,
    "start_time": "2022-08-13T18:25:56.420Z"
   },
   {
    "duration": 234,
    "start_time": "2022-08-13T18:25:56.561Z"
   },
   {
    "duration": 1320,
    "start_time": "2022-08-13T18:25:56.797Z"
   },
   {
    "duration": 1167,
    "start_time": "2022-08-13T18:25:58.118Z"
   },
   {
    "duration": 177,
    "start_time": "2022-08-13T18:36:50.026Z"
   },
   {
    "duration": 1167,
    "start_time": "2022-08-13T18:38:13.227Z"
   },
   {
    "duration": 1155,
    "start_time": "2022-08-13T18:40:29.652Z"
   },
   {
    "duration": 1398,
    "start_time": "2022-08-13T18:40:40.291Z"
   },
   {
    "duration": 1259,
    "start_time": "2022-08-13T18:41:17.876Z"
   },
   {
    "duration": 6,
    "start_time": "2022-08-13T18:42:11.335Z"
   },
   {
    "duration": 121,
    "start_time": "2022-08-13T18:42:11.343Z"
   },
   {
    "duration": 24,
    "start_time": "2022-08-13T18:42:11.465Z"
   },
   {
    "duration": 13,
    "start_time": "2022-08-13T18:42:11.491Z"
   },
   {
    "duration": 63,
    "start_time": "2022-08-13T18:42:11.505Z"
   },
   {
    "duration": 10,
    "start_time": "2022-08-13T18:42:11.570Z"
   },
   {
    "duration": 5,
    "start_time": "2022-08-13T18:42:11.582Z"
   },
   {
    "duration": 6,
    "start_time": "2022-08-13T18:42:11.589Z"
   },
   {
    "duration": 41,
    "start_time": "2022-08-13T18:42:11.597Z"
   },
   {
    "duration": 25,
    "start_time": "2022-08-13T18:42:11.646Z"
   },
   {
    "duration": 15,
    "start_time": "2022-08-13T18:42:11.673Z"
   },
   {
    "duration": 78,
    "start_time": "2022-08-13T18:42:11.690Z"
   },
   {
    "duration": 31,
    "start_time": "2022-08-13T18:42:11.770Z"
   },
   {
    "duration": 19,
    "start_time": "2022-08-13T18:42:11.802Z"
   },
   {
    "duration": 10,
    "start_time": "2022-08-13T18:42:11.845Z"
   },
   {
    "duration": 37,
    "start_time": "2022-08-13T18:42:11.859Z"
   },
   {
    "duration": 5,
    "start_time": "2022-08-13T18:42:11.898Z"
   },
   {
    "duration": 25,
    "start_time": "2022-08-13T18:42:11.904Z"
   },
   {
    "duration": 21,
    "start_time": "2022-08-13T18:42:11.930Z"
   },
   {
    "duration": 7,
    "start_time": "2022-08-13T18:42:11.956Z"
   },
   {
    "duration": 253,
    "start_time": "2022-08-13T18:42:11.964Z"
   },
   {
    "duration": 251,
    "start_time": "2022-08-13T18:42:12.218Z"
   },
   {
    "duration": 250,
    "start_time": "2022-08-13T18:42:12.471Z"
   },
   {
    "duration": 251,
    "start_time": "2022-08-13T18:42:12.725Z"
   },
   {
    "duration": 239,
    "start_time": "2022-08-13T18:42:12.978Z"
   },
   {
    "duration": 4,
    "start_time": "2022-08-13T18:42:13.218Z"
   },
   {
    "duration": 45,
    "start_time": "2022-08-13T18:42:13.223Z"
   },
   {
    "duration": 14,
    "start_time": "2022-08-13T18:42:13.270Z"
   },
   {
    "duration": 14,
    "start_time": "2022-08-13T18:42:13.286Z"
   },
   {
    "duration": 83,
    "start_time": "2022-08-13T18:42:13.301Z"
   },
   {
    "duration": 32,
    "start_time": "2022-08-13T18:42:13.386Z"
   },
   {
    "duration": 4,
    "start_time": "2022-08-13T18:42:13.420Z"
   },
   {
    "duration": 231,
    "start_time": "2022-08-13T18:42:13.426Z"
   },
   {
    "duration": 214,
    "start_time": "2022-08-13T18:42:13.659Z"
   },
   {
    "duration": 212,
    "start_time": "2022-08-13T18:42:13.874Z"
   },
   {
    "duration": 253,
    "start_time": "2022-08-13T18:42:14.087Z"
   },
   {
    "duration": 233,
    "start_time": "2022-08-13T18:42:14.342Z"
   },
   {
    "duration": 14,
    "start_time": "2022-08-13T18:42:14.577Z"
   },
   {
    "duration": 237,
    "start_time": "2022-08-13T18:42:14.593Z"
   },
   {
    "duration": 15,
    "start_time": "2022-08-13T18:42:14.832Z"
   },
   {
    "duration": 363,
    "start_time": "2022-08-13T18:42:14.849Z"
   },
   {
    "duration": 212,
    "start_time": "2022-08-13T18:42:15.213Z"
   },
   {
    "duration": 43,
    "start_time": "2022-08-13T18:42:15.427Z"
   },
   {
    "duration": 15,
    "start_time": "2022-08-13T18:42:15.472Z"
   },
   {
    "duration": 4,
    "start_time": "2022-08-13T18:42:15.489Z"
   },
   {
    "duration": 169,
    "start_time": "2022-08-13T18:42:15.494Z"
   },
   {
    "duration": 339,
    "start_time": "2022-08-13T18:42:15.664Z"
   },
   {
    "duration": 182,
    "start_time": "2022-08-13T18:42:16.005Z"
   },
   {
    "duration": 293,
    "start_time": "2022-08-13T18:42:16.189Z"
   },
   {
    "duration": 1308,
    "start_time": "2022-08-13T18:42:16.484Z"
   },
   {
    "duration": 1334,
    "start_time": "2022-08-13T18:42:17.794Z"
   },
   {
    "duration": 17,
    "start_time": "2022-08-13T18:59:57.899Z"
   },
   {
    "duration": 6,
    "start_time": "2022-08-13T19:00:50.740Z"
   },
   {
    "duration": 9,
    "start_time": "2022-08-13T19:02:17.078Z"
   },
   {
    "duration": 3,
    "start_time": "2022-08-13T19:10:47.865Z"
   },
   {
    "duration": 97,
    "start_time": "2022-08-13T19:10:47.870Z"
   },
   {
    "duration": 23,
    "start_time": "2022-08-13T19:10:47.968Z"
   },
   {
    "duration": 13,
    "start_time": "2022-08-13T19:10:47.992Z"
   },
   {
    "duration": 58,
    "start_time": "2022-08-13T19:10:48.007Z"
   },
   {
    "duration": 7,
    "start_time": "2022-08-13T19:10:48.066Z"
   },
   {
    "duration": 6,
    "start_time": "2022-08-13T19:10:48.074Z"
   },
   {
    "duration": 6,
    "start_time": "2022-08-13T19:10:48.082Z"
   },
   {
    "duration": 9,
    "start_time": "2022-08-13T19:10:48.090Z"
   },
   {
    "duration": 45,
    "start_time": "2022-08-13T19:10:48.100Z"
   },
   {
    "duration": 14,
    "start_time": "2022-08-13T19:10:48.146Z"
   },
   {
    "duration": 51,
    "start_time": "2022-08-13T19:10:48.161Z"
   },
   {
    "duration": 43,
    "start_time": "2022-08-13T19:10:48.214Z"
   },
   {
    "duration": 17,
    "start_time": "2022-08-13T19:10:48.258Z"
   },
   {
    "duration": 4,
    "start_time": "2022-08-13T19:10:48.276Z"
   },
   {
    "duration": 25,
    "start_time": "2022-08-13T19:10:48.282Z"
   },
   {
    "duration": 4,
    "start_time": "2022-08-13T19:10:48.308Z"
   },
   {
    "duration": 42,
    "start_time": "2022-08-13T19:10:48.313Z"
   },
   {
    "duration": 16,
    "start_time": "2022-08-13T19:10:48.356Z"
   },
   {
    "duration": 4,
    "start_time": "2022-08-13T19:10:48.373Z"
   },
   {
    "duration": 254,
    "start_time": "2022-08-13T19:10:48.379Z"
   },
   {
    "duration": 245,
    "start_time": "2022-08-13T19:10:48.635Z"
   },
   {
    "duration": 309,
    "start_time": "2022-08-13T19:10:48.884Z"
   },
   {
    "duration": 225,
    "start_time": "2022-08-13T19:10:49.196Z"
   },
   {
    "duration": 217,
    "start_time": "2022-08-13T19:10:49.423Z"
   },
   {
    "duration": 4,
    "start_time": "2022-08-13T19:10:49.641Z"
   },
   {
    "duration": 19,
    "start_time": "2022-08-13T19:10:49.646Z"
   },
   {
    "duration": 11,
    "start_time": "2022-08-13T19:10:49.667Z"
   },
   {
    "duration": 11,
    "start_time": "2022-08-13T19:10:49.680Z"
   },
   {
    "duration": 96,
    "start_time": "2022-08-13T19:10:49.693Z"
   },
   {
    "duration": 20,
    "start_time": "2022-08-13T19:10:49.791Z"
   },
   {
    "duration": 4,
    "start_time": "2022-08-13T19:10:49.812Z"
   },
   {
    "duration": 210,
    "start_time": "2022-08-13T19:10:49.817Z"
   },
   {
    "duration": 196,
    "start_time": "2022-08-13T19:10:50.028Z"
   },
   {
    "duration": 189,
    "start_time": "2022-08-13T19:10:50.225Z"
   },
   {
    "duration": 230,
    "start_time": "2022-08-13T19:10:50.416Z"
   },
   {
    "duration": 505,
    "start_time": "2022-08-13T19:10:50.647Z"
   },
   {
    "duration": 11,
    "start_time": "2022-08-13T19:10:51.153Z"
   },
   {
    "duration": 203,
    "start_time": "2022-08-13T19:10:51.165Z"
   },
   {
    "duration": 6,
    "start_time": "2022-08-13T19:10:51.369Z"
   },
   {
    "duration": 82,
    "start_time": "2022-08-13T19:10:51.376Z"
   },
   {
    "duration": 180,
    "start_time": "2022-08-13T19:10:51.459Z"
   },
   {
    "duration": 24,
    "start_time": "2022-08-13T19:10:51.640Z"
   },
   {
    "duration": 11,
    "start_time": "2022-08-13T19:10:51.665Z"
   },
   {
    "duration": 3,
    "start_time": "2022-08-13T19:10:51.678Z"
   },
   {
    "duration": 149,
    "start_time": "2022-08-13T19:10:51.682Z"
   },
   {
    "duration": 250,
    "start_time": "2022-08-13T19:10:51.838Z"
   },
   {
    "duration": 142,
    "start_time": "2022-08-13T19:10:52.089Z"
   },
   {
    "duration": 242,
    "start_time": "2022-08-13T19:10:52.233Z"
   },
   {
    "duration": 1120,
    "start_time": "2022-08-13T19:10:52.477Z"
   },
   {
    "duration": 1116,
    "start_time": "2022-08-13T19:10:53.599Z"
   }
  ],
  "kernelspec": {
   "display_name": "Python 3 (ipykernel)",
   "language": "python",
   "name": "python3"
  },
  "language_info": {
   "codemirror_mode": {
    "name": "ipython",
    "version": 3
   },
   "file_extension": ".py",
   "mimetype": "text/x-python",
   "name": "python",
   "nbconvert_exporter": "python",
   "pygments_lexer": "ipython3",
   "version": "3.9.7"
  },
  "toc": {
   "base_numbering": 1,
   "nav_menu": {},
   "number_sections": true,
   "sideBar": true,
   "skip_h1_title": false,
   "title_cell": "Table of Contents",
   "title_sidebar": "Contents",
   "toc_cell": false,
   "toc_position": {},
   "toc_section_display": true,
   "toc_window_display": true
  }
 },
 "nbformat": 4,
 "nbformat_minor": 2
}
