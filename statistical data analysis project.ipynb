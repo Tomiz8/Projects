{
 "cells": [
  {
   "cell_type": "markdown",
   "metadata": {},
   "source": [
    "# Statistical Data Analysis Project -  Megaline Telecom\n",
    "\n",
    "The goal of this project is to analyze clients' behavior and determine which prepaid plan brings in more revenue for Megaline telecom company.  To adjust the advertising budget, the commercial department of the company wants to find the more profitable plan, based on analysis of usage parameters and testing hypotheses regarding the plans revenue of 500 clietns sample.<br>\n",
    "The analysis process outline:\n",
    "- General information on data, decisions about addressing misising values, data types conversion, additional necessary information and merging tables.\n",
    "- Processed data analysis - distributions of core paramteres for each group using histograms and statistical measures, and conclusions derived from the findings.\n",
    "- Hypotheses testing using t-test and probability, overall conclusion and recommedations.\n"
   ]
  },
  {
   "cell_type": "markdown",
   "metadata": {},
   "source": [
    "## General Knowledge"
   ]
  },
  {
   "cell_type": "code",
   "execution_count": 2,
   "metadata": {},
   "outputs": [],
   "source": [
    "import pandas as pd\n",
    "import numpy as np\n",
    "from scipy import stats as st\n",
    "import seaborn as sns\n",
    "import matplotlib.pyplot as plt\n",
    "from IPython.core.interactiveshell import InteractiveShell\n",
    "InteractiveShell.ast_node_interactivity = \"all\""
   ]
  },
  {
   "cell_type": "code",
   "execution_count": 3,
   "metadata": {},
   "outputs": [],
   "source": [
    "path = '/Data Analysis/Projects/'\n",
    "data_users = pd.read_csv(path+'megaline_users.csv')\n",
    "data_internet = pd.read_csv(path+'megaline_internet.csv')\n",
    "data_messages = pd.read_csv(path+'megaline_messages.csv')\n",
    "data_plans = pd.read_csv(path+'megaline_plans.csv')\n",
    "data_calls = pd.read_csv(path+'megaline_calls.csv')"
   ]
  },
  {
   "cell_type": "markdown",
   "metadata": {},
   "source": [
    "General knowledge of the datasets:"
   ]
  },
  {
   "cell_type": "code",
   "execution_count": 4,
   "metadata": {},
   "outputs": [],
   "source": [
    "def info(dataset):\n",
    "    print(dataset.info())\n",
    "    display(dataset.head())"
   ]
  },
  {
   "cell_type": "code",
   "execution_count": 5,
   "metadata": {},
   "outputs": [
    {
     "name": "stdout",
     "output_type": "stream",
     "text": [
      "<class 'pandas.core.frame.DataFrame'>\n",
      "RangeIndex: 500 entries, 0 to 499\n",
      "Data columns (total 8 columns):\n",
      " #   Column      Non-Null Count  Dtype \n",
      "---  ------      --------------  ----- \n",
      " 0   user_id     500 non-null    int64 \n",
      " 1   first_name  500 non-null    object\n",
      " 2   last_name   500 non-null    object\n",
      " 3   age         500 non-null    int64 \n",
      " 4   city        500 non-null    object\n",
      " 5   reg_date    500 non-null    object\n",
      " 6   plan        500 non-null    object\n",
      " 7   churn_date  34 non-null     object\n",
      "dtypes: int64(2), object(6)\n",
      "memory usage: 31.4+ KB\n",
      "None\n"
     ]
    },
    {
     "data": {
      "text/html": [
       "<div>\n",
       "<style scoped>\n",
       "    .dataframe tbody tr th:only-of-type {\n",
       "        vertical-align: middle;\n",
       "    }\n",
       "\n",
       "    .dataframe tbody tr th {\n",
       "        vertical-align: top;\n",
       "    }\n",
       "\n",
       "    .dataframe thead th {\n",
       "        text-align: right;\n",
       "    }\n",
       "</style>\n",
       "<table border=\"1\" class=\"dataframe\">\n",
       "  <thead>\n",
       "    <tr style=\"text-align: right;\">\n",
       "      <th></th>\n",
       "      <th>user_id</th>\n",
       "      <th>first_name</th>\n",
       "      <th>last_name</th>\n",
       "      <th>age</th>\n",
       "      <th>city</th>\n",
       "      <th>reg_date</th>\n",
       "      <th>plan</th>\n",
       "      <th>churn_date</th>\n",
       "    </tr>\n",
       "  </thead>\n",
       "  <tbody>\n",
       "    <tr>\n",
       "      <th>0</th>\n",
       "      <td>1000</td>\n",
       "      <td>Anamaria</td>\n",
       "      <td>Bauer</td>\n",
       "      <td>45</td>\n",
       "      <td>Atlanta-Sandy Springs-Roswell, GA MSA</td>\n",
       "      <td>2018-12-24</td>\n",
       "      <td>ultimate</td>\n",
       "      <td>NaN</td>\n",
       "    </tr>\n",
       "    <tr>\n",
       "      <th>1</th>\n",
       "      <td>1001</td>\n",
       "      <td>Mickey</td>\n",
       "      <td>Wilkerson</td>\n",
       "      <td>28</td>\n",
       "      <td>Seattle-Tacoma-Bellevue, WA MSA</td>\n",
       "      <td>2018-08-13</td>\n",
       "      <td>surf</td>\n",
       "      <td>NaN</td>\n",
       "    </tr>\n",
       "    <tr>\n",
       "      <th>2</th>\n",
       "      <td>1002</td>\n",
       "      <td>Carlee</td>\n",
       "      <td>Hoffman</td>\n",
       "      <td>36</td>\n",
       "      <td>Las Vegas-Henderson-Paradise, NV MSA</td>\n",
       "      <td>2018-10-21</td>\n",
       "      <td>surf</td>\n",
       "      <td>NaN</td>\n",
       "    </tr>\n",
       "    <tr>\n",
       "      <th>3</th>\n",
       "      <td>1003</td>\n",
       "      <td>Reynaldo</td>\n",
       "      <td>Jenkins</td>\n",
       "      <td>52</td>\n",
       "      <td>Tulsa, OK MSA</td>\n",
       "      <td>2018-01-28</td>\n",
       "      <td>surf</td>\n",
       "      <td>NaN</td>\n",
       "    </tr>\n",
       "    <tr>\n",
       "      <th>4</th>\n",
       "      <td>1004</td>\n",
       "      <td>Leonila</td>\n",
       "      <td>Thompson</td>\n",
       "      <td>40</td>\n",
       "      <td>Seattle-Tacoma-Bellevue, WA MSA</td>\n",
       "      <td>2018-05-23</td>\n",
       "      <td>surf</td>\n",
       "      <td>NaN</td>\n",
       "    </tr>\n",
       "  </tbody>\n",
       "</table>\n",
       "</div>"
      ],
      "text/plain": [
       "   user_id first_name  last_name  age                                   city  \\\n",
       "0     1000   Anamaria      Bauer   45  Atlanta-Sandy Springs-Roswell, GA MSA   \n",
       "1     1001     Mickey  Wilkerson   28        Seattle-Tacoma-Bellevue, WA MSA   \n",
       "2     1002     Carlee    Hoffman   36   Las Vegas-Henderson-Paradise, NV MSA   \n",
       "3     1003   Reynaldo    Jenkins   52                          Tulsa, OK MSA   \n",
       "4     1004    Leonila   Thompson   40        Seattle-Tacoma-Bellevue, WA MSA   \n",
       "\n",
       "     reg_date      plan churn_date  \n",
       "0  2018-12-24  ultimate        NaN  \n",
       "1  2018-08-13      surf        NaN  \n",
       "2  2018-10-21      surf        NaN  \n",
       "3  2018-01-28      surf        NaN  \n",
       "4  2018-05-23      surf        NaN  "
      ]
     },
     "metadata": {},
     "output_type": "display_data"
    }
   ],
   "source": [
    "info(data_users)"
   ]
  },
  {
   "cell_type": "code",
   "execution_count": 6,
   "metadata": {},
   "outputs": [
    {
     "name": "stdout",
     "output_type": "stream",
     "text": [
      "<class 'pandas.core.frame.DataFrame'>\n",
      "RangeIndex: 137735 entries, 0 to 137734\n",
      "Data columns (total 4 columns):\n",
      " #   Column     Non-Null Count   Dtype  \n",
      "---  ------     --------------   -----  \n",
      " 0   id         137735 non-null  object \n",
      " 1   user_id    137735 non-null  int64  \n",
      " 2   call_date  137735 non-null  object \n",
      " 3   duration   137735 non-null  float64\n",
      "dtypes: float64(1), int64(1), object(2)\n",
      "memory usage: 4.2+ MB\n",
      "None\n"
     ]
    },
    {
     "data": {
      "text/html": [
       "<div>\n",
       "<style scoped>\n",
       "    .dataframe tbody tr th:only-of-type {\n",
       "        vertical-align: middle;\n",
       "    }\n",
       "\n",
       "    .dataframe tbody tr th {\n",
       "        vertical-align: top;\n",
       "    }\n",
       "\n",
       "    .dataframe thead th {\n",
       "        text-align: right;\n",
       "    }\n",
       "</style>\n",
       "<table border=\"1\" class=\"dataframe\">\n",
       "  <thead>\n",
       "    <tr style=\"text-align: right;\">\n",
       "      <th></th>\n",
       "      <th>id</th>\n",
       "      <th>user_id</th>\n",
       "      <th>call_date</th>\n",
       "      <th>duration</th>\n",
       "    </tr>\n",
       "  </thead>\n",
       "  <tbody>\n",
       "    <tr>\n",
       "      <th>0</th>\n",
       "      <td>1000_93</td>\n",
       "      <td>1000</td>\n",
       "      <td>2018-12-27</td>\n",
       "      <td>8.52</td>\n",
       "    </tr>\n",
       "    <tr>\n",
       "      <th>1</th>\n",
       "      <td>1000_145</td>\n",
       "      <td>1000</td>\n",
       "      <td>2018-12-27</td>\n",
       "      <td>13.66</td>\n",
       "    </tr>\n",
       "    <tr>\n",
       "      <th>2</th>\n",
       "      <td>1000_247</td>\n",
       "      <td>1000</td>\n",
       "      <td>2018-12-27</td>\n",
       "      <td>14.48</td>\n",
       "    </tr>\n",
       "    <tr>\n",
       "      <th>3</th>\n",
       "      <td>1000_309</td>\n",
       "      <td>1000</td>\n",
       "      <td>2018-12-28</td>\n",
       "      <td>5.76</td>\n",
       "    </tr>\n",
       "    <tr>\n",
       "      <th>4</th>\n",
       "      <td>1000_380</td>\n",
       "      <td>1000</td>\n",
       "      <td>2018-12-30</td>\n",
       "      <td>4.22</td>\n",
       "    </tr>\n",
       "  </tbody>\n",
       "</table>\n",
       "</div>"
      ],
      "text/plain": [
       "         id  user_id   call_date  duration\n",
       "0   1000_93     1000  2018-12-27      8.52\n",
       "1  1000_145     1000  2018-12-27     13.66\n",
       "2  1000_247     1000  2018-12-27     14.48\n",
       "3  1000_309     1000  2018-12-28      5.76\n",
       "4  1000_380     1000  2018-12-30      4.22"
      ]
     },
     "metadata": {},
     "output_type": "display_data"
    }
   ],
   "source": [
    "info(data_calls)"
   ]
  },
  {
   "cell_type": "code",
   "execution_count": 7,
   "metadata": {},
   "outputs": [
    {
     "name": "stdout",
     "output_type": "stream",
     "text": [
      "<class 'pandas.core.frame.DataFrame'>\n",
      "RangeIndex: 2 entries, 0 to 1\n",
      "Data columns (total 8 columns):\n",
      " #   Column                 Non-Null Count  Dtype  \n",
      "---  ------                 --------------  -----  \n",
      " 0   messages_included      2 non-null      int64  \n",
      " 1   mb_per_month_included  2 non-null      int64  \n",
      " 2   minutes_included       2 non-null      int64  \n",
      " 3   usd_monthly_pay        2 non-null      int64  \n",
      " 4   usd_per_gb             2 non-null      int64  \n",
      " 5   usd_per_message        2 non-null      float64\n",
      " 6   usd_per_minute         2 non-null      float64\n",
      " 7   plan_name              2 non-null      object \n",
      "dtypes: float64(2), int64(5), object(1)\n",
      "memory usage: 256.0+ bytes\n",
      "None\n"
     ]
    },
    {
     "data": {
      "text/html": [
       "<div>\n",
       "<style scoped>\n",
       "    .dataframe tbody tr th:only-of-type {\n",
       "        vertical-align: middle;\n",
       "    }\n",
       "\n",
       "    .dataframe tbody tr th {\n",
       "        vertical-align: top;\n",
       "    }\n",
       "\n",
       "    .dataframe thead th {\n",
       "        text-align: right;\n",
       "    }\n",
       "</style>\n",
       "<table border=\"1\" class=\"dataframe\">\n",
       "  <thead>\n",
       "    <tr style=\"text-align: right;\">\n",
       "      <th></th>\n",
       "      <th>messages_included</th>\n",
       "      <th>mb_per_month_included</th>\n",
       "      <th>minutes_included</th>\n",
       "      <th>usd_monthly_pay</th>\n",
       "      <th>usd_per_gb</th>\n",
       "      <th>usd_per_message</th>\n",
       "      <th>usd_per_minute</th>\n",
       "      <th>plan_name</th>\n",
       "    </tr>\n",
       "  </thead>\n",
       "  <tbody>\n",
       "    <tr>\n",
       "      <th>0</th>\n",
       "      <td>50</td>\n",
       "      <td>15360</td>\n",
       "      <td>500</td>\n",
       "      <td>20</td>\n",
       "      <td>10</td>\n",
       "      <td>0.03</td>\n",
       "      <td>0.03</td>\n",
       "      <td>surf</td>\n",
       "    </tr>\n",
       "    <tr>\n",
       "      <th>1</th>\n",
       "      <td>1000</td>\n",
       "      <td>30720</td>\n",
       "      <td>3000</td>\n",
       "      <td>70</td>\n",
       "      <td>7</td>\n",
       "      <td>0.01</td>\n",
       "      <td>0.01</td>\n",
       "      <td>ultimate</td>\n",
       "    </tr>\n",
       "  </tbody>\n",
       "</table>\n",
       "</div>"
      ],
      "text/plain": [
       "   messages_included  mb_per_month_included  minutes_included  \\\n",
       "0                 50                  15360               500   \n",
       "1               1000                  30720              3000   \n",
       "\n",
       "   usd_monthly_pay  usd_per_gb  usd_per_message  usd_per_minute plan_name  \n",
       "0               20          10             0.03            0.03      surf  \n",
       "1               70           7             0.01            0.01  ultimate  "
      ]
     },
     "metadata": {},
     "output_type": "display_data"
    }
   ],
   "source": [
    "info(data_plans)"
   ]
  },
  {
   "cell_type": "code",
   "execution_count": 8,
   "metadata": {},
   "outputs": [
    {
     "name": "stdout",
     "output_type": "stream",
     "text": [
      "<class 'pandas.core.frame.DataFrame'>\n",
      "RangeIndex: 76051 entries, 0 to 76050\n",
      "Data columns (total 3 columns):\n",
      " #   Column        Non-Null Count  Dtype \n",
      "---  ------        --------------  ----- \n",
      " 0   id            76051 non-null  object\n",
      " 1   user_id       76051 non-null  int64 \n",
      " 2   message_date  76051 non-null  object\n",
      "dtypes: int64(1), object(2)\n",
      "memory usage: 1.7+ MB\n",
      "None\n"
     ]
    },
    {
     "data": {
      "text/html": [
       "<div>\n",
       "<style scoped>\n",
       "    .dataframe tbody tr th:only-of-type {\n",
       "        vertical-align: middle;\n",
       "    }\n",
       "\n",
       "    .dataframe tbody tr th {\n",
       "        vertical-align: top;\n",
       "    }\n",
       "\n",
       "    .dataframe thead th {\n",
       "        text-align: right;\n",
       "    }\n",
       "</style>\n",
       "<table border=\"1\" class=\"dataframe\">\n",
       "  <thead>\n",
       "    <tr style=\"text-align: right;\">\n",
       "      <th></th>\n",
       "      <th>id</th>\n",
       "      <th>user_id</th>\n",
       "      <th>message_date</th>\n",
       "    </tr>\n",
       "  </thead>\n",
       "  <tbody>\n",
       "    <tr>\n",
       "      <th>0</th>\n",
       "      <td>1000_125</td>\n",
       "      <td>1000</td>\n",
       "      <td>2018-12-27</td>\n",
       "    </tr>\n",
       "    <tr>\n",
       "      <th>1</th>\n",
       "      <td>1000_160</td>\n",
       "      <td>1000</td>\n",
       "      <td>2018-12-31</td>\n",
       "    </tr>\n",
       "    <tr>\n",
       "      <th>2</th>\n",
       "      <td>1000_223</td>\n",
       "      <td>1000</td>\n",
       "      <td>2018-12-31</td>\n",
       "    </tr>\n",
       "    <tr>\n",
       "      <th>3</th>\n",
       "      <td>1000_251</td>\n",
       "      <td>1000</td>\n",
       "      <td>2018-12-27</td>\n",
       "    </tr>\n",
       "    <tr>\n",
       "      <th>4</th>\n",
       "      <td>1000_255</td>\n",
       "      <td>1000</td>\n",
       "      <td>2018-12-26</td>\n",
       "    </tr>\n",
       "  </tbody>\n",
       "</table>\n",
       "</div>"
      ],
      "text/plain": [
       "         id  user_id message_date\n",
       "0  1000_125     1000   2018-12-27\n",
       "1  1000_160     1000   2018-12-31\n",
       "2  1000_223     1000   2018-12-31\n",
       "3  1000_251     1000   2018-12-27\n",
       "4  1000_255     1000   2018-12-26"
      ]
     },
     "metadata": {},
     "output_type": "display_data"
    }
   ],
   "source": [
    "info(data_messages)"
   ]
  },
  {
   "cell_type": "code",
   "execution_count": 9,
   "metadata": {},
   "outputs": [
    {
     "name": "stdout",
     "output_type": "stream",
     "text": [
      "<class 'pandas.core.frame.DataFrame'>\n",
      "RangeIndex: 104825 entries, 0 to 104824\n",
      "Data columns (total 4 columns):\n",
      " #   Column        Non-Null Count   Dtype  \n",
      "---  ------        --------------   -----  \n",
      " 0   id            104825 non-null  object \n",
      " 1   user_id       104825 non-null  int64  \n",
      " 2   session_date  104825 non-null  object \n",
      " 3   mb_used       104825 non-null  float64\n",
      "dtypes: float64(1), int64(1), object(2)\n",
      "memory usage: 3.2+ MB\n",
      "None\n"
     ]
    },
    {
     "data": {
      "text/html": [
       "<div>\n",
       "<style scoped>\n",
       "    .dataframe tbody tr th:only-of-type {\n",
       "        vertical-align: middle;\n",
       "    }\n",
       "\n",
       "    .dataframe tbody tr th {\n",
       "        vertical-align: top;\n",
       "    }\n",
       "\n",
       "    .dataframe thead th {\n",
       "        text-align: right;\n",
       "    }\n",
       "</style>\n",
       "<table border=\"1\" class=\"dataframe\">\n",
       "  <thead>\n",
       "    <tr style=\"text-align: right;\">\n",
       "      <th></th>\n",
       "      <th>id</th>\n",
       "      <th>user_id</th>\n",
       "      <th>session_date</th>\n",
       "      <th>mb_used</th>\n",
       "    </tr>\n",
       "  </thead>\n",
       "  <tbody>\n",
       "    <tr>\n",
       "      <th>0</th>\n",
       "      <td>1000_13</td>\n",
       "      <td>1000</td>\n",
       "      <td>2018-12-29</td>\n",
       "      <td>89.86</td>\n",
       "    </tr>\n",
       "    <tr>\n",
       "      <th>1</th>\n",
       "      <td>1000_204</td>\n",
       "      <td>1000</td>\n",
       "      <td>2018-12-31</td>\n",
       "      <td>0.00</td>\n",
       "    </tr>\n",
       "    <tr>\n",
       "      <th>2</th>\n",
       "      <td>1000_379</td>\n",
       "      <td>1000</td>\n",
       "      <td>2018-12-28</td>\n",
       "      <td>660.40</td>\n",
       "    </tr>\n",
       "    <tr>\n",
       "      <th>3</th>\n",
       "      <td>1000_413</td>\n",
       "      <td>1000</td>\n",
       "      <td>2018-12-26</td>\n",
       "      <td>270.99</td>\n",
       "    </tr>\n",
       "    <tr>\n",
       "      <th>4</th>\n",
       "      <td>1000_442</td>\n",
       "      <td>1000</td>\n",
       "      <td>2018-12-27</td>\n",
       "      <td>880.22</td>\n",
       "    </tr>\n",
       "  </tbody>\n",
       "</table>\n",
       "</div>"
      ],
      "text/plain": [
       "         id  user_id session_date  mb_used\n",
       "0   1000_13     1000   2018-12-29    89.86\n",
       "1  1000_204     1000   2018-12-31     0.00\n",
       "2  1000_379     1000   2018-12-28   660.40\n",
       "3  1000_413     1000   2018-12-26   270.99\n",
       "4  1000_442     1000   2018-12-27   880.22"
      ]
     },
     "metadata": {},
     "output_type": "display_data"
    }
   ],
   "source": [
    "info(data_internet)"
   ]
  },
  {
   "cell_type": "markdown",
   "metadata": {},
   "source": [
    "### conclusions and further steps\n",
    "<br>\n",
    "So far, there are some issues to be addressed: <br>\n",
    "- The data consists of seveeral data sources, means merging tables is needed. <br>\n",
    "- The date columns data type across the data sources should be converted to datetime type.<br>\n",
    "- There's one column with missing values in users data - 'chur_date'.<br>\n",
    "- The next step is data preprocessing - data types conversion, duplicates check, data merge where needed, addressing missing values, and creating the additional necessary columns."
   ]
  },
  {
   "cell_type": "markdown",
   "metadata": {},
   "source": [
    "## Data Preprocessing\n",
    "\n",
    "### Fix data types\n",
    "<br>\n",
    "All the date column across the data sets are of object type, and should be converted to datetime type for further calculations. Additionally, the calls, messages and internet data require a month column for the next steps. Both will be done by this function:"
   ]
  },
  {
   "cell_type": "code",
   "execution_count": 10,
   "metadata": {},
   "outputs": [],
   "source": [
    "def date_month(dataset,column):\n",
    "    \"\"\"\n",
    "    This function takes dataset and column as parameters, converting to datatime type (by the format\n",
    "    of the current data) and adding a column of month of year.\n",
    "    \"\"\"\n",
    "    dataset[column] = pd.to_datetime(dataset[column], format='%Y-%m-%d')\n",
    "    dataset['month'] = dataset[column].dt.month\n",
    "    \n",
    "date_month(data_calls,'call_date')\n",
    "date_month(data_messages,'message_date')\n",
    "date_month(data_internet,'session_date')"
   ]
  },
  {
   "cell_type": "markdown",
   "metadata": {},
   "source": [
    "According to Megaline's charging policy, calls are rounded up to the nearest minute.<br>\n",
    "Rounding up each individual call in the calls duration:"
   ]
  },
  {
   "cell_type": "code",
   "execution_count": 11,
   "metadata": {},
   "outputs": [],
   "source": [
    "data_calls['duration'] = np.ceil(data_calls['duration'])"
   ]
  },
  {
   "cell_type": "markdown",
   "metadata": {},
   "source": [
    "Looking for duplicates in the datasets:"
   ]
  },
  {
   "cell_type": "code",
   "execution_count": 12,
   "metadata": {},
   "outputs": [
    {
     "name": "stdout",
     "output_type": "stream",
     "text": [
      "0\n",
      "0\n",
      "0\n",
      "0\n"
     ]
    }
   ],
   "source": [
    "data_sources = [data_users, data_calls, data_messages, data_internet]\n",
    "\n",
    "for data in data_sources:\n",
    "    print(data.duplicated().sum())"
   ]
  },
  {
   "cell_type": "markdown",
   "metadata": {},
   "source": [
    "### Merging data\n",
    "\n",
    "Merging the tables of calls, messages and internet to one table that contain all the useage parameters of each user per month, through grouping by user id and month, and find for each user's month the calls duration sum, number of mesaages, and amount of web traffic:"
   ]
  },
  {
   "cell_type": "code",
   "execution_count": 13,
   "metadata": {},
   "outputs": [
    {
     "data": {
      "text/html": [
       "<div>\n",
       "<style scoped>\n",
       "    .dataframe tbody tr th:only-of-type {\n",
       "        vertical-align: middle;\n",
       "    }\n",
       "\n",
       "    .dataframe tbody tr th {\n",
       "        vertical-align: top;\n",
       "    }\n",
       "\n",
       "    .dataframe thead th {\n",
       "        text-align: right;\n",
       "    }\n",
       "</style>\n",
       "<table border=\"1\" class=\"dataframe\">\n",
       "  <thead>\n",
       "    <tr style=\"text-align: right;\">\n",
       "      <th></th>\n",
       "      <th>user_id</th>\n",
       "      <th>month</th>\n",
       "      <th>duration</th>\n",
       "    </tr>\n",
       "  </thead>\n",
       "  <tbody>\n",
       "    <tr>\n",
       "      <th>0</th>\n",
       "      <td>1000</td>\n",
       "      <td>12</td>\n",
       "      <td>124.0</td>\n",
       "    </tr>\n",
       "    <tr>\n",
       "      <th>1</th>\n",
       "      <td>1001</td>\n",
       "      <td>8</td>\n",
       "      <td>182.0</td>\n",
       "    </tr>\n",
       "  </tbody>\n",
       "</table>\n",
       "</div>"
      ],
      "text/plain": [
       "   user_id  month  duration\n",
       "0     1000     12     124.0\n",
       "1     1001      8     182.0"
      ]
     },
     "execution_count": 13,
     "metadata": {},
     "output_type": "execute_result"
    }
   ],
   "source": [
    "calls_group = data_calls.groupby(['user_id', 'month'])['duration'].sum().reset_index()\n",
    "calls_group.head(2)"
   ]
  },
  {
   "cell_type": "code",
   "execution_count": 14,
   "metadata": {},
   "outputs": [
    {
     "data": {
      "text/html": [
       "<div>\n",
       "<style scoped>\n",
       "    .dataframe tbody tr th:only-of-type {\n",
       "        vertical-align: middle;\n",
       "    }\n",
       "\n",
       "    .dataframe tbody tr th {\n",
       "        vertical-align: top;\n",
       "    }\n",
       "\n",
       "    .dataframe thead th {\n",
       "        text-align: right;\n",
       "    }\n",
       "</style>\n",
       "<table border=\"1\" class=\"dataframe\">\n",
       "  <thead>\n",
       "    <tr style=\"text-align: right;\">\n",
       "      <th></th>\n",
       "      <th>user_id</th>\n",
       "      <th>month</th>\n",
       "      <th>messages</th>\n",
       "    </tr>\n",
       "  </thead>\n",
       "  <tbody>\n",
       "    <tr>\n",
       "      <th>0</th>\n",
       "      <td>1000</td>\n",
       "      <td>12</td>\n",
       "      <td>11</td>\n",
       "    </tr>\n",
       "    <tr>\n",
       "      <th>1</th>\n",
       "      <td>1001</td>\n",
       "      <td>8</td>\n",
       "      <td>30</td>\n",
       "    </tr>\n",
       "  </tbody>\n",
       "</table>\n",
       "</div>"
      ],
      "text/plain": [
       "   user_id  month  messages\n",
       "0     1000     12        11\n",
       "1     1001      8        30"
      ]
     },
     "execution_count": 14,
     "metadata": {},
     "output_type": "execute_result"
    }
   ],
   "source": [
    "messages_group = data_messages.groupby(['user_id', 'month'])['id'].count().reset_index()\n",
    "messages_group = messages_group.rename(columns={'id' : 'messages'})\n",
    "messages_group.head(2)"
   ]
  },
  {
   "cell_type": "code",
   "execution_count": 15,
   "metadata": {
    "scrolled": true
   },
   "outputs": [
    {
     "data": {
      "text/html": [
       "<div>\n",
       "<style scoped>\n",
       "    .dataframe tbody tr th:only-of-type {\n",
       "        vertical-align: middle;\n",
       "    }\n",
       "\n",
       "    .dataframe tbody tr th {\n",
       "        vertical-align: top;\n",
       "    }\n",
       "\n",
       "    .dataframe thead th {\n",
       "        text-align: right;\n",
       "    }\n",
       "</style>\n",
       "<table border=\"1\" class=\"dataframe\">\n",
       "  <thead>\n",
       "    <tr style=\"text-align: right;\">\n",
       "      <th></th>\n",
       "      <th>user_id</th>\n",
       "      <th>month</th>\n",
       "      <th>mb_used</th>\n",
       "    </tr>\n",
       "  </thead>\n",
       "  <tbody>\n",
       "    <tr>\n",
       "      <th>0</th>\n",
       "      <td>1000</td>\n",
       "      <td>12</td>\n",
       "      <td>1901.47</td>\n",
       "    </tr>\n",
       "    <tr>\n",
       "      <th>1</th>\n",
       "      <td>1001</td>\n",
       "      <td>8</td>\n",
       "      <td>6919.15</td>\n",
       "    </tr>\n",
       "  </tbody>\n",
       "</table>\n",
       "</div>"
      ],
      "text/plain": [
       "   user_id  month  mb_used\n",
       "0     1000     12  1901.47\n",
       "1     1001      8  6919.15"
      ]
     },
     "execution_count": 15,
     "metadata": {},
     "output_type": "execute_result"
    }
   ],
   "source": [
    "internet_group = data_internet.groupby(['user_id', 'month'])['mb_used'].sum().reset_index()\n",
    "internet_group.head(2)"
   ]
  },
  {
   "cell_type": "markdown",
   "metadata": {},
   "source": [
    "Merging the tables using 'outer' join to keep all data of users and months, on the user id and month columns. Then filling in the missing values with zero, since a missing value in this case menas no use of the specific service in the related month."
   ]
  },
  {
   "cell_type": "code",
   "execution_count": 16,
   "metadata": {},
   "outputs": [
    {
     "name": "stdout",
     "output_type": "stream",
     "text": [
      "<class 'pandas.core.frame.DataFrame'>\n",
      "Int64Index: 2293 entries, 0 to 2292\n",
      "Data columns (total 5 columns):\n",
      " #   Column    Non-Null Count  Dtype  \n",
      "---  ------    --------------  -----  \n",
      " 0   user_id   2293 non-null   int64  \n",
      " 1   month     2293 non-null   int64  \n",
      " 2   duration  2293 non-null   float64\n",
      " 3   messages  2293 non-null   float64\n",
      " 4   mb_used   2293 non-null   float64\n",
      "dtypes: float64(3), int64(2)\n",
      "memory usage: 107.5 KB\n",
      "None\n"
     ]
    },
    {
     "data": {
      "text/html": [
       "<div>\n",
       "<style scoped>\n",
       "    .dataframe tbody tr th:only-of-type {\n",
       "        vertical-align: middle;\n",
       "    }\n",
       "\n",
       "    .dataframe tbody tr th {\n",
       "        vertical-align: top;\n",
       "    }\n",
       "\n",
       "    .dataframe thead th {\n",
       "        text-align: right;\n",
       "    }\n",
       "</style>\n",
       "<table border=\"1\" class=\"dataframe\">\n",
       "  <thead>\n",
       "    <tr style=\"text-align: right;\">\n",
       "      <th></th>\n",
       "      <th>user_id</th>\n",
       "      <th>month</th>\n",
       "      <th>duration</th>\n",
       "      <th>messages</th>\n",
       "      <th>mb_used</th>\n",
       "    </tr>\n",
       "  </thead>\n",
       "  <tbody>\n",
       "    <tr>\n",
       "      <th>0</th>\n",
       "      <td>1000</td>\n",
       "      <td>12</td>\n",
       "      <td>124.0</td>\n",
       "      <td>11.0</td>\n",
       "      <td>1901.47</td>\n",
       "    </tr>\n",
       "    <tr>\n",
       "      <th>1</th>\n",
       "      <td>1001</td>\n",
       "      <td>8</td>\n",
       "      <td>182.0</td>\n",
       "      <td>30.0</td>\n",
       "      <td>6919.15</td>\n",
       "    </tr>\n",
       "    <tr>\n",
       "      <th>2</th>\n",
       "      <td>1001</td>\n",
       "      <td>9</td>\n",
       "      <td>315.0</td>\n",
       "      <td>44.0</td>\n",
       "      <td>13314.82</td>\n",
       "    </tr>\n",
       "    <tr>\n",
       "      <th>3</th>\n",
       "      <td>1001</td>\n",
       "      <td>10</td>\n",
       "      <td>393.0</td>\n",
       "      <td>53.0</td>\n",
       "      <td>22330.49</td>\n",
       "    </tr>\n",
       "    <tr>\n",
       "      <th>4</th>\n",
       "      <td>1001</td>\n",
       "      <td>11</td>\n",
       "      <td>426.0</td>\n",
       "      <td>36.0</td>\n",
       "      <td>18504.30</td>\n",
       "    </tr>\n",
       "  </tbody>\n",
       "</table>\n",
       "</div>"
      ],
      "text/plain": [
       "   user_id  month  duration  messages   mb_used\n",
       "0     1000     12     124.0      11.0   1901.47\n",
       "1     1001      8     182.0      30.0   6919.15\n",
       "2     1001      9     315.0      44.0  13314.82\n",
       "3     1001     10     393.0      53.0  22330.49\n",
       "4     1001     11     426.0      36.0  18504.30"
      ]
     },
     "metadata": {},
     "output_type": "display_data"
    }
   ],
   "source": [
    "from functools import reduce\n",
    "data_frames = [calls_group, messages_group, internet_group]\n",
    "usage_total = reduce(lambda left,right: pd.merge(\n",
    "    left,right,on=['user_id', 'month'], how='outer'), data_frames).fillna(0)\n",
    "info(usage_total)"
   ]
  },
  {
   "cell_type": "markdown",
   "metadata": {},
   "source": [
    "According to the charging policy, the month total of web traffic is rounded up to the nearest GB number.<br> \n",
    "Converting month total web traffic from MB to GB and Rounding up: "
   ]
  },
  {
   "cell_type": "code",
   "execution_count": 17,
   "metadata": {},
   "outputs": [
    {
     "data": {
      "text/html": [
       "<div>\n",
       "<style scoped>\n",
       "    .dataframe tbody tr th:only-of-type {\n",
       "        vertical-align: middle;\n",
       "    }\n",
       "\n",
       "    .dataframe tbody tr th {\n",
       "        vertical-align: top;\n",
       "    }\n",
       "\n",
       "    .dataframe thead th {\n",
       "        text-align: right;\n",
       "    }\n",
       "</style>\n",
       "<table border=\"1\" class=\"dataframe\">\n",
       "  <thead>\n",
       "    <tr style=\"text-align: right;\">\n",
       "      <th></th>\n",
       "      <th>user_id</th>\n",
       "      <th>month</th>\n",
       "      <th>duration</th>\n",
       "      <th>messages</th>\n",
       "      <th>gb_used</th>\n",
       "    </tr>\n",
       "  </thead>\n",
       "  <tbody>\n",
       "    <tr>\n",
       "      <th>0</th>\n",
       "      <td>1000</td>\n",
       "      <td>12</td>\n",
       "      <td>124.0</td>\n",
       "      <td>11.0</td>\n",
       "      <td>2.0</td>\n",
       "    </tr>\n",
       "    <tr>\n",
       "      <th>1</th>\n",
       "      <td>1001</td>\n",
       "      <td>8</td>\n",
       "      <td>182.0</td>\n",
       "      <td>30.0</td>\n",
       "      <td>7.0</td>\n",
       "    </tr>\n",
       "  </tbody>\n",
       "</table>\n",
       "</div>"
      ],
      "text/plain": [
       "   user_id  month  duration  messages  gb_used\n",
       "0     1000     12     124.0      11.0      2.0\n",
       "1     1001      8     182.0      30.0      7.0"
      ]
     },
     "execution_count": 17,
     "metadata": {},
     "output_type": "execute_result"
    }
   ],
   "source": [
    "usage_total['mb_used'] = np.ceil(usage_total['mb_used'] / 1024)\n",
    "usage_total = usage_total.rename(columns={'mb_used' : 'gb_used'})\n",
    "usage_total.head(2)"
   ]
  },
  {
   "cell_type": "markdown",
   "metadata": {},
   "source": [
    "For calculation of monthly revenue from each user we need to add each user's plan column. Additionaly, the city data is required for the later stage of testing hypotheses, thus is added as well:"
   ]
  },
  {
   "cell_type": "code",
   "execution_count": 18,
   "metadata": {},
   "outputs": [
    {
     "name": "stdout",
     "output_type": "stream",
     "text": [
      "<class 'pandas.core.frame.DataFrame'>\n",
      "Int64Index: 2293 entries, 0 to 2292\n",
      "Data columns (total 7 columns):\n",
      " #   Column    Non-Null Count  Dtype  \n",
      "---  ------    --------------  -----  \n",
      " 0   user_id   2293 non-null   int64  \n",
      " 1   month     2293 non-null   int64  \n",
      " 2   duration  2293 non-null   float64\n",
      " 3   messages  2293 non-null   float64\n",
      " 4   gb_used   2293 non-null   float64\n",
      " 5   city      2293 non-null   object \n",
      " 6   plan      2293 non-null   object \n",
      "dtypes: float64(3), int64(2), object(2)\n",
      "memory usage: 143.3+ KB\n",
      "None\n"
     ]
    },
    {
     "data": {
      "text/html": [
       "<div>\n",
       "<style scoped>\n",
       "    .dataframe tbody tr th:only-of-type {\n",
       "        vertical-align: middle;\n",
       "    }\n",
       "\n",
       "    .dataframe tbody tr th {\n",
       "        vertical-align: top;\n",
       "    }\n",
       "\n",
       "    .dataframe thead th {\n",
       "        text-align: right;\n",
       "    }\n",
       "</style>\n",
       "<table border=\"1\" class=\"dataframe\">\n",
       "  <thead>\n",
       "    <tr style=\"text-align: right;\">\n",
       "      <th></th>\n",
       "      <th>user_id</th>\n",
       "      <th>month</th>\n",
       "      <th>duration</th>\n",
       "      <th>messages</th>\n",
       "      <th>gb_used</th>\n",
       "      <th>city</th>\n",
       "      <th>plan</th>\n",
       "    </tr>\n",
       "  </thead>\n",
       "  <tbody>\n",
       "    <tr>\n",
       "      <th>0</th>\n",
       "      <td>1000</td>\n",
       "      <td>12</td>\n",
       "      <td>124.0</td>\n",
       "      <td>11.0</td>\n",
       "      <td>2.0</td>\n",
       "      <td>Atlanta-Sandy Springs-Roswell, GA MSA</td>\n",
       "      <td>ultimate</td>\n",
       "    </tr>\n",
       "    <tr>\n",
       "      <th>1</th>\n",
       "      <td>1001</td>\n",
       "      <td>8</td>\n",
       "      <td>182.0</td>\n",
       "      <td>30.0</td>\n",
       "      <td>7.0</td>\n",
       "      <td>Seattle-Tacoma-Bellevue, WA MSA</td>\n",
       "      <td>surf</td>\n",
       "    </tr>\n",
       "    <tr>\n",
       "      <th>2</th>\n",
       "      <td>1001</td>\n",
       "      <td>9</td>\n",
       "      <td>315.0</td>\n",
       "      <td>44.0</td>\n",
       "      <td>14.0</td>\n",
       "      <td>Seattle-Tacoma-Bellevue, WA MSA</td>\n",
       "      <td>surf</td>\n",
       "    </tr>\n",
       "    <tr>\n",
       "      <th>3</th>\n",
       "      <td>1001</td>\n",
       "      <td>10</td>\n",
       "      <td>393.0</td>\n",
       "      <td>53.0</td>\n",
       "      <td>22.0</td>\n",
       "      <td>Seattle-Tacoma-Bellevue, WA MSA</td>\n",
       "      <td>surf</td>\n",
       "    </tr>\n",
       "    <tr>\n",
       "      <th>4</th>\n",
       "      <td>1001</td>\n",
       "      <td>11</td>\n",
       "      <td>426.0</td>\n",
       "      <td>36.0</td>\n",
       "      <td>19.0</td>\n",
       "      <td>Seattle-Tacoma-Bellevue, WA MSA</td>\n",
       "      <td>surf</td>\n",
       "    </tr>\n",
       "  </tbody>\n",
       "</table>\n",
       "</div>"
      ],
      "text/plain": [
       "   user_id  month  duration  messages  gb_used  \\\n",
       "0     1000     12     124.0      11.0      2.0   \n",
       "1     1001      8     182.0      30.0      7.0   \n",
       "2     1001      9     315.0      44.0     14.0   \n",
       "3     1001     10     393.0      53.0     22.0   \n",
       "4     1001     11     426.0      36.0     19.0   \n",
       "\n",
       "                                    city      plan  \n",
       "0  Atlanta-Sandy Springs-Roswell, GA MSA  ultimate  \n",
       "1        Seattle-Tacoma-Bellevue, WA MSA      surf  \n",
       "2        Seattle-Tacoma-Bellevue, WA MSA      surf  \n",
       "3        Seattle-Tacoma-Bellevue, WA MSA      surf  \n",
       "4        Seattle-Tacoma-Bellevue, WA MSA      surf  "
      ]
     },
     "metadata": {},
     "output_type": "display_data"
    }
   ],
   "source": [
    "users_final =pd.merge(\n",
    "    left=usage_total, right=data_users[['user_id', 'city', 'plan']], how='left', on='user_id')\n",
    "info(users_final)"
   ]
  },
  {
   "cell_type": "markdown",
   "metadata": {},
   "source": [
    "Calculating revenue and adding the monthly revenue column by this function applied to the final table:"
   ]
  },
  {
   "cell_type": "code",
   "execution_count": 19,
   "metadata": {},
   "outputs": [],
   "source": [
    "def month_revenue(row):\n",
    "    \"\"\"\n",
    "    This function calculates the revenue for each user by calling plan basic charge and extra uses\n",
    "    difference from the package limit.\n",
    "    \"\"\"\n",
    "    x=row['messages']\n",
    "    y=row['duration']\n",
    "    z=row['gb_used']\n",
    "    p=row['plan']\n",
    "    extra_text = 0\n",
    "    extra_gb = 0\n",
    "    extra_minutes = 0\n",
    "    if p == 'surf':\n",
    "        if x > 50:\n",
    "            extra_text = (x-50) * 0.03\n",
    "        if y > 500:\n",
    "            exrta_minutes = (y - 500) * 0.03\n",
    "        if z > 15:\n",
    "            extra_gb = (z - 15) * 10\n",
    "        total_rev_surf = extra_text + extra_minutes + extra_gb + 20\n",
    "        return total_rev_surf\n",
    "    elif p == 'ultimate':\n",
    "        if x > 1000:\n",
    "            extra_text = (x-1000) * 0.01\n",
    "        if y > 3000:\n",
    "            exrta_minutes = (y - 3000) * 0.01\n",
    "        if z > 30:\n",
    "            extra_gb = (z - 30) * 7\n",
    "        total_rev_ultimate = extra_text + extra_minutes + extra_gb + 70\n",
    "        return total_rev_ultimate"
   ]
  },
  {
   "cell_type": "code",
   "execution_count": 20,
   "metadata": {},
   "outputs": [
    {
     "data": {
      "text/html": [
       "<div>\n",
       "<style scoped>\n",
       "    .dataframe tbody tr th:only-of-type {\n",
       "        vertical-align: middle;\n",
       "    }\n",
       "\n",
       "    .dataframe tbody tr th {\n",
       "        vertical-align: top;\n",
       "    }\n",
       "\n",
       "    .dataframe thead th {\n",
       "        text-align: right;\n",
       "    }\n",
       "</style>\n",
       "<table border=\"1\" class=\"dataframe\">\n",
       "  <thead>\n",
       "    <tr style=\"text-align: right;\">\n",
       "      <th></th>\n",
       "      <th>user_id</th>\n",
       "      <th>month</th>\n",
       "      <th>duration</th>\n",
       "      <th>messages</th>\n",
       "      <th>gb_used</th>\n",
       "      <th>city</th>\n",
       "      <th>plan</th>\n",
       "      <th>month_revenue</th>\n",
       "    </tr>\n",
       "  </thead>\n",
       "  <tbody>\n",
       "    <tr>\n",
       "      <th>0</th>\n",
       "      <td>1000</td>\n",
       "      <td>12</td>\n",
       "      <td>124.0</td>\n",
       "      <td>11.0</td>\n",
       "      <td>2.0</td>\n",
       "      <td>Atlanta-Sandy Springs-Roswell, GA MSA</td>\n",
       "      <td>ultimate</td>\n",
       "      <td>70.00</td>\n",
       "    </tr>\n",
       "    <tr>\n",
       "      <th>1</th>\n",
       "      <td>1001</td>\n",
       "      <td>8</td>\n",
       "      <td>182.0</td>\n",
       "      <td>30.0</td>\n",
       "      <td>7.0</td>\n",
       "      <td>Seattle-Tacoma-Bellevue, WA MSA</td>\n",
       "      <td>surf</td>\n",
       "      <td>20.00</td>\n",
       "    </tr>\n",
       "    <tr>\n",
       "      <th>2</th>\n",
       "      <td>1001</td>\n",
       "      <td>9</td>\n",
       "      <td>315.0</td>\n",
       "      <td>44.0</td>\n",
       "      <td>14.0</td>\n",
       "      <td>Seattle-Tacoma-Bellevue, WA MSA</td>\n",
       "      <td>surf</td>\n",
       "      <td>20.00</td>\n",
       "    </tr>\n",
       "    <tr>\n",
       "      <th>3</th>\n",
       "      <td>1001</td>\n",
       "      <td>10</td>\n",
       "      <td>393.0</td>\n",
       "      <td>53.0</td>\n",
       "      <td>22.0</td>\n",
       "      <td>Seattle-Tacoma-Bellevue, WA MSA</td>\n",
       "      <td>surf</td>\n",
       "      <td>90.09</td>\n",
       "    </tr>\n",
       "    <tr>\n",
       "      <th>4</th>\n",
       "      <td>1001</td>\n",
       "      <td>11</td>\n",
       "      <td>426.0</td>\n",
       "      <td>36.0</td>\n",
       "      <td>19.0</td>\n",
       "      <td>Seattle-Tacoma-Bellevue, WA MSA</td>\n",
       "      <td>surf</td>\n",
       "      <td>60.00</td>\n",
       "    </tr>\n",
       "  </tbody>\n",
       "</table>\n",
       "</div>"
      ],
      "text/plain": [
       "   user_id  month  duration  messages  gb_used  \\\n",
       "0     1000     12     124.0      11.0      2.0   \n",
       "1     1001      8     182.0      30.0      7.0   \n",
       "2     1001      9     315.0      44.0     14.0   \n",
       "3     1001     10     393.0      53.0     22.0   \n",
       "4     1001     11     426.0      36.0     19.0   \n",
       "\n",
       "                                    city      plan  month_revenue  \n",
       "0  Atlanta-Sandy Springs-Roswell, GA MSA  ultimate          70.00  \n",
       "1        Seattle-Tacoma-Bellevue, WA MSA      surf          20.00  \n",
       "2        Seattle-Tacoma-Bellevue, WA MSA      surf          20.00  \n",
       "3        Seattle-Tacoma-Bellevue, WA MSA      surf          90.09  \n",
       "4        Seattle-Tacoma-Bellevue, WA MSA      surf          60.00  "
      ]
     },
     "execution_count": 20,
     "metadata": {},
     "output_type": "execute_result"
    }
   ],
   "source": [
    "users_final['month_revenue'] = users_final.apply(month_revenue, axis=1)\n",
    "users_final.head()"
   ]
  },
  {
   "cell_type": "markdown",
   "metadata": {},
   "source": [
    "### Missing values\n",
    "<br>\n",
    "The only column in the original datasets that contains missing values is 'churn_date', in the data_users dataset. The data in this column indicates the date of stop using the service, hence the null values are probably of customers who still use the service. Currently it seems there's no impact on the analysis, which is based on the merged table that doesn't contain missing values.<br>\n",
    "The other issue regarding missing values was treated previously while merging the tables."
   ]
  },
  {
   "cell_type": "markdown",
   "metadata": {},
   "source": [
    "## Analyzing data\n",
    "<br>\n",
    "For investigation and analysis of users' behaviour, the final merged and processed table will be divided into two groups by the calling plan - 'surf' and 'ultimate':"
   ]
  },
  {
   "cell_type": "code",
   "execution_count": 21,
   "metadata": {},
   "outputs": [
    {
     "name": "stdout",
     "output_type": "stream",
     "text": [
      "<class 'pandas.core.frame.DataFrame'>\n",
      "Int64Index: 1573 entries, 1 to 2289\n",
      "Data columns (total 8 columns):\n",
      " #   Column         Non-Null Count  Dtype  \n",
      "---  ------         --------------  -----  \n",
      " 0   user_id        1573 non-null   int64  \n",
      " 1   month          1573 non-null   int64  \n",
      " 2   duration       1573 non-null   float64\n",
      " 3   messages       1573 non-null   float64\n",
      " 4   gb_used        1573 non-null   float64\n",
      " 5   city           1573 non-null   object \n",
      " 6   plan           1573 non-null   object \n",
      " 7   month_revenue  1573 non-null   float64\n",
      "dtypes: float64(4), int64(2), object(2)\n",
      "memory usage: 110.6+ KB\n",
      "<class 'pandas.core.frame.DataFrame'>\n",
      "Int64Index: 720 entries, 0 to 2292\n",
      "Data columns (total 8 columns):\n",
      " #   Column         Non-Null Count  Dtype  \n",
      "---  ------         --------------  -----  \n",
      " 0   user_id        720 non-null    int64  \n",
      " 1   month          720 non-null    int64  \n",
      " 2   duration       720 non-null    float64\n",
      " 3   messages       720 non-null    float64\n",
      " 4   gb_used        720 non-null    float64\n",
      " 5   city           720 non-null    object \n",
      " 6   plan           720 non-null    object \n",
      " 7   month_revenue  720 non-null    float64\n",
      "dtypes: float64(4), int64(2), object(2)\n",
      "memory usage: 50.6+ KB\n"
     ]
    }
   ],
   "source": [
    "surf_data = users_final.query('plan == \"surf\"')\n",
    "ultimate_data = users_final.query('plan == \"ultimate\"')\n",
    "surf_data.info()\n",
    "ultimate_data.info()"
   ]
  },
  {
   "cell_type": "markdown",
   "metadata": {},
   "source": [
    "As we see in the cell above, the Surf plan group is more than twice bigger than the Ultimate plan group. We should take this fact into consideration when testing the hypotheses with the two data samples.<br>\n",
    "Moving on with the analysis, next task is study the core parameters for each plan - minutes, text, and volume of data per month. The distributions will be presented by histograms and boxplots, followed by mean, variance and standard deviation for each distribution, using the below function:"
   ]
  },
  {
   "cell_type": "code",
   "execution_count": 22,
   "metadata": {},
   "outputs": [],
   "source": [
    "def hist_box(column):\n",
    "    \"\"\"\n",
    "    This function takes a column (of core parameter) and creates histplot and boxplot for the two \n",
    "    plans in one chart. Then adds a table with the mean variance, and standard deviation. \n",
    "    \"\"\"\n",
    "    fig, axes = plt.subplots(1, 2, figsize=(16,5))\n",
    "    sns.histplot(surf_data[column], ax=axes[0])\n",
    "    sns.histplot(ultimate_data[column], ax=axes[0])\n",
    "    sns.boxplot(x='plan', y=column, data=users_final, ax=axes[1])\n",
    "    plt.show()\n",
    "\n",
    "    surf_mean = surf_data[column].mean()\n",
    "    surf_var = surf_data[column].var()\n",
    "    surf_std = surf_data[column].std()\n",
    "    ultimate_mean = ultimate_data[column].mean()\n",
    "    ultimate_var = ultimate_data[column].var()\n",
    "    ultimate_std = ultimate_data[column].std()\n",
    "\n",
    "    stat_table = {'surf': [surf_mean, surf_var, surf_std],\n",
    "                 'ultimate': [ultimate_mean, ultimate_var, ultimate_std]\n",
    "                 }\n",
    "    stat_data = pd.DataFrame(stat_table, index=['mean', 'var', 'std'])\n",
    "    display(stat_data.style.format('{:.1f}'))"
   ]
  },
  {
   "cell_type": "markdown",
   "metadata": {},
   "source": [
    "Histograms and boxplot to show distributions:\n",
    "\n",
    "Calls duration:"
   ]
  },
  {
   "cell_type": "code",
   "execution_count": 23,
   "metadata": {},
   "outputs": [
    {
     "data": {
      "image/png": "[encoded data removed]",
      "text/plain": [
       "<Figure size 1152x360 with 2 Axes>"
      ]
     },
     "metadata": {
      "needs_background": "light"
     },
     "output_type": "display_data"
    },
    {
     "data": {
      "text/html": [
       "<style type=\"text/css\">\n",
       "</style>\n",
       "<table id=\"T_d42b4_\">\n",
       "  <thead>\n",
       "    <tr>\n",
       "      <th class=\"blank level0\" >&nbsp;</th>\n",
       "      <th class=\"col_heading level0 col0\" >surf</th>\n",
       "      <th class=\"col_heading level0 col1\" >ultimate</th>\n",
       "    </tr>\n",
       "  </thead>\n",
       "  <tbody>\n",
       "    <tr>\n",
       "      <th id=\"T_d42b4_level0_row0\" class=\"row_heading level0 row0\" >mean</th>\n",
       "      <td id=\"T_d42b4_row0_col0\" class=\"data row0 col0\" >428.7</td>\n",
       "      <td id=\"T_d42b4_row0_col1\" class=\"data row0 col1\" >430.4</td>\n",
       "    </tr>\n",
       "    <tr>\n",
       "      <th id=\"T_d42b4_level0_row1\" class=\"row_heading level0 row1\" >var</th>\n",
       "      <td id=\"T_d42b4_row1_col0\" class=\"data row1 col0\" >54968.3</td>\n",
       "      <td id=\"T_d42b4_row1_col1\" class=\"data row1 col1\" >57844.5</td>\n",
       "    </tr>\n",
       "    <tr>\n",
       "      <th id=\"T_d42b4_level0_row2\" class=\"row_heading level0 row2\" >std</th>\n",
       "      <td id=\"T_d42b4_row2_col0\" class=\"data row2 col0\" >234.5</td>\n",
       "      <td id=\"T_d42b4_row2_col1\" class=\"data row2 col1\" >240.5</td>\n",
       "    </tr>\n",
       "  </tbody>\n",
       "</table>\n"
      ],
      "text/plain": [
       "<pandas.io.formats.style.Styler at 0x1b1aa6ddee0>"
      ]
     },
     "metadata": {},
     "output_type": "display_data"
    }
   ],
   "source": [
    "hist_box('duration')"
   ]
  },
  {
   "cell_type": "markdown",
   "metadata": {},
   "source": [
    "Number of text messages:"
   ]
  },
  {
   "cell_type": "code",
   "execution_count": 24,
   "metadata": {
    "scrolled": false
   },
   "outputs": [
    {
     "data": {
      "image/png": "[encoded data removed]",
      "text/plain": [
       "<Figure size 1152x360 with 2 Axes>"
      ]
     },
     "metadata": {
      "needs_background": "light"
     },
     "output_type": "display_data"
    },
    {
     "data": {
      "text/html": [
       "<style type=\"text/css\">\n",
       "</style>\n",
       "<table id=\"T_3f74c_\">\n",
       "  <thead>\n",
       "    <tr>\n",
       "      <th class=\"blank level0\" >&nbsp;</th>\n",
       "      <th class=\"col_heading level0 col0\" >surf</th>\n",
       "      <th class=\"col_heading level0 col1\" >ultimate</th>\n",
       "    </tr>\n",
       "  </thead>\n",
       "  <tbody>\n",
       "    <tr>\n",
       "      <th id=\"T_3f74c_level0_row0\" class=\"row_heading level0 row0\" >mean</th>\n",
       "      <td id=\"T_3f74c_row0_col0\" class=\"data row0 col0\" >31.2</td>\n",
       "      <td id=\"T_3f74c_row0_col1\" class=\"data row0 col1\" >37.6</td>\n",
       "    </tr>\n",
       "    <tr>\n",
       "      <th id=\"T_3f74c_level0_row1\" class=\"row_heading level0 row1\" >var</th>\n",
       "      <td id=\"T_3f74c_row1_col0\" class=\"data row1 col0\" >1126.7</td>\n",
       "      <td id=\"T_3f74c_row1_col1\" class=\"data row1 col1\" >1208.8</td>\n",
       "    </tr>\n",
       "    <tr>\n",
       "      <th id=\"T_3f74c_level0_row2\" class=\"row_heading level0 row2\" >std</th>\n",
       "      <td id=\"T_3f74c_row2_col0\" class=\"data row2 col0\" >33.6</td>\n",
       "      <td id=\"T_3f74c_row2_col1\" class=\"data row2 col1\" >34.8</td>\n",
       "    </tr>\n",
       "  </tbody>\n",
       "</table>\n"
      ],
      "text/plain": [
       "<pandas.io.formats.style.Styler at 0x1b1ad500220>"
      ]
     },
     "metadata": {},
     "output_type": "display_data"
    }
   ],
   "source": [
    "hist_box('messages')"
   ]
  },
  {
   "cell_type": "markdown",
   "metadata": {},
   "source": [
    "Web traffic:"
   ]
  },
  {
   "cell_type": "code",
   "execution_count": 25,
   "metadata": {},
   "outputs": [
    {
     "data": {
      "image/png": "[encoded data removed]",
      "text/plain": [
       "<Figure size 1152x360 with 2 Axes>"
      ]
     },
     "metadata": {
      "needs_background": "light"
     },
     "output_type": "display_data"
    },
    {
     "data": {
      "text/html": [
       "<style type=\"text/css\">\n",
       "</style>\n",
       "<table id=\"T_bacdc_\">\n",
       "  <thead>\n",
       "    <tr>\n",
       "      <th class=\"blank level0\" >&nbsp;</th>\n",
       "      <th class=\"col_heading level0 col0\" >surf</th>\n",
       "      <th class=\"col_heading level0 col1\" >ultimate</th>\n",
       "    </tr>\n",
       "  </thead>\n",
       "  <tbody>\n",
       "    <tr>\n",
       "      <th id=\"T_bacdc_level0_row0\" class=\"row_heading level0 row0\" >mean</th>\n",
       "      <td id=\"T_bacdc_row0_col0\" class=\"data row0 col0\" >16.7</td>\n",
       "      <td id=\"T_bacdc_row0_col1\" class=\"data row0 col1\" >17.3</td>\n",
       "    </tr>\n",
       "    <tr>\n",
       "      <th id=\"T_bacdc_level0_row1\" class=\"row_heading level0 row1\" >var</th>\n",
       "      <td id=\"T_bacdc_row1_col0\" class=\"data row1 col0\" >61.6</td>\n",
       "      <td id=\"T_bacdc_row1_col1\" class=\"data row1 col1\" >58.8</td>\n",
       "    </tr>\n",
       "    <tr>\n",
       "      <th id=\"T_bacdc_level0_row2\" class=\"row_heading level0 row2\" >std</th>\n",
       "      <td id=\"T_bacdc_row2_col0\" class=\"data row2 col0\" >7.8</td>\n",
       "      <td id=\"T_bacdc_row2_col1\" class=\"data row2 col1\" >7.7</td>\n",
       "    </tr>\n",
       "  </tbody>\n",
       "</table>\n"
      ],
      "text/plain": [
       "<pandas.io.formats.style.Styler at 0x1b1ad629940>"
      ]
     },
     "metadata": {},
     "output_type": "display_data"
    }
   ],
   "source": [
    "hist_box('gb_used')"
   ]
  },
  {
   "cell_type": "markdown",
   "metadata": {},
   "source": [
    "The distributions presented in the histograms and boxplots above, shows a right-skewed distribution for 2 parameters - calls duration and number of text messages. The third parameter's distribution - web traffic - is closer to normal. For all the parameters above, the two plans sahre a similar shape for each parameter, while in all cases the frequencies of Surf group (bright blue in histogram) are higher than the Ultimate group (dark blue in histogram). This finding is not surprising as the Surf users amount is more than twice the amount of the Ultimate users. <br>\n",
    "The boxplots support this finding, though the Surf plan plots show more extreme outliers. <br>\n",
    "The similarity between the charts shapes of the two plans is represented also in the attached statistics measures tables. <br>That is, the users' behavior regarding the three investigated parameters is pretty much the same for both plans.    "
   ]
  },
  {
   "cell_type": "markdown",
   "metadata": {},
   "source": [
    "## Testing the hypotheses\n",
    "\n",
    "The null hypotheses (H0) are:\n",
    "- There's equality in the average revenue from users of the plans.\n",
    "- There's equality in the average revenue from users in NY-NJ area and the others.<br>\n",
    "\n",
    "Since the null hypotheses stand for equality, the alternative hypotheses (H1) are: \n",
    "- The average revenue from users of Ultimate and Surf calling plans differs.\n",
    "- The average revenue from users in NY-NJ area is different from that of the users from other regions.\n",
    "\n",
    "In order to determine whether we can reject the null hypothesis or not, a threshold for statistical significance - Alpha value - is set to the common value of 0.05.\n",
    "Since the 'Surf' plan users amount is more than twice the amount of 'Ultimate' plan users, a random sample of 720 users will respresent the 'surf' group, so that we run the test for groups of the same size.<br>\n",
    "In order to determine which value of equal_var to use in the t-test, we check if there's equality in samples variances using Levene's test.<br>\n",
    "Then creating a function and start testing the first null hypothesis:"
   ]
  },
  {
   "cell_type": "code",
   "execution_count": 26,
   "metadata": {},
   "outputs": [
    {
     "name": "stdout",
     "output_type": "stream",
     "text": [
      "p-value: 3.2988275690354503e-84\n",
      "We reject the null hypothesis\n"
     ]
    }
   ],
   "source": [
    "levene_rev = st.levene(surf_data['month_revenue'], ultimate_data['month_revenue'])\n",
    "print('p-value:', levene_rev.pvalue)\n",
    "if levene_rev.pvalue < 0.05:\n",
    "    print('We reject the null hypothesis')\n",
    "else:\n",
    "    print(\"We can't reject the null hypothesis\")"
   ]
  },
  {
   "cell_type": "markdown",
   "metadata": {},
   "source": [
    "In the case of monthly revenue, based on the results of Levene's test, we reject the null hypothesis, namely the low p-value indicates no equality in variances of the two plans month revenue. Thus we set the equal_var to False in the plans samples t-test."
   ]
  },
  {
   "cell_type": "code",
   "execution_count": 27,
   "metadata": {},
   "outputs": [],
   "source": [
    "def ttest(sample_1, sample_1_size, sample_2, equal_variance=True):\n",
    "    \"\"\"\n",
    "    This function takes 2 samples and the desired size for the first (bigger) sample, runs t-test\n",
    "    for the samples, returns p-value and whether is smaller than the statistical threshold or not.\n",
    "    \"\"\"\n",
    "    sample_1 = sample_1.sample(n=sample_1_size)\n",
    "    alpha = 0.05\n",
    "    results = st.ttest_ind(sample_1, sample_2, equal_var=equal_variance)\n",
    "    print('p-value:', results.pvalue)\n",
    "    if results.pvalue < alpha:\n",
    "        print('We reject the null hypothesis')\n",
    "    else:\n",
    "        print(\"We can't reject the null hypothesis\")"
   ]
  },
  {
   "cell_type": "code",
   "execution_count": 28,
   "metadata": {},
   "outputs": [
    {
     "name": "stdout",
     "output_type": "stream",
     "text": [
      "p-value: 1.4655619174575906e-09\n",
      "We reject the null hypothesis\n"
     ]
    }
   ],
   "source": [
    "ttest(surf_data['month_revenue'], 720, ultimate_data['month_revenue'], False)"
   ]
  },
  {
   "cell_type": "markdown",
   "metadata": {},
   "source": [
    "The first null hypothesis is rejected. The P-value is far below the statistical threshold, means a statistically significant difference between the averages of the month revenue from 'surf' and 'ultimate' plans.<br>\n",
    "Now testing the second null hypothesis. <br>\n",
    "For this task we'll devide the data into two tables - users from NY-NJ area and all the other regions. <br>\n",
    "Retrieving all the rows where 'NY-NJ' is included in the srting of 'city', to create the New-Yorkers group:"
   ]
  },
  {
   "cell_type": "code",
   "execution_count": 29,
   "metadata": {},
   "outputs": [
    {
     "data": {
      "text/html": [
       "<div>\n",
       "<style scoped>\n",
       "    .dataframe tbody tr th:only-of-type {\n",
       "        vertical-align: middle;\n",
       "    }\n",
       "\n",
       "    .dataframe tbody tr th {\n",
       "        vertical-align: top;\n",
       "    }\n",
       "\n",
       "    .dataframe thead th {\n",
       "        text-align: right;\n",
       "    }\n",
       "</style>\n",
       "<table border=\"1\" class=\"dataframe\">\n",
       "  <thead>\n",
       "    <tr style=\"text-align: right;\">\n",
       "      <th></th>\n",
       "      <th>user_id</th>\n",
       "      <th>month</th>\n",
       "      <th>duration</th>\n",
       "      <th>messages</th>\n",
       "      <th>gb_used</th>\n",
       "      <th>city</th>\n",
       "      <th>plan</th>\n",
       "      <th>month_revenue</th>\n",
       "    </tr>\n",
       "  </thead>\n",
       "  <tbody>\n",
       "    <tr>\n",
       "      <th>56</th>\n",
       "      <td>1014</td>\n",
       "      <td>11</td>\n",
       "      <td>163.0</td>\n",
       "      <td>9.0</td>\n",
       "      <td>2.0</td>\n",
       "      <td>New York-Newark-Jersey City, NY-NJ-PA MSA</td>\n",
       "      <td>surf</td>\n",
       "      <td>20.00</td>\n",
       "    </tr>\n",
       "    <tr>\n",
       "      <th>57</th>\n",
       "      <td>1014</td>\n",
       "      <td>12</td>\n",
       "      <td>1114.0</td>\n",
       "      <td>64.0</td>\n",
       "      <td>8.0</td>\n",
       "      <td>New York-Newark-Jersey City, NY-NJ-PA MSA</td>\n",
       "      <td>surf</td>\n",
       "      <td>20.42</td>\n",
       "    </tr>\n",
       "    <tr>\n",
       "      <th>75</th>\n",
       "      <td>1022</td>\n",
       "      <td>5</td>\n",
       "      <td>302.0</td>\n",
       "      <td>0.0</td>\n",
       "      <td>5.0</td>\n",
       "      <td>New York-Newark-Jersey City, NY-NJ-PA MSA</td>\n",
       "      <td>surf</td>\n",
       "      <td>20.00</td>\n",
       "    </tr>\n",
       "    <tr>\n",
       "      <th>76</th>\n",
       "      <td>1022</td>\n",
       "      <td>6</td>\n",
       "      <td>490.0</td>\n",
       "      <td>0.0</td>\n",
       "      <td>23.0</td>\n",
       "      <td>New York-Newark-Jersey City, NY-NJ-PA MSA</td>\n",
       "      <td>surf</td>\n",
       "      <td>100.00</td>\n",
       "    </tr>\n",
       "    <tr>\n",
       "      <th>77</th>\n",
       "      <td>1022</td>\n",
       "      <td>7</td>\n",
       "      <td>475.0</td>\n",
       "      <td>0.0</td>\n",
       "      <td>10.0</td>\n",
       "      <td>New York-Newark-Jersey City, NY-NJ-PA MSA</td>\n",
       "      <td>surf</td>\n",
       "      <td>20.00</td>\n",
       "    </tr>\n",
       "  </tbody>\n",
       "</table>\n",
       "</div>"
      ],
      "text/plain": [
       "    user_id  month  duration  messages  gb_used  \\\n",
       "56     1014     11     163.0       9.0      2.0   \n",
       "57     1014     12    1114.0      64.0      8.0   \n",
       "75     1022      5     302.0       0.0      5.0   \n",
       "76     1022      6     490.0       0.0     23.0   \n",
       "77     1022      7     475.0       0.0     10.0   \n",
       "\n",
       "                                         city  plan  month_revenue  \n",
       "56  New York-Newark-Jersey City, NY-NJ-PA MSA  surf          20.00  \n",
       "57  New York-Newark-Jersey City, NY-NJ-PA MSA  surf          20.42  \n",
       "75  New York-Newark-Jersey City, NY-NJ-PA MSA  surf          20.00  \n",
       "76  New York-Newark-Jersey City, NY-NJ-PA MSA  surf         100.00  \n",
       "77  New York-Newark-Jersey City, NY-NJ-PA MSA  surf          20.00  "
      ]
     },
     "execution_count": 29,
     "metadata": {},
     "output_type": "execute_result"
    },
    {
     "data": {
      "text/plain": [
       "377"
      ]
     },
     "execution_count": 29,
     "metadata": {},
     "output_type": "execute_result"
    }
   ],
   "source": [
    "NY_NJ_users = users_final[users_final['city'].str.contains('NY-NJ')]\n",
    "NY_NJ_users.head()\n",
    "len(NY_NJ_users)"
   ]
  },
  {
   "cell_type": "markdown",
   "metadata": {},
   "source": [
    "Other regions data, where the previous condition is False:"
   ]
  },
  {
   "cell_type": "code",
   "execution_count": 30,
   "metadata": {},
   "outputs": [
    {
     "data": {
      "text/html": [
       "<div>\n",
       "<style scoped>\n",
       "    .dataframe tbody tr th:only-of-type {\n",
       "        vertical-align: middle;\n",
       "    }\n",
       "\n",
       "    .dataframe tbody tr th {\n",
       "        vertical-align: top;\n",
       "    }\n",
       "\n",
       "    .dataframe thead th {\n",
       "        text-align: right;\n",
       "    }\n",
       "</style>\n",
       "<table border=\"1\" class=\"dataframe\">\n",
       "  <thead>\n",
       "    <tr style=\"text-align: right;\">\n",
       "      <th></th>\n",
       "      <th>user_id</th>\n",
       "      <th>month</th>\n",
       "      <th>duration</th>\n",
       "      <th>messages</th>\n",
       "      <th>gb_used</th>\n",
       "      <th>city</th>\n",
       "      <th>plan</th>\n",
       "      <th>month_revenue</th>\n",
       "    </tr>\n",
       "  </thead>\n",
       "  <tbody>\n",
       "    <tr>\n",
       "      <th>0</th>\n",
       "      <td>1000</td>\n",
       "      <td>12</td>\n",
       "      <td>124.0</td>\n",
       "      <td>11.0</td>\n",
       "      <td>2.0</td>\n",
       "      <td>Atlanta-Sandy Springs-Roswell, GA MSA</td>\n",
       "      <td>ultimate</td>\n",
       "      <td>70.00</td>\n",
       "    </tr>\n",
       "    <tr>\n",
       "      <th>1</th>\n",
       "      <td>1001</td>\n",
       "      <td>8</td>\n",
       "      <td>182.0</td>\n",
       "      <td>30.0</td>\n",
       "      <td>7.0</td>\n",
       "      <td>Seattle-Tacoma-Bellevue, WA MSA</td>\n",
       "      <td>surf</td>\n",
       "      <td>20.00</td>\n",
       "    </tr>\n",
       "    <tr>\n",
       "      <th>2</th>\n",
       "      <td>1001</td>\n",
       "      <td>9</td>\n",
       "      <td>315.0</td>\n",
       "      <td>44.0</td>\n",
       "      <td>14.0</td>\n",
       "      <td>Seattle-Tacoma-Bellevue, WA MSA</td>\n",
       "      <td>surf</td>\n",
       "      <td>20.00</td>\n",
       "    </tr>\n",
       "    <tr>\n",
       "      <th>3</th>\n",
       "      <td>1001</td>\n",
       "      <td>10</td>\n",
       "      <td>393.0</td>\n",
       "      <td>53.0</td>\n",
       "      <td>22.0</td>\n",
       "      <td>Seattle-Tacoma-Bellevue, WA MSA</td>\n",
       "      <td>surf</td>\n",
       "      <td>90.09</td>\n",
       "    </tr>\n",
       "    <tr>\n",
       "      <th>4</th>\n",
       "      <td>1001</td>\n",
       "      <td>11</td>\n",
       "      <td>426.0</td>\n",
       "      <td>36.0</td>\n",
       "      <td>19.0</td>\n",
       "      <td>Seattle-Tacoma-Bellevue, WA MSA</td>\n",
       "      <td>surf</td>\n",
       "      <td>60.00</td>\n",
       "    </tr>\n",
       "  </tbody>\n",
       "</table>\n",
       "</div>"
      ],
      "text/plain": [
       "   user_id  month  duration  messages  gb_used  \\\n",
       "0     1000     12     124.0      11.0      2.0   \n",
       "1     1001      8     182.0      30.0      7.0   \n",
       "2     1001      9     315.0      44.0     14.0   \n",
       "3     1001     10     393.0      53.0     22.0   \n",
       "4     1001     11     426.0      36.0     19.0   \n",
       "\n",
       "                                    city      plan  month_revenue  \n",
       "0  Atlanta-Sandy Springs-Roswell, GA MSA  ultimate          70.00  \n",
       "1        Seattle-Tacoma-Bellevue, WA MSA      surf          20.00  \n",
       "2        Seattle-Tacoma-Bellevue, WA MSA      surf          20.00  \n",
       "3        Seattle-Tacoma-Bellevue, WA MSA      surf          90.09  \n",
       "4        Seattle-Tacoma-Bellevue, WA MSA      surf          60.00  "
      ]
     },
     "execution_count": 30,
     "metadata": {},
     "output_type": "execute_result"
    },
    {
     "data": {
      "text/plain": [
       "1916"
      ]
     },
     "execution_count": 30,
     "metadata": {},
     "output_type": "execute_result"
    }
   ],
   "source": [
    "not_NY_users = users_final[users_final['city'].str.contains('NY-NJ') == False]\n",
    "not_NY_users.head()\n",
    "len(not_NY_users)"
   ]
  },
  {
   "cell_type": "markdown",
   "metadata": {},
   "source": [
    "Levene's test for the different area samples:"
   ]
  },
  {
   "cell_type": "code",
   "execution_count": 31,
   "metadata": {},
   "outputs": [
    {
     "name": "stdout",
     "output_type": "stream",
     "text": [
      "p-value: 0.13328077308433875\n",
      "We can't reject the null hypothesis\n"
     ]
    }
   ],
   "source": [
    "levene_area = st.levene(not_NY_users['month_revenue'], NY_NJ_users['month_revenue'])\n",
    "print('p-value:', levene_area.pvalue)\n",
    "if levene_area.pvalue < 0.05:\n",
    "    print('We reject the null hypothesis')\n",
    "else:\n",
    "    print(\"We can't reject the null hypothesis\")"
   ]
  },
  {
   "cell_type": "markdown",
   "metadata": {},
   "source": [
    "With regard to month revenue by areas, we can't reject the null hypothesis. The p-value is above the 0.05 thershold, means we can't reject equality between samples variances, and use the default True value for equal_var."
   ]
  },
  {
   "cell_type": "markdown",
   "metadata": {},
   "source": [
    "Calling the ttest function and running the t-test with the new samples, using random sample of 377 users (for equal sample sizes) from the bigger group - not NY users:"
   ]
  },
  {
   "cell_type": "code",
   "execution_count": 32,
   "metadata": {},
   "outputs": [
    {
     "name": "stdout",
     "output_type": "stream",
     "text": [
      "p-value: 0.40935199056909854\n",
      "We can't reject the null hypothesis\n"
     ]
    }
   ],
   "source": [
    "ttest(not_NY_users['month_revenue'], 377, NY_NJ_users['month_revenue'])"
   ]
  },
  {
   "cell_type": "markdown",
   "metadata": {},
   "source": [
    "In this case we can't reject the null hypothesis. In this case the P-value is above the threshold, indicating a probability of more than 5%.  "
   ]
  },
  {
   "cell_type": "markdown",
   "metadata": {},
   "source": [
    "## Overall conclusion\n",
    "\n"
   ]
  },
  {
   "cell_type": "markdown",
   "metadata": {},
   "source": [
    "This project purpose was to analyze behavior of Megaline telecom company users, and determine which of the company's plans bring in higher revenues. <br>\n",
    "Preprocessing stage included converting data type of date columns, rounding values according to the charging policy, adding columns of month and appropriately grouping data to find monthly usage parameters for each user. Then merging the tables, and treating missing values resulted from merging.\n",
    "\n",
    "Analysis showed quite similar distributions (mostly right-skewed) for the parameters - calls duration, messages sent, and web traffic - when comparing distributions in histograms between the two plans. The mean, variance and standard deviation were calculated For each plan in each parameter. The results showed that the mean values of the Ultimate plan were higher than Surf plan in every parameter. In reagrd to variance and standard deviation, Surf plan showed higher values only in web traffic parameter.\n",
    "\n",
    "Finally we tested the null hypotheses. <br>\n",
    "The first hypothesis states equality in the average revenue from users of the two plans. This null hypothesis was rejected, thus the average revenue from users of Ultimate and Surf calling plans differs (although it is not proven only by rejecting the null hypothesis).<br>\n",
    "The second hypothesis states equality in the average revenue from users in NY-NJ area and the others. In this case we couldn't reject the null hypothesis, which means no statistically significant difference in average revenue from NY-NJ area and the others."
   ]
  }
 ],
 "metadata": {
  "ExecuteTimeLog": [
   {
    "duration": 407,
    "start_time": "2022-08-19T10:13:08.847Z"
   },
   {
    "duration": 106,
    "start_time": "2022-08-19T10:17:05.285Z"
   },
   {
    "duration": 65,
    "start_time": "2022-08-19T10:17:31.267Z"
   },
   {
    "duration": 104,
    "start_time": "2022-08-19T10:18:16.265Z"
   },
   {
    "duration": 12,
    "start_time": "2022-08-19T10:18:24.437Z"
   },
   {
    "duration": 22,
    "start_time": "2022-08-19T10:18:54.886Z"
   },
   {
    "duration": 1178,
    "start_time": "2022-08-19T10:21:39.159Z"
   },
   {
    "duration": 17,
    "start_time": "2022-08-19T10:23:53.540Z"
   },
   {
    "duration": 16,
    "start_time": "2022-08-19T10:24:17.128Z"
   },
   {
    "duration": 11,
    "start_time": "2022-08-19T10:26:55.394Z"
   },
   {
    "duration": 26,
    "start_time": "2022-08-19T10:35:37.921Z"
   },
   {
    "duration": 15,
    "start_time": "2022-08-19T10:36:32.124Z"
   },
   {
    "duration": 24,
    "start_time": "2022-08-19T10:37:43.293Z"
   },
   {
    "duration": 30,
    "start_time": "2022-08-19T10:38:57.513Z"
   },
   {
    "duration": 942,
    "start_time": "2022-08-19T17:59:44.759Z"
   },
   {
    "duration": 1542,
    "start_time": "2022-08-19T17:59:45.703Z"
   },
   {
    "duration": 50,
    "start_time": "2022-08-19T17:59:47.248Z"
   },
   {
    "duration": 36,
    "start_time": "2022-08-19T17:59:47.305Z"
   },
   {
    "duration": 27,
    "start_time": "2022-08-19T17:59:47.344Z"
   },
   {
    "duration": 53,
    "start_time": "2022-08-19T17:59:47.380Z"
   },
   {
    "duration": 42,
    "start_time": "2022-08-19T17:59:47.435Z"
   },
   {
    "duration": 395,
    "start_time": "2022-08-19T18:06:12.424Z"
   },
   {
    "duration": 26,
    "start_time": "2022-08-19T18:06:19.500Z"
   },
   {
    "duration": 90,
    "start_time": "2022-08-19T18:17:45.262Z"
   },
   {
    "duration": 107,
    "start_time": "2022-08-19T18:17:55.285Z"
   },
   {
    "duration": 15,
    "start_time": "2022-08-19T18:18:53.261Z"
   },
   {
    "duration": 16,
    "start_time": "2022-08-19T18:21:55.425Z"
   },
   {
    "duration": 22,
    "start_time": "2022-08-19T18:22:53.393Z"
   },
   {
    "duration": 3,
    "start_time": "2022-08-19T18:23:49.562Z"
   },
   {
    "duration": 31,
    "start_time": "2022-08-19T18:23:55.562Z"
   },
   {
    "duration": 75,
    "start_time": "2022-08-19T18:26:07.113Z"
   },
   {
    "duration": 47,
    "start_time": "2022-08-19T18:27:24.518Z"
   },
   {
    "duration": 104,
    "start_time": "2022-08-19T18:27:44.547Z"
   },
   {
    "duration": 60,
    "start_time": "2022-08-19T18:28:04.830Z"
   },
   {
    "duration": 3,
    "start_time": "2022-08-19T18:34:51.862Z"
   },
   {
    "duration": 147,
    "start_time": "2022-08-19T18:40:30.042Z"
   },
   {
    "duration": 8,
    "start_time": "2022-08-19T18:40:57.929Z"
   },
   {
    "duration": 67,
    "start_time": "2022-08-19T18:41:06.513Z"
   },
   {
    "duration": 21,
    "start_time": "2022-08-19T18:41:14.636Z"
   },
   {
    "duration": 61,
    "start_time": "2022-08-19T18:41:21.401Z"
   },
   {
    "duration": 484,
    "start_time": "2022-08-19T19:01:08.134Z"
   },
   {
    "duration": 31,
    "start_time": "2022-08-19T19:06:26.391Z"
   },
   {
    "duration": 22,
    "start_time": "2022-08-19T19:07:07.196Z"
   },
   {
    "duration": 90,
    "start_time": "2022-08-19T19:24:52.049Z"
   },
   {
    "duration": 51,
    "start_time": "2022-08-19T19:25:01.562Z"
   },
   {
    "duration": 46,
    "start_time": "2022-08-20T07:04:32.223Z"
   },
   {
    "duration": 1241,
    "start_time": "2022-08-20T07:04:37.302Z"
   },
   {
    "duration": 956,
    "start_time": "2022-08-20T07:04:38.545Z"
   },
   {
    "duration": 70,
    "start_time": "2022-08-20T07:04:39.503Z"
   },
   {
    "duration": 0,
    "start_time": "2022-08-20T07:04:39.575Z"
   },
   {
    "duration": 0,
    "start_time": "2022-08-20T07:04:39.576Z"
   },
   {
    "duration": 0,
    "start_time": "2022-08-20T07:04:39.578Z"
   },
   {
    "duration": 1,
    "start_time": "2022-08-20T07:04:39.579Z"
   },
   {
    "duration": 0,
    "start_time": "2022-08-20T07:04:39.581Z"
   },
   {
    "duration": 0,
    "start_time": "2022-08-20T07:04:39.582Z"
   },
   {
    "duration": 0,
    "start_time": "2022-08-20T07:04:39.600Z"
   },
   {
    "duration": 34,
    "start_time": "2022-08-20T07:04:53.861Z"
   },
   {
    "duration": 27,
    "start_time": "2022-08-20T07:05:17.104Z"
   },
   {
    "duration": 23,
    "start_time": "2022-08-20T07:05:17.133Z"
   },
   {
    "duration": 16,
    "start_time": "2022-08-20T07:05:17.157Z"
   },
   {
    "duration": 19,
    "start_time": "2022-08-20T07:05:17.199Z"
   },
   {
    "duration": 21,
    "start_time": "2022-08-20T07:05:17.220Z"
   },
   {
    "duration": 80,
    "start_time": "2022-08-20T07:05:17.243Z"
   },
   {
    "duration": 123,
    "start_time": "2022-08-20T07:05:17.325Z"
   },
   {
    "duration": 24,
    "start_time": "2022-08-20T07:05:17.450Z"
   },
   {
    "duration": 42,
    "start_time": "2022-08-20T07:05:38.127Z"
   },
   {
    "duration": 37,
    "start_time": "2022-08-20T07:13:55.324Z"
   },
   {
    "duration": 10,
    "start_time": "2022-08-20T07:31:30.436Z"
   },
   {
    "duration": 11,
    "start_time": "2022-08-20T07:38:26.729Z"
   },
   {
    "duration": 79,
    "start_time": "2022-08-20T07:41:49.004Z"
   },
   {
    "duration": 977,
    "start_time": "2022-08-20T07:42:12.460Z"
   },
   {
    "duration": 16,
    "start_time": "2022-08-20T07:42:44.439Z"
   },
   {
    "duration": 14,
    "start_time": "2022-08-20T07:43:33.136Z"
   },
   {
    "duration": 25,
    "start_time": "2022-08-20T07:53:02.487Z"
   },
   {
    "duration": 36,
    "start_time": "2022-08-20T07:57:07.647Z"
   },
   {
    "duration": 32,
    "start_time": "2022-08-20T07:57:32.301Z"
   },
   {
    "duration": 3,
    "start_time": "2022-08-20T07:57:58.493Z"
   },
   {
    "duration": 28,
    "start_time": "2022-08-20T07:58:20.677Z"
   },
   {
    "duration": 31,
    "start_time": "2022-08-20T08:03:15.294Z"
   },
   {
    "duration": 7,
    "start_time": "2022-08-20T08:03:48.088Z"
   },
   {
    "duration": 11,
    "start_time": "2022-08-20T08:05:13.081Z"
   },
   {
    "duration": 11,
    "start_time": "2022-08-20T08:05:35.953Z"
   },
   {
    "duration": 19,
    "start_time": "2022-08-20T08:08:17.803Z"
   },
   {
    "duration": 10,
    "start_time": "2022-08-20T08:09:10.349Z"
   },
   {
    "duration": 2,
    "start_time": "2022-08-20T08:09:18.067Z"
   },
   {
    "duration": 12,
    "start_time": "2022-08-20T08:09:33.947Z"
   },
   {
    "duration": 25,
    "start_time": "2022-08-20T08:18:52.746Z"
   },
   {
    "duration": 9,
    "start_time": "2022-08-20T08:20:47.648Z"
   },
   {
    "duration": 11,
    "start_time": "2022-08-20T08:20:55.057Z"
   },
   {
    "duration": 8,
    "start_time": "2022-08-20T08:21:02.533Z"
   },
   {
    "duration": 35,
    "start_time": "2022-08-20T08:42:30.980Z"
   },
   {
    "duration": 862,
    "start_time": "2022-08-20T09:54:18.153Z"
   },
   {
    "duration": 764,
    "start_time": "2022-08-20T09:54:40.181Z"
   },
   {
    "duration": 15,
    "start_time": "2022-08-20T09:58:03.029Z"
   },
   {
    "duration": 24,
    "start_time": "2022-08-20T09:58:17.008Z"
   },
   {
    "duration": 31,
    "start_time": "2022-08-20T09:58:27.418Z"
   },
   {
    "duration": 18,
    "start_time": "2022-08-20T09:59:30.915Z"
   },
   {
    "duration": 4,
    "start_time": "2022-08-20T09:59:44.368Z"
   },
   {
    "duration": 321,
    "start_time": "2022-08-20T09:59:44.374Z"
   },
   {
    "duration": 33,
    "start_time": "2022-08-20T09:59:44.697Z"
   },
   {
    "duration": 41,
    "start_time": "2022-08-20T09:59:44.732Z"
   },
   {
    "duration": 40,
    "start_time": "2022-08-20T09:59:44.774Z"
   },
   {
    "duration": 31,
    "start_time": "2022-08-20T09:59:44.816Z"
   },
   {
    "duration": 67,
    "start_time": "2022-08-20T09:59:44.848Z"
   },
   {
    "duration": 94,
    "start_time": "2022-08-20T09:59:44.919Z"
   },
   {
    "duration": 99,
    "start_time": "2022-08-20T09:59:45.016Z"
   },
   {
    "duration": 14,
    "start_time": "2022-08-20T09:59:45.117Z"
   },
   {
    "duration": 22,
    "start_time": "2022-08-20T09:59:45.133Z"
   },
   {
    "duration": 18,
    "start_time": "2022-08-20T09:59:45.157Z"
   },
   {
    "duration": 3,
    "start_time": "2022-08-20T09:59:45.203Z"
   },
   {
    "duration": 24,
    "start_time": "2022-08-20T10:00:09.464Z"
   },
   {
    "duration": 16,
    "start_time": "2022-08-20T10:02:14.777Z"
   },
   {
    "duration": 13,
    "start_time": "2022-08-20T10:03:46.581Z"
   },
   {
    "duration": 15,
    "start_time": "2022-08-20T10:08:21.917Z"
   },
   {
    "duration": 19,
    "start_time": "2022-08-20T10:10:21.688Z"
   },
   {
    "duration": 25,
    "start_time": "2022-08-20T10:15:21.738Z"
   },
   {
    "duration": 27,
    "start_time": "2022-08-20T10:15:37.548Z"
   },
   {
    "duration": 36,
    "start_time": "2022-08-20T10:16:03.293Z"
   },
   {
    "duration": 24,
    "start_time": "2022-08-20T10:16:09.564Z"
   },
   {
    "duration": 26,
    "start_time": "2022-08-20T10:17:23.868Z"
   },
   {
    "duration": 24,
    "start_time": "2022-08-20T10:17:35.350Z"
   },
   {
    "duration": 22,
    "start_time": "2022-08-20T10:24:24.376Z"
   },
   {
    "duration": 21,
    "start_time": "2022-08-20T10:24:42.272Z"
   },
   {
    "duration": 23,
    "start_time": "2022-08-20T10:24:50.241Z"
   },
   {
    "duration": 43,
    "start_time": "2022-08-20T10:28:09.525Z"
   },
   {
    "duration": 17,
    "start_time": "2022-08-20T10:31:01.753Z"
   },
   {
    "duration": 19,
    "start_time": "2022-08-20T10:31:22.261Z"
   },
   {
    "duration": 50,
    "start_time": "2022-08-20T10:32:13.940Z"
   },
   {
    "duration": 20,
    "start_time": "2022-08-20T10:32:32.023Z"
   },
   {
    "duration": 19,
    "start_time": "2022-08-20T10:33:08.171Z"
   },
   {
    "duration": 23,
    "start_time": "2022-08-20T10:33:43.407Z"
   },
   {
    "duration": 10,
    "start_time": "2022-08-20T10:34:39.038Z"
   },
   {
    "duration": 3,
    "start_time": "2022-08-20T10:37:16.551Z"
   },
   {
    "duration": 16,
    "start_time": "2022-08-20T10:37:19.414Z"
   },
   {
    "duration": 25,
    "start_time": "2022-08-20T10:38:53.543Z"
   },
   {
    "duration": 2,
    "start_time": "2022-08-20T10:39:06.778Z"
   },
   {
    "duration": 13,
    "start_time": "2022-08-20T10:40:15.552Z"
   },
   {
    "duration": 19,
    "start_time": "2022-08-20T10:41:05.353Z"
   },
   {
    "duration": 28,
    "start_time": "2022-08-20T10:42:01.249Z"
   },
   {
    "duration": 18,
    "start_time": "2022-08-20T10:42:42.480Z"
   },
   {
    "duration": 30,
    "start_time": "2022-08-20T10:44:23.731Z"
   },
   {
    "duration": 13,
    "start_time": "2022-08-20T10:45:09.630Z"
   },
   {
    "duration": 13,
    "start_time": "2022-08-20T10:49:48.102Z"
   },
   {
    "duration": 15,
    "start_time": "2022-08-20T10:50:08.323Z"
   },
   {
    "duration": 3,
    "start_time": "2022-08-20T10:50:31.903Z"
   },
   {
    "duration": 312,
    "start_time": "2022-08-20T10:50:31.908Z"
   },
   {
    "duration": 25,
    "start_time": "2022-08-20T10:50:32.222Z"
   },
   {
    "duration": 53,
    "start_time": "2022-08-20T10:50:32.248Z"
   },
   {
    "duration": 14,
    "start_time": "2022-08-20T10:50:32.303Z"
   },
   {
    "duration": 20,
    "start_time": "2022-08-20T10:50:32.319Z"
   },
   {
    "duration": 34,
    "start_time": "2022-08-20T10:50:32.341Z"
   },
   {
    "duration": 48,
    "start_time": "2022-08-20T10:50:32.399Z"
   },
   {
    "duration": 95,
    "start_time": "2022-08-20T10:50:32.449Z"
   },
   {
    "duration": 13,
    "start_time": "2022-08-20T10:50:32.546Z"
   },
   {
    "duration": 21,
    "start_time": "2022-08-20T10:50:32.561Z"
   },
   {
    "duration": 23,
    "start_time": "2022-08-20T10:50:32.600Z"
   },
   {
    "duration": 15,
    "start_time": "2022-08-20T10:50:32.625Z"
   },
   {
    "duration": 10,
    "start_time": "2022-08-20T10:50:32.642Z"
   },
   {
    "duration": 11,
    "start_time": "2022-08-20T10:53:16.935Z"
   },
   {
    "duration": 20,
    "start_time": "2022-08-20T10:53:34.597Z"
   },
   {
    "duration": 10,
    "start_time": "2022-08-20T10:57:07.785Z"
   },
   {
    "duration": 10,
    "start_time": "2022-08-20T10:57:14.270Z"
   },
   {
    "duration": 7,
    "start_time": "2022-08-20T10:59:24.843Z"
   },
   {
    "duration": 10,
    "start_time": "2022-08-20T10:59:41.179Z"
   },
   {
    "duration": 9,
    "start_time": "2022-08-20T11:02:40.964Z"
   },
   {
    "duration": 8,
    "start_time": "2022-08-20T11:03:17.917Z"
   },
   {
    "duration": 11,
    "start_time": "2022-08-20T11:03:24.806Z"
   },
   {
    "duration": 1058,
    "start_time": "2022-08-20T11:20:50.108Z"
   },
   {
    "duration": 827,
    "start_time": "2022-08-20T11:21:39.565Z"
   },
   {
    "duration": 84,
    "start_time": "2022-08-20T11:22:08.223Z"
   },
   {
    "duration": 4,
    "start_time": "2022-08-20T11:22:17.291Z"
   },
   {
    "duration": 4,
    "start_time": "2022-08-20T11:22:57.036Z"
   },
   {
    "duration": 751,
    "start_time": "2022-08-20T11:23:54.043Z"
   },
   {
    "duration": 3,
    "start_time": "2022-08-20T11:24:09.719Z"
   },
   {
    "duration": 9,
    "start_time": "2022-08-20T11:39:32.210Z"
   },
   {
    "duration": 10,
    "start_time": "2022-08-20T11:40:01.388Z"
   },
   {
    "duration": 4,
    "start_time": "2022-08-20T11:49:10.165Z"
   },
   {
    "duration": 46,
    "start_time": "2022-08-20T11:57:51.746Z"
   },
   {
    "duration": 4,
    "start_time": "2022-08-20T11:59:18.141Z"
   },
   {
    "duration": 1454,
    "start_time": "2022-08-20T11:59:34.052Z"
   },
   {
    "duration": 17,
    "start_time": "2022-08-20T11:59:57.086Z"
   },
   {
    "duration": 20,
    "start_time": "2022-08-20T12:04:52.838Z"
   },
   {
    "duration": 19,
    "start_time": "2022-08-20T12:07:15.241Z"
   },
   {
    "duration": 6,
    "start_time": "2022-08-20T12:10:26.020Z"
   },
   {
    "duration": 61,
    "start_time": "2022-08-20T12:11:27.997Z"
   },
   {
    "duration": 52,
    "start_time": "2022-08-20T12:12:06.459Z"
   },
   {
    "duration": 47,
    "start_time": "2022-08-20T12:12:36.476Z"
   },
   {
    "duration": 66,
    "start_time": "2022-08-20T12:13:05.438Z"
   },
   {
    "duration": 12,
    "start_time": "2022-08-20T12:15:56.054Z"
   },
   {
    "duration": 6,
    "start_time": "2022-08-20T12:17:01.125Z"
   },
   {
    "duration": 7,
    "start_time": "2022-08-20T12:17:13.213Z"
   },
   {
    "duration": 6,
    "start_time": "2022-08-20T12:17:21.921Z"
   },
   {
    "duration": 4,
    "start_time": "2022-08-20T12:17:30.574Z"
   },
   {
    "duration": 5,
    "start_time": "2022-08-20T12:17:40.934Z"
   },
   {
    "duration": 16,
    "start_time": "2022-08-20T12:19:28.742Z"
   },
   {
    "duration": 4,
    "start_time": "2022-08-20T12:21:17.751Z"
   },
   {
    "duration": 12,
    "start_time": "2022-08-20T12:27:02.476Z"
   },
   {
    "duration": 11,
    "start_time": "2022-08-20T12:31:45.321Z"
   },
   {
    "duration": 4,
    "start_time": "2022-08-20T12:32:11.985Z"
   },
   {
    "duration": 313,
    "start_time": "2022-08-20T12:32:11.992Z"
   },
   {
    "duration": 30,
    "start_time": "2022-08-20T12:32:12.307Z"
   },
   {
    "duration": 85,
    "start_time": "2022-08-20T12:32:12.339Z"
   },
   {
    "duration": 19,
    "start_time": "2022-08-20T12:32:12.426Z"
   },
   {
    "duration": 24,
    "start_time": "2022-08-20T12:32:12.447Z"
   },
   {
    "duration": 73,
    "start_time": "2022-08-20T12:32:12.473Z"
   },
   {
    "duration": 87,
    "start_time": "2022-08-20T12:32:12.548Z"
   },
   {
    "duration": 128,
    "start_time": "2022-08-20T12:32:12.637Z"
   },
   {
    "duration": 14,
    "start_time": "2022-08-20T12:32:12.767Z"
   },
   {
    "duration": 35,
    "start_time": "2022-08-20T12:32:12.783Z"
   },
   {
    "duration": 25,
    "start_time": "2022-08-20T12:32:12.820Z"
   },
   {
    "duration": 24,
    "start_time": "2022-08-20T12:32:12.847Z"
   },
   {
    "duration": 7,
    "start_time": "2022-08-20T12:32:12.900Z"
   },
   {
    "duration": 14,
    "start_time": "2022-08-20T12:32:12.909Z"
   },
   {
    "duration": 0,
    "start_time": "2022-08-20T12:32:12.925Z"
   },
   {
    "duration": 0,
    "start_time": "2022-08-20T12:32:12.926Z"
   },
   {
    "duration": 0,
    "start_time": "2022-08-20T12:32:12.927Z"
   },
   {
    "duration": 0,
    "start_time": "2022-08-20T12:32:12.930Z"
   },
   {
    "duration": 11,
    "start_time": "2022-08-20T12:36:39.451Z"
   },
   {
    "duration": 11,
    "start_time": "2022-08-20T12:37:50.560Z"
   },
   {
    "duration": 12,
    "start_time": "2022-08-20T12:38:16.052Z"
   },
   {
    "duration": 4,
    "start_time": "2022-08-20T12:47:07.459Z"
   },
   {
    "duration": 3,
    "start_time": "2022-08-20T12:50:07.812Z"
   },
   {
    "duration": 4,
    "start_time": "2022-08-20T12:52:01.619Z"
   },
   {
    "duration": 15,
    "start_time": "2022-08-20T12:52:23.621Z"
   },
   {
    "duration": 17,
    "start_time": "2022-08-20T12:53:19.292Z"
   },
   {
    "duration": 6,
    "start_time": "2022-08-20T12:54:44.551Z"
   },
   {
    "duration": 6,
    "start_time": "2022-08-20T12:55:06.797Z"
   },
   {
    "duration": 17,
    "start_time": "2022-08-20T12:55:49.053Z"
   },
   {
    "duration": 24,
    "start_time": "2022-08-20T12:56:08.617Z"
   },
   {
    "duration": 7,
    "start_time": "2022-08-20T12:56:24.455Z"
   },
   {
    "duration": 5,
    "start_time": "2022-08-20T12:56:50.773Z"
   },
   {
    "duration": 4,
    "start_time": "2022-08-20T13:00:05.768Z"
   },
   {
    "duration": 331,
    "start_time": "2022-08-20T13:00:05.775Z"
   },
   {
    "duration": 29,
    "start_time": "2022-08-20T13:00:06.107Z"
   },
   {
    "duration": 63,
    "start_time": "2022-08-20T13:00:06.138Z"
   },
   {
    "duration": 17,
    "start_time": "2022-08-20T13:00:06.204Z"
   },
   {
    "duration": 25,
    "start_time": "2022-08-20T13:00:06.222Z"
   },
   {
    "duration": 67,
    "start_time": "2022-08-20T13:00:06.249Z"
   },
   {
    "duration": 54,
    "start_time": "2022-08-20T13:00:06.317Z"
   },
   {
    "duration": 145,
    "start_time": "2022-08-20T13:00:06.373Z"
   },
   {
    "duration": 14,
    "start_time": "2022-08-20T13:00:06.520Z"
   },
   {
    "duration": 25,
    "start_time": "2022-08-20T13:00:06.535Z"
   },
   {
    "duration": 56,
    "start_time": "2022-08-20T13:00:06.562Z"
   },
   {
    "duration": 22,
    "start_time": "2022-08-20T13:00:06.620Z"
   },
   {
    "duration": 5,
    "start_time": "2022-08-20T13:00:06.645Z"
   },
   {
    "duration": 60,
    "start_time": "2022-08-20T13:00:06.651Z"
   },
   {
    "duration": 0,
    "start_time": "2022-08-20T13:00:06.713Z"
   },
   {
    "duration": 5,
    "start_time": "2022-08-20T13:00:26.778Z"
   },
   {
    "duration": 9,
    "start_time": "2022-08-20T13:00:28.712Z"
   },
   {
    "duration": 20,
    "start_time": "2022-08-20T13:01:32.425Z"
   },
   {
    "duration": 18,
    "start_time": "2022-08-20T13:02:20.982Z"
   },
   {
    "duration": 15,
    "start_time": "2022-08-20T13:03:52.699Z"
   },
   {
    "duration": 3,
    "start_time": "2022-08-20T13:04:01.293Z"
   },
   {
    "duration": 381,
    "start_time": "2022-08-20T13:04:01.298Z"
   },
   {
    "duration": 27,
    "start_time": "2022-08-20T13:04:01.680Z"
   },
   {
    "duration": 65,
    "start_time": "2022-08-20T13:04:01.709Z"
   },
   {
    "duration": 23,
    "start_time": "2022-08-20T13:04:01.777Z"
   },
   {
    "duration": 32,
    "start_time": "2022-08-20T13:04:01.802Z"
   },
   {
    "duration": 41,
    "start_time": "2022-08-20T13:04:01.836Z"
   },
   {
    "duration": 72,
    "start_time": "2022-08-20T13:04:01.879Z"
   },
   {
    "duration": 134,
    "start_time": "2022-08-20T13:04:01.953Z"
   },
   {
    "duration": 23,
    "start_time": "2022-08-20T13:04:02.088Z"
   },
   {
    "duration": 23,
    "start_time": "2022-08-20T13:04:02.112Z"
   },
   {
    "duration": 26,
    "start_time": "2022-08-20T13:04:02.137Z"
   },
   {
    "duration": 46,
    "start_time": "2022-08-20T13:04:02.165Z"
   },
   {
    "duration": 5,
    "start_time": "2022-08-20T13:04:02.214Z"
   },
   {
    "duration": 20,
    "start_time": "2022-08-20T13:04:02.221Z"
   },
   {
    "duration": 23,
    "start_time": "2022-08-20T13:04:02.243Z"
   },
   {
    "duration": 4,
    "start_time": "2022-08-20T13:08:06.631Z"
   },
   {
    "duration": 21,
    "start_time": "2022-08-20T13:08:22.072Z"
   },
   {
    "duration": 22,
    "start_time": "2022-08-20T13:09:47.601Z"
   },
   {
    "duration": 15,
    "start_time": "2022-08-20T13:14:48.540Z"
   },
   {
    "duration": 9,
    "start_time": "2022-08-20T13:15:27.578Z"
   },
   {
    "duration": 25,
    "start_time": "2022-08-20T13:15:40.867Z"
   },
   {
    "duration": 4,
    "start_time": "2022-08-20T13:17:42.739Z"
   },
   {
    "duration": 21,
    "start_time": "2022-08-20T13:18:02.998Z"
   },
   {
    "duration": 11,
    "start_time": "2022-08-20T13:21:28.856Z"
   },
   {
    "duration": 12,
    "start_time": "2022-08-20T13:21:44.392Z"
   },
   {
    "duration": 19,
    "start_time": "2022-08-20T13:27:21.994Z"
   },
   {
    "duration": 7,
    "start_time": "2022-08-20T14:17:03.926Z"
   },
   {
    "duration": 967,
    "start_time": "2022-08-20T14:22:10.820Z"
   },
   {
    "duration": 16,
    "start_time": "2022-08-20T14:22:33.918Z"
   },
   {
    "duration": 795,
    "start_time": "2022-08-20T14:24:16.162Z"
   },
   {
    "duration": 13,
    "start_time": "2022-08-20T14:25:01.342Z"
   },
   {
    "duration": 1201,
    "start_time": "2022-08-20T16:46:24.342Z"
   },
   {
    "duration": 830,
    "start_time": "2022-08-20T16:46:25.545Z"
   },
   {
    "duration": 46,
    "start_time": "2022-08-20T16:46:26.376Z"
   },
   {
    "duration": 50,
    "start_time": "2022-08-20T16:46:26.424Z"
   },
   {
    "duration": 33,
    "start_time": "2022-08-20T16:46:26.476Z"
   },
   {
    "duration": 22,
    "start_time": "2022-08-20T16:46:26.510Z"
   },
   {
    "duration": 74,
    "start_time": "2022-08-20T16:46:26.533Z"
   },
   {
    "duration": 82,
    "start_time": "2022-08-20T16:46:26.609Z"
   },
   {
    "duration": 125,
    "start_time": "2022-08-20T16:46:26.693Z"
   },
   {
    "duration": 16,
    "start_time": "2022-08-20T16:46:26.820Z"
   },
   {
    "duration": 26,
    "start_time": "2022-08-20T16:46:26.838Z"
   },
   {
    "duration": 31,
    "start_time": "2022-08-20T16:46:26.891Z"
   },
   {
    "duration": 20,
    "start_time": "2022-08-20T16:46:26.923Z"
   },
   {
    "duration": 9,
    "start_time": "2022-08-20T16:46:26.944Z"
   },
   {
    "duration": 46,
    "start_time": "2022-08-20T16:46:26.955Z"
   },
   {
    "duration": 13,
    "start_time": "2022-08-20T16:46:27.002Z"
   },
   {
    "duration": 15,
    "start_time": "2022-08-20T16:46:27.016Z"
   },
   {
    "duration": 18,
    "start_time": "2022-08-20T16:46:27.033Z"
   },
   {
    "duration": 46,
    "start_time": "2022-08-20T16:46:27.053Z"
   },
   {
    "duration": 19,
    "start_time": "2022-08-20T16:46:27.100Z"
   },
   {
    "duration": 27,
    "start_time": "2022-08-20T16:51:57.089Z"
   },
   {
    "duration": 12,
    "start_time": "2022-08-20T16:52:08.155Z"
   },
   {
    "duration": 5,
    "start_time": "2022-08-20T16:56:29.313Z"
   },
   {
    "duration": 356,
    "start_time": "2022-08-20T16:56:29.320Z"
   },
   {
    "duration": 38,
    "start_time": "2022-08-20T16:56:29.677Z"
   },
   {
    "duration": 48,
    "start_time": "2022-08-20T16:56:29.717Z"
   },
   {
    "duration": 40,
    "start_time": "2022-08-20T16:56:29.767Z"
   },
   {
    "duration": 26,
    "start_time": "2022-08-20T16:56:29.809Z"
   },
   {
    "duration": 69,
    "start_time": "2022-08-20T16:56:29.837Z"
   },
   {
    "duration": 62,
    "start_time": "2022-08-20T16:56:29.908Z"
   },
   {
    "duration": 124,
    "start_time": "2022-08-20T16:56:29.973Z"
   },
   {
    "duration": 10,
    "start_time": "2022-08-20T16:56:30.099Z"
   },
   {
    "duration": 25,
    "start_time": "2022-08-20T16:56:30.111Z"
   },
   {
    "duration": 21,
    "start_time": "2022-08-20T16:56:30.138Z"
   },
   {
    "duration": 57,
    "start_time": "2022-08-20T16:56:30.162Z"
   },
   {
    "duration": 27,
    "start_time": "2022-08-20T16:56:30.222Z"
   },
   {
    "duration": 42,
    "start_time": "2022-08-20T16:56:30.251Z"
   },
   {
    "duration": 17,
    "start_time": "2022-08-20T16:56:30.294Z"
   },
   {
    "duration": 41,
    "start_time": "2022-08-20T16:56:30.314Z"
   },
   {
    "duration": 19,
    "start_time": "2022-08-20T16:56:30.356Z"
   },
   {
    "duration": 19,
    "start_time": "2022-08-20T16:56:30.377Z"
   },
   {
    "duration": 41,
    "start_time": "2022-08-20T16:56:30.399Z"
   },
   {
    "duration": 129,
    "start_time": "2022-08-20T16:59:26.261Z"
   },
   {
    "duration": 12,
    "start_time": "2022-08-20T17:01:21.204Z"
   },
   {
    "duration": 1244,
    "start_time": "2022-08-20T17:02:36.003Z"
   },
   {
    "duration": 11,
    "start_time": "2022-08-20T17:06:35.582Z"
   },
   {
    "duration": 13,
    "start_time": "2022-08-20T17:07:18.451Z"
   },
   {
    "duration": 1643,
    "start_time": "2022-08-20T17:07:30.717Z"
   },
   {
    "duration": 5,
    "start_time": "2022-08-20T17:08:00.789Z"
   },
   {
    "duration": 366,
    "start_time": "2022-08-20T17:08:00.796Z"
   },
   {
    "duration": 37,
    "start_time": "2022-08-20T17:08:01.164Z"
   },
   {
    "duration": 60,
    "start_time": "2022-08-20T17:08:01.203Z"
   },
   {
    "duration": 35,
    "start_time": "2022-08-20T17:08:01.265Z"
   },
   {
    "duration": 38,
    "start_time": "2022-08-20T17:08:01.303Z"
   },
   {
    "duration": 50,
    "start_time": "2022-08-20T17:08:01.343Z"
   },
   {
    "duration": 66,
    "start_time": "2022-08-20T17:08:01.397Z"
   },
   {
    "duration": 131,
    "start_time": "2022-08-20T17:08:01.465Z"
   },
   {
    "duration": 3,
    "start_time": "2022-08-20T17:08:01.598Z"
   },
   {
    "duration": 37,
    "start_time": "2022-08-20T17:08:01.606Z"
   },
   {
    "duration": 36,
    "start_time": "2022-08-20T17:08:01.644Z"
   },
   {
    "duration": 28,
    "start_time": "2022-08-20T17:08:01.681Z"
   },
   {
    "duration": 38,
    "start_time": "2022-08-20T17:08:01.711Z"
   },
   {
    "duration": 46,
    "start_time": "2022-08-20T17:08:01.751Z"
   },
   {
    "duration": 33,
    "start_time": "2022-08-20T17:08:01.802Z"
   },
   {
    "duration": 27,
    "start_time": "2022-08-20T17:08:01.837Z"
   },
   {
    "duration": 48,
    "start_time": "2022-08-20T17:08:01.867Z"
   },
   {
    "duration": 30,
    "start_time": "2022-08-20T17:08:01.917Z"
   },
   {
    "duration": 16,
    "start_time": "2022-08-20T17:08:01.949Z"
   },
   {
    "duration": 46,
    "start_time": "2022-08-20T17:08:01.967Z"
   },
   {
    "duration": 14,
    "start_time": "2022-08-20T17:09:08.959Z"
   },
   {
    "duration": 20,
    "start_time": "2022-08-20T17:10:03.391Z"
   },
   {
    "duration": 15,
    "start_time": "2022-08-20T17:12:30.912Z"
   },
   {
    "duration": 4,
    "start_time": "2022-08-20T17:13:06.583Z"
   },
   {
    "duration": 16,
    "start_time": "2022-08-20T17:13:14.089Z"
   },
   {
    "duration": 4,
    "start_time": "2022-08-20T17:13:17.734Z"
   },
   {
    "duration": 371,
    "start_time": "2022-08-20T17:13:17.740Z"
   },
   {
    "duration": 31,
    "start_time": "2022-08-20T17:13:18.113Z"
   },
   {
    "duration": 69,
    "start_time": "2022-08-20T17:13:18.145Z"
   },
   {
    "duration": 20,
    "start_time": "2022-08-20T17:13:18.216Z"
   },
   {
    "duration": 22,
    "start_time": "2022-08-20T17:13:18.238Z"
   },
   {
    "duration": 73,
    "start_time": "2022-08-20T17:13:18.262Z"
   },
   {
    "duration": 86,
    "start_time": "2022-08-20T17:13:18.337Z"
   },
   {
    "duration": 122,
    "start_time": "2022-08-20T17:13:18.425Z"
   },
   {
    "duration": 2,
    "start_time": "2022-08-20T17:13:18.549Z"
   },
   {
    "duration": 17,
    "start_time": "2022-08-20T17:13:18.554Z"
   },
   {
    "duration": 29,
    "start_time": "2022-08-20T17:13:18.572Z"
   },
   {
    "duration": 20,
    "start_time": "2022-08-20T17:13:18.603Z"
   },
   {
    "duration": 15,
    "start_time": "2022-08-20T17:13:18.625Z"
   },
   {
    "duration": 49,
    "start_time": "2022-08-20T17:13:18.642Z"
   },
   {
    "duration": 31,
    "start_time": "2022-08-20T17:13:18.693Z"
   },
   {
    "duration": 24,
    "start_time": "2022-08-20T17:13:18.725Z"
   },
   {
    "duration": 45,
    "start_time": "2022-08-20T17:13:18.750Z"
   },
   {
    "duration": 16,
    "start_time": "2022-08-20T17:13:18.797Z"
   },
   {
    "duration": 24,
    "start_time": "2022-08-20T17:13:18.815Z"
   },
   {
    "duration": 16,
    "start_time": "2022-08-20T17:13:18.840Z"
   },
   {
    "duration": 52,
    "start_time": "2022-08-20T17:13:18.858Z"
   },
   {
    "duration": 23,
    "start_time": "2022-08-20T17:14:14.324Z"
   },
   {
    "duration": 80,
    "start_time": "2022-08-20T17:21:15.646Z"
   },
   {
    "duration": 90,
    "start_time": "2022-08-20T17:22:14.982Z"
   },
   {
    "duration": 15,
    "start_time": "2022-08-20T17:24:14.527Z"
   },
   {
    "duration": 15,
    "start_time": "2022-08-20T17:24:29.602Z"
   },
   {
    "duration": 21,
    "start_time": "2022-08-20T17:25:18.363Z"
   },
   {
    "duration": 3,
    "start_time": "2022-08-20T17:29:15.377Z"
   },
   {
    "duration": 388,
    "start_time": "2022-08-20T17:29:15.382Z"
   },
   {
    "duration": 37,
    "start_time": "2022-08-20T17:29:15.772Z"
   },
   {
    "duration": 57,
    "start_time": "2022-08-20T17:29:15.812Z"
   },
   {
    "duration": 27,
    "start_time": "2022-08-20T17:29:15.893Z"
   },
   {
    "duration": 38,
    "start_time": "2022-08-20T17:29:15.922Z"
   },
   {
    "duration": 62,
    "start_time": "2022-08-20T17:29:15.962Z"
   },
   {
    "duration": 84,
    "start_time": "2022-08-20T17:29:16.025Z"
   },
   {
    "duration": 116,
    "start_time": "2022-08-20T17:29:16.112Z"
   },
   {
    "duration": 2,
    "start_time": "2022-08-20T17:29:16.230Z"
   },
   {
    "duration": 14,
    "start_time": "2022-08-20T17:29:16.235Z"
   },
   {
    "duration": 22,
    "start_time": "2022-08-20T17:29:16.251Z"
   },
   {
    "duration": 16,
    "start_time": "2022-08-20T17:29:16.291Z"
   },
   {
    "duration": 19,
    "start_time": "2022-08-20T17:29:16.309Z"
   },
   {
    "duration": 32,
    "start_time": "2022-08-20T17:29:16.330Z"
   },
   {
    "duration": 58,
    "start_time": "2022-08-20T17:29:16.363Z"
   },
   {
    "duration": 29,
    "start_time": "2022-08-20T17:29:16.423Z"
   },
   {
    "duration": 14,
    "start_time": "2022-08-20T17:29:16.453Z"
   },
   {
    "duration": 35,
    "start_time": "2022-08-20T17:29:16.469Z"
   },
   {
    "duration": 34,
    "start_time": "2022-08-20T17:29:16.505Z"
   },
   {
    "duration": 12,
    "start_time": "2022-08-20T17:29:16.541Z"
   },
   {
    "duration": 19,
    "start_time": "2022-08-20T17:29:16.555Z"
   },
   {
    "duration": 3,
    "start_time": "2022-08-20T17:30:07.676Z"
   },
   {
    "duration": 4,
    "start_time": "2022-08-20T17:30:13.761Z"
   },
   {
    "duration": 359,
    "start_time": "2022-08-20T17:30:13.767Z"
   },
   {
    "duration": 28,
    "start_time": "2022-08-20T17:30:14.128Z"
   },
   {
    "duration": 62,
    "start_time": "2022-08-20T17:30:14.158Z"
   },
   {
    "duration": 19,
    "start_time": "2022-08-20T17:30:14.222Z"
   },
   {
    "duration": 27,
    "start_time": "2022-08-20T17:30:14.243Z"
   },
   {
    "duration": 48,
    "start_time": "2022-08-20T17:30:14.292Z"
   },
   {
    "duration": 84,
    "start_time": "2022-08-20T17:30:14.342Z"
   },
   {
    "duration": 120,
    "start_time": "2022-08-20T17:30:14.428Z"
   },
   {
    "duration": 2,
    "start_time": "2022-08-20T17:30:14.550Z"
   },
   {
    "duration": 14,
    "start_time": "2022-08-20T17:30:14.555Z"
   },
   {
    "duration": 30,
    "start_time": "2022-08-20T17:30:14.571Z"
   },
   {
    "duration": 24,
    "start_time": "2022-08-20T17:30:14.602Z"
   },
   {
    "duration": 17,
    "start_time": "2022-08-20T17:30:14.629Z"
   },
   {
    "duration": 3,
    "start_time": "2022-08-20T17:30:14.647Z"
   },
   {
    "duration": 59,
    "start_time": "2022-08-20T17:30:14.651Z"
   },
   {
    "duration": 34,
    "start_time": "2022-08-20T17:30:14.712Z"
   },
   {
    "duration": 16,
    "start_time": "2022-08-20T17:30:14.747Z"
   },
   {
    "duration": 42,
    "start_time": "2022-08-20T17:30:14.765Z"
   },
   {
    "duration": 22,
    "start_time": "2022-08-20T17:30:14.809Z"
   },
   {
    "duration": 14,
    "start_time": "2022-08-20T17:30:14.833Z"
   },
   {
    "duration": 56,
    "start_time": "2022-08-20T17:30:14.849Z"
   },
   {
    "duration": 29,
    "start_time": "2022-08-20T17:31:35.436Z"
   },
   {
    "duration": 3,
    "start_time": "2022-08-20T17:34:27.360Z"
   },
   {
    "duration": 349,
    "start_time": "2022-08-20T17:34:27.365Z"
   },
   {
    "duration": 33,
    "start_time": "2022-08-20T17:34:27.716Z"
   },
   {
    "duration": 75,
    "start_time": "2022-08-20T17:34:27.751Z"
   },
   {
    "duration": 24,
    "start_time": "2022-08-20T17:34:27.828Z"
   },
   {
    "duration": 46,
    "start_time": "2022-08-20T17:34:27.854Z"
   },
   {
    "duration": 49,
    "start_time": "2022-08-20T17:34:27.902Z"
   },
   {
    "duration": 94,
    "start_time": "2022-08-20T17:34:27.953Z"
   },
   {
    "duration": 189,
    "start_time": "2022-08-20T17:34:28.049Z"
   },
   {
    "duration": 13,
    "start_time": "2022-08-20T17:34:28.239Z"
   },
   {
    "duration": 27,
    "start_time": "2022-08-20T17:34:28.255Z"
   },
   {
    "duration": 14,
    "start_time": "2022-08-20T17:34:28.292Z"
   },
   {
    "duration": 24,
    "start_time": "2022-08-20T17:34:28.309Z"
   },
   {
    "duration": 3,
    "start_time": "2022-08-20T17:34:28.336Z"
   },
   {
    "duration": 71,
    "start_time": "2022-08-20T17:34:28.341Z"
   },
   {
    "duration": 33,
    "start_time": "2022-08-20T17:34:28.414Z"
   },
   {
    "duration": 46,
    "start_time": "2022-08-20T17:34:28.449Z"
   },
   {
    "duration": 25,
    "start_time": "2022-08-20T17:34:28.497Z"
   },
   {
    "duration": 29,
    "start_time": "2022-08-20T17:34:28.524Z"
   },
   {
    "duration": 22,
    "start_time": "2022-08-20T17:34:28.555Z"
   },
   {
    "duration": 31,
    "start_time": "2022-08-20T17:34:28.579Z"
   },
   {
    "duration": 1262,
    "start_time": "2022-08-20T17:47:12.682Z"
   },
   {
    "duration": 1313,
    "start_time": "2022-08-20T17:58:09.181Z"
   },
   {
    "duration": 19,
    "start_time": "2022-08-20T17:58:30.454Z"
   },
   {
    "duration": 1731,
    "start_time": "2022-08-20T18:04:23.447Z"
   },
   {
    "duration": 25,
    "start_time": "2022-08-20T18:04:53.287Z"
   },
   {
    "duration": 25,
    "start_time": "2022-08-20T18:05:18.264Z"
   },
   {
    "duration": 30,
    "start_time": "2022-08-20T18:07:24.808Z"
   },
   {
    "duration": 1288,
    "start_time": "2022-08-20T19:43:48.061Z"
   },
   {
    "duration": 820,
    "start_time": "2022-08-20T19:43:49.352Z"
   },
   {
    "duration": 40,
    "start_time": "2022-08-20T19:43:50.174Z"
   },
   {
    "duration": 58,
    "start_time": "2022-08-20T19:43:50.216Z"
   },
   {
    "duration": 18,
    "start_time": "2022-08-20T19:43:50.293Z"
   },
   {
    "duration": 36,
    "start_time": "2022-08-20T19:43:50.313Z"
   },
   {
    "duration": 58,
    "start_time": "2022-08-20T19:43:50.351Z"
   },
   {
    "duration": 64,
    "start_time": "2022-08-20T19:43:50.411Z"
   },
   {
    "duration": 141,
    "start_time": "2022-08-20T19:43:50.493Z"
   },
   {
    "duration": 13,
    "start_time": "2022-08-20T19:43:50.636Z"
   },
   {
    "duration": 17,
    "start_time": "2022-08-20T19:43:50.650Z"
   },
   {
    "duration": 40,
    "start_time": "2022-08-20T19:43:50.668Z"
   },
   {
    "duration": 19,
    "start_time": "2022-08-20T19:43:50.710Z"
   },
   {
    "duration": 5,
    "start_time": "2022-08-20T19:43:50.733Z"
   },
   {
    "duration": 72,
    "start_time": "2022-08-20T19:43:50.740Z"
   },
   {
    "duration": 26,
    "start_time": "2022-08-20T19:43:50.813Z"
   },
   {
    "duration": 24,
    "start_time": "2022-08-20T19:43:50.841Z"
   },
   {
    "duration": 41,
    "start_time": "2022-08-20T19:43:50.867Z"
   },
   {
    "duration": 26,
    "start_time": "2022-08-20T19:43:50.910Z"
   },
   {
    "duration": 23,
    "start_time": "2022-08-20T19:43:50.937Z"
   },
   {
    "duration": 12,
    "start_time": "2022-08-20T19:43:50.961Z"
   },
   {
    "duration": 41,
    "start_time": "2022-08-20T19:43:50.975Z"
   },
   {
    "duration": 27,
    "start_time": "2022-08-20T19:50:17.145Z"
   },
   {
    "duration": 11,
    "start_time": "2022-08-20T20:02:01.377Z"
   },
   {
    "duration": 1111,
    "start_time": "2022-08-21T18:19:23.962Z"
   },
   {
    "duration": 786,
    "start_time": "2022-08-21T18:19:25.075Z"
   },
   {
    "duration": 30,
    "start_time": "2022-08-21T18:19:25.863Z"
   },
   {
    "duration": 41,
    "start_time": "2022-08-21T18:19:25.895Z"
   },
   {
    "duration": 15,
    "start_time": "2022-08-21T18:19:25.938Z"
   },
   {
    "duration": 19,
    "start_time": "2022-08-21T18:19:25.954Z"
   },
   {
    "duration": 59,
    "start_time": "2022-08-21T18:19:25.974Z"
   },
   {
    "duration": 54,
    "start_time": "2022-08-21T18:19:26.035Z"
   },
   {
    "duration": 127,
    "start_time": "2022-08-21T18:19:26.091Z"
   },
   {
    "duration": 15,
    "start_time": "2022-08-21T18:19:26.221Z"
   },
   {
    "duration": 19,
    "start_time": "2022-08-21T18:19:26.238Z"
   },
   {
    "duration": 22,
    "start_time": "2022-08-21T18:19:26.259Z"
   },
   {
    "duration": 29,
    "start_time": "2022-08-21T18:19:26.283Z"
   },
   {
    "duration": 13,
    "start_time": "2022-08-21T18:19:26.315Z"
   },
   {
    "duration": 34,
    "start_time": "2022-08-21T18:19:26.329Z"
   },
   {
    "duration": 22,
    "start_time": "2022-08-21T18:19:26.365Z"
   },
   {
    "duration": 33,
    "start_time": "2022-08-21T18:19:26.389Z"
   },
   {
    "duration": 25,
    "start_time": "2022-08-21T18:19:26.424Z"
   },
   {
    "duration": 17,
    "start_time": "2022-08-21T18:19:26.451Z"
   },
   {
    "duration": 42,
    "start_time": "2022-08-21T18:19:26.470Z"
   },
   {
    "duration": 12,
    "start_time": "2022-08-21T18:19:26.514Z"
   },
   {
    "duration": 22,
    "start_time": "2022-08-21T18:19:26.527Z"
   },
   {
    "duration": 8,
    "start_time": "2022-08-21T18:19:26.550Z"
   },
   {
    "duration": 10,
    "start_time": "2022-08-21T18:19:26.559Z"
   },
   {
    "duration": 5,
    "start_time": "2022-08-21T19:26:16.631Z"
   },
   {
    "duration": 1293,
    "start_time": "2022-08-21T19:27:29.255Z"
   },
   {
    "duration": 6,
    "start_time": "2022-08-21T19:31:12.233Z"
   },
   {
    "duration": 1058,
    "start_time": "2022-08-21T19:32:02.571Z"
   },
   {
    "duration": 4,
    "start_time": "2022-08-21T19:32:46.494Z"
   },
   {
    "duration": 336,
    "start_time": "2022-08-21T19:32:46.501Z"
   },
   {
    "duration": 25,
    "start_time": "2022-08-21T19:32:46.839Z"
   },
   {
    "duration": 66,
    "start_time": "2022-08-21T19:32:46.866Z"
   },
   {
    "duration": 15,
    "start_time": "2022-08-21T19:32:46.933Z"
   },
   {
    "duration": 17,
    "start_time": "2022-08-21T19:32:46.950Z"
   },
   {
    "duration": 71,
    "start_time": "2022-08-21T19:32:46.969Z"
   },
   {
    "duration": 51,
    "start_time": "2022-08-21T19:32:47.041Z"
   },
   {
    "duration": 127,
    "start_time": "2022-08-21T19:32:47.095Z"
   },
   {
    "duration": 11,
    "start_time": "2022-08-21T19:32:47.223Z"
   },
   {
    "duration": 14,
    "start_time": "2022-08-21T19:32:47.236Z"
   },
   {
    "duration": 13,
    "start_time": "2022-08-21T19:32:47.252Z"
   },
   {
    "duration": 13,
    "start_time": "2022-08-21T19:32:47.266Z"
   },
   {
    "duration": 3,
    "start_time": "2022-08-21T19:32:47.280Z"
   },
   {
    "duration": 50,
    "start_time": "2022-08-21T19:32:47.284Z"
   },
   {
    "duration": 18,
    "start_time": "2022-08-21T19:32:47.336Z"
   },
   {
    "duration": 13,
    "start_time": "2022-08-21T19:32:47.356Z"
   },
   {
    "duration": 57,
    "start_time": "2022-08-21T19:32:47.370Z"
   },
   {
    "duration": 12,
    "start_time": "2022-08-21T19:32:47.429Z"
   },
   {
    "duration": 20,
    "start_time": "2022-08-21T19:32:47.442Z"
   },
   {
    "duration": 12,
    "start_time": "2022-08-21T19:32:47.464Z"
   },
   {
    "duration": 51,
    "start_time": "2022-08-21T19:32:47.478Z"
   },
   {
    "duration": 8,
    "start_time": "2022-08-21T19:32:47.530Z"
   },
   {
    "duration": 5,
    "start_time": "2022-08-21T19:32:47.541Z"
   },
   {
    "duration": 1107,
    "start_time": "2022-08-21T19:32:47.547Z"
   },
   {
    "duration": 9,
    "start_time": "2022-08-21T19:34:05.003Z"
   },
   {
    "duration": 958,
    "start_time": "2022-08-21T19:34:08.098Z"
   },
   {
    "duration": 3,
    "start_time": "2022-08-21T19:34:28.426Z"
   },
   {
    "duration": 6,
    "start_time": "2022-08-21T19:36:19.699Z"
   },
   {
    "duration": 26,
    "start_time": "2022-08-21T19:36:23.799Z"
   },
   {
    "duration": 8,
    "start_time": "2022-08-21T19:36:39.548Z"
   },
   {
    "duration": 18,
    "start_time": "2022-08-21T19:36:43.072Z"
   },
   {
    "duration": 5,
    "start_time": "2022-08-21T19:36:58.925Z"
   },
   {
    "duration": 18,
    "start_time": "2022-08-21T19:37:00.838Z"
   },
   {
    "duration": 4,
    "start_time": "2022-08-21T20:24:25.097Z"
   },
   {
    "duration": 13,
    "start_time": "2022-08-21T20:24:28.271Z"
   },
   {
    "duration": 25,
    "start_time": "2022-08-21T20:24:41.151Z"
   },
   {
    "duration": 1256,
    "start_time": "2022-08-22T10:48:27.089Z"
   },
   {
    "duration": 830,
    "start_time": "2022-08-22T10:48:28.347Z"
   },
   {
    "duration": 37,
    "start_time": "2022-08-22T10:48:29.178Z"
   },
   {
    "duration": 48,
    "start_time": "2022-08-22T10:48:29.217Z"
   },
   {
    "duration": 42,
    "start_time": "2022-08-22T10:48:29.267Z"
   },
   {
    "duration": 22,
    "start_time": "2022-08-22T10:48:29.310Z"
   },
   {
    "duration": 72,
    "start_time": "2022-08-22T10:48:29.333Z"
   },
   {
    "duration": 60,
    "start_time": "2022-08-22T10:48:29.407Z"
   },
   {
    "duration": 146,
    "start_time": "2022-08-22T10:48:29.468Z"
   },
   {
    "duration": 12,
    "start_time": "2022-08-22T10:48:29.616Z"
   },
   {
    "duration": 20,
    "start_time": "2022-08-22T10:48:29.629Z"
   },
   {
    "duration": 15,
    "start_time": "2022-08-22T10:48:29.650Z"
   },
   {
    "duration": 39,
    "start_time": "2022-08-22T10:48:29.666Z"
   },
   {
    "duration": 3,
    "start_time": "2022-08-22T10:48:29.707Z"
   },
   {
    "duration": 33,
    "start_time": "2022-08-22T10:48:29.711Z"
   },
   {
    "duration": 54,
    "start_time": "2022-08-22T10:48:29.746Z"
   },
   {
    "duration": 15,
    "start_time": "2022-08-22T10:48:29.802Z"
   },
   {
    "duration": 22,
    "start_time": "2022-08-22T10:48:29.818Z"
   },
   {
    "duration": 24,
    "start_time": "2022-08-22T10:48:29.841Z"
   },
   {
    "duration": 47,
    "start_time": "2022-08-22T10:48:29.866Z"
   },
   {
    "duration": 12,
    "start_time": "2022-08-22T10:48:29.914Z"
   },
   {
    "duration": 22,
    "start_time": "2022-08-22T10:48:29.927Z"
   },
   {
    "duration": 43,
    "start_time": "2022-08-22T10:48:29.951Z"
   },
   {
    "duration": 6,
    "start_time": "2022-08-22T10:48:29.996Z"
   },
   {
    "duration": 41,
    "start_time": "2022-08-22T10:48:30.004Z"
   },
   {
    "duration": 96,
    "start_time": "2022-08-22T11:08:32.850Z"
   },
   {
    "duration": 7,
    "start_time": "2022-08-22T11:08:38.886Z"
   },
   {
    "duration": 7,
    "start_time": "2022-08-22T11:09:24.705Z"
   },
   {
    "duration": 13,
    "start_time": "2022-08-22T11:09:24.715Z"
   },
   {
    "duration": 3,
    "start_time": "2022-08-22T11:09:24.730Z"
   },
   {
    "duration": 29,
    "start_time": "2022-08-22T11:09:24.734Z"
   },
   {
    "duration": 44,
    "start_time": "2022-08-22T11:09:24.766Z"
   },
   {
    "duration": 14,
    "start_time": "2022-08-22T11:09:24.812Z"
   },
   {
    "duration": 18,
    "start_time": "2022-08-22T11:09:24.827Z"
   },
   {
    "duration": 16,
    "start_time": "2022-08-22T11:09:24.847Z"
   },
   {
    "duration": 47,
    "start_time": "2022-08-22T11:09:24.865Z"
   },
   {
    "duration": 12,
    "start_time": "2022-08-22T11:09:24.913Z"
   },
   {
    "duration": 22,
    "start_time": "2022-08-22T11:09:24.927Z"
   },
   {
    "duration": 8,
    "start_time": "2022-08-22T11:09:24.950Z"
   },
   {
    "duration": 34,
    "start_time": "2022-08-22T11:09:24.959Z"
   },
   {
    "duration": 33,
    "start_time": "2022-08-22T11:09:24.994Z"
   },
   {
    "duration": 14,
    "start_time": "2022-08-22T11:19:27.387Z"
   },
   {
    "duration": 15,
    "start_time": "2022-08-22T11:19:44.318Z"
   },
   {
    "duration": 16,
    "start_time": "2022-08-22T11:20:09.452Z"
   },
   {
    "duration": 24,
    "start_time": "2022-08-22T11:23:22.431Z"
   },
   {
    "duration": 18,
    "start_time": "2022-08-22T11:25:20.538Z"
   },
   {
    "duration": 19,
    "start_time": "2022-08-22T11:28:12.018Z"
   },
   {
    "duration": 50,
    "start_time": "2022-08-22T11:28:24.824Z"
   },
   {
    "duration": 48,
    "start_time": "2022-08-22T11:31:12.228Z"
   },
   {
    "duration": 80,
    "start_time": "2022-08-22T11:32:53.355Z"
   },
   {
    "duration": 79,
    "start_time": "2022-08-22T11:40:13.400Z"
   },
   {
    "duration": 81,
    "start_time": "2022-08-22T11:40:59.092Z"
   },
   {
    "duration": 59,
    "start_time": "2022-08-22T11:44:07.514Z"
   },
   {
    "duration": 63,
    "start_time": "2022-08-22T11:44:27.952Z"
   },
   {
    "duration": 54,
    "start_time": "2022-08-22T11:44:39.283Z"
   },
   {
    "duration": 69,
    "start_time": "2022-08-22T11:46:45.723Z"
   },
   {
    "duration": 73,
    "start_time": "2022-08-22T11:48:09.195Z"
   },
   {
    "duration": 83,
    "start_time": "2022-08-22T11:49:22.221Z"
   },
   {
    "duration": 65,
    "start_time": "2022-08-22T11:50:12.079Z"
   },
   {
    "duration": 62,
    "start_time": "2022-08-22T11:50:25.083Z"
   },
   {
    "duration": 75,
    "start_time": "2022-08-22T11:50:35.598Z"
   },
   {
    "duration": 76,
    "start_time": "2022-08-22T11:51:22.047Z"
   },
   {
    "duration": 31,
    "start_time": "2022-08-22T12:00:53.247Z"
   },
   {
    "duration": 13,
    "start_time": "2022-08-22T12:02:02.560Z"
   },
   {
    "duration": 14,
    "start_time": "2022-08-22T12:04:12.884Z"
   },
   {
    "duration": 45,
    "start_time": "2022-08-22T12:05:10.090Z"
   },
   {
    "duration": 4,
    "start_time": "2022-08-22T12:08:05.713Z"
   },
   {
    "duration": 31,
    "start_time": "2022-08-22T12:08:30.086Z"
   },
   {
    "duration": 4,
    "start_time": "2022-08-22T12:08:39.508Z"
   },
   {
    "duration": 1082,
    "start_time": "2022-08-22T18:35:35.310Z"
   },
   {
    "duration": 742,
    "start_time": "2022-08-22T18:35:36.394Z"
   },
   {
    "duration": 20,
    "start_time": "2022-08-22T18:35:37.137Z"
   },
   {
    "duration": 38,
    "start_time": "2022-08-22T18:35:37.159Z"
   },
   {
    "duration": 14,
    "start_time": "2022-08-22T18:35:37.198Z"
   },
   {
    "duration": 19,
    "start_time": "2022-08-22T18:35:37.213Z"
   },
   {
    "duration": 46,
    "start_time": "2022-08-22T18:35:37.233Z"
   },
   {
    "duration": 49,
    "start_time": "2022-08-22T18:35:37.280Z"
   },
   {
    "duration": 99,
    "start_time": "2022-08-22T18:35:37.330Z"
   },
   {
    "duration": 10,
    "start_time": "2022-08-22T18:35:37.431Z"
   },
   {
    "duration": 25,
    "start_time": "2022-08-22T18:35:37.442Z"
   },
   {
    "duration": 13,
    "start_time": "2022-08-22T18:35:37.468Z"
   },
   {
    "duration": 5,
    "start_time": "2022-08-22T18:35:37.482Z"
   },
   {
    "duration": 81,
    "start_time": "2022-08-22T18:35:37.489Z"
   },
   {
    "duration": 11,
    "start_time": "2022-08-22T18:35:37.572Z"
   },
   {
    "duration": 2,
    "start_time": "2022-08-22T18:35:37.584Z"
   },
   {
    "duration": 27,
    "start_time": "2022-08-22T18:35:37.587Z"
   },
   {
    "duration": 16,
    "start_time": "2022-08-22T18:35:37.615Z"
   },
   {
    "duration": 36,
    "start_time": "2022-08-22T18:35:37.633Z"
   },
   {
    "duration": 19,
    "start_time": "2022-08-22T18:35:37.670Z"
   },
   {
    "duration": 14,
    "start_time": "2022-08-22T18:35:37.690Z"
   },
   {
    "duration": 21,
    "start_time": "2022-08-22T18:35:37.705Z"
   },
   {
    "duration": 10,
    "start_time": "2022-08-22T18:35:37.727Z"
   },
   {
    "duration": 45,
    "start_time": "2022-08-22T18:35:37.738Z"
   },
   {
    "duration": 3,
    "start_time": "2022-08-22T18:35:37.784Z"
   },
   {
    "duration": 24,
    "start_time": "2022-08-22T18:35:37.788Z"
   },
   {
    "duration": 14,
    "start_time": "2022-08-22T18:35:37.813Z"
   },
   {
    "duration": 36,
    "start_time": "2022-08-22T18:35:37.829Z"
   },
   {
    "duration": 78,
    "start_time": "2022-08-22T18:49:27.916Z"
   },
   {
    "duration": 17,
    "start_time": "2022-08-22T18:49:49.867Z"
   },
   {
    "duration": 23,
    "start_time": "2022-08-22T18:52:26.119Z"
   },
   {
    "duration": 24,
    "start_time": "2022-08-22T18:54:39.349Z"
   },
   {
    "duration": 12,
    "start_time": "2022-08-22T18:54:46.721Z"
   },
   {
    "duration": 22,
    "start_time": "2022-08-22T18:56:10.671Z"
   },
   {
    "duration": 9,
    "start_time": "2022-08-22T18:56:32.103Z"
   },
   {
    "duration": 18,
    "start_time": "2022-08-22T18:56:42.329Z"
   },
   {
    "duration": 3,
    "start_time": "2022-08-22T18:57:04.896Z"
   },
   {
    "duration": 272,
    "start_time": "2022-08-22T18:57:04.901Z"
   },
   {
    "duration": 15,
    "start_time": "2022-08-22T18:57:05.175Z"
   },
   {
    "duration": 46,
    "start_time": "2022-08-22T18:57:05.192Z"
   },
   {
    "duration": 13,
    "start_time": "2022-08-22T18:57:05.239Z"
   },
   {
    "duration": 20,
    "start_time": "2022-08-22T18:57:05.259Z"
   },
   {
    "duration": 45,
    "start_time": "2022-08-22T18:57:05.280Z"
   },
   {
    "duration": 48,
    "start_time": "2022-08-22T18:57:05.326Z"
   },
   {
    "duration": 86,
    "start_time": "2022-08-22T18:57:05.376Z"
   },
   {
    "duration": 10,
    "start_time": "2022-08-22T18:57:05.464Z"
   },
   {
    "duration": 25,
    "start_time": "2022-08-22T18:57:05.475Z"
   },
   {
    "duration": 27,
    "start_time": "2022-08-22T18:57:05.501Z"
   },
   {
    "duration": 11,
    "start_time": "2022-08-22T18:57:05.530Z"
   },
   {
    "duration": 67,
    "start_time": "2022-08-22T18:57:05.542Z"
   },
   {
    "duration": 10,
    "start_time": "2022-08-22T18:57:05.611Z"
   },
   {
    "duration": 2,
    "start_time": "2022-08-22T18:57:05.622Z"
   },
   {
    "duration": 23,
    "start_time": "2022-08-22T18:57:05.625Z"
   },
   {
    "duration": 18,
    "start_time": "2022-08-22T18:57:05.659Z"
   },
   {
    "duration": 12,
    "start_time": "2022-08-22T18:57:05.679Z"
   },
   {
    "duration": 19,
    "start_time": "2022-08-22T18:57:05.693Z"
   },
   {
    "duration": 12,
    "start_time": "2022-08-22T18:57:05.713Z"
   },
   {
    "duration": 42,
    "start_time": "2022-08-22T18:57:05.726Z"
   },
   {
    "duration": 10,
    "start_time": "2022-08-22T18:57:05.769Z"
   },
   {
    "duration": 19,
    "start_time": "2022-08-22T18:57:05.781Z"
   },
   {
    "duration": 2,
    "start_time": "2022-08-22T18:57:05.801Z"
   },
   {
    "duration": 11,
    "start_time": "2022-08-22T18:57:05.804Z"
   },
   {
    "duration": 8,
    "start_time": "2022-08-22T18:57:05.816Z"
   },
   {
    "duration": 49,
    "start_time": "2022-08-22T18:57:05.826Z"
   },
   {
    "duration": 23,
    "start_time": "2022-08-22T18:57:05.876Z"
   },
   {
    "duration": 22,
    "start_time": "2022-08-22T18:57:05.900Z"
   },
   {
    "duration": 11,
    "start_time": "2022-08-22T18:57:24.522Z"
   },
   {
    "duration": 1256,
    "start_time": "2022-08-22T18:58:39.540Z"
   },
   {
    "duration": 4,
    "start_time": "2022-08-22T19:05:25.856Z"
   },
   {
    "duration": 79,
    "start_time": "2022-08-22T19:06:43.392Z"
   },
   {
    "duration": 65,
    "start_time": "2022-08-22T19:06:52.842Z"
   },
   {
    "duration": 2,
    "start_time": "2022-08-22T19:09:54.747Z"
   },
   {
    "duration": 5,
    "start_time": "2022-08-22T19:13:06.709Z"
   },
   {
    "duration": 35,
    "start_time": "2022-08-22T19:13:26.869Z"
   },
   {
    "duration": 2,
    "start_time": "2022-08-22T19:45:40.922Z"
   },
   {
    "duration": 179,
    "start_time": "2022-08-22T19:47:59.850Z"
   },
   {
    "duration": 140,
    "start_time": "2022-08-22T19:48:15.141Z"
   },
   {
    "duration": 120,
    "start_time": "2022-08-22T19:48:21.797Z"
   },
   {
    "duration": 120,
    "start_time": "2022-08-22T19:48:28.972Z"
   },
   {
    "duration": 162,
    "start_time": "2022-08-22T19:48:56.741Z"
   },
   {
    "duration": 138,
    "start_time": "2022-08-22T19:49:07.285Z"
   },
   {
    "duration": 133,
    "start_time": "2022-08-22T19:49:17.943Z"
   },
   {
    "duration": 118,
    "start_time": "2022-08-22T19:49:29.242Z"
   },
   {
    "duration": 238,
    "start_time": "2022-08-22T19:50:40.199Z"
   },
   {
    "duration": 169,
    "start_time": "2022-08-22T19:50:50.092Z"
   },
   {
    "duration": 140,
    "start_time": "2022-08-22T19:50:57.061Z"
   },
   {
    "duration": 120,
    "start_time": "2022-08-22T19:51:47.515Z"
   },
   {
    "duration": 174,
    "start_time": "2022-08-22T19:52:53.879Z"
   },
   {
    "duration": 145,
    "start_time": "2022-08-22T19:53:00.420Z"
   },
   {
    "duration": 126,
    "start_time": "2022-08-22T19:53:05.696Z"
   },
   {
    "duration": 125,
    "start_time": "2022-08-22T19:53:22.975Z"
   },
   {
    "duration": 128,
    "start_time": "2022-08-22T19:53:33.654Z"
   },
   {
    "duration": 112,
    "start_time": "2022-08-22T19:54:30.064Z"
   },
   {
    "duration": 207,
    "start_time": "2022-08-22T19:56:17.427Z"
   },
   {
    "duration": 137,
    "start_time": "2022-08-22T19:56:26.315Z"
   },
   {
    "duration": 119,
    "start_time": "2022-08-22T19:57:09.556Z"
   },
   {
    "duration": 137,
    "start_time": "2022-08-22T19:57:16.345Z"
   },
   {
    "duration": 123,
    "start_time": "2022-08-22T19:57:21.293Z"
   },
   {
    "duration": 140,
    "start_time": "2022-08-22T19:57:48.760Z"
   },
   {
    "duration": 3,
    "start_time": "2022-08-22T19:58:16.534Z"
   },
   {
    "duration": 3,
    "start_time": "2022-08-22T20:05:35.661Z"
   },
   {
    "duration": 1144,
    "start_time": "2022-08-23T17:25:30.819Z"
   },
   {
    "duration": 835,
    "start_time": "2022-08-23T17:25:31.964Z"
   },
   {
    "duration": 27,
    "start_time": "2022-08-23T17:25:32.801Z"
   },
   {
    "duration": 55,
    "start_time": "2022-08-23T17:25:32.831Z"
   },
   {
    "duration": 14,
    "start_time": "2022-08-23T17:25:32.889Z"
   },
   {
    "duration": 22,
    "start_time": "2022-08-23T17:25:32.904Z"
   },
   {
    "duration": 34,
    "start_time": "2022-08-23T17:25:32.928Z"
   },
   {
    "duration": 73,
    "start_time": "2022-08-23T17:25:32.963Z"
   },
   {
    "duration": 88,
    "start_time": "2022-08-23T17:25:33.037Z"
   },
   {
    "duration": 10,
    "start_time": "2022-08-23T17:25:33.127Z"
   },
   {
    "duration": 30,
    "start_time": "2022-08-23T17:25:33.138Z"
   },
   {
    "duration": 34,
    "start_time": "2022-08-23T17:25:33.169Z"
   },
   {
    "duration": 28,
    "start_time": "2022-08-23T17:25:33.204Z"
   },
   {
    "duration": 75,
    "start_time": "2022-08-23T17:25:33.235Z"
   },
   {
    "duration": 36,
    "start_time": "2022-08-23T17:25:33.312Z"
   },
   {
    "duration": 26,
    "start_time": "2022-08-23T17:25:33.350Z"
   },
   {
    "duration": 35,
    "start_time": "2022-08-23T17:25:33.378Z"
   },
   {
    "duration": 29,
    "start_time": "2022-08-23T17:25:33.415Z"
   },
   {
    "duration": 24,
    "start_time": "2022-08-23T17:25:33.446Z"
   },
   {
    "duration": 26,
    "start_time": "2022-08-23T17:25:33.471Z"
   },
   {
    "duration": 33,
    "start_time": "2022-08-23T17:25:33.498Z"
   },
   {
    "duration": 3,
    "start_time": "2022-08-23T17:25:33.533Z"
   },
   {
    "duration": 23,
    "start_time": "2022-08-23T17:25:33.538Z"
   },
   {
    "duration": 20,
    "start_time": "2022-08-23T17:25:33.562Z"
   },
   {
    "duration": 63,
    "start_time": "2022-08-23T17:25:33.584Z"
   },
   {
    "duration": 23,
    "start_time": "2022-08-23T17:25:33.649Z"
   },
   {
    "duration": 9,
    "start_time": "2022-08-23T17:25:33.673Z"
   },
   {
    "duration": 141,
    "start_time": "2022-08-23T17:25:33.683Z"
   },
   {
    "duration": 154,
    "start_time": "2022-08-23T17:25:33.825Z"
   },
   {
    "duration": 142,
    "start_time": "2022-08-23T17:25:33.981Z"
   },
   {
    "duration": 125,
    "start_time": "2022-08-23T17:25:34.125Z"
   },
   {
    "duration": 152,
    "start_time": "2022-08-23T17:25:34.252Z"
   },
   {
    "duration": 146,
    "start_time": "2022-08-23T17:25:34.410Z"
   },
   {
    "duration": 4,
    "start_time": "2022-08-23T17:25:34.557Z"
   },
   {
    "duration": 107,
    "start_time": "2022-08-23T18:05:36.071Z"
   },
   {
    "duration": 400,
    "start_time": "2022-08-23T18:05:44.345Z"
   },
   {
    "duration": 464,
    "start_time": "2022-08-23T18:06:11.560Z"
   },
   {
    "duration": 950,
    "start_time": "2022-08-23T18:06:31.007Z"
   },
   {
    "duration": 1386,
    "start_time": "2022-08-23T18:06:38.027Z"
   },
   {
    "duration": 14,
    "start_time": "2022-08-23T18:07:28.929Z"
   },
   {
    "duration": 173,
    "start_time": "2022-08-23T18:08:06.357Z"
   },
   {
    "duration": 179,
    "start_time": "2022-08-23T18:09:36.340Z"
   },
   {
    "duration": 3,
    "start_time": "2022-08-23T18:12:55.726Z"
   },
   {
    "duration": 3,
    "start_time": "2022-08-23T18:13:32.533Z"
   },
   {
    "duration": 9,
    "start_time": "2022-08-23T18:13:48.863Z"
   },
   {
    "duration": 3,
    "start_time": "2022-08-23T18:14:06.348Z"
   },
   {
    "duration": 179,
    "start_time": "2022-08-23T18:14:08.653Z"
   },
   {
    "duration": 3,
    "start_time": "2022-08-23T18:14:24.877Z"
   },
   {
    "duration": 203,
    "start_time": "2022-08-23T18:14:27.695Z"
   },
   {
    "duration": 178,
    "start_time": "2022-08-23T18:14:39.960Z"
   },
   {
    "duration": 395,
    "start_time": "2022-08-23T18:14:45.325Z"
   },
   {
    "duration": 177,
    "start_time": "2022-08-23T18:14:50.567Z"
   },
   {
    "duration": 205,
    "start_time": "2022-08-23T18:15:48.086Z"
   },
   {
    "duration": 209,
    "start_time": "2022-08-23T18:16:28.782Z"
   },
   {
    "duration": 175,
    "start_time": "2022-08-23T18:16:47.058Z"
   },
   {
    "duration": 215,
    "start_time": "2022-08-23T18:16:50.824Z"
   },
   {
    "duration": 195,
    "start_time": "2022-08-23T18:16:57.330Z"
   },
   {
    "duration": 242,
    "start_time": "2022-08-23T18:18:48.536Z"
   },
   {
    "duration": 177,
    "start_time": "2022-08-23T18:18:56.225Z"
   },
   {
    "duration": 61,
    "start_time": "2022-08-23T19:09:30.277Z"
   },
   {
    "duration": 95,
    "start_time": "2022-08-23T19:09:56.874Z"
   },
   {
    "duration": 3,
    "start_time": "2022-08-23T19:10:14.170Z"
   },
   {
    "duration": 170,
    "start_time": "2022-08-23T19:10:18.835Z"
   },
   {
    "duration": 65,
    "start_time": "2022-08-23T19:11:10.266Z"
   },
   {
    "duration": 55,
    "start_time": "2022-08-23T19:12:52.660Z"
   },
   {
    "duration": 4,
    "start_time": "2022-08-23T19:16:22.152Z"
   },
   {
    "duration": 170,
    "start_time": "2022-08-23T19:16:25.044Z"
   },
   {
    "duration": 5,
    "start_time": "2022-08-23T19:17:26.140Z"
   },
   {
    "duration": 316,
    "start_time": "2022-08-23T19:17:27.760Z"
   },
   {
    "duration": 4,
    "start_time": "2022-08-23T19:18:51.269Z"
   },
   {
    "duration": 170,
    "start_time": "2022-08-23T19:18:53.248Z"
   },
   {
    "duration": 4,
    "start_time": "2022-08-23T19:19:29.714Z"
   },
   {
    "duration": 214,
    "start_time": "2022-08-23T19:19:32.431Z"
   },
   {
    "duration": 52,
    "start_time": "2022-08-23T19:20:06.135Z"
   },
   {
    "duration": 4,
    "start_time": "2022-08-23T19:20:36.617Z"
   },
   {
    "duration": 172,
    "start_time": "2022-08-23T19:20:38.366Z"
   },
   {
    "duration": 4,
    "start_time": "2022-08-23T19:21:15.699Z"
   },
   {
    "duration": 169,
    "start_time": "2022-08-23T19:21:17.474Z"
   },
   {
    "duration": 45,
    "start_time": "2022-08-23T19:24:32.666Z"
   },
   {
    "duration": 46,
    "start_time": "2022-08-23T19:25:29.383Z"
   },
   {
    "duration": 5,
    "start_time": "2022-08-23T19:30:44.076Z"
   },
   {
    "duration": 172,
    "start_time": "2022-08-23T19:30:45.730Z"
   },
   {
    "duration": 4,
    "start_time": "2022-08-23T19:31:04.952Z"
   },
   {
    "duration": 179,
    "start_time": "2022-08-23T19:31:06.625Z"
   },
   {
    "duration": 4,
    "start_time": "2022-08-23T19:32:04.027Z"
   },
   {
    "duration": 172,
    "start_time": "2022-08-23T19:32:06.371Z"
   },
   {
    "duration": 176,
    "start_time": "2022-08-23T19:32:54.707Z"
   },
   {
    "duration": 335,
    "start_time": "2022-08-23T19:32:59.542Z"
   },
   {
    "duration": 5,
    "start_time": "2022-08-23T19:33:38.055Z"
   },
   {
    "duration": 169,
    "start_time": "2022-08-23T19:33:39.620Z"
   },
   {
    "duration": 182,
    "start_time": "2022-08-23T19:33:44.769Z"
   },
   {
    "duration": 4,
    "start_time": "2022-08-23T19:33:53.690Z"
   },
   {
    "duration": 177,
    "start_time": "2022-08-23T19:33:55.539Z"
   },
   {
    "duration": 4,
    "start_time": "2022-08-23T19:34:03.985Z"
   },
   {
    "duration": 174,
    "start_time": "2022-08-23T19:34:05.299Z"
   },
   {
    "duration": 175,
    "start_time": "2022-08-23T19:34:08.728Z"
   },
   {
    "duration": 187,
    "start_time": "2022-08-23T19:34:11.388Z"
   },
   {
    "duration": 1189,
    "start_time": "2022-08-24T17:40:06.386Z"
   },
   {
    "duration": 994,
    "start_time": "2022-08-24T17:40:07.578Z"
   },
   {
    "duration": 29,
    "start_time": "2022-08-24T17:40:08.575Z"
   },
   {
    "duration": 58,
    "start_time": "2022-08-24T17:40:08.607Z"
   },
   {
    "duration": 31,
    "start_time": "2022-08-24T17:40:08.667Z"
   },
   {
    "duration": 54,
    "start_time": "2022-08-24T17:40:08.700Z"
   },
   {
    "duration": 72,
    "start_time": "2022-08-24T17:40:08.756Z"
   },
   {
    "duration": 69,
    "start_time": "2022-08-24T17:40:08.832Z"
   },
   {
    "duration": 139,
    "start_time": "2022-08-24T17:40:08.903Z"
   },
   {
    "duration": 26,
    "start_time": "2022-08-24T17:40:09.044Z"
   },
   {
    "duration": 27,
    "start_time": "2022-08-24T17:40:09.072Z"
   },
   {
    "duration": 35,
    "start_time": "2022-08-24T17:40:09.101Z"
   },
   {
    "duration": 10,
    "start_time": "2022-08-24T17:40:09.138Z"
   },
   {
    "duration": 112,
    "start_time": "2022-08-24T17:40:09.160Z"
   },
   {
    "duration": 27,
    "start_time": "2022-08-24T17:40:09.274Z"
   },
   {
    "duration": 28,
    "start_time": "2022-08-24T17:40:09.303Z"
   },
   {
    "duration": 34,
    "start_time": "2022-08-24T17:40:09.333Z"
   },
   {
    "duration": 25,
    "start_time": "2022-08-24T17:40:09.370Z"
   },
   {
    "duration": 38,
    "start_time": "2022-08-24T17:40:09.397Z"
   },
   {
    "duration": 29,
    "start_time": "2022-08-24T17:40:09.437Z"
   },
   {
    "duration": 25,
    "start_time": "2022-08-24T17:40:09.468Z"
   },
   {
    "duration": 4,
    "start_time": "2022-08-24T17:40:09.495Z"
   },
   {
    "duration": 23,
    "start_time": "2022-08-24T17:40:09.501Z"
   },
   {
    "duration": 6,
    "start_time": "2022-08-24T17:40:09.526Z"
   },
   {
    "duration": 61,
    "start_time": "2022-08-24T17:40:09.534Z"
   },
   {
    "duration": 27,
    "start_time": "2022-08-24T17:40:09.597Z"
   },
   {
    "duration": 7,
    "start_time": "2022-08-24T17:40:09.626Z"
   },
   {
    "duration": 276,
    "start_time": "2022-08-24T17:40:09.634Z"
   },
   {
    "duration": 245,
    "start_time": "2022-08-24T17:40:09.912Z"
   },
   {
    "duration": 324,
    "start_time": "2022-08-24T17:40:10.159Z"
   },
   {
    "duration": 5,
    "start_time": "2022-08-24T17:40:10.485Z"
   },
   {
    "duration": 22,
    "start_time": "2022-08-24T17:56:26.571Z"
   },
   {
    "duration": 858,
    "start_time": "2022-08-24T17:56:53.708Z"
   },
   {
    "duration": 4,
    "start_time": "2022-08-24T18:03:29.064Z"
   },
   {
    "duration": 293,
    "start_time": "2022-08-24T18:03:29.069Z"
   },
   {
    "duration": 19,
    "start_time": "2022-08-24T18:03:29.364Z"
   },
   {
    "duration": 42,
    "start_time": "2022-08-24T18:03:29.385Z"
   },
   {
    "duration": 39,
    "start_time": "2022-08-24T18:03:29.429Z"
   },
   {
    "duration": 22,
    "start_time": "2022-08-24T18:03:29.470Z"
   },
   {
    "duration": 36,
    "start_time": "2022-08-24T18:03:29.493Z"
   },
   {
    "duration": 69,
    "start_time": "2022-08-24T18:03:29.531Z"
   },
   {
    "duration": 102,
    "start_time": "2022-08-24T18:03:29.602Z"
   },
   {
    "duration": 13,
    "start_time": "2022-08-24T18:03:29.706Z"
   },
   {
    "duration": 15,
    "start_time": "2022-08-24T18:03:29.722Z"
   },
   {
    "duration": 30,
    "start_time": "2022-08-24T18:03:29.738Z"
   },
   {
    "duration": 11,
    "start_time": "2022-08-24T18:03:29.769Z"
   },
   {
    "duration": 86,
    "start_time": "2022-08-24T18:03:29.782Z"
   },
   {
    "duration": 25,
    "start_time": "2022-08-24T18:03:29.869Z"
   },
   {
    "duration": 22,
    "start_time": "2022-08-24T18:03:29.896Z"
   },
   {
    "duration": 37,
    "start_time": "2022-08-24T18:03:29.920Z"
   },
   {
    "duration": 17,
    "start_time": "2022-08-24T18:03:29.959Z"
   },
   {
    "duration": 12,
    "start_time": "2022-08-24T18:03:29.977Z"
   },
   {
    "duration": 20,
    "start_time": "2022-08-24T18:03:29.990Z"
   },
   {
    "duration": 48,
    "start_time": "2022-08-24T18:03:30.012Z"
   },
   {
    "duration": 4,
    "start_time": "2022-08-24T18:03:30.062Z"
   },
   {
    "duration": 24,
    "start_time": "2022-08-24T18:03:30.068Z"
   },
   {
    "duration": 12,
    "start_time": "2022-08-24T18:03:30.093Z"
   },
   {
    "duration": 36,
    "start_time": "2022-08-24T18:03:30.106Z"
   },
   {
    "duration": 28,
    "start_time": "2022-08-24T18:03:30.144Z"
   },
   {
    "duration": 10,
    "start_time": "2022-08-24T18:03:30.173Z"
   },
   {
    "duration": 211,
    "start_time": "2022-08-24T18:03:30.184Z"
   },
   {
    "duration": 238,
    "start_time": "2022-08-24T18:03:30.399Z"
   },
   {
    "duration": 215,
    "start_time": "2022-08-24T18:03:30.639Z"
   },
   {
    "duration": 4,
    "start_time": "2022-08-24T18:03:30.856Z"
   },
   {
    "duration": 24,
    "start_time": "2022-08-24T18:04:23.761Z"
   },
   {
    "duration": 25,
    "start_time": "2022-08-24T18:04:43.839Z"
   },
   {
    "duration": 3,
    "start_time": "2022-08-24T18:04:43.866Z"
   },
   {
    "duration": 17,
    "start_time": "2022-08-24T18:04:43.871Z"
   },
   {
    "duration": 7,
    "start_time": "2022-08-24T18:04:43.890Z"
   },
   {
    "duration": 121,
    "start_time": "2022-08-24T18:04:43.898Z"
   },
   {
    "duration": 23,
    "start_time": "2022-08-24T18:04:44.021Z"
   },
   {
    "duration": 13,
    "start_time": "2022-08-24T18:04:44.045Z"
   },
   {
    "duration": 193,
    "start_time": "2022-08-24T18:04:44.060Z"
   },
   {
    "duration": 225,
    "start_time": "2022-08-24T18:04:44.258Z"
   },
   {
    "duration": 210,
    "start_time": "2022-08-24T18:04:44.485Z"
   },
   {
    "duration": 3,
    "start_time": "2022-08-24T18:04:44.697Z"
   },
   {
    "duration": 48,
    "start_time": "2022-08-24T19:20:27.642Z"
   },
   {
    "duration": 4,
    "start_time": "2022-08-24T19:20:37.082Z"
   },
   {
    "duration": 4,
    "start_time": "2022-08-24T19:21:10.836Z"
   },
   {
    "duration": 7,
    "start_time": "2022-08-24T19:21:19.377Z"
   },
   {
    "duration": 5,
    "start_time": "2022-08-24T19:21:27.656Z"
   },
   {
    "duration": 6,
    "start_time": "2022-08-24T19:21:31.232Z"
   },
   {
    "duration": 4,
    "start_time": "2022-08-24T19:30:59.396Z"
   },
   {
    "duration": 3,
    "start_time": "2022-08-24T19:31:02.232Z"
   },
   {
    "duration": 4,
    "start_time": "2022-08-24T19:31:11.521Z"
   },
   {
    "duration": 4,
    "start_time": "2022-08-24T19:33:52.237Z"
   },
   {
    "duration": 5,
    "start_time": "2022-08-24T19:34:08.149Z"
   },
   {
    "duration": 5,
    "start_time": "2022-08-24T19:34:11.764Z"
   },
   {
    "duration": 4,
    "start_time": "2022-08-24T19:34:13.171Z"
   },
   {
    "duration": 5,
    "start_time": "2022-08-24T19:34:14.531Z"
   },
   {
    "duration": 4,
    "start_time": "2022-08-24T19:34:20.268Z"
   },
   {
    "duration": 71,
    "start_time": "2022-08-24T19:34:51.444Z"
   },
   {
    "duration": 52,
    "start_time": "2022-08-24T19:35:10.473Z"
   },
   {
    "duration": 4,
    "start_time": "2022-08-24T19:36:50.228Z"
   },
   {
    "duration": 4,
    "start_time": "2022-08-24T19:36:59.327Z"
   },
   {
    "duration": 4,
    "start_time": "2022-08-24T19:40:26.520Z"
   },
   {
    "duration": 9,
    "start_time": "2022-08-24T19:46:56.091Z"
   },
   {
    "duration": 9,
    "start_time": "2022-08-24T19:47:22.255Z"
   },
   {
    "duration": 4,
    "start_time": "2022-08-24T19:47:37.062Z"
   },
   {
    "duration": 3,
    "start_time": "2022-08-24T19:48:24.995Z"
   },
   {
    "duration": 4,
    "start_time": "2022-08-24T19:49:05.773Z"
   },
   {
    "duration": 4,
    "start_time": "2022-08-24T19:49:17.560Z"
   },
   {
    "duration": 5,
    "start_time": "2022-08-24T19:50:16.357Z"
   },
   {
    "duration": 11,
    "start_time": "2022-08-24T20:03:26.287Z"
   },
   {
    "duration": 10,
    "start_time": "2022-08-24T20:04:02.186Z"
   },
   {
    "duration": 18,
    "start_time": "2022-08-24T20:08:19.664Z"
   },
   {
    "duration": 25,
    "start_time": "2022-08-24T20:08:55.296Z"
   },
   {
    "duration": 19,
    "start_time": "2022-08-24T20:11:40.634Z"
   },
   {
    "duration": 20,
    "start_time": "2022-08-24T20:11:52.105Z"
   },
   {
    "duration": 3,
    "start_time": "2022-08-24T20:20:46.929Z"
   },
   {
    "duration": 4,
    "start_time": "2022-08-24T20:20:50.934Z"
   },
   {
    "duration": 76,
    "start_time": "2022-08-24T20:21:09.199Z"
   },
   {
    "duration": 4,
    "start_time": "2022-08-24T20:22:08.587Z"
   },
   {
    "duration": 4,
    "start_time": "2022-08-24T20:22:44.948Z"
   },
   {
    "duration": 4,
    "start_time": "2022-08-24T20:22:47.043Z"
   },
   {
    "duration": 4,
    "start_time": "2022-08-24T20:22:49.910Z"
   },
   {
    "duration": 4,
    "start_time": "2022-08-24T20:22:52.270Z"
   },
   {
    "duration": 1249,
    "start_time": "2022-08-25T18:00:06.368Z"
   },
   {
    "duration": 921,
    "start_time": "2022-08-25T18:00:07.620Z"
   },
   {
    "duration": 23,
    "start_time": "2022-08-25T18:00:08.543Z"
   },
   {
    "duration": 48,
    "start_time": "2022-08-25T18:00:08.568Z"
   },
   {
    "duration": 20,
    "start_time": "2022-08-25T18:00:08.619Z"
   },
   {
    "duration": 45,
    "start_time": "2022-08-25T18:00:08.641Z"
   },
   {
    "duration": 53,
    "start_time": "2022-08-25T18:00:08.688Z"
   },
   {
    "duration": 78,
    "start_time": "2022-08-25T18:00:08.743Z"
   },
   {
    "duration": 122,
    "start_time": "2022-08-25T18:00:08.823Z"
   },
   {
    "duration": 11,
    "start_time": "2022-08-25T18:00:08.948Z"
   },
   {
    "duration": 27,
    "start_time": "2022-08-25T18:00:08.961Z"
   },
   {
    "duration": 18,
    "start_time": "2022-08-25T18:00:08.990Z"
   },
   {
    "duration": 8,
    "start_time": "2022-08-25T18:00:09.009Z"
   },
   {
    "duration": 94,
    "start_time": "2022-08-25T18:00:09.018Z"
   },
   {
    "duration": 25,
    "start_time": "2022-08-25T18:00:09.114Z"
   },
   {
    "duration": 24,
    "start_time": "2022-08-25T18:00:09.141Z"
   },
   {
    "duration": 14,
    "start_time": "2022-08-25T18:00:09.187Z"
   },
   {
    "duration": 19,
    "start_time": "2022-08-25T18:00:09.203Z"
   },
   {
    "duration": 14,
    "start_time": "2022-08-25T18:00:09.224Z"
   },
   {
    "duration": 56,
    "start_time": "2022-08-25T18:00:09.240Z"
   },
   {
    "duration": 28,
    "start_time": "2022-08-25T18:00:09.298Z"
   },
   {
    "duration": 4,
    "start_time": "2022-08-25T18:00:09.328Z"
   },
   {
    "duration": 22,
    "start_time": "2022-08-25T18:00:09.333Z"
   },
   {
    "duration": 13,
    "start_time": "2022-08-25T18:00:09.357Z"
   },
   {
    "duration": 75,
    "start_time": "2022-08-25T18:00:09.372Z"
   },
   {
    "duration": 25,
    "start_time": "2022-08-25T18:00:09.449Z"
   },
   {
    "duration": 5,
    "start_time": "2022-08-25T18:00:09.476Z"
   },
   {
    "duration": 251,
    "start_time": "2022-08-25T18:00:09.485Z"
   },
   {
    "duration": 287,
    "start_time": "2022-08-25T18:00:09.738Z"
   },
   {
    "duration": 245,
    "start_time": "2022-08-25T18:00:10.027Z"
   },
   {
    "duration": 52,
    "start_time": "2022-08-25T18:00:10.275Z"
   },
   {
    "duration": 0,
    "start_time": "2022-08-25T18:00:10.329Z"
   },
   {
    "duration": 0,
    "start_time": "2022-08-25T18:00:10.331Z"
   },
   {
    "duration": 0,
    "start_time": "2022-08-25T18:00:10.332Z"
   },
   {
    "duration": 0,
    "start_time": "2022-08-25T18:00:10.333Z"
   },
   {
    "duration": 0,
    "start_time": "2022-08-25T18:00:10.334Z"
   },
   {
    "duration": 0,
    "start_time": "2022-08-25T18:00:10.336Z"
   },
   {
    "duration": 202,
    "start_time": "2022-08-25T18:00:47.869Z"
   },
   {
    "duration": 14,
    "start_time": "2022-08-25T18:00:48.073Z"
   },
   {
    "duration": 5,
    "start_time": "2022-08-25T18:00:48.088Z"
   },
   {
    "duration": 7,
    "start_time": "2022-08-25T18:00:48.095Z"
   },
   {
    "duration": 31,
    "start_time": "2022-08-25T18:00:48.104Z"
   },
   {
    "duration": 20,
    "start_time": "2022-08-25T18:00:48.136Z"
   },
   {
    "duration": 29,
    "start_time": "2022-08-25T18:00:48.158Z"
   },
   {
    "duration": 3,
    "start_time": "2022-08-25T19:43:25.924Z"
   },
   {
    "duration": 3,
    "start_time": "2022-08-25T19:43:44.222Z"
   },
   {
    "duration": 12,
    "start_time": "2022-08-25T19:44:04.061Z"
   },
   {
    "duration": 3,
    "start_time": "2022-08-25T19:44:26.646Z"
   },
   {
    "duration": 15,
    "start_time": "2022-08-25T19:44:27.678Z"
   },
   {
    "duration": 2,
    "start_time": "2022-08-25T19:44:39.720Z"
   },
   {
    "duration": 19,
    "start_time": "2022-08-25T19:44:41.513Z"
   },
   {
    "duration": 20,
    "start_time": "2022-08-25T19:44:59.846Z"
   },
   {
    "duration": 16,
    "start_time": "2022-08-25T19:45:22.662Z"
   },
   {
    "duration": 17,
    "start_time": "2022-08-25T19:45:37.063Z"
   },
   {
    "duration": 21,
    "start_time": "2022-08-25T19:45:50.128Z"
   },
   {
    "duration": 35,
    "start_time": "2022-08-25T19:47:13.625Z"
   },
   {
    "duration": 110,
    "start_time": "2022-08-25T20:07:36.121Z"
   },
   {
    "duration": 840,
    "start_time": "2022-08-25T20:11:43.803Z"
   },
   {
    "duration": 28,
    "start_time": "2022-08-25T20:12:09.044Z"
   },
   {
    "duration": 43,
    "start_time": "2022-08-25T20:14:56.432Z"
   },
   {
    "duration": 33,
    "start_time": "2022-08-25T20:15:32.981Z"
   },
   {
    "duration": 52,
    "start_time": "2022-08-25T20:16:45.899Z"
   },
   {
    "duration": 35,
    "start_time": "2022-08-25T20:16:58.024Z"
   },
   {
    "duration": 26,
    "start_time": "2022-08-25T20:17:32.198Z"
   },
   {
    "duration": 22,
    "start_time": "2022-08-25T20:17:52.455Z"
   },
   {
    "duration": 25,
    "start_time": "2022-08-25T20:18:58.847Z"
   },
   {
    "duration": 23,
    "start_time": "2022-08-25T20:19:09.905Z"
   },
   {
    "duration": 22,
    "start_time": "2022-08-25T20:19:57.144Z"
   },
   {
    "duration": 23,
    "start_time": "2022-08-25T20:21:38.435Z"
   },
   {
    "duration": 21,
    "start_time": "2022-08-25T20:22:27.326Z"
   },
   {
    "duration": 33,
    "start_time": "2022-08-25T20:23:39.568Z"
   },
   {
    "duration": 22,
    "start_time": "2022-08-25T20:23:48.861Z"
   },
   {
    "duration": 43,
    "start_time": "2022-08-25T20:24:34.837Z"
   },
   {
    "duration": 26,
    "start_time": "2022-08-25T20:25:55.646Z"
   },
   {
    "duration": 18,
    "start_time": "2022-08-25T20:26:08.772Z"
   },
   {
    "duration": 133,
    "start_time": "2022-08-25T20:36:02.162Z"
   },
   {
    "duration": 9,
    "start_time": "2022-08-25T20:36:52.843Z"
   },
   {
    "duration": 67,
    "start_time": "2022-08-25T20:37:10.371Z"
   },
   {
    "duration": 18,
    "start_time": "2022-08-25T20:39:26.966Z"
   },
   {
    "duration": 21,
    "start_time": "2022-08-25T20:41:16.694Z"
   },
   {
    "duration": 16,
    "start_time": "2022-08-25T20:41:23.815Z"
   },
   {
    "duration": 16,
    "start_time": "2022-08-25T20:42:34.087Z"
   },
   {
    "duration": 23,
    "start_time": "2022-08-25T20:44:56.040Z"
   },
   {
    "duration": 20,
    "start_time": "2022-08-25T20:45:57.267Z"
   },
   {
    "duration": 9,
    "start_time": "2022-08-25T20:52:11.687Z"
   },
   {
    "duration": 17,
    "start_time": "2022-08-25T20:52:20.479Z"
   },
   {
    "duration": 31,
    "start_time": "2022-08-25T21:05:08.470Z"
   },
   {
    "duration": 26,
    "start_time": "2022-08-25T21:07:34.579Z"
   },
   {
    "duration": 1100,
    "start_time": "2022-08-25T21:09:29.683Z"
   },
   {
    "duration": 12,
    "start_time": "2022-08-25T21:09:54.755Z"
   },
   {
    "duration": 12,
    "start_time": "2022-08-25T21:12:49.456Z"
   },
   {
    "duration": 12,
    "start_time": "2022-08-25T21:13:06.476Z"
   },
   {
    "duration": 15,
    "start_time": "2022-08-25T21:13:56.231Z"
   },
   {
    "duration": 15,
    "start_time": "2022-08-25T21:15:46.346Z"
   },
   {
    "duration": 28,
    "start_time": "2022-08-25T21:15:53.574Z"
   },
   {
    "duration": 14,
    "start_time": "2022-08-25T21:16:19.151Z"
   },
   {
    "duration": 13,
    "start_time": "2022-08-25T21:17:04.194Z"
   },
   {
    "duration": 17,
    "start_time": "2022-08-25T21:19:26.774Z"
   },
   {
    "duration": 4,
    "start_time": "2022-08-25T21:19:43.195Z"
   },
   {
    "duration": 324,
    "start_time": "2022-08-25T21:19:43.201Z"
   },
   {
    "duration": 4,
    "start_time": "2022-08-25T21:19:43.527Z"
   },
   {
    "duration": 22,
    "start_time": "2022-08-25T21:19:43.537Z"
   },
   {
    "duration": 30,
    "start_time": "2022-08-25T21:19:43.561Z"
   },
   {
    "duration": 15,
    "start_time": "2022-08-25T21:19:43.593Z"
   },
   {
    "duration": 19,
    "start_time": "2022-08-25T21:19:43.609Z"
   },
   {
    "duration": 23,
    "start_time": "2022-08-25T21:19:43.629Z"
   },
   {
    "duration": 110,
    "start_time": "2022-08-25T21:19:43.654Z"
   },
   {
    "duration": 29,
    "start_time": "2022-08-25T21:19:43.766Z"
   },
   {
    "duration": 19,
    "start_time": "2022-08-25T21:19:43.798Z"
   },
   {
    "duration": 17,
    "start_time": "2022-08-25T21:19:43.820Z"
   },
   {
    "duration": 50,
    "start_time": "2022-08-25T21:19:43.838Z"
   },
   {
    "duration": 14,
    "start_time": "2022-08-25T21:19:53.761Z"
   },
   {
    "duration": 3,
    "start_time": "2022-08-25T21:24:03.333Z"
   },
   {
    "duration": 317,
    "start_time": "2022-08-25T21:24:03.338Z"
   },
   {
    "duration": 2,
    "start_time": "2022-08-25T21:24:03.657Z"
   },
   {
    "duration": 29,
    "start_time": "2022-08-25T21:24:03.661Z"
   },
   {
    "duration": 24,
    "start_time": "2022-08-25T21:24:03.692Z"
   },
   {
    "duration": 15,
    "start_time": "2022-08-25T21:24:03.718Z"
   },
   {
    "duration": 19,
    "start_time": "2022-08-25T21:24:03.735Z"
   },
   {
    "duration": 49,
    "start_time": "2022-08-25T21:24:03.755Z"
   },
   {
    "duration": 95,
    "start_time": "2022-08-25T21:24:03.806Z"
   },
   {
    "duration": 16,
    "start_time": "2022-08-25T21:24:03.903Z"
   },
   {
    "duration": 15,
    "start_time": "2022-08-25T21:24:03.921Z"
   },
   {
    "duration": 13,
    "start_time": "2022-08-25T21:24:03.938Z"
   },
   {
    "duration": 51,
    "start_time": "2022-08-25T21:24:03.952Z"
   },
   {
    "duration": 14,
    "start_time": "2022-08-25T21:24:04.007Z"
   },
   {
    "duration": 0,
    "start_time": "2022-08-25T21:24:04.022Z"
   },
   {
    "duration": 0,
    "start_time": "2022-08-25T21:24:04.024Z"
   },
   {
    "duration": 0,
    "start_time": "2022-08-25T21:24:04.026Z"
   },
   {
    "duration": 0,
    "start_time": "2022-08-25T21:24:04.027Z"
   },
   {
    "duration": 0,
    "start_time": "2022-08-25T21:24:04.028Z"
   },
   {
    "duration": 0,
    "start_time": "2022-08-25T21:24:04.029Z"
   },
   {
    "duration": 0,
    "start_time": "2022-08-25T21:24:04.031Z"
   },
   {
    "duration": 0,
    "start_time": "2022-08-25T21:24:04.032Z"
   },
   {
    "duration": 0,
    "start_time": "2022-08-25T21:24:04.033Z"
   },
   {
    "duration": 0,
    "start_time": "2022-08-25T21:24:04.035Z"
   },
   {
    "duration": 0,
    "start_time": "2022-08-25T21:24:04.040Z"
   },
   {
    "duration": 0,
    "start_time": "2022-08-25T21:24:04.042Z"
   },
   {
    "duration": 0,
    "start_time": "2022-08-25T21:24:04.043Z"
   },
   {
    "duration": 0,
    "start_time": "2022-08-25T21:24:04.087Z"
   },
   {
    "duration": 0,
    "start_time": "2022-08-25T21:24:04.088Z"
   },
   {
    "duration": 0,
    "start_time": "2022-08-25T21:24:04.089Z"
   },
   {
    "duration": 0,
    "start_time": "2022-08-25T21:24:04.090Z"
   },
   {
    "duration": 0,
    "start_time": "2022-08-25T21:24:04.092Z"
   },
   {
    "duration": 0,
    "start_time": "2022-08-25T21:24:04.093Z"
   },
   {
    "duration": 0,
    "start_time": "2022-08-25T21:24:04.094Z"
   },
   {
    "duration": 0,
    "start_time": "2022-08-25T21:24:04.095Z"
   },
   {
    "duration": 0,
    "start_time": "2022-08-25T21:24:04.096Z"
   },
   {
    "duration": 0,
    "start_time": "2022-08-25T21:24:04.097Z"
   },
   {
    "duration": 0,
    "start_time": "2022-08-25T21:24:04.099Z"
   },
   {
    "duration": 0,
    "start_time": "2022-08-25T21:24:04.099Z"
   },
   {
    "duration": 0,
    "start_time": "2022-08-25T21:24:04.101Z"
   },
   {
    "duration": 0,
    "start_time": "2022-08-25T21:24:04.102Z"
   },
   {
    "duration": 0,
    "start_time": "2022-08-25T21:24:04.103Z"
   },
   {
    "duration": 12,
    "start_time": "2022-08-25T21:27:32.790Z"
   },
   {
    "duration": 27,
    "start_time": "2022-08-25T21:28:20.808Z"
   },
   {
    "duration": 25,
    "start_time": "2022-08-25T21:28:49.935Z"
   },
   {
    "duration": 21,
    "start_time": "2022-08-25T21:30:23.658Z"
   },
   {
    "duration": 21,
    "start_time": "2022-08-25T21:31:47.730Z"
   },
   {
    "duration": 5,
    "start_time": "2022-08-25T21:35:26.515Z"
   },
   {
    "duration": 43,
    "start_time": "2022-08-25T21:37:24.558Z"
   },
   {
    "duration": 31,
    "start_time": "2022-08-25T21:40:08.071Z"
   },
   {
    "duration": 4,
    "start_time": "2022-08-25T21:42:32.777Z"
   },
   {
    "duration": 878,
    "start_time": "2022-08-25T21:42:45.848Z"
   },
   {
    "duration": 219,
    "start_time": "2022-08-25T21:43:23.129Z"
   },
   {
    "duration": 241,
    "start_time": "2022-08-25T21:43:27.552Z"
   },
   {
    "duration": 283,
    "start_time": "2022-08-25T21:43:30.914Z"
   },
   {
    "duration": 6,
    "start_time": "2022-08-25T21:54:16.762Z"
   },
   {
    "duration": 14,
    "start_time": "2022-08-25T21:54:23.489Z"
   },
   {
    "duration": 4,
    "start_time": "2022-08-25T21:55:29.387Z"
   },
   {
    "duration": 9,
    "start_time": "2022-08-25T22:01:13.038Z"
   },
   {
    "duration": 3,
    "start_time": "2022-08-25T22:01:30.880Z"
   },
   {
    "duration": 330,
    "start_time": "2022-08-25T22:01:30.886Z"
   },
   {
    "duration": 3,
    "start_time": "2022-08-25T22:01:31.217Z"
   },
   {
    "duration": 39,
    "start_time": "2022-08-25T22:01:31.221Z"
   },
   {
    "duration": 45,
    "start_time": "2022-08-25T22:01:31.262Z"
   },
   {
    "duration": 15,
    "start_time": "2022-08-25T22:01:31.308Z"
   },
   {
    "duration": 38,
    "start_time": "2022-08-25T22:01:31.325Z"
   },
   {
    "duration": 25,
    "start_time": "2022-08-25T22:01:31.365Z"
   },
   {
    "duration": 79,
    "start_time": "2022-08-25T22:01:31.392Z"
   },
   {
    "duration": 15,
    "start_time": "2022-08-25T22:01:31.472Z"
   },
   {
    "duration": 44,
    "start_time": "2022-08-25T22:01:31.490Z"
   },
   {
    "duration": 15,
    "start_time": "2022-08-25T22:01:31.535Z"
   },
   {
    "duration": 13,
    "start_time": "2022-08-25T22:01:31.552Z"
   },
   {
    "duration": 27,
    "start_time": "2022-08-25T22:01:31.567Z"
   },
   {
    "duration": 8,
    "start_time": "2022-08-25T22:01:31.596Z"
   },
   {
    "duration": 29,
    "start_time": "2022-08-25T22:01:31.606Z"
   },
   {
    "duration": 5,
    "start_time": "2022-08-25T22:01:31.637Z"
   },
   {
    "duration": 56,
    "start_time": "2022-08-25T22:01:31.643Z"
   },
   {
    "duration": 93,
    "start_time": "2022-08-25T22:01:31.700Z"
   },
   {
    "duration": 2,
    "start_time": "2022-08-25T22:01:31.795Z"
   },
   {
    "duration": 6,
    "start_time": "2022-08-25T22:01:31.798Z"
   },
   {
    "duration": 14,
    "start_time": "2022-08-25T22:01:31.805Z"
   },
   {
    "duration": 6,
    "start_time": "2022-08-25T22:01:31.821Z"
   },
   {
    "duration": 5,
    "start_time": "2022-08-25T22:01:31.828Z"
   },
   {
    "duration": 10,
    "start_time": "2022-08-25T22:01:31.834Z"
   },
   {
    "duration": 8,
    "start_time": "2022-08-25T22:01:31.845Z"
   },
   {
    "duration": 5,
    "start_time": "2022-08-25T22:01:31.854Z"
   },
   {
    "duration": 6,
    "start_time": "2022-08-25T22:01:31.861Z"
   },
   {
    "duration": 5,
    "start_time": "2022-08-25T22:01:31.870Z"
   },
   {
    "duration": 11,
    "start_time": "2022-08-25T22:01:31.876Z"
   },
   {
    "duration": 11,
    "start_time": "2022-08-25T22:01:31.888Z"
   },
   {
    "duration": 14,
    "start_time": "2022-08-25T22:01:31.900Z"
   },
   {
    "duration": 10,
    "start_time": "2022-08-25T22:01:31.915Z"
   },
   {
    "duration": 6,
    "start_time": "2022-08-25T22:01:31.927Z"
   },
   {
    "duration": 29,
    "start_time": "2022-08-25T22:01:31.934Z"
   },
   {
    "duration": 4,
    "start_time": "2022-08-25T22:01:31.964Z"
   },
   {
    "duration": 211,
    "start_time": "2022-08-25T22:01:31.971Z"
   },
   {
    "duration": 210,
    "start_time": "2022-08-25T22:01:32.184Z"
   },
   {
    "duration": 204,
    "start_time": "2022-08-25T22:01:32.396Z"
   },
   {
    "duration": 2,
    "start_time": "2022-08-25T22:01:32.602Z"
   },
   {
    "duration": 10,
    "start_time": "2022-08-25T22:01:32.606Z"
   },
   {
    "duration": 8,
    "start_time": "2022-08-25T22:01:32.617Z"
   },
   {
    "duration": 8,
    "start_time": "2022-08-25T22:01:32.626Z"
   },
   {
    "duration": 9,
    "start_time": "2022-08-25T22:01:32.635Z"
   },
   {
    "duration": 7,
    "start_time": "2022-08-25T22:01:32.646Z"
   },
   {
    "duration": 5,
    "start_time": "2022-08-25T22:07:53.799Z"
   },
   {
    "duration": 6,
    "start_time": "2022-08-25T22:08:35.899Z"
   },
   {
    "duration": 18,
    "start_time": "2022-08-25T22:09:02.628Z"
   },
   {
    "duration": 25,
    "start_time": "2022-08-25T22:09:16.283Z"
   },
   {
    "duration": 56,
    "start_time": "2022-08-25T22:10:11.092Z"
   },
   {
    "duration": 41,
    "start_time": "2022-08-25T22:10:34.133Z"
   },
   {
    "duration": 27,
    "start_time": "2022-08-25T22:14:13.552Z"
   },
   {
    "duration": 11,
    "start_time": "2022-08-25T22:14:36.550Z"
   },
   {
    "duration": 12,
    "start_time": "2022-08-25T22:14:48.735Z"
   },
   {
    "duration": 20,
    "start_time": "2022-08-25T22:14:56.437Z"
   },
   {
    "duration": 16,
    "start_time": "2022-08-25T22:15:19.135Z"
   },
   {
    "duration": 5,
    "start_time": "2022-08-25T22:15:56.139Z"
   },
   {
    "duration": 4,
    "start_time": "2022-08-25T22:16:14.831Z"
   },
   {
    "duration": 4,
    "start_time": "2022-08-25T22:16:22.902Z"
   },
   {
    "duration": 4,
    "start_time": "2022-08-25T22:17:12.768Z"
   },
   {
    "duration": 4,
    "start_time": "2022-08-25T22:17:31.788Z"
   },
   {
    "duration": 4,
    "start_time": "2022-08-25T22:18:38.763Z"
   },
   {
    "duration": 4,
    "start_time": "2022-08-25T22:18:45.507Z"
   },
   {
    "duration": 4,
    "start_time": "2022-08-25T22:18:48.737Z"
   },
   {
    "duration": 8,
    "start_time": "2022-08-25T22:23:33.933Z"
   },
   {
    "duration": 5,
    "start_time": "2022-08-25T22:25:39.079Z"
   },
   {
    "duration": 5,
    "start_time": "2022-08-25T22:25:44.815Z"
   },
   {
    "duration": 4,
    "start_time": "2022-08-25T22:25:47.815Z"
   },
   {
    "duration": 4,
    "start_time": "2022-08-25T22:25:52.919Z"
   },
   {
    "duration": 5,
    "start_time": "2022-08-25T22:25:55.300Z"
   },
   {
    "duration": 4,
    "start_time": "2022-08-25T22:26:03.520Z"
   },
   {
    "duration": 5,
    "start_time": "2022-08-25T22:26:05.344Z"
   },
   {
    "duration": 6,
    "start_time": "2022-08-25T22:26:06.560Z"
   },
   {
    "duration": 5,
    "start_time": "2022-08-25T22:26:08.114Z"
   },
   {
    "duration": 4,
    "start_time": "2022-08-25T22:27:28.021Z"
   },
   {
    "duration": 300,
    "start_time": "2022-08-25T22:27:28.027Z"
   },
   {
    "duration": 3,
    "start_time": "2022-08-25T22:27:28.329Z"
   },
   {
    "duration": 20,
    "start_time": "2022-08-25T22:27:28.333Z"
   },
   {
    "duration": 43,
    "start_time": "2022-08-25T22:27:28.356Z"
   },
   {
    "duration": 16,
    "start_time": "2022-08-25T22:27:28.401Z"
   },
   {
    "duration": 21,
    "start_time": "2022-08-25T22:27:28.419Z"
   },
   {
    "duration": 23,
    "start_time": "2022-08-25T22:27:28.443Z"
   },
   {
    "duration": 90,
    "start_time": "2022-08-25T22:27:28.489Z"
   },
   {
    "duration": 7,
    "start_time": "2022-08-25T22:27:28.581Z"
   },
   {
    "duration": 32,
    "start_time": "2022-08-25T22:27:28.590Z"
   },
   {
    "duration": 15,
    "start_time": "2022-08-25T22:27:28.623Z"
   },
   {
    "duration": 14,
    "start_time": "2022-08-25T22:27:28.641Z"
   },
   {
    "duration": 45,
    "start_time": "2022-08-25T22:27:28.656Z"
   },
   {
    "duration": 9,
    "start_time": "2022-08-25T22:27:28.702Z"
   },
   {
    "duration": 21,
    "start_time": "2022-08-25T22:27:28.713Z"
   },
   {
    "duration": 5,
    "start_time": "2022-08-25T22:27:28.736Z"
   },
   {
    "duration": 69,
    "start_time": "2022-08-25T22:27:28.743Z"
   },
   {
    "duration": 101,
    "start_time": "2022-08-25T22:27:28.813Z"
   },
   {
    "duration": 2,
    "start_time": "2022-08-25T22:27:28.915Z"
   },
   {
    "duration": 9,
    "start_time": "2022-08-25T22:27:28.919Z"
   },
   {
    "duration": 11,
    "start_time": "2022-08-25T22:27:28.929Z"
   },
   {
    "duration": 8,
    "start_time": "2022-08-25T22:27:28.941Z"
   },
   {
    "duration": 9,
    "start_time": "2022-08-25T22:27:28.951Z"
   },
   {
    "duration": 9,
    "start_time": "2022-08-25T22:27:28.961Z"
   },
   {
    "duration": 5,
    "start_time": "2022-08-25T22:27:28.971Z"
   },
   {
    "duration": 5,
    "start_time": "2022-08-25T22:27:28.978Z"
   },
   {
    "duration": 17,
    "start_time": "2022-08-25T22:27:28.985Z"
   },
   {
    "duration": 7,
    "start_time": "2022-08-25T22:27:29.003Z"
   },
   {
    "duration": 7,
    "start_time": "2022-08-25T22:27:29.011Z"
   },
   {
    "duration": 8,
    "start_time": "2022-08-25T22:27:29.020Z"
   },
   {
    "duration": 13,
    "start_time": "2022-08-25T22:27:29.029Z"
   },
   {
    "duration": 9,
    "start_time": "2022-08-25T22:27:29.044Z"
   },
   {
    "duration": 11,
    "start_time": "2022-08-25T22:27:29.054Z"
   },
   {
    "duration": 33,
    "start_time": "2022-08-25T22:27:29.066Z"
   },
   {
    "duration": 10,
    "start_time": "2022-08-25T22:27:29.100Z"
   },
   {
    "duration": 210,
    "start_time": "2022-08-25T22:27:29.113Z"
   },
   {
    "duration": 211,
    "start_time": "2022-08-25T22:27:29.324Z"
   },
   {
    "duration": 227,
    "start_time": "2022-08-25T22:27:29.537Z"
   },
   {
    "duration": 5,
    "start_time": "2022-08-25T22:27:29.766Z"
   },
   {
    "duration": 12,
    "start_time": "2022-08-25T22:27:29.772Z"
   },
   {
    "duration": 11,
    "start_time": "2022-08-25T22:27:29.793Z"
   },
   {
    "duration": 15,
    "start_time": "2022-08-25T22:27:29.805Z"
   },
   {
    "duration": 13,
    "start_time": "2022-08-25T22:27:29.822Z"
   },
   {
    "duration": 4,
    "start_time": "2022-08-25T22:27:29.837Z"
   },
   {
    "duration": 1315,
    "start_time": "2022-08-26T11:19:35.254Z"
   },
   {
    "duration": 861,
    "start_time": "2022-08-26T11:19:36.571Z"
   },
   {
    "duration": 3,
    "start_time": "2022-08-26T11:19:37.435Z"
   },
   {
    "duration": 31,
    "start_time": "2022-08-26T11:19:37.439Z"
   },
   {
    "duration": 30,
    "start_time": "2022-08-26T11:19:37.473Z"
   },
   {
    "duration": 18,
    "start_time": "2022-08-26T11:19:37.505Z"
   },
   {
    "duration": 24,
    "start_time": "2022-08-26T11:19:37.525Z"
   },
   {
    "duration": 51,
    "start_time": "2022-08-26T11:19:37.550Z"
   },
   {
    "duration": 106,
    "start_time": "2022-08-26T11:19:37.603Z"
   },
   {
    "duration": 4,
    "start_time": "2022-08-26T11:19:37.711Z"
   },
   {
    "duration": 24,
    "start_time": "2022-08-26T11:19:37.717Z"
   },
   {
    "duration": 20,
    "start_time": "2022-08-26T11:19:37.743Z"
   },
   {
    "duration": 44,
    "start_time": "2022-08-26T11:19:37.764Z"
   },
   {
    "duration": 29,
    "start_time": "2022-08-26T11:19:37.811Z"
   },
   {
    "duration": 9,
    "start_time": "2022-08-26T11:19:37.842Z"
   },
   {
    "duration": 48,
    "start_time": "2022-08-26T11:19:37.853Z"
   },
   {
    "duration": 6,
    "start_time": "2022-08-26T11:19:37.903Z"
   },
   {
    "duration": 56,
    "start_time": "2022-08-26T11:19:37.911Z"
   },
   {
    "duration": 147,
    "start_time": "2022-08-26T11:19:37.969Z"
   },
   {
    "duration": 3,
    "start_time": "2022-08-26T11:19:38.118Z"
   },
   {
    "duration": 4,
    "start_time": "2022-08-26T11:19:38.123Z"
   },
   {
    "duration": 6,
    "start_time": "2022-08-26T11:19:38.129Z"
   },
   {
    "duration": 4,
    "start_time": "2022-08-26T11:19:38.137Z"
   },
   {
    "duration": 8,
    "start_time": "2022-08-26T11:19:38.142Z"
   },
   {
    "duration": 5,
    "start_time": "2022-08-26T11:19:38.151Z"
   },
   {
    "duration": 15,
    "start_time": "2022-08-26T11:19:38.158Z"
   },
   {
    "duration": 3,
    "start_time": "2022-08-26T11:19:38.192Z"
   },
   {
    "duration": 5,
    "start_time": "2022-08-26T11:19:38.196Z"
   },
   {
    "duration": 5,
    "start_time": "2022-08-26T11:19:38.203Z"
   },
   {
    "duration": 5,
    "start_time": "2022-08-26T11:19:38.209Z"
   },
   {
    "duration": 10,
    "start_time": "2022-08-26T11:19:38.216Z"
   },
   {
    "duration": 6,
    "start_time": "2022-08-26T11:19:38.228Z"
   },
   {
    "duration": 7,
    "start_time": "2022-08-26T11:19:38.235Z"
   },
   {
    "duration": 5,
    "start_time": "2022-08-26T11:19:38.244Z"
   },
   {
    "duration": 41,
    "start_time": "2022-08-26T11:19:38.251Z"
   },
   {
    "duration": 4,
    "start_time": "2022-08-26T11:19:38.294Z"
   },
   {
    "duration": 265,
    "start_time": "2022-08-26T11:19:38.300Z"
   },
   {
    "duration": 243,
    "start_time": "2022-08-26T11:19:38.567Z"
   },
   {
    "duration": 235,
    "start_time": "2022-08-26T11:19:38.812Z"
   },
   {
    "duration": 3,
    "start_time": "2022-08-26T11:19:39.049Z"
   },
   {
    "duration": 5,
    "start_time": "2022-08-26T11:19:39.056Z"
   },
   {
    "duration": 7,
    "start_time": "2022-08-26T11:19:39.063Z"
   },
   {
    "duration": 36,
    "start_time": "2022-08-26T11:19:39.071Z"
   },
   {
    "duration": 18,
    "start_time": "2022-08-26T11:19:39.108Z"
   },
   {
    "duration": 5,
    "start_time": "2022-08-26T11:19:39.128Z"
   },
   {
    "duration": 124,
    "start_time": "2022-08-26T11:31:27.694Z"
   },
   {
    "duration": 227,
    "start_time": "2022-08-26T11:46:20.178Z"
   },
   {
    "duration": 256,
    "start_time": "2022-08-26T11:46:33.280Z"
   },
   {
    "duration": 246,
    "start_time": "2022-08-26T11:46:39.361Z"
   },
   {
    "duration": 252,
    "start_time": "2022-08-26T11:46:42.794Z"
   },
   {
    "duration": 332,
    "start_time": "2022-08-26T11:46:51.243Z"
   },
   {
    "duration": 253,
    "start_time": "2022-08-26T11:46:54.720Z"
   },
   {
    "duration": 17,
    "start_time": "2022-08-26T12:13:45.514Z"
   },
   {
    "duration": 5,
    "start_time": "2022-08-26T12:13:49.033Z"
   },
   {
    "duration": 5,
    "start_time": "2022-08-26T12:14:30.612Z"
   },
   {
    "duration": 5,
    "start_time": "2022-08-26T12:14:36.874Z"
   },
   {
    "duration": 6,
    "start_time": "2022-08-26T12:14:39.873Z"
   },
   {
    "duration": 4,
    "start_time": "2022-08-26T12:25:59.079Z"
   },
   {
    "duration": 453,
    "start_time": "2022-08-26T12:25:59.088Z"
   },
   {
    "duration": 3,
    "start_time": "2022-08-26T12:25:59.543Z"
   },
   {
    "duration": 67,
    "start_time": "2022-08-26T12:25:59.548Z"
   },
   {
    "duration": 42,
    "start_time": "2022-08-26T12:25:59.618Z"
   },
   {
    "duration": 23,
    "start_time": "2022-08-26T12:25:59.662Z"
   },
   {
    "duration": 58,
    "start_time": "2022-08-26T12:25:59.687Z"
   },
   {
    "duration": 36,
    "start_time": "2022-08-26T12:25:59.746Z"
   },
   {
    "duration": 126,
    "start_time": "2022-08-26T12:25:59.784Z"
   },
   {
    "duration": 5,
    "start_time": "2022-08-26T12:25:59.914Z"
   },
   {
    "duration": 311,
    "start_time": "2022-08-26T12:25:59.922Z"
   },
   {
    "duration": 16,
    "start_time": "2022-08-26T12:26:00.234Z"
   },
   {
    "duration": 304,
    "start_time": "2022-08-26T12:26:00.252Z"
   },
   {
    "duration": 66,
    "start_time": "2022-08-26T12:26:00.559Z"
   },
   {
    "duration": 83,
    "start_time": "2022-08-26T12:26:00.628Z"
   },
   {
    "duration": 32,
    "start_time": "2022-08-26T12:26:00.713Z"
   },
   {
    "duration": 63,
    "start_time": "2022-08-26T12:26:00.747Z"
   },
   {
    "duration": 27,
    "start_time": "2022-08-26T12:26:00.811Z"
   },
   {
    "duration": 78,
    "start_time": "2022-08-26T12:26:00.840Z"
   },
   {
    "duration": 24,
    "start_time": "2022-08-26T12:26:00.920Z"
   },
   {
    "duration": 98,
    "start_time": "2022-08-26T12:26:00.946Z"
   },
   {
    "duration": 330,
    "start_time": "2022-08-26T12:26:01.047Z"
   },
   {
    "duration": 280,
    "start_time": "2022-08-26T12:26:01.379Z"
   },
   {
    "duration": 374,
    "start_time": "2022-08-26T12:26:01.661Z"
   },
   {
    "duration": 6,
    "start_time": "2022-08-26T12:26:02.038Z"
   },
   {
    "duration": 22,
    "start_time": "2022-08-26T12:26:02.045Z"
   },
   {
    "duration": 60,
    "start_time": "2022-08-26T12:26:02.070Z"
   },
   {
    "duration": 42,
    "start_time": "2022-08-26T12:26:02.132Z"
   },
   {
    "duration": 50,
    "start_time": "2022-08-26T12:26:02.178Z"
   },
   {
    "duration": 1167,
    "start_time": "2022-08-26T17:03:02.095Z"
   },
   {
    "duration": 788,
    "start_time": "2022-08-26T17:03:03.264Z"
   },
   {
    "duration": 3,
    "start_time": "2022-08-26T17:03:04.054Z"
   },
   {
    "duration": 33,
    "start_time": "2022-08-26T17:03:04.059Z"
   },
   {
    "duration": 34,
    "start_time": "2022-08-26T17:03:04.094Z"
   },
   {
    "duration": 21,
    "start_time": "2022-08-26T17:03:04.129Z"
   },
   {
    "duration": 31,
    "start_time": "2022-08-26T17:03:04.152Z"
   },
   {
    "duration": 34,
    "start_time": "2022-08-26T17:03:04.184Z"
   },
   {
    "duration": 93,
    "start_time": "2022-08-26T17:03:04.220Z"
   },
   {
    "duration": 6,
    "start_time": "2022-08-26T17:03:04.316Z"
   },
   {
    "duration": 116,
    "start_time": "2022-08-26T17:03:04.323Z"
   },
   {
    "duration": 19,
    "start_time": "2022-08-26T17:03:04.440Z"
   },
   {
    "duration": 28,
    "start_time": "2022-08-26T17:03:04.460Z"
   },
   {
    "duration": 17,
    "start_time": "2022-08-26T17:03:04.489Z"
   },
   {
    "duration": 35,
    "start_time": "2022-08-26T17:03:04.508Z"
   },
   {
    "duration": 13,
    "start_time": "2022-08-26T17:03:04.544Z"
   },
   {
    "duration": 31,
    "start_time": "2022-08-26T17:03:04.559Z"
   },
   {
    "duration": 10,
    "start_time": "2022-08-26T17:03:04.592Z"
   },
   {
    "duration": 64,
    "start_time": "2022-08-26T17:03:04.603Z"
   },
   {
    "duration": 21,
    "start_time": "2022-08-26T17:03:04.669Z"
   },
   {
    "duration": 9,
    "start_time": "2022-08-26T17:03:04.691Z"
   },
   {
    "duration": 231,
    "start_time": "2022-08-26T17:03:04.702Z"
   },
   {
    "duration": 209,
    "start_time": "2022-08-26T17:03:04.935Z"
   },
   {
    "duration": 222,
    "start_time": "2022-08-26T17:03:05.145Z"
   },
   {
    "duration": 3,
    "start_time": "2022-08-26T17:03:05.368Z"
   },
   {
    "duration": 12,
    "start_time": "2022-08-26T17:03:05.373Z"
   },
   {
    "duration": 20,
    "start_time": "2022-08-26T17:03:05.386Z"
   },
   {
    "duration": 110,
    "start_time": "2022-08-26T17:03:05.410Z"
   },
   {
    "duration": 0,
    "start_time": "2022-08-26T17:03:05.521Z"
   },
   {
    "duration": 19,
    "start_time": "2022-08-26T17:03:28.907Z"
   },
   {
    "duration": 4,
    "start_time": "2022-08-26T17:03:34.952Z"
   },
   {
    "duration": 4,
    "start_time": "2022-08-26T17:03:51.822Z"
   },
   {
    "duration": 4,
    "start_time": "2022-08-26T17:03:58.678Z"
   },
   {
    "duration": 4,
    "start_time": "2022-08-26T17:04:00.002Z"
   },
   {
    "duration": 5,
    "start_time": "2022-08-26T17:42:47.356Z"
   },
   {
    "duration": 5,
    "start_time": "2022-08-26T17:55:34.666Z"
   },
   {
    "duration": 6,
    "start_time": "2022-08-26T17:55:40.219Z"
   },
   {
    "duration": 201,
    "start_time": "2022-08-26T17:55:44.867Z"
   },
   {
    "duration": 232,
    "start_time": "2022-08-26T17:55:49.118Z"
   },
   {
    "duration": 211,
    "start_time": "2022-08-26T17:55:51.688Z"
   },
   {
    "duration": 5,
    "start_time": "2022-08-26T18:03:42.852Z"
   },
   {
    "duration": 304,
    "start_time": "2022-08-26T18:03:46.169Z"
   },
   {
    "duration": 5,
    "start_time": "2022-08-26T18:04:17.255Z"
   },
   {
    "duration": 203,
    "start_time": "2022-08-26T18:04:20.568Z"
   },
   {
    "duration": 200,
    "start_time": "2022-08-26T18:06:41.993Z"
   },
   {
    "duration": 239,
    "start_time": "2022-08-26T18:06:47.253Z"
   },
   {
    "duration": 3,
    "start_time": "2022-08-26T18:07:54.153Z"
   },
   {
    "duration": 305,
    "start_time": "2022-08-26T18:07:54.158Z"
   },
   {
    "duration": 3,
    "start_time": "2022-08-26T18:07:54.464Z"
   },
   {
    "duration": 17,
    "start_time": "2022-08-26T18:07:54.468Z"
   },
   {
    "duration": 38,
    "start_time": "2022-08-26T18:07:54.487Z"
   },
   {
    "duration": 14,
    "start_time": "2022-08-26T18:07:54.527Z"
   },
   {
    "duration": 16,
    "start_time": "2022-08-26T18:07:54.543Z"
   },
   {
    "duration": 18,
    "start_time": "2022-08-26T18:07:54.560Z"
   },
   {
    "duration": 99,
    "start_time": "2022-08-26T18:07:54.580Z"
   },
   {
    "duration": 4,
    "start_time": "2022-08-26T18:07:54.680Z"
   },
   {
    "duration": 98,
    "start_time": "2022-08-26T18:07:54.685Z"
   },
   {
    "duration": 29,
    "start_time": "2022-08-26T18:07:54.784Z"
   },
   {
    "duration": 16,
    "start_time": "2022-08-26T18:07:54.814Z"
   },
   {
    "duration": 12,
    "start_time": "2022-08-26T18:07:54.832Z"
   },
   {
    "duration": 23,
    "start_time": "2022-08-26T18:07:54.845Z"
   },
   {
    "duration": 8,
    "start_time": "2022-08-26T18:07:54.869Z"
   },
   {
    "duration": 50,
    "start_time": "2022-08-26T18:07:54.878Z"
   },
   {
    "duration": 5,
    "start_time": "2022-08-26T18:07:54.929Z"
   },
   {
    "duration": 43,
    "start_time": "2022-08-26T18:07:54.935Z"
   },
   {
    "duration": 40,
    "start_time": "2022-08-26T18:07:54.980Z"
   },
   {
    "duration": 4,
    "start_time": "2022-08-26T18:07:55.021Z"
   },
   {
    "duration": 213,
    "start_time": "2022-08-26T18:07:55.026Z"
   },
   {
    "duration": 206,
    "start_time": "2022-08-26T18:07:55.241Z"
   },
   {
    "duration": 226,
    "start_time": "2022-08-26T18:07:55.448Z"
   },
   {
    "duration": 3,
    "start_time": "2022-08-26T18:07:55.675Z"
   },
   {
    "duration": 10,
    "start_time": "2022-08-26T18:07:55.679Z"
   },
   {
    "duration": 26,
    "start_time": "2022-08-26T18:07:55.691Z"
   },
   {
    "duration": 22,
    "start_time": "2022-08-26T18:07:55.719Z"
   },
   {
    "duration": 4,
    "start_time": "2022-08-26T18:07:55.742Z"
   },
   {
    "duration": 6,
    "start_time": "2022-08-26T18:09:31.405Z"
   },
   {
    "duration": 308,
    "start_time": "2022-08-26T18:09:41.462Z"
   },
   {
    "duration": 4,
    "start_time": "2022-08-26T18:10:13.469Z"
   },
   {
    "duration": 207,
    "start_time": "2022-08-26T18:10:18.306Z"
   },
   {
    "duration": 5,
    "start_time": "2022-08-26T18:12:24.158Z"
   },
   {
    "duration": 284,
    "start_time": "2022-08-26T18:12:27.242Z"
   },
   {
    "duration": 4,
    "start_time": "2022-08-26T18:12:45.461Z"
   },
   {
    "duration": 218,
    "start_time": "2022-08-26T18:12:47.860Z"
   },
   {
    "duration": 4,
    "start_time": "2022-08-26T18:18:04.662Z"
   },
   {
    "duration": 219,
    "start_time": "2022-08-26T18:18:07.250Z"
   },
   {
    "duration": 5,
    "start_time": "2022-08-26T18:18:23.457Z"
   },
   {
    "duration": 265,
    "start_time": "2022-08-26T18:18:26.254Z"
   },
   {
    "duration": 194,
    "start_time": "2022-08-26T18:18:32.474Z"
   },
   {
    "duration": 248,
    "start_time": "2022-08-26T18:18:35.183Z"
   },
   {
    "duration": 3,
    "start_time": "2022-08-26T18:30:44.586Z"
   },
   {
    "duration": 6,
    "start_time": "2022-08-26T18:30:46.149Z"
   },
   {
    "duration": 4,
    "start_time": "2022-08-26T18:38:45.285Z"
   },
   {
    "duration": 163,
    "start_time": "2022-08-26T18:42:36.989Z"
   },
   {
    "duration": 18,
    "start_time": "2022-08-26T19:22:59.901Z"
   },
   {
    "duration": 3,
    "start_time": "2022-08-26T19:28:37.047Z"
   },
   {
    "duration": 312,
    "start_time": "2022-08-26T19:28:37.052Z"
   },
   {
    "duration": 3,
    "start_time": "2022-08-26T19:28:37.366Z"
   },
   {
    "duration": 25,
    "start_time": "2022-08-26T19:28:37.370Z"
   },
   {
    "duration": 30,
    "start_time": "2022-08-26T19:28:37.397Z"
   },
   {
    "duration": 15,
    "start_time": "2022-08-26T19:28:37.433Z"
   },
   {
    "duration": 18,
    "start_time": "2022-08-26T19:28:37.450Z"
   },
   {
    "duration": 49,
    "start_time": "2022-08-26T19:28:37.469Z"
   },
   {
    "duration": 75,
    "start_time": "2022-08-26T19:28:37.520Z"
   },
   {
    "duration": 3,
    "start_time": "2022-08-26T19:28:37.597Z"
   },
   {
    "duration": 90,
    "start_time": "2022-08-26T19:28:37.602Z"
   },
   {
    "duration": 30,
    "start_time": "2022-08-26T19:28:37.693Z"
   },
   {
    "duration": 23,
    "start_time": "2022-08-26T19:28:37.725Z"
   },
   {
    "duration": 12,
    "start_time": "2022-08-26T19:28:37.750Z"
   },
   {
    "duration": 22,
    "start_time": "2022-08-26T19:28:37.763Z"
   },
   {
    "duration": 26,
    "start_time": "2022-08-26T19:28:37.786Z"
   },
   {
    "duration": 45,
    "start_time": "2022-08-26T19:28:37.814Z"
   },
   {
    "duration": 5,
    "start_time": "2022-08-26T19:28:37.861Z"
   },
   {
    "duration": 55,
    "start_time": "2022-08-26T19:28:37.867Z"
   },
   {
    "duration": 22,
    "start_time": "2022-08-26T19:28:37.924Z"
   },
   {
    "duration": 4,
    "start_time": "2022-08-26T19:28:37.948Z"
   },
   {
    "duration": 228,
    "start_time": "2022-08-26T19:28:37.954Z"
   },
   {
    "duration": 210,
    "start_time": "2022-08-26T19:28:38.184Z"
   },
   {
    "duration": 237,
    "start_time": "2022-08-26T19:28:38.395Z"
   },
   {
    "duration": 3,
    "start_time": "2022-08-26T19:28:38.633Z"
   },
   {
    "duration": 7,
    "start_time": "2022-08-26T19:28:38.638Z"
   },
   {
    "duration": 13,
    "start_time": "2022-08-26T19:28:38.646Z"
   },
   {
    "duration": 12,
    "start_time": "2022-08-26T19:28:38.660Z"
   },
   {
    "duration": 35,
    "start_time": "2022-08-26T19:28:38.675Z"
   },
   {
    "duration": 4,
    "start_time": "2022-08-26T19:28:38.711Z"
   },
   {
    "duration": 3,
    "start_time": "2022-08-26T19:41:02.233Z"
   },
   {
    "duration": 310,
    "start_time": "2022-08-26T19:41:02.238Z"
   },
   {
    "duration": 2,
    "start_time": "2022-08-26T19:41:02.550Z"
   },
   {
    "duration": 18,
    "start_time": "2022-08-26T19:41:02.554Z"
   },
   {
    "duration": 33,
    "start_time": "2022-08-26T19:41:02.574Z"
   },
   {
    "duration": 24,
    "start_time": "2022-08-26T19:41:02.609Z"
   },
   {
    "duration": 18,
    "start_time": "2022-08-26T19:41:02.636Z"
   },
   {
    "duration": 19,
    "start_time": "2022-08-26T19:41:02.655Z"
   },
   {
    "duration": 96,
    "start_time": "2022-08-26T19:41:02.676Z"
   },
   {
    "duration": 4,
    "start_time": "2022-08-26T19:41:02.773Z"
   },
   {
    "duration": 97,
    "start_time": "2022-08-26T19:41:02.780Z"
   },
   {
    "duration": 37,
    "start_time": "2022-08-26T19:41:02.878Z"
   },
   {
    "duration": 19,
    "start_time": "2022-08-26T19:41:02.917Z"
   },
   {
    "duration": 14,
    "start_time": "2022-08-26T19:41:02.938Z"
   },
   {
    "duration": 23,
    "start_time": "2022-08-26T19:41:02.954Z"
   },
   {
    "duration": 9,
    "start_time": "2022-08-26T19:41:02.978Z"
   },
   {
    "duration": 32,
    "start_time": "2022-08-26T19:41:03.006Z"
   },
   {
    "duration": 22,
    "start_time": "2022-08-26T19:41:03.039Z"
   },
   {
    "duration": 54,
    "start_time": "2022-08-26T19:41:03.062Z"
   },
   {
    "duration": 25,
    "start_time": "2022-08-26T19:41:03.117Z"
   },
   {
    "duration": 4,
    "start_time": "2022-08-26T19:41:03.143Z"
   },
   {
    "duration": 237,
    "start_time": "2022-08-26T19:41:03.149Z"
   },
   {
    "duration": 283,
    "start_time": "2022-08-26T19:41:03.388Z"
   },
   {
    "duration": 218,
    "start_time": "2022-08-26T19:41:03.672Z"
   },
   {
    "duration": 4,
    "start_time": "2022-08-26T19:41:03.891Z"
   },
   {
    "duration": 34,
    "start_time": "2022-08-26T19:41:03.896Z"
   },
   {
    "duration": 16,
    "start_time": "2022-08-26T19:41:03.931Z"
   },
   {
    "duration": 13,
    "start_time": "2022-08-26T19:41:03.948Z"
   },
   {
    "duration": 6,
    "start_time": "2022-08-26T19:41:03.963Z"
   },
   {
    "duration": 976,
    "start_time": "2022-08-27T10:32:44.421Z"
   },
   {
    "duration": 287,
    "start_time": "2022-08-27T10:32:45.399Z"
   },
   {
    "duration": 3,
    "start_time": "2022-08-27T10:32:45.687Z"
   },
   {
    "duration": 24,
    "start_time": "2022-08-27T10:32:45.691Z"
   },
   {
    "duration": 23,
    "start_time": "2022-08-27T10:32:45.717Z"
   },
   {
    "duration": 14,
    "start_time": "2022-08-27T10:32:45.741Z"
   },
   {
    "duration": 42,
    "start_time": "2022-08-27T10:32:45.756Z"
   },
   {
    "duration": 19,
    "start_time": "2022-08-27T10:32:45.799Z"
   },
   {
    "duration": 78,
    "start_time": "2022-08-27T10:32:45.820Z"
   },
   {
    "duration": 4,
    "start_time": "2022-08-27T10:32:45.900Z"
   },
   {
    "duration": 103,
    "start_time": "2022-08-27T10:32:45.905Z"
   },
   {
    "duration": 20,
    "start_time": "2022-08-27T10:32:46.010Z"
   },
   {
    "duration": 15,
    "start_time": "2022-08-27T10:32:46.032Z"
   },
   {
    "duration": 14,
    "start_time": "2022-08-27T10:32:46.049Z"
   },
   {
    "duration": 52,
    "start_time": "2022-08-27T10:32:46.065Z"
   },
   {
    "duration": 8,
    "start_time": "2022-08-27T10:32:46.119Z"
   },
   {
    "duration": 19,
    "start_time": "2022-08-27T10:32:46.129Z"
   },
   {
    "duration": 5,
    "start_time": "2022-08-27T10:32:46.150Z"
   },
   {
    "duration": 74,
    "start_time": "2022-08-27T10:32:46.156Z"
   },
   {
    "duration": 20,
    "start_time": "2022-08-27T10:32:46.231Z"
   },
   {
    "duration": 4,
    "start_time": "2022-08-27T10:32:46.253Z"
   },
   {
    "duration": 243,
    "start_time": "2022-08-27T10:32:46.258Z"
   },
   {
    "duration": 190,
    "start_time": "2022-08-27T10:32:46.502Z"
   },
   {
    "duration": 206,
    "start_time": "2022-08-27T10:32:46.693Z"
   },
   {
    "duration": 4,
    "start_time": "2022-08-27T10:32:46.900Z"
   },
   {
    "duration": 6,
    "start_time": "2022-08-27T10:32:46.905Z"
   },
   {
    "duration": 16,
    "start_time": "2022-08-27T10:32:46.912Z"
   },
   {
    "duration": 13,
    "start_time": "2022-08-27T10:32:46.931Z"
   },
   {
    "duration": 4,
    "start_time": "2022-08-27T10:32:46.945Z"
   },
   {
    "duration": 11,
    "start_time": "2022-08-27T10:34:45.514Z"
   },
   {
    "duration": 21,
    "start_time": "2022-08-27T10:35:09.914Z"
   },
   {
    "duration": 1224,
    "start_time": "2022-08-27T13:19:47.796Z"
   },
   {
    "duration": 792,
    "start_time": "2022-08-27T13:19:49.022Z"
   },
   {
    "duration": 3,
    "start_time": "2022-08-27T13:19:49.815Z"
   },
   {
    "duration": 26,
    "start_time": "2022-08-27T13:19:49.820Z"
   },
   {
    "duration": 26,
    "start_time": "2022-08-27T13:19:49.848Z"
   },
   {
    "duration": 26,
    "start_time": "2022-08-27T13:19:49.875Z"
   },
   {
    "duration": 20,
    "start_time": "2022-08-27T13:19:49.902Z"
   },
   {
    "duration": 23,
    "start_time": "2022-08-27T13:19:49.923Z"
   },
   {
    "duration": 109,
    "start_time": "2022-08-27T13:19:49.948Z"
   },
   {
    "duration": 4,
    "start_time": "2022-08-27T13:19:50.058Z"
   },
   {
    "duration": 133,
    "start_time": "2022-08-27T13:19:50.064Z"
   },
   {
    "duration": 23,
    "start_time": "2022-08-27T13:19:50.199Z"
   },
   {
    "duration": 18,
    "start_time": "2022-08-27T13:19:50.224Z"
   },
   {
    "duration": 17,
    "start_time": "2022-08-27T13:19:50.246Z"
   },
   {
    "duration": 108,
    "start_time": "2022-08-27T13:19:50.291Z"
   },
   {
    "duration": 0,
    "start_time": "2022-08-27T13:19:50.402Z"
   },
   {
    "duration": 0,
    "start_time": "2022-08-27T13:19:50.404Z"
   },
   {
    "duration": 0,
    "start_time": "2022-08-27T13:19:50.405Z"
   },
   {
    "duration": 0,
    "start_time": "2022-08-27T13:19:50.407Z"
   },
   {
    "duration": 0,
    "start_time": "2022-08-27T13:19:50.408Z"
   },
   {
    "duration": 0,
    "start_time": "2022-08-27T13:19:50.409Z"
   },
   {
    "duration": 0,
    "start_time": "2022-08-27T13:19:50.410Z"
   },
   {
    "duration": 0,
    "start_time": "2022-08-27T13:19:50.412Z"
   },
   {
    "duration": 0,
    "start_time": "2022-08-27T13:19:50.413Z"
   },
   {
    "duration": 0,
    "start_time": "2022-08-27T13:19:50.414Z"
   },
   {
    "duration": 0,
    "start_time": "2022-08-27T13:19:50.416Z"
   },
   {
    "duration": 0,
    "start_time": "2022-08-27T13:19:50.417Z"
   },
   {
    "duration": 0,
    "start_time": "2022-08-27T13:19:50.418Z"
   },
   {
    "duration": 0,
    "start_time": "2022-08-27T13:19:50.419Z"
   },
   {
    "duration": 37,
    "start_time": "2022-08-27T13:20:11.912Z"
   },
   {
    "duration": 26,
    "start_time": "2022-08-27T13:20:19.910Z"
   },
   {
    "duration": 15,
    "start_time": "2022-08-27T13:20:19.938Z"
   },
   {
    "duration": 35,
    "start_time": "2022-08-27T13:20:19.954Z"
   },
   {
    "duration": 5,
    "start_time": "2022-08-27T13:20:19.991Z"
   },
   {
    "duration": 109,
    "start_time": "2022-08-27T13:20:19.999Z"
   },
   {
    "duration": 23,
    "start_time": "2022-08-27T13:20:20.109Z"
   },
   {
    "duration": 7,
    "start_time": "2022-08-27T13:20:20.134Z"
   },
   {
    "duration": 296,
    "start_time": "2022-08-27T13:20:20.143Z"
   },
   {
    "duration": 242,
    "start_time": "2022-08-27T13:20:20.441Z"
   },
   {
    "duration": 254,
    "start_time": "2022-08-27T13:20:20.684Z"
   },
   {
    "duration": 4,
    "start_time": "2022-08-27T13:20:20.940Z"
   },
   {
    "duration": 19,
    "start_time": "2022-08-27T13:20:20.945Z"
   },
   {
    "duration": 36,
    "start_time": "2022-08-27T13:20:20.966Z"
   },
   {
    "duration": 28,
    "start_time": "2022-08-27T13:20:21.004Z"
   },
   {
    "duration": 5,
    "start_time": "2022-08-27T13:20:21.034Z"
   },
   {
    "duration": 29,
    "start_time": "2022-08-27T13:21:07.932Z"
   },
   {
    "duration": 34,
    "start_time": "2022-08-27T13:21:14.777Z"
   },
   {
    "duration": 9,
    "start_time": "2022-08-27T13:21:14.813Z"
   },
   {
    "duration": 23,
    "start_time": "2022-08-27T13:21:14.824Z"
   },
   {
    "duration": 5,
    "start_time": "2022-08-27T13:21:14.849Z"
   },
   {
    "duration": 88,
    "start_time": "2022-08-27T13:21:14.856Z"
   },
   {
    "duration": 21,
    "start_time": "2022-08-27T13:21:14.946Z"
   },
   {
    "duration": 4,
    "start_time": "2022-08-27T13:21:14.969Z"
   },
   {
    "duration": 273,
    "start_time": "2022-08-27T13:21:14.975Z"
   },
   {
    "duration": 262,
    "start_time": "2022-08-27T13:21:15.250Z"
   },
   {
    "duration": 341,
    "start_time": "2022-08-27T13:21:15.513Z"
   },
   {
    "duration": 3,
    "start_time": "2022-08-27T13:21:15.856Z"
   },
   {
    "duration": 7,
    "start_time": "2022-08-27T13:21:15.861Z"
   },
   {
    "duration": 31,
    "start_time": "2022-08-27T13:21:15.870Z"
   },
   {
    "duration": 20,
    "start_time": "2022-08-27T13:21:15.905Z"
   },
   {
    "duration": 5,
    "start_time": "2022-08-27T13:21:15.926Z"
   },
   {
    "duration": 11,
    "start_time": "2022-08-27T14:19:27.479Z"
   },
   {
    "duration": 4,
    "start_time": "2022-08-27T14:20:54.601Z"
   },
   {
    "duration": 334,
    "start_time": "2022-08-27T14:20:54.608Z"
   },
   {
    "duration": 3,
    "start_time": "2022-08-27T14:20:54.944Z"
   },
   {
    "duration": 24,
    "start_time": "2022-08-27T14:20:54.949Z"
   },
   {
    "duration": 38,
    "start_time": "2022-08-27T14:20:54.976Z"
   },
   {
    "duration": 19,
    "start_time": "2022-08-27T14:20:55.015Z"
   },
   {
    "duration": 23,
    "start_time": "2022-08-27T14:20:55.036Z"
   },
   {
    "duration": 79,
    "start_time": "2022-08-27T14:20:55.061Z"
   },
   {
    "duration": 90,
    "start_time": "2022-08-27T14:20:55.142Z"
   },
   {
    "duration": 5,
    "start_time": "2022-08-27T14:20:55.234Z"
   },
   {
    "duration": 125,
    "start_time": "2022-08-27T14:20:55.242Z"
   },
   {
    "duration": 31,
    "start_time": "2022-08-27T14:20:55.369Z"
   },
   {
    "duration": 18,
    "start_time": "2022-08-27T14:20:55.402Z"
   },
   {
    "duration": 16,
    "start_time": "2022-08-27T14:20:55.422Z"
   },
   {
    "duration": 63,
    "start_time": "2022-08-27T14:20:55.440Z"
   },
   {
    "duration": 12,
    "start_time": "2022-08-27T14:20:55.505Z"
   },
   {
    "duration": 29,
    "start_time": "2022-08-27T14:20:55.519Z"
   },
   {
    "duration": 7,
    "start_time": "2022-08-27T14:20:55.550Z"
   },
   {
    "duration": 75,
    "start_time": "2022-08-27T14:20:55.559Z"
   },
   {
    "duration": 25,
    "start_time": "2022-08-27T14:20:55.637Z"
   },
   {
    "duration": 28,
    "start_time": "2022-08-27T14:20:55.664Z"
   },
   {
    "duration": 264,
    "start_time": "2022-08-27T14:20:55.694Z"
   },
   {
    "duration": 233,
    "start_time": "2022-08-27T14:20:55.960Z"
   },
   {
    "duration": 245,
    "start_time": "2022-08-27T14:20:56.196Z"
   },
   {
    "duration": 5,
    "start_time": "2022-08-27T14:20:56.443Z"
   },
   {
    "duration": 7,
    "start_time": "2022-08-27T14:20:56.450Z"
   },
   {
    "duration": 36,
    "start_time": "2022-08-27T14:20:56.459Z"
   },
   {
    "duration": 27,
    "start_time": "2022-08-27T14:20:56.497Z"
   },
   {
    "duration": 5,
    "start_time": "2022-08-27T14:20:56.527Z"
   },
   {
    "duration": 12,
    "start_time": "2022-08-27T14:21:22.244Z"
   },
   {
    "duration": 1272,
    "start_time": "2022-08-27T14:21:34.100Z"
   },
   {
    "duration": 3,
    "start_time": "2022-08-27T14:21:50.646Z"
   },
   {
    "duration": 326,
    "start_time": "2022-08-27T14:21:50.651Z"
   },
   {
    "duration": 3,
    "start_time": "2022-08-27T14:21:50.979Z"
   },
   {
    "duration": 18,
    "start_time": "2022-08-27T14:21:50.991Z"
   },
   {
    "duration": 27,
    "start_time": "2022-08-27T14:21:51.011Z"
   },
   {
    "duration": 26,
    "start_time": "2022-08-27T14:21:51.039Z"
   },
   {
    "duration": 40,
    "start_time": "2022-08-27T14:21:51.066Z"
   },
   {
    "duration": 25,
    "start_time": "2022-08-27T14:21:51.108Z"
   },
   {
    "duration": 101,
    "start_time": "2022-08-27T14:21:51.135Z"
   },
   {
    "duration": 5,
    "start_time": "2022-08-27T14:21:51.238Z"
   },
   {
    "duration": 108,
    "start_time": "2022-08-27T14:21:51.244Z"
   },
   {
    "duration": 16,
    "start_time": "2022-08-27T14:21:51.354Z"
   },
   {
    "duration": 34,
    "start_time": "2022-08-27T14:21:51.371Z"
   },
   {
    "duration": 15,
    "start_time": "2022-08-27T14:21:51.407Z"
   },
   {
    "duration": 26,
    "start_time": "2022-08-27T14:21:51.423Z"
   },
   {
    "duration": 10,
    "start_time": "2022-08-27T14:21:51.451Z"
   },
   {
    "duration": 24,
    "start_time": "2022-08-27T14:21:51.492Z"
   },
   {
    "duration": 6,
    "start_time": "2022-08-27T14:21:51.518Z"
   },
   {
    "duration": 1230,
    "start_time": "2022-08-27T14:21:51.525Z"
   },
   {
    "duration": 0,
    "start_time": "2022-08-27T14:21:52.757Z"
   },
   {
    "duration": 0,
    "start_time": "2022-08-27T14:21:52.759Z"
   },
   {
    "duration": 0,
    "start_time": "2022-08-27T14:21:52.761Z"
   },
   {
    "duration": 0,
    "start_time": "2022-08-27T14:21:52.762Z"
   },
   {
    "duration": 0,
    "start_time": "2022-08-27T14:21:52.763Z"
   },
   {
    "duration": 0,
    "start_time": "2022-08-27T14:21:52.765Z"
   },
   {
    "duration": 0,
    "start_time": "2022-08-27T14:21:52.767Z"
   },
   {
    "duration": 0,
    "start_time": "2022-08-27T14:21:52.768Z"
   },
   {
    "duration": 0,
    "start_time": "2022-08-27T14:21:52.769Z"
   },
   {
    "duration": 0,
    "start_time": "2022-08-27T14:21:52.771Z"
   },
   {
    "duration": 27,
    "start_time": "2022-08-27T14:23:00.956Z"
   },
   {
    "duration": 6,
    "start_time": "2022-08-27T14:23:00.985Z"
   },
   {
    "duration": 60,
    "start_time": "2022-08-27T14:23:00.993Z"
   },
   {
    "duration": 22,
    "start_time": "2022-08-27T14:23:01.055Z"
   },
   {
    "duration": 15,
    "start_time": "2022-08-27T14:23:01.079Z"
   },
   {
    "duration": 256,
    "start_time": "2022-08-27T14:23:01.096Z"
   },
   {
    "duration": 238,
    "start_time": "2022-08-27T14:23:01.353Z"
   },
   {
    "duration": 1469,
    "start_time": "2022-08-27T14:23:01.594Z"
   },
   {
    "duration": 0,
    "start_time": "2022-08-27T14:23:03.065Z"
   },
   {
    "duration": 0,
    "start_time": "2022-08-27T14:23:03.066Z"
   },
   {
    "duration": 0,
    "start_time": "2022-08-27T14:23:03.068Z"
   },
   {
    "duration": 0,
    "start_time": "2022-08-27T14:23:03.069Z"
   },
   {
    "duration": 0,
    "start_time": "2022-08-27T14:23:03.071Z"
   },
   {
    "duration": 306,
    "start_time": "2022-08-27T14:23:18.169Z"
   },
   {
    "duration": 228,
    "start_time": "2022-08-27T14:23:22.414Z"
   },
   {
    "duration": 4,
    "start_time": "2022-08-27T14:23:22.644Z"
   },
   {
    "duration": 9,
    "start_time": "2022-08-27T14:23:22.650Z"
   },
   {
    "duration": 36,
    "start_time": "2022-08-27T14:23:22.661Z"
   },
   {
    "duration": 23,
    "start_time": "2022-08-27T14:23:22.699Z"
   },
   {
    "duration": 11,
    "start_time": "2022-08-27T14:23:22.723Z"
   },
   {
    "duration": 4,
    "start_time": "2022-08-27T14:25:17.944Z"
   },
   {
    "duration": 308,
    "start_time": "2022-08-27T14:25:17.950Z"
   },
   {
    "duration": 3,
    "start_time": "2022-08-27T14:25:18.260Z"
   },
   {
    "duration": 26,
    "start_time": "2022-08-27T14:25:18.264Z"
   },
   {
    "duration": 28,
    "start_time": "2022-08-27T14:25:18.292Z"
   },
   {
    "duration": 18,
    "start_time": "2022-08-27T14:25:18.321Z"
   },
   {
    "duration": 23,
    "start_time": "2022-08-27T14:25:18.341Z"
   },
   {
    "duration": 58,
    "start_time": "2022-08-27T14:25:18.365Z"
   },
   {
    "duration": 98,
    "start_time": "2022-08-27T14:25:18.425Z"
   },
   {
    "duration": 4,
    "start_time": "2022-08-27T14:25:18.525Z"
   },
   {
    "duration": 114,
    "start_time": "2022-08-27T14:25:18.531Z"
   },
   {
    "duration": 16,
    "start_time": "2022-08-27T14:25:18.647Z"
   },
   {
    "duration": 34,
    "start_time": "2022-08-27T14:25:18.664Z"
   },
   {
    "duration": 15,
    "start_time": "2022-08-27T14:25:18.700Z"
   },
   {
    "duration": 26,
    "start_time": "2022-08-27T14:25:18.716Z"
   },
   {
    "duration": 11,
    "start_time": "2022-08-27T14:25:18.743Z"
   },
   {
    "duration": 54,
    "start_time": "2022-08-27T14:25:18.755Z"
   },
   {
    "duration": 6,
    "start_time": "2022-08-27T14:25:18.811Z"
   },
   {
    "duration": 50,
    "start_time": "2022-08-27T14:25:18.819Z"
   },
   {
    "duration": 39,
    "start_time": "2022-08-27T14:25:18.871Z"
   },
   {
    "duration": 4,
    "start_time": "2022-08-27T14:25:18.912Z"
   },
   {
    "duration": 235,
    "start_time": "2022-08-27T14:25:18.918Z"
   },
   {
    "duration": 224,
    "start_time": "2022-08-27T14:25:19.155Z"
   },
   {
    "duration": 252,
    "start_time": "2022-08-27T14:25:19.381Z"
   },
   {
    "duration": 4,
    "start_time": "2022-08-27T14:25:19.635Z"
   },
   {
    "duration": 13,
    "start_time": "2022-08-27T14:25:19.641Z"
   },
   {
    "duration": 17,
    "start_time": "2022-08-27T14:25:19.656Z"
   },
   {
    "duration": 30,
    "start_time": "2022-08-27T14:25:19.675Z"
   },
   {
    "duration": 5,
    "start_time": "2022-08-27T14:25:19.708Z"
   },
   {
    "duration": 5,
    "start_time": "2022-08-27T14:26:27.749Z"
   },
   {
    "duration": 6,
    "start_time": "2022-08-27T14:26:32.191Z"
   },
   {
    "duration": 63,
    "start_time": "2022-08-27T14:26:32.200Z"
   },
   {
    "duration": 41,
    "start_time": "2022-08-27T14:26:32.264Z"
   },
   {
    "duration": 5,
    "start_time": "2022-08-27T14:26:32.308Z"
   },
   {
    "duration": 246,
    "start_time": "2022-08-27T14:26:32.315Z"
   },
   {
    "duration": 238,
    "start_time": "2022-08-27T14:26:32.562Z"
   },
   {
    "duration": 336,
    "start_time": "2022-08-27T14:26:32.801Z"
   },
   {
    "duration": 4,
    "start_time": "2022-08-27T14:26:33.139Z"
   },
   {
    "duration": 17,
    "start_time": "2022-08-27T14:26:33.145Z"
   },
   {
    "duration": 21,
    "start_time": "2022-08-27T14:26:33.164Z"
   },
   {
    "duration": 17,
    "start_time": "2022-08-27T14:26:33.192Z"
   },
   {
    "duration": 5,
    "start_time": "2022-08-27T14:26:33.211Z"
   },
   {
    "duration": 243,
    "start_time": "2022-08-27T14:28:55.169Z"
   },
   {
    "duration": 6,
    "start_time": "2022-08-27T14:29:19.119Z"
   },
   {
    "duration": 238,
    "start_time": "2022-08-27T14:29:24.032Z"
   },
   {
    "duration": 253,
    "start_time": "2022-08-27T14:29:27.968Z"
   },
   {
    "duration": 258,
    "start_time": "2022-08-27T14:29:32.095Z"
   },
   {
    "duration": 1269,
    "start_time": "2022-08-27T17:13:56.492Z"
   },
   {
    "duration": 922,
    "start_time": "2022-08-27T17:13:57.763Z"
   },
   {
    "duration": 3,
    "start_time": "2022-08-27T17:13:58.687Z"
   },
   {
    "duration": 26,
    "start_time": "2022-08-27T17:13:58.692Z"
   },
   {
    "duration": 24,
    "start_time": "2022-08-27T17:13:58.720Z"
   },
   {
    "duration": 14,
    "start_time": "2022-08-27T17:13:58.746Z"
   },
   {
    "duration": 18,
    "start_time": "2022-08-27T17:13:58.787Z"
   },
   {
    "duration": 23,
    "start_time": "2022-08-27T17:13:58.806Z"
   },
   {
    "duration": 99,
    "start_time": "2022-08-27T17:13:58.830Z"
   },
   {
    "duration": 4,
    "start_time": "2022-08-27T17:13:58.931Z"
   },
   {
    "duration": 113,
    "start_time": "2022-08-27T17:13:58.937Z"
   },
   {
    "duration": 20,
    "start_time": "2022-08-27T17:13:59.052Z"
   },
   {
    "duration": 17,
    "start_time": "2022-08-27T17:13:59.087Z"
   },
   {
    "duration": 14,
    "start_time": "2022-08-27T17:13:59.106Z"
   },
   {
    "duration": 24,
    "start_time": "2022-08-27T17:13:59.122Z"
   },
   {
    "duration": 41,
    "start_time": "2022-08-27T17:13:59.147Z"
   },
   {
    "duration": 20,
    "start_time": "2022-08-27T17:13:59.190Z"
   },
   {
    "duration": 5,
    "start_time": "2022-08-27T17:13:59.212Z"
   },
   {
    "duration": 47,
    "start_time": "2022-08-27T17:13:59.218Z"
   },
   {
    "duration": 38,
    "start_time": "2022-08-27T17:13:59.267Z"
   },
   {
    "duration": 4,
    "start_time": "2022-08-27T17:13:59.306Z"
   },
   {
    "duration": 276,
    "start_time": "2022-08-27T17:13:59.312Z"
   },
   {
    "duration": 227,
    "start_time": "2022-08-27T17:13:59.590Z"
   },
   {
    "duration": 228,
    "start_time": "2022-08-27T17:13:59.819Z"
   },
   {
    "duration": 3,
    "start_time": "2022-08-27T17:14:00.049Z"
   },
   {
    "duration": 20,
    "start_time": "2022-08-27T17:14:00.053Z"
   },
   {
    "duration": 19,
    "start_time": "2022-08-27T17:14:00.075Z"
   },
   {
    "duration": 33,
    "start_time": "2022-08-27T17:14:00.097Z"
   },
   {
    "duration": 18,
    "start_time": "2022-08-27T17:14:00.131Z"
   },
   {
    "duration": 21,
    "start_time": "2022-08-27T17:14:00.150Z"
   },
   {
    "duration": 91,
    "start_time": "2022-08-27T17:15:50.183Z"
   },
   {
    "duration": 21,
    "start_time": "2022-08-27T17:16:02.300Z"
   },
   {
    "duration": 172,
    "start_time": "2022-08-27T17:18:52.017Z"
   },
   {
    "duration": 56,
    "start_time": "2022-08-27T17:22:03.098Z"
   },
   {
    "duration": 5,
    "start_time": "2022-08-27T17:23:21.750Z"
   },
   {
    "duration": 5,
    "start_time": "2022-08-27T17:25:02.525Z"
   },
   {
    "duration": 369,
    "start_time": "2022-08-27T17:25:06.297Z"
   },
   {
    "duration": 5,
    "start_time": "2022-08-27T17:28:50.802Z"
   },
   {
    "duration": 5,
    "start_time": "2022-08-27T17:29:17.476Z"
   },
   {
    "duration": 215,
    "start_time": "2022-08-27T17:29:19.709Z"
   },
   {
    "duration": 5,
    "start_time": "2022-08-27T17:29:54.199Z"
   },
   {
    "duration": 244,
    "start_time": "2022-08-27T17:29:55.755Z"
   },
   {
    "duration": 11,
    "start_time": "2022-08-27T17:30:16.951Z"
   },
   {
    "duration": 120,
    "start_time": "2022-08-27T17:30:37.783Z"
   },
   {
    "duration": 89,
    "start_time": "2022-08-27T17:31:02.106Z"
   },
   {
    "duration": 87,
    "start_time": "2022-08-27T17:31:23.372Z"
   },
   {
    "duration": 231,
    "start_time": "2022-08-27T17:31:56.139Z"
   },
   {
    "duration": 107,
    "start_time": "2022-08-27T17:32:11.670Z"
   },
   {
    "duration": 283,
    "start_time": "2022-08-27T17:32:30.828Z"
   },
   {
    "duration": 174,
    "start_time": "2022-08-27T17:42:08.212Z"
   },
   {
    "duration": 59,
    "start_time": "2022-08-27T17:47:29.463Z"
   },
   {
    "duration": 186,
    "start_time": "2022-08-27T17:47:37.781Z"
   },
   {
    "duration": 173,
    "start_time": "2022-08-27T17:47:53.072Z"
   },
   {
    "duration": 197,
    "start_time": "2022-08-27T17:58:10.384Z"
   },
   {
    "duration": 184,
    "start_time": "2022-08-27T17:59:18.199Z"
   },
   {
    "duration": 261,
    "start_time": "2022-08-27T18:00:47.503Z"
   },
   {
    "duration": 167,
    "start_time": "2022-08-27T18:03:44.232Z"
   },
   {
    "duration": 6,
    "start_time": "2022-08-27T18:04:00.863Z"
   },
   {
    "duration": 5,
    "start_time": "2022-08-27T18:04:05.102Z"
   },
   {
    "duration": 5,
    "start_time": "2022-08-27T18:04:06.642Z"
   },
   {
    "duration": 5,
    "start_time": "2022-08-27T18:04:08.025Z"
   },
   {
    "duration": 4,
    "start_time": "2022-08-27T18:04:09.331Z"
   },
   {
    "duration": 5,
    "start_time": "2022-08-27T18:04:11.717Z"
   },
   {
    "duration": 4,
    "start_time": "2022-08-27T18:04:14.279Z"
   },
   {
    "duration": 269,
    "start_time": "2022-08-27T18:09:44.821Z"
   },
   {
    "duration": 383,
    "start_time": "2022-08-27T18:10:12.261Z"
   },
   {
    "duration": 330,
    "start_time": "2022-08-27T18:10:30.840Z"
   },
   {
    "duration": 297,
    "start_time": "2022-08-27T18:11:08.156Z"
   },
   {
    "duration": 331,
    "start_time": "2022-08-27T18:12:29.874Z"
   },
   {
    "duration": 300,
    "start_time": "2022-08-27T18:13:15.267Z"
   },
   {
    "duration": 65,
    "start_time": "2022-08-27T18:14:42.349Z"
   },
   {
    "duration": 453,
    "start_time": "2022-08-27T18:14:53.810Z"
   },
   {
    "duration": 364,
    "start_time": "2022-08-27T18:15:14.972Z"
   },
   {
    "duration": 68,
    "start_time": "2022-08-27T18:16:36.151Z"
   },
   {
    "duration": 382,
    "start_time": "2022-08-27T18:16:45.918Z"
   },
   {
    "duration": 350,
    "start_time": "2022-08-27T18:17:38.246Z"
   },
   {
    "duration": 5,
    "start_time": "2022-08-27T18:19:28.068Z"
   },
   {
    "duration": 374,
    "start_time": "2022-08-27T18:19:47.401Z"
   },
   {
    "duration": 6,
    "start_time": "2022-08-27T18:22:37.637Z"
   },
   {
    "duration": 342,
    "start_time": "2022-08-27T18:22:39.904Z"
   },
   {
    "duration": 131,
    "start_time": "2022-08-27T18:24:06.728Z"
   },
   {
    "duration": 199,
    "start_time": "2022-08-27T18:24:09.524Z"
   },
   {
    "duration": 5,
    "start_time": "2022-08-27T18:24:36.931Z"
   },
   {
    "duration": 326,
    "start_time": "2022-08-27T18:24:39.331Z"
   },
   {
    "duration": 5,
    "start_time": "2022-08-27T18:26:53.411Z"
   },
   {
    "duration": 386,
    "start_time": "2022-08-27T18:26:56.026Z"
   },
   {
    "duration": 6,
    "start_time": "2022-08-27T18:28:38.557Z"
   },
   {
    "duration": 337,
    "start_time": "2022-08-27T18:28:41.504Z"
   },
   {
    "duration": 5,
    "start_time": "2022-08-27T18:30:05.056Z"
   },
   {
    "duration": 400,
    "start_time": "2022-08-27T18:30:07.341Z"
   },
   {
    "duration": 15,
    "start_time": "2022-08-27T18:32:40.100Z"
   },
   {
    "duration": 358,
    "start_time": "2022-08-27T18:32:43.024Z"
   },
   {
    "duration": 5,
    "start_time": "2022-08-27T18:35:36.938Z"
   },
   {
    "duration": 497,
    "start_time": "2022-08-27T18:35:42.914Z"
   },
   {
    "duration": 5,
    "start_time": "2022-08-27T18:36:15.539Z"
   },
   {
    "duration": 352,
    "start_time": "2022-08-27T18:36:18.873Z"
   },
   {
    "duration": 5,
    "start_time": "2022-08-27T18:36:39.523Z"
   },
   {
    "duration": 357,
    "start_time": "2022-08-27T18:36:41.874Z"
   },
   {
    "duration": 6,
    "start_time": "2022-08-27T18:37:30.252Z"
   },
   {
    "duration": 339,
    "start_time": "2022-08-27T18:37:32.284Z"
   },
   {
    "duration": 6,
    "start_time": "2022-08-27T18:39:36.540Z"
   },
   {
    "duration": 371,
    "start_time": "2022-08-27T18:39:38.840Z"
   },
   {
    "duration": 6,
    "start_time": "2022-08-27T18:40:14.223Z"
   },
   {
    "duration": 425,
    "start_time": "2022-08-27T18:40:16.225Z"
   },
   {
    "duration": 5,
    "start_time": "2022-08-27T18:42:20.866Z"
   },
   {
    "duration": 507,
    "start_time": "2022-08-27T18:42:23.166Z"
   },
   {
    "duration": 312,
    "start_time": "2022-08-27T18:42:27.021Z"
   },
   {
    "duration": 403,
    "start_time": "2022-08-27T18:42:35.942Z"
   },
   {
    "duration": 315,
    "start_time": "2022-08-27T19:29:00.379Z"
   },
   {
    "duration": 4,
    "start_time": "2022-08-27T19:29:32.866Z"
   },
   {
    "duration": 337,
    "start_time": "2022-08-27T19:29:32.872Z"
   },
   {
    "duration": 2,
    "start_time": "2022-08-27T19:29:33.211Z"
   },
   {
    "duration": 25,
    "start_time": "2022-08-27T19:29:33.215Z"
   },
   {
    "duration": 29,
    "start_time": "2022-08-27T19:29:33.242Z"
   },
   {
    "duration": 31,
    "start_time": "2022-08-27T19:29:33.273Z"
   },
   {
    "duration": 30,
    "start_time": "2022-08-27T19:29:33.306Z"
   },
   {
    "duration": 21,
    "start_time": "2022-08-27T19:29:33.337Z"
   },
   {
    "duration": 112,
    "start_time": "2022-08-27T19:29:33.360Z"
   },
   {
    "duration": 13,
    "start_time": "2022-08-27T19:29:33.474Z"
   },
   {
    "duration": 123,
    "start_time": "2022-08-27T19:29:33.491Z"
   },
   {
    "duration": 14,
    "start_time": "2022-08-27T19:29:33.615Z"
   },
   {
    "duration": 14,
    "start_time": "2022-08-27T19:29:33.631Z"
   },
   {
    "duration": 12,
    "start_time": "2022-08-27T19:29:33.647Z"
   },
   {
    "duration": 55,
    "start_time": "2022-08-27T19:29:33.661Z"
   },
   {
    "duration": 8,
    "start_time": "2022-08-27T19:29:33.718Z"
   },
   {
    "duration": 23,
    "start_time": "2022-08-27T19:29:33.728Z"
   },
   {
    "duration": 5,
    "start_time": "2022-08-27T19:29:33.752Z"
   },
   {
    "duration": 78,
    "start_time": "2022-08-27T19:29:33.759Z"
   },
   {
    "duration": 22,
    "start_time": "2022-08-27T19:29:33.839Z"
   },
   {
    "duration": 5,
    "start_time": "2022-08-27T19:29:33.863Z"
   },
   {
    "duration": 351,
    "start_time": "2022-08-27T19:29:33.888Z"
   },
   {
    "duration": 321,
    "start_time": "2022-08-27T19:29:34.240Z"
   },
   {
    "duration": 514,
    "start_time": "2022-08-27T19:29:34.563Z"
   },
   {
    "duration": 12,
    "start_time": "2022-08-27T19:29:35.078Z"
   },
   {
    "duration": 18,
    "start_time": "2022-08-27T19:29:35.095Z"
   },
   {
    "duration": 18,
    "start_time": "2022-08-27T19:29:35.115Z"
   },
   {
    "duration": 14,
    "start_time": "2022-08-27T19:29:35.135Z"
   },
   {
    "duration": 9,
    "start_time": "2022-08-27T19:29:35.153Z"
   },
   {
    "duration": 4,
    "start_time": "2022-08-27T20:05:13.781Z"
   },
   {
    "duration": 454,
    "start_time": "2022-08-27T20:05:13.789Z"
   },
   {
    "duration": 3,
    "start_time": "2022-08-27T20:05:14.245Z"
   },
   {
    "duration": 43,
    "start_time": "2022-08-27T20:05:14.251Z"
   },
   {
    "duration": 35,
    "start_time": "2022-08-27T20:05:14.297Z"
   },
   {
    "duration": 23,
    "start_time": "2022-08-27T20:05:14.334Z"
   },
   {
    "duration": 52,
    "start_time": "2022-08-27T20:05:14.359Z"
   },
   {
    "duration": 31,
    "start_time": "2022-08-27T20:05:14.413Z"
   },
   {
    "duration": 123,
    "start_time": "2022-08-27T20:05:14.446Z"
   },
   {
    "duration": 8,
    "start_time": "2022-08-27T20:05:14.573Z"
   },
   {
    "duration": 175,
    "start_time": "2022-08-27T20:05:14.583Z"
   },
   {
    "duration": 31,
    "start_time": "2022-08-27T20:05:14.761Z"
   },
   {
    "duration": 27,
    "start_time": "2022-08-27T20:05:14.795Z"
   },
   {
    "duration": 18,
    "start_time": "2022-08-27T20:05:14.824Z"
   },
   {
    "duration": 56,
    "start_time": "2022-08-27T20:05:14.844Z"
   },
   {
    "duration": 18,
    "start_time": "2022-08-27T20:05:14.902Z"
   },
   {
    "duration": 39,
    "start_time": "2022-08-27T20:05:14.923Z"
   },
   {
    "duration": 26,
    "start_time": "2022-08-27T20:05:14.963Z"
   },
   {
    "duration": 78,
    "start_time": "2022-08-27T20:05:14.995Z"
   },
   {
    "duration": 26,
    "start_time": "2022-08-27T20:05:15.075Z"
   },
   {
    "duration": 17,
    "start_time": "2022-08-27T20:05:15.106Z"
   },
   {
    "duration": 374,
    "start_time": "2022-08-27T20:05:15.124Z"
   },
   {
    "duration": 336,
    "start_time": "2022-08-27T20:05:15.499Z"
   },
   {
    "duration": 424,
    "start_time": "2022-08-27T20:05:15.837Z"
   },
   {
    "duration": 8,
    "start_time": "2022-08-27T20:05:16.262Z"
   },
   {
    "duration": 47,
    "start_time": "2022-08-27T20:05:16.273Z"
   },
   {
    "duration": 31,
    "start_time": "2022-08-27T20:05:16.322Z"
   },
   {
    "duration": 27,
    "start_time": "2022-08-27T20:05:16.357Z"
   },
   {
    "duration": 42,
    "start_time": "2022-08-27T20:05:16.386Z"
   },
   {
    "duration": 4,
    "start_time": "2022-08-27T20:14:53.365Z"
   },
   {
    "duration": 5,
    "start_time": "2022-08-27T20:24:54.002Z"
   },
   {
    "duration": 6,
    "start_time": "2022-08-27T20:25:35.765Z"
   },
   {
    "duration": 6,
    "start_time": "2022-08-27T20:25:52.067Z"
   },
   {
    "duration": 8,
    "start_time": "2022-08-27T20:34:43.447Z"
   },
   {
    "duration": 4,
    "start_time": "2022-08-27T20:34:51.026Z"
   },
   {
    "duration": 5,
    "start_time": "2022-08-27T20:34:55.162Z"
   },
   {
    "duration": 5,
    "start_time": "2022-08-27T20:35:25.979Z"
   },
   {
    "duration": 4,
    "start_time": "2022-08-27T20:39:58.619Z"
   },
   {
    "duration": 7,
    "start_time": "2022-08-27T20:40:10.399Z"
   },
   {
    "duration": 5,
    "start_time": "2022-08-27T20:40:36.470Z"
   },
   {
    "duration": 3,
    "start_time": "2022-08-27T20:41:22.359Z"
   },
   {
    "duration": 327,
    "start_time": "2022-08-27T20:41:22.364Z"
   },
   {
    "duration": 3,
    "start_time": "2022-08-27T20:41:22.693Z"
   },
   {
    "duration": 21,
    "start_time": "2022-08-27T20:41:22.699Z"
   },
   {
    "duration": 27,
    "start_time": "2022-08-27T20:41:22.721Z"
   },
   {
    "duration": 38,
    "start_time": "2022-08-27T20:41:22.750Z"
   },
   {
    "duration": 20,
    "start_time": "2022-08-27T20:41:22.790Z"
   },
   {
    "duration": 22,
    "start_time": "2022-08-27T20:41:22.811Z"
   },
   {
    "duration": 102,
    "start_time": "2022-08-27T20:41:22.835Z"
   },
   {
    "duration": 4,
    "start_time": "2022-08-27T20:41:22.940Z"
   },
   {
    "duration": 105,
    "start_time": "2022-08-27T20:41:22.945Z"
   },
   {
    "duration": 15,
    "start_time": "2022-08-27T20:41:23.051Z"
   },
   {
    "duration": 29,
    "start_time": "2022-08-27T20:41:23.067Z"
   },
   {
    "duration": 14,
    "start_time": "2022-08-27T20:41:23.098Z"
   },
   {
    "duration": 25,
    "start_time": "2022-08-27T20:41:23.114Z"
   },
   {
    "duration": 9,
    "start_time": "2022-08-27T20:41:23.141Z"
   },
   {
    "duration": 53,
    "start_time": "2022-08-27T20:41:23.152Z"
   },
   {
    "duration": 5,
    "start_time": "2022-08-27T20:41:23.206Z"
   },
   {
    "duration": 45,
    "start_time": "2022-08-27T20:41:23.212Z"
   },
   {
    "duration": 33,
    "start_time": "2022-08-27T20:41:23.259Z"
   },
   {
    "duration": 5,
    "start_time": "2022-08-27T20:41:23.294Z"
   },
   {
    "duration": 318,
    "start_time": "2022-08-27T20:41:23.301Z"
   },
   {
    "duration": 291,
    "start_time": "2022-08-27T20:41:23.620Z"
   },
   {
    "duration": 460,
    "start_time": "2022-08-27T20:41:23.913Z"
   },
   {
    "duration": 5,
    "start_time": "2022-08-27T20:41:24.374Z"
   },
   {
    "duration": 3,
    "start_time": "2022-08-27T20:41:24.387Z"
   },
   {
    "duration": 7,
    "start_time": "2022-08-27T20:41:24.392Z"
   },
   {
    "duration": 14,
    "start_time": "2022-08-27T20:41:24.401Z"
   },
   {
    "duration": 17,
    "start_time": "2022-08-27T20:41:24.416Z"
   },
   {
    "duration": 6,
    "start_time": "2022-08-27T20:41:24.434Z"
   },
   {
    "duration": 6,
    "start_time": "2022-08-27T20:41:24.441Z"
   },
   {
    "duration": 1059,
    "start_time": "2022-08-28T11:39:10.036Z"
   },
   {
    "duration": 275,
    "start_time": "2022-08-28T11:39:11.097Z"
   },
   {
    "duration": 3,
    "start_time": "2022-08-28T11:39:11.374Z"
   },
   {
    "duration": 29,
    "start_time": "2022-08-28T11:39:11.379Z"
   },
   {
    "duration": 23,
    "start_time": "2022-08-28T11:39:11.410Z"
   },
   {
    "duration": 16,
    "start_time": "2022-08-28T11:39:11.435Z"
   },
   {
    "duration": 17,
    "start_time": "2022-08-28T11:39:11.453Z"
   },
   {
    "duration": 51,
    "start_time": "2022-08-28T11:39:11.471Z"
   },
   {
    "duration": 82,
    "start_time": "2022-08-28T11:39:11.524Z"
   },
   {
    "duration": 4,
    "start_time": "2022-08-28T11:39:11.607Z"
   },
   {
    "duration": 107,
    "start_time": "2022-08-28T11:39:11.613Z"
   },
   {
    "duration": 19,
    "start_time": "2022-08-28T11:39:11.722Z"
   },
   {
    "duration": 15,
    "start_time": "2022-08-28T11:39:11.743Z"
   },
   {
    "duration": 13,
    "start_time": "2022-08-28T11:39:11.760Z"
   },
   {
    "duration": 44,
    "start_time": "2022-08-28T11:39:11.775Z"
   },
   {
    "duration": 9,
    "start_time": "2022-08-28T11:39:11.821Z"
   },
   {
    "duration": 20,
    "start_time": "2022-08-28T11:39:11.831Z"
   },
   {
    "duration": 4,
    "start_time": "2022-08-28T11:39:11.853Z"
   },
   {
    "duration": 66,
    "start_time": "2022-08-28T11:39:11.858Z"
   },
   {
    "duration": 19,
    "start_time": "2022-08-28T11:39:11.926Z"
   },
   {
    "duration": 5,
    "start_time": "2022-08-28T11:39:11.946Z"
   },
   {
    "duration": 344,
    "start_time": "2022-08-28T11:39:11.952Z"
   },
   {
    "duration": 289,
    "start_time": "2022-08-28T11:39:12.297Z"
   },
   {
    "duration": 330,
    "start_time": "2022-08-28T11:39:12.587Z"
   },
   {
    "duration": 6,
    "start_time": "2022-08-28T11:39:12.918Z"
   },
   {
    "duration": 4,
    "start_time": "2022-08-28T11:39:12.926Z"
   },
   {
    "duration": 21,
    "start_time": "2022-08-28T11:39:12.931Z"
   },
   {
    "duration": 19,
    "start_time": "2022-08-28T11:39:12.953Z"
   },
   {
    "duration": 14,
    "start_time": "2022-08-28T11:39:12.973Z"
   },
   {
    "duration": 20,
    "start_time": "2022-08-28T11:39:12.988Z"
   },
   {
    "duration": 9,
    "start_time": "2022-08-28T11:39:13.009Z"
   },
   {
    "duration": 13,
    "start_time": "2022-08-28T11:41:47.518Z"
   },
   {
    "duration": 13,
    "start_time": "2022-08-28T11:51:38.489Z"
   }
  ],
  "kernelspec": {
   "display_name": "Python 3 (ipykernel)",
   "language": "python",
   "name": "python3"
  },
  "language_info": {
   "codemirror_mode": {
    "name": "ipython",
    "version": 3
   },
   "file_extension": ".py",
   "mimetype": "text/x-python",
   "name": "python",
   "nbconvert_exporter": "python",
   "pygments_lexer": "ipython3",
   "version": "3.9.7"
  },
  "toc": {
   "base_numbering": 1,
   "nav_menu": {},
   "number_sections": true,
   "sideBar": true,
   "skip_h1_title": true,
   "title_cell": "Table of Contents",
   "title_sidebar": "Contents",
   "toc_cell": false,
   "toc_position": {},
   "toc_section_display": true,
   "toc_window_display": false
  }
 },
 "nbformat": 4,
 "nbformat_minor": 2
}
